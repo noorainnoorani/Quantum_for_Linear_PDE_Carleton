{
 "cells": [
  {
   "cell_type": "code",
   "execution_count": 1,
   "id": "08882e85",
   "metadata": {},
   "outputs": [],
   "source": [
    "import pennylane as qml\n",
    "from pennylane import numpy as np\n",
    "import matplotlib.pyplot as plt"
   ]
  },
  {
   "cell_type": "code",
   "execution_count": 2,
   "id": "0acbd9be",
   "metadata": {},
   "outputs": [],
   "source": [
    "\"Setting up main Hyper-Parameters of the model\"\n",
    "\n",
    "n_qubits = 3  # Number of system qubits.\n",
    "n_shots = 10 ** 6  # Number of quantum measurements.\n",
    "tot_qubits = n_qubits + 1  # Addition of an ancillary qubit.\n",
    "ancilla_idx = n_qubits  # Index of the ancillary qubit (last position).\n",
    "steps = 30  # Number of optimization steps\n",
    "eta = 0.8  # Learning rate\n",
    "q_delta = 0.001  # Initial spread of random quantum weights\n",
    "rng_seed = 0  # Seed for random number generator\n"
   ]
  },
  {
   "cell_type": "code",
   "execution_count": 3,
   "id": "55e41747",
   "metadata": {},
   "outputs": [],
   "source": [
    "# Coefficients of the linear combination A = c_0 A_0 + c_1 A_1 + c_2 A_2...\n",
    "c = np.array([1.0, 0.2, 0.2])\n",
    "#c = np.array([1.0,0.2,0.2,0.2])\n"
   ]
  },
  {
   "cell_type": "code",
   "execution_count": 4,
   "id": "be666f51",
   "metadata": {},
   "outputs": [],
   "source": [
    "def U_b():\n",
    "    \"\"\"Unitary matrix rotating the ground state to the problem vector |b> = U_b |0>.\"\"\"\n",
    "    for idx in range(n_qubits):\n",
    "        qml.Hadamard(wires=idx)\n",
    "\n",
    "def CA(idx):\n",
    "    \"\"\"Controlled versions of the unitary components A_l of the problem matrix A.\"\"\"\n",
    "    if idx == 0:\n",
    "        # Identity operation\n",
    "        None\n",
    "\n",
    "    elif idx == 1:\n",
    "        qml.CNOT(wires=[ancilla_idx, 0])\n",
    "        qml.CZ(wires=[ancilla_idx, 1])\n",
    "\n",
    "    elif idx == 2:\n",
    "        qml.CNOT(wires=[ancilla_idx, 0])"
   ]
  },
  {
   "cell_type": "code",
   "execution_count": 5,
   "id": "aedd758e",
   "metadata": {},
   "outputs": [],
   "source": [
    "def variational_block(weights):\n",
    "    \"\"\"Variational circuit mapping the ground state |0> to the ansatz state |x>.\"\"\"\n",
    "    \n",
    "    # We first prepare an equal superposition of all the states of the computational basis.\n",
    "    for idx in range(n_qubits):\n",
    "        qml.Hadamard(wires=idx)\n",
    "\n",
    "    # A very minimal variational circuit.\n",
    "    # just a single layer of qubit rotations around y\n",
    "    # can make more complex \n",
    "    for idx, element in enumerate(weights):\n",
    "        qml.RY(element, wires=idx)\n",
    "        \n",
    "        \n",
    "    # return qml.expval(qml.PauliZ(0)) \n",
    "    ## don't actually want to return anything, just there to visualize for now\n",
    "      \n",
    "weights = np.random.random(size=3)\n",
    "drawer = qml.draw(variational_block)\n",
    "#print(drawer(weights))"
   ]
  },
  {
   "cell_type": "code",
   "execution_count": 6,
   "id": "d3c32a0f",
   "metadata": {},
   "outputs": [
    {
     "name": "stdout",
     "output_type": "stream",
     "text": [
      "0: ──H──Rot(0.69,0.23,0.15)─╭●───────╭X──Rot(0.63,0.19,0.92)─╭●────╭X────┤  <Z>\n",
      "1: ──H──Rot(0.56,0.27,0.41)─╰X─╭●────│───Rot(0.04,0.49,0.68)─│──╭●─│──╭X─┤     \n",
      "2: ──H──Rot(0.88,0.54,0.31)────╰X─╭●─│───Rot(0.81,0.08,0.24)─╰X─│──╰●─│──┤     \n",
      "3: ──H──Rot(0.42,0.68,0.72)───────╰X─╰●──Rot(0.57,0.24,0.00)────╰X────╰●─┤     \n"
     ]
    }
   ],
   "source": [
    "\"Example of more complicated circuit using Pennylane StronglyEntaglingLayers, this is for later\"\n",
    "\"Let's first get the RY circuit working\"\n",
    "\n",
    "dev = qml.device('default.qubit', wires=4)\n",
    "\n",
    "@qml.qnode(dev)\n",
    "def circuit(parameters):\n",
    "    for idx in range(4):\n",
    "        qml.Hadamard(wires=idx)\n",
    "    \n",
    "    qml.StronglyEntanglingLayers(weights=parameters, wires=range(4))\n",
    "    return qml.expval(qml.PauliZ(0))\n",
    "\n",
    "shape = qml.StronglyEntanglingLayers.shape(n_layers=2, n_wires=4)\n",
    "weights = np.random.random(size=shape)\n",
    "\n",
    "print(qml.draw(circuit, expansion_strategy=\"device\")(weights))"
   ]
  },
  {
   "cell_type": "code",
   "execution_count": 7,
   "id": "3979ed6e",
   "metadata": {},
   "outputs": [],
   "source": [
    "dev_mu = qml.device(\"default.qubit\", wires=tot_qubits)\n",
    "\n",
    "@qml.qnode(dev_mu)\n",
    "def local_hadamard_test(weights, l=None, lp=None, j=None, part=None):\n",
    "\n",
    "    # First Hadamard gate applied to the ancillary qubit.\n",
    "    qml.Hadamard(wires=ancilla_idx)\n",
    "\n",
    "    # For estimating the imaginary part of the coefficient \"mu\", we must add a \"-i\"\n",
    "    # phase gate.\n",
    "    if part == \"Im\" or part == \"im\":\n",
    "        qml.PhaseShift(-np.pi / 2, wires=ancilla_idx)\n",
    "\n",
    "    # Variational circuit generating a guess for the solution vector |x>\n",
    "    variational_block(weights)\n",
    "\n",
    "    # Controlled application of the unitary component A_l of the problem matrix A.\n",
    "    CA(l)\n",
    "\n",
    "    # Adjoint of the unitary U_b associated to the problem vector |b>.\n",
    "    # In this specific example Adjoint(U_b) = U_b.\n",
    "    U_b()\n",
    "\n",
    "    # Controlled Z operator at position j. If j = -1, apply the identity.\n",
    "    if j != -1:\n",
    "        qml.CZ(wires=[ancilla_idx, j])\n",
    "\n",
    "    # Unitary U_b associated to the problem vector |b>.\n",
    "    U_b()\n",
    "\n",
    "    # Controlled application of Adjoint(A_lp).\n",
    "    # In this specific example Adjoint(A_lp) = A_lp.\n",
    "    CA(lp)\n",
    "\n",
    "    # Second Hadamard gate applied to the ancillary qubit.\n",
    "    qml.Hadamard(wires=ancilla_idx)\n",
    "\n",
    "    # Expectation value of Z for the ancillary qubit.\n",
    "    return qml.expval(qml.PauliZ(wires=ancilla_idx))"
   ]
  },
  {
   "cell_type": "code",
   "execution_count": 8,
   "id": "aebe3724",
   "metadata": {},
   "outputs": [
    {
     "name": "stdout",
     "output_type": "stream",
     "text": [
      "   0: ──H──RY(1.20)──H──H─┤     \n",
      "   1: ──H──RY(3.20)──H──H─┤     \n",
      "   2: ──H──RY(0.70)──H──H─┤     \n",
      "   3: ──H─╭●─────────H────┤  <Z>\n",
      "None: ────╰Z──────────────┤     \n"
     ]
    }
   ],
   "source": [
    "print(qml.draw(local_hadamard_test)(weights=[1.2, 3.2, 0.7]))"
   ]
  },
  {
   "cell_type": "code",
   "execution_count": 9,
   "id": "edd625f3",
   "metadata": {},
   "outputs": [],
   "source": [
    "def mu(weights, l=None, lp=None, j=None):\n",
    "    \"\"\"Generates the coefficients to compute the \"local\" cost function C_L.\"\"\"\n",
    "\n",
    "    mu_real = local_hadamard_test(weights, l=l, lp=lp, j=j, part=\"Re\")\n",
    "    mu_imag = local_hadamard_test(weights, l=l, lp=lp, j=j, part=\"Im\")\n",
    "\n",
    "    return mu_real + 1.0j * mu_imag"
   ]
  },
  {
   "cell_type": "markdown",
   "id": "e29b8d28",
   "metadata": {},
   "source": [
    "#### Local Cost Function\n",
    "Need a function to estimate $<x|A^\\dagger A|x>$"
   ]
  },
  {
   "cell_type": "code",
   "execution_count": 10,
   "id": "f06ab13c",
   "metadata": {},
   "outputs": [],
   "source": [
    "def psi_norm(weights):\n",
    "    \"\"\"Returns the normalization constant <psi|psi>, where |psi> = A |x>.\"\"\"\n",
    "    norm = 0.0\n",
    "\n",
    "    for l in range(0, len(c)):\n",
    "        for lp in range(0, len(c)):\n",
    "            norm = norm + c[l] * np.conj(c[lp]) * mu(weights, l, lp, -1)\n",
    "\n",
    "    return abs(norm)"
   ]
  },
  {
   "cell_type": "code",
   "execution_count": 11,
   "id": "6fcca00c",
   "metadata": {},
   "outputs": [],
   "source": [
    "def cost_loc(weights):\n",
    "    \"\"\"Local version of the cost function. Tends to zero when A|x> is proportional to |b>.\"\"\"\n",
    "    mu_sum = 0.0\n",
    "\n",
    "    for l in range(0, len(c)):\n",
    "        for lp in range(0, len(c)):\n",
    "            for j in range(0, n_qubits):\n",
    "                mu_sum = mu_sum + c[l] * np.conj(c[lp]) * mu(weights, l, lp, j)\n",
    "\n",
    "    mu_sum = abs(mu_sum)\n",
    "\n",
    "    # Cost function C_L\n",
    "    return 0.5 - 0.5 * mu_sum / (n_qubits * psi_norm(weights))"
   ]
  },
  {
   "cell_type": "markdown",
   "id": "e0f44ab5",
   "metadata": {},
   "source": [
    "#### Variational Optimization"
   ]
  },
  {
   "cell_type": "code",
   "execution_count": 12,
   "id": "5a595c7e",
   "metadata": {},
   "outputs": [],
   "source": [
    "#Intialize the weights with a fix seed\n",
    "\n",
    "np.random.seed(rng_seed)\n",
    "w = q_delta * np.random.randn(n_qubits, requires_grad=True)"
   ]
  },
  {
   "cell_type": "code",
   "execution_count": 13,
   "id": "9d65689a",
   "metadata": {},
   "outputs": [],
   "source": [
    "#classical optimizer to minimize the cost function\n",
    "\n",
    "opt = qml.GradientDescentOptimizer(eta)\n",
    "#opt = qml.jacobian(eta)\n",
    "#opt - qml.elementwise_grad(eta)\n",
    "#opt = qml.holomorphic_grad(eta)"
   ]
  },
  {
   "cell_type": "code",
   "execution_count": 14,
   "id": "60aab608",
   "metadata": {},
   "outputs": [
    {
     "name": "stdout",
     "output_type": "stream",
     "text": [
      "Step   0       Cost_L = 0.0089888\n",
      "Step   1       Cost_L = 0.0070072\n",
      "Step   2       Cost_L = 0.0054157\n",
      "Step   3       Cost_L = 0.0041528\n",
      "Step   4       Cost_L = 0.0031617\n",
      "Step   5       Cost_L = 0.0023917\n",
      "Step   6       Cost_L = 0.0017988\n",
      "Step   7       Cost_L = 0.0013461\n",
      "Step   8       Cost_L = 0.0010028\n",
      "Step   9       Cost_L = 0.0007442\n",
      "Step  10       Cost_L = 0.0005503\n",
      "Step  11       Cost_L = 0.0004058\n",
      "Step  12       Cost_L = 0.0002984\n",
      "Step  13       Cost_L = 0.0002190\n",
      "Step  14       Cost_L = 0.0001604\n",
      "Step  15       Cost_L = 0.0001173\n",
      "Step  16       Cost_L = 0.0000857\n",
      "Step  17       Cost_L = 0.0000625\n",
      "Step  18       Cost_L = 0.0000455\n",
      "Step  19       Cost_L = 0.0000331\n",
      "Step  20       Cost_L = 0.0000241\n",
      "Step  21       Cost_L = 0.0000175\n",
      "Step  22       Cost_L = 0.0000127\n",
      "Step  23       Cost_L = 0.0000092\n",
      "Step  24       Cost_L = 0.0000067\n",
      "Step  25       Cost_L = 0.0000049\n",
      "Step  26       Cost_L = 0.0000035\n",
      "Step  27       Cost_L = 0.0000026\n",
      "Step  28       Cost_L = 0.0000019\n",
      "Step  29       Cost_L = 0.0000013\n"
     ]
    }
   ],
   "source": [
    "cost_history = []\n",
    "for it in range(steps):\n",
    "    w, cost = opt.step_and_cost(cost_loc, w)\n",
    "    print(\"Step {:3d}       Cost_L = {:9.7f}\".format(it, cost))\n",
    "    cost_history.append(cost)"
   ]
  },
  {
   "cell_type": "code",
   "execution_count": 15,
   "id": "3572a7c9",
   "metadata": {},
   "outputs": [
    {
     "data": {
      "image/png": "[encoded data removed]",
      "text/plain": [
       "<Figure size 576x396 with 1 Axes>"
      ]
     },
     "metadata": {},
     "output_type": "display_data"
    }
   ],
   "source": [
    "plt.style.use(\"seaborn\")\n",
    "plt.plot(cost_history, \"g\")\n",
    "plt.ylabel(\"Cost function\")\n",
    "plt.xlabel(\"Optimization steps\")\n",
    "plt.show()"
   ]
  },
  {
   "cell_type": "markdown",
   "id": "2e0bee55",
   "metadata": {},
   "source": [
    "#### Preparation of Quantum Solution"
   ]
  },
  {
   "cell_type": "code",
   "execution_count": 16,
   "id": "10698d22",
   "metadata": {},
   "outputs": [],
   "source": [
    "dev_x = qml.device(\"default.qubit\", wires=n_qubits, shots=n_shots)\n",
    "\n",
    "@qml.qnode(dev_x)\n",
    "def prepare_and_sample(weights):\n",
    "\n",
    "    # Variational circuit generating a guess for the solution vector |x>\n",
    "    variational_block(weights)\n",
    "\n",
    "    # We assume that the system is measured in the computational basis.\n",
    "    # then sampling the device will give us a value of 0 or 1 for each qubit (n_qubits)\n",
    "    # this will be repeated for the total number of shots provided (n_shots)\n",
    "    return qml.sample()"
   ]
  },
  {
   "cell_type": "code",
   "execution_count": 17,
   "id": "d685ef5a",
   "metadata": {},
   "outputs": [],
   "source": [
    "raw_samples = prepare_and_sample(w)\n",
    "\n",
    "# convert the raw samples (bit strings) into integers and count them\n",
    "samples = []\n",
    "for sam in raw_samples:\n",
    "    samples.append(int(\"\".join(str(bs) for bs in sam), base=2))\n",
    "\n",
    "q_probs = np.bincount(samples) / n_shots\n"
   ]
  },
  {
   "cell_type": "code",
   "execution_count": 18,
   "id": "140702a5",
   "metadata": {},
   "outputs": [
    {
     "name": "stdout",
     "output_type": "stream",
     "text": [
      "|<x|n>|^2=\n",
      " [0.084589 0.085022 0.164642 0.164879 0.085241 0.084731 0.165431 0.165465]\n"
     ]
    }
   ],
   "source": [
    "print(\"|<x|n>|^2=\\n\", q_probs)"
   ]
  },
  {
   "cell_type": "code",
   "execution_count": 19,
   "id": "32f70448",
   "metadata": {},
   "outputs": [
    {
     "data": {
      "image/png": "[encoded data removed]",
      "text/plain": [
       "<Figure size 504x288 with 1 Axes>"
      ]
     },
     "metadata": {},
     "output_type": "display_data"
    }
   ],
   "source": [
    "fig, ax2 = plt.subplots(1, figsize=(7, 4))\n",
    "\n",
    "ax2.bar(np.arange(0, 2 ** n_qubits), q_probs, color=\"green\")\n",
    "ax2.set_xlim(-0.5, 2 ** n_qubits - 0.5)\n",
    "ax2.set_xlabel(\"Hilbert space basis\")\n",
    "ax2.set_title(\"Quantum probabilities\")\n",
    "\n",
    "plt.show()"
   ]
  },
  {
   "cell_type": "code",
   "execution_count": null,
   "id": "05fcf56d",
   "metadata": {},
   "outputs": [],
   "source": []
  },
  {
   "cell_type": "code",
   "execution_count": null,
   "id": "ec867ff8",
   "metadata": {},
   "outputs": [],
   "source": []
  },
  {
   "cell_type": "code",
   "execution_count": null,
   "id": "34cf6273",
   "metadata": {},
   "outputs": [],
   "source": []
  },
  {
   "cell_type": "code",
   "execution_count": null,
   "id": "f45ca855",
   "metadata": {},
   "outputs": [],
   "source": []
  },
  {
   "cell_type": "code",
   "execution_count": 20,
   "id": "c271147a",
   "metadata": {},
   "outputs": [],
   "source": [
    "Id = np.identity(2)\n",
    "Z = np.array([[1, 0], [0, -1]])\n",
    "X = np.array([[0, 1], [1, 0]])\n",
    "\n",
    "A_0 = np.identity(8)\n",
    "A_1 = np.kron(np.kron(X, Z), Id)\n",
    "A_2 = np.kron(np.kron(X, Id), Id)\n",
    "\n",
    "A = c[0] * A_0 + c[1] * A_1 + c[2] * A_2\n",
    "b = np.ones(8) / np.sqrt(8)"
   ]
  },
  {
   "cell_type": "code",
   "execution_count": 21,
   "id": "f1cd5049",
   "metadata": {},
   "outputs": [
    {
     "data": {
      "text/plain": [
       "tensor([[1. , 0. , 0. , 0. , 0.4, 0. , 0. , 0. ],\n",
       "        [0. , 1. , 0. , 0. , 0. , 0.4, 0. , 0. ],\n",
       "        [0. , 0. , 1. , 0. , 0. , 0. , 0. , 0. ],\n",
       "        [0. , 0. , 0. , 1. , 0. , 0. , 0. , 0. ],\n",
       "        [0.4, 0. , 0. , 0. , 1. , 0. , 0. , 0. ],\n",
       "        [0. , 0.4, 0. , 0. , 0. , 1. , 0. , 0. ],\n",
       "        [0. , 0. , 0. , 0. , 0. , 0. , 1. , 0. ],\n",
       "        [0. , 0. , 0. , 0. , 0. , 0. , 0. , 1. ]], requires_grad=True)"
      ]
     },
     "execution_count": 21,
     "metadata": {},
     "output_type": "execute_result"
    }
   ],
   "source": [
    "A"
   ]
  },
  {
   "cell_type": "code",
   "execution_count": 22,
   "id": "790b5dd1",
   "metadata": {},
   "outputs": [
    {
     "name": "stderr",
     "output_type": "stream",
     "text": [
      "/opt/anaconda3/lib/python3.9/site-packages/scipy/sparse/linalg/eigen/arpack/arpack.py:1266: RuntimeWarning: k >= N - 1 for N * N square matrix. Attempting to use scipy.linalg.eig instead.\n",
      "  warnings.warn(\"k >= N - 1 for N * N square matrix. \"\n"
     ]
    }
   ],
   "source": [
    "from scipy.sparse.linalg import eigs\n",
    "\n",
    "vals, vecs = eigs(Z)"
   ]
  },
  {
   "cell_type": "code",
   "execution_count": 23,
   "id": "12fc73b4",
   "metadata": {},
   "outputs": [
    {
     "data": {
      "text/plain": [
       "(2,)"
      ]
     },
     "execution_count": 23,
     "metadata": {},
     "output_type": "execute_result"
    }
   ],
   "source": [
    "vecs[1].shape"
   ]
  },
  {
   "cell_type": "code",
   "execution_count": 24,
   "id": "2346b519",
   "metadata": {},
   "outputs": [
    {
     "data": {
      "text/plain": [
       "tensor([[1.],\n",
       "        [0.]], requires_grad=True)"
      ]
     },
     "execution_count": 24,
     "metadata": {},
     "output_type": "execute_result"
    }
   ],
   "source": [
    "np.conjugate(vecs[0]).reshape(-1,1)"
   ]
  },
  {
   "cell_type": "code",
   "execution_count": null,
   "id": "a616a36f",
   "metadata": {},
   "outputs": [],
   "source": []
  },
  {
   "cell_type": "code",
   "execution_count": 25,
   "id": "bdd8ecce",
   "metadata": {},
   "outputs": [
    {
     "data": {
      "text/plain": [
       "(array([1.+0.j, 1.+0.j, 1.+0.j, 1.+0.j, 1.+0.j, 1.+0.j]),\n",
       " array([[-0.38572857+0.j, -0.31653525+0.j,  0.11334529+0.j,\n",
       "         -0.52822613+0.j, -0.64491508+0.j,  0.37272125+0.j],\n",
       "        [ 0.44559807+0.j, -0.24290503+0.j,  0.25087507+0.j,\n",
       "         -0.55911205+0.j,  0.15726904+0.j, -0.20051693+0.j],\n",
       "        [-0.3467528 +0.j, -0.07138456+0.j, -0.40905768+0.j,\n",
       "         -0.15786843+0.j,  0.01488331+0.j,  0.11838599+0.j],\n",
       "        [ 0.65522628+0.j,  0.02894757+0.j, -0.11332394+0.j,\n",
       "         -0.02854008+0.j, -0.30996295+0.j,  0.27816478+0.j],\n",
       "        [-0.18025217+0.j,  0.34563585+0.j, -0.20495894+0.j,\n",
       "         -0.55327822+0.j,  0.05747875+0.j, -0.44927868+0.j],\n",
       "        [-0.01787984+0.j,  0.2315297 +0.j,  0.12445411+0.j,\n",
       "          0.20082285+0.j, -0.65760243+0.j, -0.68373003+0.j],\n",
       "        [ 0.25609428+0.j,  0.47315191+0.j, -0.72346299+0.j,\n",
       "          0.07148543+0.j, -0.13712312+0.j,  0.08840163+0.j],\n",
       "        [-0.06857132+0.j,  0.66175977+0.j,  0.40391626+0.j,\n",
       "         -0.17628705+0.j,  0.09222223+0.j,  0.22875313+0.j]]))"
      ]
     },
     "execution_count": 25,
     "metadata": {},
     "output_type": "execute_result"
    }
   ],
   "source": [
    "eigs(A_0)"
   ]
  },
  {
   "cell_type": "code",
   "execution_count": null,
   "id": "33047454",
   "metadata": {},
   "outputs": [],
   "source": []
  },
  {
   "cell_type": "code",
   "execution_count": 34,
   "id": "5eedff81",
   "metadata": {},
   "outputs": [],
   "source": [
    "Id = np.identity(2)\n",
    "Z = np.array([[1, 0], [0, -1]])\n",
    "X = np.array([[0, 1], [1, 0]])\n",
    "\n",
    "A_0 = np.identity(8)\n",
    "A_1 = np.kron(np.kron(X, Z), Id)\n",
    "A_2 = np.kron(np.kron(X, Id), Id)\n",
    "\n",
    "A = c[0] * A_0 + c[1] * A_1 + c[2] * A_2"
   ]
  },
  {
   "cell_type": "code",
   "execution_count": 45,
   "id": "7549004a",
   "metadata": {},
   "outputs": [],
   "source": [
    "eig_A0 = np.linalg.eig(A_0)[1][0]"
   ]
  },
  {
   "cell_type": "code",
   "execution_count": 43,
   "id": "87424ceb",
   "metadata": {},
   "outputs": [
    {
     "data": {
      "text/plain": [
       "tensor([1., 0., 0., 0., 0., 0., 0., 0.], requires_grad=True)"
      ]
     },
     "execution_count": 43,
     "metadata": {},
     "output_type": "execute_result"
    }
   ],
   "source": [
    "eig_A0[1][0]"
   ]
  },
  {
   "cell_type": "code",
   "execution_count": 47,
   "id": "f0c50681",
   "metadata": {},
   "outputs": [
    {
     "data": {
      "text/plain": [
       "tensor([[1. , 0. , 0. , 0. , 0. , 0. , 0. , 0. ],\n",
       "        [0. , 0. , 0. , 0. , 0. , 0. , 0. , 0. ],\n",
       "        [0. , 0. , 0. , 0. , 0. , 0. , 0. , 0. ],\n",
       "        [0. , 0. , 0. , 0. , 0. , 0. , 0. , 0. ],\n",
       "        [0.4, 0. , 0. , 0. , 0. , 0. , 0. , 0. ],\n",
       "        [0. , 0. , 0. , 0. , 0. , 0. , 0. , 0. ],\n",
       "        [0. , 0. , 0. , 0. , 0. , 0. , 0. , 0. ],\n",
       "        [0. , 0. , 0. , 0. , 0. , 0. , 0. , 0. ]], requires_grad=True)"
      ]
     },
     "execution_count": 47,
     "metadata": {},
     "output_type": "execute_result"
    }
   ],
   "source": [
    "eig_A0 * A * eig_A0.T"
   ]
  },
  {
   "cell_type": "code",
   "execution_count": 52,
   "id": "46ce4006",
   "metadata": {},
   "outputs": [],
   "source": [
    "eig1 = np.array([1,0]).T"
   ]
  },
  {
   "cell_type": "code",
   "execution_count": 53,
   "id": "25c2c937",
   "metadata": {},
   "outputs": [],
   "source": [
    "A_test = [[1, 1],[1, -1]]"
   ]
  },
  {
   "cell_type": "code",
   "execution_count": 58,
   "id": "f3146897",
   "metadata": {},
   "outputs": [
    {
     "data": {
      "text/plain": [
       "tensor(1, requires_grad=True)"
      ]
     },
     "execution_count": 58,
     "metadata": {},
     "output_type": "execute_result"
    }
   ],
   "source": [
    "np.matmul(eig1.T,np.matmul(A_test,eig1))"
   ]
  },
  {
   "cell_type": "code",
   "execution_count": 26,
   "id": "923dbd7f",
   "metadata": {},
   "outputs": [],
   "source": [
    "A_2 = [[1, 1],[1, -1]]"
   ]
  },
  {
   "cell_type": "code",
   "execution_count": null,
   "id": "9f2e4f99",
   "metadata": {},
   "outputs": [],
   "source": []
  },
  {
   "cell_type": "code",
   "execution_count": 28,
   "id": "77d9f6c9",
   "metadata": {},
   "outputs": [
    {
     "data": {
      "text/plain": [
       "tensor([0.35355339, 0.35355339, 0.35355339, 0.35355339, 0.35355339,\n",
       "        0.35355339, 0.35355339, 0.35355339], requires_grad=True)"
      ]
     },
     "execution_count": 28,
     "metadata": {},
     "output_type": "execute_result"
    }
   ],
   "source": [
    "b"
   ]
  },
  {
   "cell_type": "code",
   "execution_count": 29,
   "id": "25cef228",
   "metadata": {},
   "outputs": [],
   "source": [
    "A_inv = np.linalg.inv(A)\n",
    "x = np.dot(A_inv, b)"
   ]
  },
  {
   "cell_type": "code",
   "execution_count": 30,
   "id": "61d9c379",
   "metadata": {},
   "outputs": [
    {
     "data": {
      "text/plain": [
       "tensor([0.25253814, 0.25253814, 0.35355339, 0.35355339, 0.25253814,\n",
       "        0.25253814, 0.35355339, 0.35355339], requires_grad=True)"
      ]
     },
     "execution_count": 30,
     "metadata": {},
     "output_type": "execute_result"
    }
   ],
   "source": [
    "x"
   ]
  },
  {
   "cell_type": "code",
   "execution_count": 31,
   "id": "2f3ab80b",
   "metadata": {},
   "outputs": [
    {
     "data": {
      "text/plain": [
       "tensor([1. , 0.2, 0.2], requires_grad=True)"
      ]
     },
     "execution_count": 31,
     "metadata": {},
     "output_type": "execute_result"
    }
   ],
   "source": [
    "c"
   ]
  },
  {
   "cell_type": "code",
   "execution_count": 32,
   "id": "5d52d68a",
   "metadata": {},
   "outputs": [],
   "source": [
    "e1 = np.array([1,0])"
   ]
  },
  {
   "cell_type": "code",
   "execution_count": null,
   "id": "18dca48d",
   "metadata": {},
   "outputs": [],
   "source": []
  }
 ],
 "metadata": {
  "kernelspec": {
   "display_name": "Python 3 (ipykernel)",
   "language": "python",
   "name": "python3"
  },
  "language_info": {
   "codemirror_mode": {
    "name": "ipython",
    "version": 3
   },
   "file_extension": ".py",
   "mimetype": "text/x-python",
   "name": "python",
   "nbconvert_exporter": "python",
   "pygments_lexer": "ipython3",
   "version": "3.9.12"
  }
 },
 "nbformat": 4,
 "nbformat_minor": 5
}
