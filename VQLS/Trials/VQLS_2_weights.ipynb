{
 "cells": [
  {
   "cell_type": "code",
   "execution_count": 1,
   "id": "7f57366b",
   "metadata": {},
   "outputs": [],
   "source": [
    "import pennylane as qml\n",
    "from pennylane import numpy as np\n",
    "import matplotlib.pyplot as plt"
   ]
  },
  {
   "cell_type": "code",
   "execution_count": 2,
   "id": "7d2fa450",
   "metadata": {},
   "outputs": [],
   "source": [
    "\"Setting up main Hyper-Parameters of the model\"\n",
    "\n",
    "n_qubits = 3  # Number of system qubits.\n",
    "n_shots = 10 ** 6  # Number of quantum measurements.\n",
    "tot_qubits = n_qubits + 1  # Addition of an ancillary qubit.\n",
    "ancilla_idx = n_qubits  # Index of the ancillary qubit (last position).\n",
    "steps = 100  # Number of optimization steps\n",
    "eta = 0.8  # Learning rate\n",
    "q_delta = 0.001  # Initial spread of random quantum weights\n",
    "rng_seed = 0  # Seed for random number generator\n"
   ]
  },
  {
   "cell_type": "code",
   "execution_count": 3,
   "id": "3c0e3064",
   "metadata": {},
   "outputs": [],
   "source": [
    "#Fundemental Quantum Pauli Matrices \n",
    "Id = np.identity(2) #identity matrix of 2 rows\n",
    "Z = np.array([[1, 0], [0, -1]]) \n",
    "X = np.array([[0, 1], [1, 0]])\n",
    "Y = np.array([[0,complex(0,1)],[-complex(0,1),0]])"
   ]
  },
  {
   "cell_type": "code",
   "execution_count": 4,
   "id": "a5763ac4",
   "metadata": {},
   "outputs": [],
   "source": [
    "gate_array = [Id,X,Y,Z]\n",
    "gate_array_names = [\"Id\",\"X\",\"Y\",\"Z\"]"
   ]
  },
  {
   "cell_type": "markdown",
   "id": "17d5b274",
   "metadata": {},
   "source": [
    "### Linear System $Ax = b$"
   ]
  },
  {
   "cell_type": "code",
   "execution_count": 6,
   "id": "60effe7b",
   "metadata": {},
   "outputs": [],
   "source": [
    "A_0 = np.identity(8)\n",
    "A_1 = np.kron(np.kron(X, Z), Id)\n",
    "#A_2 = np.kron(np.kron(X, Id), Id)\n",
    "#A_3 = np.kron(np.kron(Z, Z), Id)\n",
    "\n",
    "#Ax = b\n",
    "A = 1 * A_0 + 0.4 * A_1 \n",
    "b = np.ones(8) / np.sqrt(8)"
   ]
  },
  {
   "cell_type": "code",
   "execution_count": 7,
   "id": "00d4d6e4",
   "metadata": {},
   "outputs": [
    {
     "data": {
      "text/plain": [
       "tensor([[ 1. ,  0. ,  0. ,  0. ,  0.4,  0. ,  0. ,  0. ],\n",
       "        [ 0. ,  1. ,  0. ,  0. ,  0. ,  0.4,  0. ,  0. ],\n",
       "        [ 0. ,  0. ,  1. ,  0. ,  0. ,  0. , -0.4,  0. ],\n",
       "        [ 0. ,  0. ,  0. ,  1. ,  0. ,  0. ,  0. , -0.4],\n",
       "        [ 0.4,  0. ,  0. ,  0. ,  1. ,  0. ,  0. ,  0. ],\n",
       "        [ 0. ,  0.4,  0. ,  0. ,  0. ,  1. ,  0. ,  0. ],\n",
       "        [ 0. ,  0. , -0.4,  0. ,  0. ,  0. ,  1. ,  0. ],\n",
       "        [ 0. ,  0. ,  0. , -0.4,  0. ,  0. ,  0. ,  1. ]], requires_grad=True)"
      ]
     },
     "execution_count": 7,
     "metadata": {},
     "output_type": "execute_result"
    }
   ],
   "source": [
    "A"
   ]
  },
  {
   "cell_type": "markdown",
   "id": "285cec34",
   "metadata": {},
   "source": [
    "#### Get Coefficients of Linear Combination of Puali Matrices"
   ]
  },
  {
   "cell_type": "code",
   "execution_count": 8,
   "id": "e5e69aa4",
   "metadata": {},
   "outputs": [],
   "source": [
    "counter = 0\n",
    "i = 0\n",
    "\n",
    "combination = gate_array\n",
    "\n",
    "while counter < np.log2(len(A)) - 1:\n",
    "\n",
    "    combination = np.kron(combination, gate_array)\n",
    "    \n",
    "    counter += 1"
   ]
  },
  {
   "cell_type": "code",
   "execution_count": 9,
   "id": "33c4d3e6",
   "metadata": {},
   "outputs": [],
   "source": [
    "counter = 0\n",
    "i = 0\n",
    "\n",
    "combination_names = gate_array_names\n",
    "temp_array_names = gate_array_names\n",
    "\n",
    "for i in range(len(gate_array_names)):\n",
    "    None"
   ]
  },
  {
   "cell_type": "code",
   "execution_count": 10,
   "id": "54616381",
   "metadata": {},
   "outputs": [
    {
     "data": {
      "text/plain": [
       "3.0"
      ]
     },
     "execution_count": 10,
     "metadata": {},
     "output_type": "execute_result"
    }
   ],
   "source": [
    "np.log2(len(A))"
   ]
  },
  {
   "cell_type": "code",
   "execution_count": 11,
   "id": "f8f4665b",
   "metadata": {},
   "outputs": [],
   "source": [
    "final_array = np.zeros((len(A),len(A)), dtype=complex)\n",
    "c = []\n",
    "\n",
    "for i in range(len(combination)):\n",
    "    c_temp =  1/(len(A)) * np.matrix.trace(np.matmul(A,combination[i]))\n",
    "    c.append(c_temp)\n",
    "    final_array +=  c_temp * combination[i]"
   ]
  },
  {
   "cell_type": "code",
   "execution_count": 12,
   "id": "3b46d685",
   "metadata": {},
   "outputs": [
    {
     "name": "stdout",
     "output_type": "stream",
     "text": [
      "[[ 1.   0.   0.   0.   0.4  0.   0.   0. ]\n",
      " [ 0.   1.   0.   0.   0.   0.4  0.   0. ]\n",
      " [ 0.   0.   1.   0.   0.   0.  -0.4  0. ]\n",
      " [ 0.   0.   0.   1.   0.   0.   0.  -0.4]\n",
      " [ 0.4  0.   0.   0.   1.   0.   0.   0. ]\n",
      " [ 0.   0.4  0.   0.   0.   1.   0.   0. ]\n",
      " [ 0.   0.  -0.4  0.   0.   0.   1.   0. ]\n",
      " [ 0.   0.   0.  -0.4  0.   0.   0.   1. ]]\n"
     ]
    }
   ],
   "source": [
    "print(final_array.real)"
   ]
  },
  {
   "cell_type": "code",
   "execution_count": 13,
   "id": "9e216cce",
   "metadata": {},
   "outputs": [],
   "source": [
    "c = np.array(c)"
   ]
  },
  {
   "cell_type": "code",
   "execution_count": 14,
   "id": "ed260096",
   "metadata": {},
   "outputs": [],
   "source": [
    "c = c[c != 0]"
   ]
  },
  {
   "cell_type": "code",
   "execution_count": 15,
   "id": "c0e938c7",
   "metadata": {},
   "outputs": [
    {
     "data": {
      "text/plain": [
       "tensor([1. +0.j, 0.4+0.j], requires_grad=True)"
      ]
     },
     "execution_count": 15,
     "metadata": {},
     "output_type": "execute_result"
    }
   ],
   "source": [
    "c"
   ]
  },
  {
   "cell_type": "code",
   "execution_count": null,
   "id": "104814fa",
   "metadata": {},
   "outputs": [],
   "source": []
  },
  {
   "cell_type": "code",
   "execution_count": null,
   "id": "55594d48",
   "metadata": {},
   "outputs": [],
   "source": []
  },
  {
   "cell_type": "code",
   "execution_count": null,
   "id": "4f1c9003",
   "metadata": {},
   "outputs": [],
   "source": []
  },
  {
   "cell_type": "code",
   "execution_count": 15,
   "id": "897d439e",
   "metadata": {},
   "outputs": [],
   "source": [
    "#controlled_gate_array = [1,CNOT,CY,CZ]\n",
    "#Have to think of a clever way of combining the array to work out nicely - something that would reduce the zeros first"
   ]
  },
  {
   "cell_type": "code",
   "execution_count": 16,
   "id": "8c19b68a",
   "metadata": {},
   "outputs": [],
   "source": [
    "def U_b():\n",
    "    \"\"\"Unitary matrix rotating the ground state to the problem vector |b> = U_b |0>.\"\"\"\n",
    "    for idx in range(n_qubits):\n",
    "        qml.Hadamard(wires=idx)\n",
    "\n",
    "def CA(idx):\n",
    "    \"\"\"Controlled versions of the unitary components A_l of the problem matrix A.\"\"\"\n",
    "    if idx == 0:\n",
    "        # Identity operation\n",
    "        None\n",
    "\n",
    "    elif idx == 1:\n",
    "        qml.CNOT(wires=[ancilla_idx, 0])\n",
    "#     elif idx == 2:\n",
    "#         qml.CNOT(wires=[ancilla_idx, 0])\n",
    "#         qml.CZ(wires=[ancilla_idx, 1])\n",
    "#     elif idx == 3:\n",
    "#         qml.CZ(wires=[ancilla_idx, 0])\n",
    "#         qml.CZ(wires=[ancilla_idx, 1])"
   ]
  },
  {
   "cell_type": "code",
   "execution_count": 17,
   "id": "d52e757d",
   "metadata": {},
   "outputs": [],
   "source": [
    "def variational_block(weights):\n",
    "    \"\"\"Variational circuit mapping the ground state |0> to the ansatz state |x>.\"\"\"\n",
    "    \n",
    "    # We first prepare an equal superposition of all the states of the computational basis.\n",
    "    for idx in range(n_qubits):\n",
    "        qml.Hadamard(wires=idx)\n",
    "\n",
    "    # A very minimal variational circuit.\n",
    "    # just a single layer of qubit rotations around y\n",
    "    # can make more complex \n",
    "    for idx, element in enumerate(weights):\n",
    "        qml.RY(element, wires=idx)\n",
    "        \n",
    "        \n",
    "    #return qml.expval(qml.PauliZ(0)) \n",
    "    ## don't actually want to return anything, just there to visualize for now\n",
    "      \n",
    "weights = np.random.random(size=4)\n",
    "drawer = qml.draw(variational_block)"
   ]
  },
  {
   "cell_type": "code",
   "execution_count": 18,
   "id": "e4e717bb",
   "metadata": {},
   "outputs": [
    {
     "name": "stdout",
     "output_type": "stream",
     "text": [
      "0: ──H──Rot(0.59,0.54,0.71)─╭●───────╭X──Rot(0.61,0.23,0.36)─╭●────╭X────┤  <Z>\n",
      "1: ──H──Rot(0.93,0.34,0.82)─╰X─╭●────│───Rot(0.66,0.10,0.91)─│──╭●─│──╭X─┤     \n",
      "2: ──H──Rot(0.97,0.46,0.38)────╰X─╭●─│───Rot(0.74,0.37,0.26)─╰X─│──╰●─│──┤     \n",
      "3: ──H──Rot(0.61,0.70,0.32)───────╰X─╰●──Rot(0.61,0.02,0.83)────╰X────╰●─┤     \n"
     ]
    }
   ],
   "source": [
    "\"Example of more complicated circuit using Pennylane StronglyEntaglingLayers, this is for later\"\n",
    "\"Let's first get the RY circuit working\"\n",
    "\n",
    "dev = qml.device('default.qubit', wires=4)\n",
    "\n",
    "@qml.qnode(dev)\n",
    "def circuit(parameters):\n",
    "    for idx in range(4):\n",
    "        qml.Hadamard(wires=idx)\n",
    "    \n",
    "    qml.StronglyEntanglingLayers(weights=parameters, wires=range(4))\n",
    "    return qml.expval(qml.PauliZ(0))\n",
    "\n",
    "shape = qml.StronglyEntanglingLayers.shape(n_layers=2, n_wires=4)\n",
    "weights = np.random.random(size=shape)\n",
    "\n",
    "print(qml.draw(circuit, expansion_strategy=\"device\")(weights))"
   ]
  },
  {
   "cell_type": "code",
   "execution_count": 19,
   "id": "1beabc90",
   "metadata": {},
   "outputs": [],
   "source": [
    "dev_mu = qml.device(\"default.qubit\", wires=tot_qubits)\n",
    "\n",
    "@qml.qnode(dev_mu)\n",
    "def local_hadamard_test(weights, l=None, lp=None, j=None, part=None):\n",
    "\n",
    "    # First Hadamard gate applied to the ancillary qubit.\n",
    "    qml.Hadamard(wires=ancilla_idx)\n",
    "\n",
    "    # For estimating the imaginary part of the coefficient \"mu\", we must add a \"-i\"\n",
    "    # phase gate.\n",
    "    if part == \"Im\" or part == \"im\":\n",
    "        qml.PhaseShift(-np.pi / 2, wires=ancilla_idx)\n",
    "\n",
    "    # Variational circuit generating a guess for the solution vector |x>\n",
    "    variational_block(weights)\n",
    "\n",
    "    # Controlled application of the unitary component A_l of the problem matrix A.\n",
    "    CA(l)\n",
    "\n",
    "    # Adjoint of the unitary U_b associated to the problem vector |b>.\n",
    "    # In this specific example Adjoint(U_b) = U_b.\n",
    "    U_b()\n",
    "\n",
    "    # Controlled Z operator at position j. If j = -1, apply the identity.\n",
    "    if j != -1:\n",
    "        qml.CZ(wires=[ancilla_idx, j])\n",
    "\n",
    "    # Unitary U_b associated to the problem vector |b>.\n",
    "    U_b()\n",
    "\n",
    "    # Controlled application of Adjoint(A_lp).\n",
    "    # In this specific example Adjoint(A_lp) = A_lp.\n",
    "    CA(lp)\n",
    "\n",
    "    # Second Hadamard gate applied to the ancillary qubit.\n",
    "    qml.Hadamard(wires=ancilla_idx)\n",
    "\n",
    "    # Expectation value of Z for the ancillary qubit.\n",
    "    return qml.expval(qml.PauliZ(wires=ancilla_idx))"
   ]
  },
  {
   "cell_type": "code",
   "execution_count": 20,
   "id": "ee867299",
   "metadata": {},
   "outputs": [
    {
     "name": "stdout",
     "output_type": "stream",
     "text": [
      "   0: ──H──RY(1.20)──H──H─┤     \n",
      "   1: ──H──RY(3.20)──H──H─┤     \n",
      "   2: ──H──RY(0.70)──H──H─┤     \n",
      "   3: ──H─╭●─────────H────┤  <Z>\n",
      "None: ────╰Z──────────────┤     \n"
     ]
    }
   ],
   "source": [
    "print(qml.draw(local_hadamard_test)(weights=[1.2, 3.2, 0.7]))"
   ]
  },
  {
   "cell_type": "code",
   "execution_count": 21,
   "id": "f907b9d6",
   "metadata": {},
   "outputs": [],
   "source": [
    "def mu(weights, l=None, lp=None, j=None):\n",
    "    \"\"\"Generates the coefficients to compute the \"local\" cost function C_L.\"\"\"\n",
    "\n",
    "    mu_real = local_hadamard_test(weights, l=l, lp=lp, j=j, part=\"Re\")\n",
    "    mu_imag = local_hadamard_test(weights, l=l, lp=lp, j=j, part=\"Im\")\n",
    "\n",
    "    return mu_real + 1.0j * mu_imag"
   ]
  },
  {
   "cell_type": "markdown",
   "id": "36beaf2e",
   "metadata": {},
   "source": [
    "#### Local Cost Function\n",
    "Need a function to estimate $<x|A^\\dagger A|x>$"
   ]
  },
  {
   "cell_type": "code",
   "execution_count": 22,
   "id": "0f3ede38",
   "metadata": {},
   "outputs": [],
   "source": [
    "def psi_norm(weights):\n",
    "    \"\"\"Returns the normalization constant <psi|psi>, where |psi> = A |x>.\"\"\"\n",
    "    norm = 0.0\n",
    "\n",
    "    for l in range(0, len(c)):\n",
    "        for lp in range(0, len(c)):\n",
    "            norm = norm + c[l] * np.conj(c[lp]) * mu(weights, l, lp, -1)\n",
    "\n",
    "    return abs(norm)"
   ]
  },
  {
   "cell_type": "code",
   "execution_count": 23,
   "id": "3414b8c2",
   "metadata": {},
   "outputs": [],
   "source": [
    "def cost_loc(weights):\n",
    "    \"\"\"Local version of the cost function. Tends to zero when A|x> is proportional to |b>.\"\"\"\n",
    "    mu_sum = 0.0\n",
    "\n",
    "    for l in range(0, len(c)):\n",
    "        for lp in range(0, len(c)):\n",
    "            for j in range(0, n_qubits):\n",
    "                mu_sum = mu_sum + c[l] * np.conj(c[lp]) * mu(weights, l, lp, j)\n",
    "\n",
    "    mu_sum = abs(mu_sum)\n",
    "\n",
    "    # Cost function C_L\n",
    "    return 0.5 - 0.5 * mu_sum / (n_qubits * psi_norm(weights))"
   ]
  },
  {
   "cell_type": "markdown",
   "id": "ccf7de15",
   "metadata": {},
   "source": [
    "#### Variational Optimization"
   ]
  },
  {
   "cell_type": "code",
   "execution_count": 24,
   "id": "cd37fa1f",
   "metadata": {},
   "outputs": [],
   "source": [
    "#Intialize the weights with a fix seed\n",
    "\n",
    "np.random.seed(rng_seed)\n",
    "w = q_delta * np.random.randn(n_qubits, requires_grad=True)"
   ]
  },
  {
   "cell_type": "code",
   "execution_count": 25,
   "id": "66c031a5",
   "metadata": {},
   "outputs": [],
   "source": [
    "#classical optimizer to minimize the cost function\n",
    "\n",
    "opt = qml.GradientDescentOptimizer(eta)\n",
    "#opt = qml.jacobian(eta)\n",
    "#opt - qml.elementwise_grad(eta)\n",
    "#opt = qml.holomorphic_grad(eta)"
   ]
  },
  {
   "cell_type": "code",
   "execution_count": 26,
   "id": "e7fd36fc",
   "metadata": {},
   "outputs": [
    {
     "name": "stdout",
     "output_type": "stream",
     "text": [
      "Step   0       Cost_L = 0.0000001\n",
      "Step   1       Cost_L = 0.0000001\n",
      "Step   2       Cost_L = 0.0000001\n",
      "Step   3       Cost_L = 0.0000001\n",
      "Step   4       Cost_L = 0.0000001\n",
      "Step   5       Cost_L = 0.0000001\n",
      "Step   6       Cost_L = 0.0000001\n",
      "Step   7       Cost_L = 0.0000000\n",
      "Step   8       Cost_L = 0.0000000\n",
      "Step   9       Cost_L = 0.0000000\n",
      "Step  10       Cost_L = 0.0000000\n",
      "Step  11       Cost_L = 0.0000000\n",
      "Step  12       Cost_L = 0.0000000\n",
      "Step  13       Cost_L = 0.0000000\n",
      "Step  14       Cost_L = 0.0000000\n",
      "Step  15       Cost_L = 0.0000000\n",
      "Step  16       Cost_L = 0.0000000\n",
      "Step  17       Cost_L = 0.0000000\n",
      "Step  18       Cost_L = 0.0000000\n",
      "Step  19       Cost_L = 0.0000000\n",
      "Step  20       Cost_L = 0.0000000\n",
      "Step  21       Cost_L = 0.0000000\n",
      "Step  22       Cost_L = 0.0000000\n",
      "Step  23       Cost_L = 0.0000000\n",
      "Step  24       Cost_L = 0.0000000\n",
      "Step  25       Cost_L = 0.0000000\n",
      "Step  26       Cost_L = 0.0000000\n",
      "Step  27       Cost_L = 0.0000000\n",
      "Step  28       Cost_L = 0.0000000\n",
      "Step  29       Cost_L = 0.0000000\n",
      "Step  30       Cost_L = 0.0000000\n",
      "Step  31       Cost_L = 0.0000000\n",
      "Step  32       Cost_L = 0.0000000\n",
      "Step  33       Cost_L = 0.0000000\n",
      "Step  34       Cost_L = 0.0000000\n",
      "Step  35       Cost_L = 0.0000000\n",
      "Step  36       Cost_L = 0.0000000\n",
      "Step  37       Cost_L = 0.0000000\n",
      "Step  38       Cost_L = 0.0000000\n",
      "Step  39       Cost_L = 0.0000000\n",
      "Step  40       Cost_L = 0.0000000\n",
      "Step  41       Cost_L = 0.0000000\n",
      "Step  42       Cost_L = 0.0000000\n",
      "Step  43       Cost_L = 0.0000000\n",
      "Step  44       Cost_L = 0.0000000\n",
      "Step  45       Cost_L = 0.0000000\n",
      "Step  46       Cost_L = 0.0000000\n",
      "Step  47       Cost_L = 0.0000000\n",
      "Step  48       Cost_L = 0.0000000\n",
      "Step  49       Cost_L = 0.0000000\n",
      "Step  50       Cost_L = 0.0000000\n",
      "Step  51       Cost_L = 0.0000000\n",
      "Step  52       Cost_L = 0.0000000\n",
      "Step  53       Cost_L = 0.0000000\n",
      "Step  54       Cost_L = 0.0000000\n",
      "Step  55       Cost_L = 0.0000000\n",
      "Step  56       Cost_L = 0.0000000\n",
      "Step  57       Cost_L = 0.0000000\n",
      "Step  58       Cost_L = 0.0000000\n",
      "Step  59       Cost_L = 0.0000000\n",
      "Step  60       Cost_L = 0.0000000\n",
      "Step  61       Cost_L = 0.0000000\n",
      "Step  62       Cost_L = 0.0000000\n",
      "Step  63       Cost_L = 0.0000000\n",
      "Step  64       Cost_L = 0.0000000\n",
      "Step  65       Cost_L = 0.0000000\n",
      "Step  66       Cost_L = 0.0000000\n",
      "Step  67       Cost_L = 0.0000000\n",
      "Step  68       Cost_L = 0.0000000\n",
      "Step  69       Cost_L = 0.0000000\n",
      "Step  70       Cost_L = 0.0000000\n",
      "Step  71       Cost_L = 0.0000000\n",
      "Step  72       Cost_L = 0.0000000\n",
      "Step  73       Cost_L = 0.0000000\n",
      "Step  74       Cost_L = 0.0000000\n",
      "Step  75       Cost_L = 0.0000000\n",
      "Step  76       Cost_L = 0.0000000\n",
      "Step  77       Cost_L = 0.0000000\n",
      "Step  78       Cost_L = 0.0000000\n",
      "Step  79       Cost_L = 0.0000000\n",
      "Step  80       Cost_L = 0.0000000\n",
      "Step  81       Cost_L = 0.0000000\n",
      "Step  82       Cost_L = 0.0000000\n",
      "Step  83       Cost_L = 0.0000000\n",
      "Step  84       Cost_L = 0.0000000\n",
      "Step  85       Cost_L = 0.0000000\n",
      "Step  86       Cost_L = 0.0000000\n",
      "Step  87       Cost_L = 0.0000000\n",
      "Step  88       Cost_L = 0.0000000\n",
      "Step  89       Cost_L = 0.0000000\n",
      "Step  90       Cost_L = 0.0000000\n",
      "Step  91       Cost_L = 0.0000000\n",
      "Step  92       Cost_L = 0.0000000\n",
      "Step  93       Cost_L = 0.0000000\n",
      "Step  94       Cost_L = 0.0000000\n",
      "Step  95       Cost_L = 0.0000000\n",
      "Step  96       Cost_L = 0.0000000\n",
      "Step  97       Cost_L = 0.0000000\n",
      "Step  98       Cost_L = 0.0000000\n",
      "Step  99       Cost_L = 0.0000000\n"
     ]
    }
   ],
   "source": [
    "cost_history = []\n",
    "for it in range(steps):\n",
    "    w, cost = opt.step_and_cost(cost_loc, w)\n",
    "    print(\"Step {:3d}       Cost_L = {:9.7f}\".format(it, cost))\n",
    "    cost_history.append(cost)"
   ]
  },
  {
   "cell_type": "code",
   "execution_count": 27,
   "id": "6f98c594",
   "metadata": {},
   "outputs": [
    {
     "data": {
      "image/png": "[encoded data removed]",
      "text/plain": [
       "<Figure size 576x396 with 1 Axes>"
      ]
     },
     "metadata": {},
     "output_type": "display_data"
    }
   ],
   "source": [
    "plt.style.use(\"seaborn\")\n",
    "plt.plot(cost_history, \"g\")\n",
    "plt.ylabel(\"Cost function\")\n",
    "plt.xlabel(\"Optimization steps\")\n",
    "plt.show()"
   ]
  },
  {
   "cell_type": "markdown",
   "id": "769856b6",
   "metadata": {},
   "source": [
    "#### Preparation of Quantum Solution"
   ]
  },
  {
   "cell_type": "code",
   "execution_count": 28,
   "id": "341c0087",
   "metadata": {},
   "outputs": [],
   "source": [
    "dev_x = qml.device(\"default.qubit\", wires=n_qubits, shots=n_shots)\n",
    "\n",
    "@qml.qnode(dev_x)\n",
    "def prepare_and_sample(weights):\n",
    "\n",
    "    # Variational circuit generating a guess for the solution vector |x>\n",
    "    variational_block(weights)\n",
    "\n",
    "    # We assume that the system is measured in the computational basis.\n",
    "    # then sampling the device will give us a value of 0 or 1 for each qubit (n_qubits)\n",
    "    # this will be repeated for the total number of shots provided (n_shots)\n",
    "    return qml.sample()"
   ]
  },
  {
   "cell_type": "code",
   "execution_count": 29,
   "id": "958dfdc8",
   "metadata": {},
   "outputs": [],
   "source": [
    "raw_samples = prepare_and_sample(w)\n",
    "\n",
    "# convert the raw samples (bit strings) into integers and count them\n",
    "samples = []\n",
    "for sam in raw_samples:\n",
    "    samples.append(int(\"\".join(str(bs) for bs in sam), base=2))\n",
    "\n",
    "q_probs = np.bincount(samples) / n_shots\n"
   ]
  },
  {
   "cell_type": "code",
   "execution_count": 30,
   "id": "adb4dd97",
   "metadata": {},
   "outputs": [
    {
     "name": "stdout",
     "output_type": "stream",
     "text": [
      "|<x|n>|^2=\n",
      " [0.125125 0.124488 0.124642 0.124869 0.125375 0.124684 0.125628 0.125189]\n"
     ]
    }
   ],
   "source": [
    "print(\"|<x|n>|^2=\\n\", q_probs)"
   ]
  },
  {
   "cell_type": "code",
   "execution_count": 31,
   "id": "36e3dc28",
   "metadata": {},
   "outputs": [
    {
     "data": {
      "image/png": "[encoded data removed]",
      "text/plain": [
       "<Figure size 504x288 with 1 Axes>"
      ]
     },
     "metadata": {},
     "output_type": "display_data"
    }
   ],
   "source": [
    "fig, ax2 = plt.subplots(1, figsize=(7, 4))\n",
    "\n",
    "ax2.bar(np.arange(0, 2 ** n_qubits), q_probs, color=\"green\")\n",
    "ax2.set_xlim(-0.5, 2 ** n_qubits - 0.5)\n",
    "ax2.set_xlabel(\"Hilbert space basis\")\n",
    "ax2.set_title(\"Quantum probabilities\")\n",
    "\n",
    "plt.show()"
   ]
  },
  {
   "cell_type": "code",
   "execution_count": 32,
   "id": "f81832d6",
   "metadata": {},
   "outputs": [],
   "source": [
    "A_inv = np.linalg.inv(A)\n",
    "x = np.dot(A_inv, b)"
   ]
  },
  {
   "cell_type": "code",
   "execution_count": 33,
   "id": "e80344f8",
   "metadata": {},
   "outputs": [
    {
     "name": "stdout",
     "output_type": "stream",
     "text": [
      "x_n^2 =\n",
      " [0.0387931 0.0387931 0.2112069 0.2112069 0.0387931 0.0387931 0.2112069\n",
      " 0.2112069]\n"
     ]
    }
   ],
   "source": [
    "c_probs = (x / np.linalg.norm(x)) ** 2\n",
    "print(\"x_n^2 =\\n\", c_probs)"
   ]
  },
  {
   "cell_type": "markdown",
   "id": "6e43cc63",
   "metadata": {},
   "source": []
  }
 ],
 "metadata": {
  "kernelspec": {
   "display_name": "Python 3 (ipykernel)",
   "language": "python",
   "name": "python3"
  },
  "language_info": {
   "codemirror_mode": {
    "name": "ipython",
    "version": 3
   },
   "file_extension": ".py",
   "mimetype": "text/x-python",
   "name": "python",
   "nbconvert_exporter": "python",
   "pygments_lexer": "ipython3",
   "version": "3.9.12"
  }
 },
 "nbformat": 4,
 "nbformat_minor": 5
}
