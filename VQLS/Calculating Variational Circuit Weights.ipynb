{
 "cells": [
  {
   "cell_type": "code",
   "execution_count": 1,
   "id": "e036690e",
   "metadata": {},
   "outputs": [],
   "source": [
    "import pennylane as qml\n",
    "import pennylane.numpy as np"
   ]
  },
  {
   "cell_type": "code",
   "execution_count": 9,
   "id": "bc4c655d",
   "metadata": {},
   "outputs": [],
   "source": [
    "import sympy"
   ]
  },
  {
   "cell_type": "code",
   "execution_count": 20,
   "id": "5f96eb2e",
   "metadata": {},
   "outputs": [],
   "source": [
    "from sympy import symbols, Eq, solve, nsolve"
   ]
  },
  {
   "cell_type": "code",
   "execution_count": 21,
   "id": "c10b4242",
   "metadata": {},
   "outputs": [],
   "source": [
    "w0, w1, w2 = symbols('w0 w1 w2')"
   ]
  },
  {
   "cell_type": "code",
   "execution_count": 22,
   "id": "c24cfb24",
   "metadata": {},
   "outputs": [],
   "source": [
    "eq1 = Eq(w0 + w1 - 5, 0)\n",
    "eq2 = Eq(w0 + w1 + 3, 0)"
   ]
  },
  {
   "cell_type": "code",
   "execution_count": 25,
   "id": "fb09faa6",
   "metadata": {},
   "outputs": [
    {
     "data": {
      "text/plain": [
       "[]"
      ]
     },
     "execution_count": 25,
     "metadata": {},
     "output_type": "execute_result"
    }
   ],
   "source": [
    "solve((eq1, eq2), (w0,w1))"
   ]
  },
  {
   "cell_type": "code",
   "execution_count": 3,
   "id": "c6728afd",
   "metadata": {},
   "outputs": [],
   "source": [
    "n_shots = 10000"
   ]
  },
  {
   "cell_type": "code",
   "execution_count": 4,
   "id": "64437c67",
   "metadata": {},
   "outputs": [],
   "source": [
    "dev = qml.device(\"default.qubit\", wires=3, shots=n_shots)\n",
    "\n",
    "@qml.qnode(dev)\n",
    "def circuit(w):\n",
    "    qml.RX(w[0], wires = 0)\n",
    "    qml.RY(w[1], wires = 1)\n",
    "    qml.RY(w[1], wires = 2)\n",
    "    return qml.sample()"
   ]
  },
  {
   "cell_type": "code",
   "execution_count": 5,
   "id": "89c79c33",
   "metadata": {},
   "outputs": [],
   "source": [
    "raw_samples = circuit(w = [0.5,0.5,0.5])\n",
    "\n",
    "# convert the raw samples (bit strings) into integers and count them\n",
    "samples = []\n",
    "for sam in raw_samples:\n",
    "    samples.append(int(\"\".join(str(bs) for bs in sam), base=2))\n",
    "\n",
    "q_probs = np.bincount(samples) / n_shots"
   ]
  },
  {
   "cell_type": "code",
   "execution_count": 6,
   "id": "becd4f80",
   "metadata": {},
   "outputs": [
    {
     "data": {
      "text/plain": [
       "tensor([8.279e-01, 5.790e-02, 5.260e-02, 3.600e-03, 5.090e-02, 2.900e-03,\n",
       "        3.800e-03, 4.000e-04], requires_grad=True)"
      ]
     },
     "execution_count": 6,
     "metadata": {},
     "output_type": "execute_result"
    }
   ],
   "source": [
    "q_probs"
   ]
  },
  {
   "cell_type": "code",
   "execution_count": 7,
   "id": "195089f6",
   "metadata": {},
   "outputs": [
    {
     "data": {
      "text/plain": [
       "tensor([[0, 0, 0],\n",
       "        [0, 0, 0],\n",
       "        [0, 0, 0],\n",
       "        ...,\n",
       "        [0, 0, 0],\n",
       "        [0, 0, 0],\n",
       "        [0, 0, 0]], requires_grad=True)"
      ]
     },
     "execution_count": 7,
     "metadata": {},
     "output_type": "execute_result"
    }
   ],
   "source": [
    "raw_samples"
   ]
  },
  {
   "cell_type": "code",
   "execution_count": null,
   "id": "2c2d28b4",
   "metadata": {},
   "outputs": [],
   "source": []
  }
 ],
 "metadata": {
  "kernelspec": {
   "display_name": "Python 3 (ipykernel)",
   "language": "python",
   "name": "python3"
  },
  "language_info": {
   "codemirror_mode": {
    "name": "ipython",
    "version": 3
   },
   "file_extension": ".py",
   "mimetype": "text/x-python",
   "name": "python",
   "nbconvert_exporter": "python",
   "pygments_lexer": "ipython3",
   "version": "3.9.12"
  }
 },
 "nbformat": 4,
 "nbformat_minor": 5
}
