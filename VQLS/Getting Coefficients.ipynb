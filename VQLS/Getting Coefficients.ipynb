{
 "cells": [
  {
   "cell_type": "code",
   "execution_count": 91,
   "id": "db1d9e92",
   "metadata": {},
   "outputs": [],
   "source": [
    "import pennylane as qml\n",
    "from pennylane import numpy as np\n",
    "import matplotlib.pyplot as plt\n",
    "import cmath"
   ]
  },
  {
   "cell_type": "markdown",
   "id": "353c1db2",
   "metadata": {},
   "source": [
    "### 2x2 Matrix"
   ]
  },
  {
   "cell_type": "code",
   "execution_count": 92,
   "id": "e3e10cfb",
   "metadata": {},
   "outputs": [],
   "source": [
    "Id = np.identity(2)\n",
    "Z = np.array([[1, 0], [0, -1]])\n",
    "X = np.array([[0, 1], [1, 0]])\n",
    "Y = np.array([[0,complex(0,1)],[-complex(0,1),0]])"
   ]
  },
  {
   "cell_type": "code",
   "execution_count": 93,
   "id": "98f89c96",
   "metadata": {},
   "outputs": [
    {
     "data": {
      "text/plain": [
       "tensor([[ 0.+0.j,  0.+1.j],\n",
       "        [-0.-1.j,  0.+0.j]], requires_grad=True)"
      ]
     },
     "execution_count": 93,
     "metadata": {},
     "output_type": "execute_result"
    }
   ],
   "source": [
    "Y"
   ]
  },
  {
   "cell_type": "code",
   "execution_count": 84,
   "id": "3da6b29e",
   "metadata": {},
   "outputs": [
    {
     "data": {
      "text/plain": [
       "tensor([[-4,  2],\n",
       "        [-1, -3]], requires_grad=True)"
      ]
     },
     "execution_count": 84,
     "metadata": {},
     "output_type": "execute_result"
    }
   ],
   "source": [
    "A = np.array([[-4,2], [-1,-3]])\n",
    "A"
   ]
  },
  {
   "cell_type": "code",
   "execution_count": 94,
   "id": "1d395e43",
   "metadata": {},
   "outputs": [],
   "source": [
    "c = [complex(0,0)]*(len(A)**2)"
   ]
  },
  {
   "cell_type": "code",
   "execution_count": 100,
   "id": "87f541c3",
   "metadata": {},
   "outputs": [],
   "source": [
    "c[0] = 1/(len(A)) * np.matrix.trace(np.matmul(A,Id))\n",
    "c[1] = 1/(len(A)) * np.matrix.trace(np.matmul(A,Z))\n",
    "c[2] = 1/(len(A)) * np.matrix.trace(np.matmul(A,X))\n",
    "c[3] = 1/(len(A)) * np.matrix.trace(np.matmul(A,Y)) #need this to output with the complex number"
   ]
  },
  {
   "cell_type": "code",
   "execution_count": 101,
   "id": "0506cc4c",
   "metadata": {},
   "outputs": [
    {
     "data": {
      "text/plain": [
       "[-3.5, -0.5, 0.5, -1.5j]"
      ]
     },
     "execution_count": 101,
     "metadata": {},
     "output_type": "execute_result"
    }
   ],
   "source": [
    "c"
   ]
  },
  {
   "cell_type": "code",
   "execution_count": 102,
   "id": "b964169c",
   "metadata": {},
   "outputs": [],
   "source": [
    "temp = np.matmul(A,Y)"
   ]
  },
  {
   "cell_type": "code",
   "execution_count": 111,
   "id": "d5c353fd",
   "metadata": {},
   "outputs": [],
   "source": [
    "A = c[0]*Id + c[1]*Z + c[2]*X + c[3]*Y"
   ]
  },
  {
   "cell_type": "code",
   "execution_count": 112,
   "id": "a71f0610",
   "metadata": {},
   "outputs": [
    {
     "data": {
      "text/plain": [
       "tensor([[-4.+0.j,  2.+0.j],\n",
       "        [-1.+0.j, -3.+0.j]], requires_grad=True)"
      ]
     },
     "execution_count": 112,
     "metadata": {},
     "output_type": "execute_result"
    }
   ],
   "source": [
    "A"
   ]
  },
  {
   "cell_type": "code",
   "execution_count": null,
   "id": "6383f762",
   "metadata": {},
   "outputs": [],
   "source": []
  },
  {
   "cell_type": "code",
   "execution_count": null,
   "id": "23edb352",
   "metadata": {},
   "outputs": [],
   "source": []
  }
 ],
 "metadata": {
  "kernelspec": {
   "display_name": "Python 3 (ipykernel)",
   "language": "python",
   "name": "python3"
  },
  "language_info": {
   "codemirror_mode": {
    "name": "ipython",
    "version": 3
   },
   "file_extension": ".py",
   "mimetype": "text/x-python",
   "name": "python",
   "nbconvert_exporter": "python",
   "pygments_lexer": "ipython3",
   "version": "3.9.12"
  }
 },
 "nbformat": 4,
 "nbformat_minor": 5
}
