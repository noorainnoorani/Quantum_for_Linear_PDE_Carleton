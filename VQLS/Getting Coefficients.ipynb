{
 "cells": [
  {
   "cell_type": "code",
   "execution_count": 91,
   "id": "87c4ac0b",
   "metadata": {},
   "outputs": [],
   "source": [
    "import pennylane as qml\n",
    "from pennylane import numpy as np\n",
    "import matplotlib.pyplot as plt\n",
    "import cmath"
   ]
  },
  {
   "cell_type": "markdown",
   "id": "92dc1f70",
   "metadata": {},
   "source": [
    "### 2x2 Matrix"
   ]
  },
  {
   "cell_type": "code",
   "execution_count": 152,
   "id": "275e34ec",
   "metadata": {},
   "outputs": [],
   "source": [
    "Id = np.identity(2)\n",
    "Z = np.array([[1, 0], [0, -1]])\n",
    "X = np.array([[0, 1], [1, 0]])\n",
    "Y = np.array([[0,complex(0,1)],[-complex(0,1),0]])"
   ]
  },
  {
   "cell_type": "code",
   "execution_count": 218,
   "id": "e6cb6bfb",
   "metadata": {},
   "outputs": [
    {
     "data": {
      "text/plain": [
       "tensor([[-4,  2],\n",
       "        [-1, -3]], requires_grad=True)"
      ]
     },
     "execution_count": 218,
     "metadata": {},
     "output_type": "execute_result"
    }
   ],
   "source": [
    "A = np.array([[-4,2], [-1,-3]]) \n",
    "A"
   ]
  },
  {
   "cell_type": "code",
   "execution_count": 156,
   "id": "a963c747",
   "metadata": {},
   "outputs": [
    {
     "data": {
      "text/plain": [
       "[0j, 0j, 0j, 0j]"
      ]
     },
     "execution_count": 156,
     "metadata": {},
     "output_type": "execute_result"
    }
   ],
   "source": [
    "c = [complex(0,0)]*(len(A)**2)\n",
    "c"
   ]
  },
  {
   "cell_type": "code",
   "execution_count": 157,
   "id": "318e507d",
   "metadata": {},
   "outputs": [],
   "source": [
    "c[0] = 1/(len(A)) * np.matrix.trace(np.matmul(A,Id))\n",
    "c[1] = 1/(len(A)) * np.matrix.trace(np.matmul(A,Z))\n",
    "c[2] = 1/(len(A)) * np.matrix.trace(np.matmul(A,X))\n",
    "c[3] = 1/(len(A)) * np.matrix.trace(np.matmul(A,Y)) #need this to output with the complex number"
   ]
  },
  {
   "cell_type": "code",
   "execution_count": 158,
   "id": "736987a7",
   "metadata": {},
   "outputs": [
    {
     "data": {
      "text/plain": [
       "[-3.5, -0.5, 0.5, -1.5j]"
      ]
     },
     "execution_count": 158,
     "metadata": {},
     "output_type": "execute_result"
    }
   ],
   "source": [
    "c"
   ]
  },
  {
   "cell_type": "code",
   "execution_count": 160,
   "id": "385d3f8c",
   "metadata": {},
   "outputs": [],
   "source": [
    "A = c[0]*Id + c[1]*Z + c[2]*X + c[3]*Y"
   ]
  },
  {
   "cell_type": "code",
   "execution_count": 161,
   "id": "b8ec8913",
   "metadata": {},
   "outputs": [
    {
     "data": {
      "text/plain": [
       "tensor([[-4.+0.j,  2.+0.j],\n",
       "        [-1.+0.j, -3.+0.j]], requires_grad=True)"
      ]
     },
     "execution_count": 161,
     "metadata": {},
     "output_type": "execute_result"
    }
   ],
   "source": [
    "A"
   ]
  },
  {
   "cell_type": "code",
   "execution_count": null,
   "id": "029f7eff",
   "metadata": {},
   "outputs": [],
   "source": []
  },
  {
   "cell_type": "markdown",
   "id": "161d124e",
   "metadata": {},
   "source": [
    "### 4x4 Matrix"
   ]
  },
  {
   "cell_type": "code",
   "execution_count": 164,
   "id": "3e9fd063",
   "metadata": {},
   "outputs": [],
   "source": [
    "Id = np.identity(2)\n",
    "Z = np.array([[1, 0], [0, -1]])\n",
    "X = np.array([[0, 1], [1, 0]])\n",
    "Y = np.array([[0,complex(0,1)],[-complex(0,1),0]])"
   ]
  },
  {
   "cell_type": "code",
   "execution_count": 165,
   "id": "3b3e7248",
   "metadata": {},
   "outputs": [],
   "source": [
    "#going to need to create a combination of all arrays\n",
    "#first identity\n",
    "Id4 = np.identity(4)"
   ]
  },
  {
   "cell_type": "code",
   "execution_count": 166,
   "id": "7a8e6958",
   "metadata": {},
   "outputs": [],
   "source": [
    "#Would the others be kronkers of the same together??\n",
    "ZZ = np.kron(Z,Z)\n",
    "XX = np.kron(X,X)\n",
    "YY = np.kron(Y,Y)"
   ]
  },
  {
   "cell_type": "code",
   "execution_count": 169,
   "id": "aafb27f7",
   "metadata": {},
   "outputs": [
    {
     "data": {
      "text/plain": [
       "tensor([[ 0.+0.j,  0.+0.j,  0.+0.j, -1.+0.j],\n",
       "        [ 0.-0.j,  0.+0.j,  1.-0.j,  0.+0.j],\n",
       "        [ 0.-0.j,  1.-0.j,  0.+0.j,  0.+0.j],\n",
       "        [-1.+0.j,  0.-0.j,  0.-0.j,  0.+0.j]], requires_grad=True)"
      ]
     },
     "execution_count": 169,
     "metadata": {},
     "output_type": "execute_result"
    }
   ],
   "source": [
    "YY"
   ]
  },
  {
   "cell_type": "code",
   "execution_count": 170,
   "id": "5b192a1e",
   "metadata": {},
   "outputs": [],
   "source": [
    "#now combinations\n",
    "ZX = np.kron(Z,X)\n",
    "ZY = np.kron(Z,Y)\n",
    "XZ = np.kron(X,Z)\n",
    "XY = np.kron(X,Y)\n",
    "YZ = np.kron(Y,Z)\n",
    "YX = np.kron(Y,X)\n",
    "\n",
    "#and combinations with Identity\n",
    "IdZ = np.kron(Id,Z)\n",
    "IdX = np.kron(Id,X)\n",
    "IdY = np.kron(Id,Y)\n",
    "\n",
    "ZId = np.kron(Z,Id)\n",
    "XId = np.kron(X,Id)\n",
    "YId = np.kron(Y,Id)\n",
    "\n",
    "#is this ok? it's going to scale exponentially...... n^2"
   ]
  },
  {
   "cell_type": "code",
   "execution_count": 179,
   "id": "3b17c43a",
   "metadata": {},
   "outputs": [],
   "source": [
    "A = np.matrix([[1,2,3,4],[4,3,2,1],[3,2,1,4],[2,1,3,4]])\n",
    "A_4x4 = np.matrix([[1,2,3,4],[4,3,2,1],[3,2,1,4],[2,1,3,4]])"
   ]
  },
  {
   "cell_type": "code",
   "execution_count": 180,
   "id": "f929ee74",
   "metadata": {},
   "outputs": [
    {
     "data": {
      "text/plain": [
       "matrix([[1, 2, 3, 4],\n",
       "        [4, 3, 2, 1],\n",
       "        [3, 2, 1, 4],\n",
       "        [2, 1, 3, 4]])"
      ]
     },
     "execution_count": 180,
     "metadata": {},
     "output_type": "execute_result"
    }
   ],
   "source": [
    "A_4x4"
   ]
  },
  {
   "cell_type": "code",
   "execution_count": 181,
   "id": "7f0ca0ad",
   "metadata": {},
   "outputs": [],
   "source": [
    "c = [complex(0,0)]*(len(A)**2)"
   ]
  },
  {
   "cell_type": "code",
   "execution_count": 182,
   "id": "6affaa5d",
   "metadata": {},
   "outputs": [],
   "source": [
    "c[0] = 1/(len(A)) * np.matrix.trace(np.matmul(A,Id4))\n",
    "c[1] = 1/(len(A)) * np.matrix.trace(np.matmul(A,ZZ))\n",
    "c[2] = 1/(len(A)) * np.matrix.trace(np.matmul(A,XX))\n",
    "c[3] = 1/(len(A)) * np.matrix.trace(np.matmul(A,YY))\n",
    "\n",
    "c[4] = 1/(len(A)) * np.matrix.trace(np.matmul(A,ZX))\n",
    "c[5] = 1/(len(A)) * np.matrix.trace(np.matmul(A,ZY))\n",
    "c[6] = 1/(len(A)) * np.matrix.trace(np.matmul(A,XZ))\n",
    "c[7] = 1/(len(A)) * np.matrix.trace(np.matmul(A,XY))\n",
    "c[8] = 1/(len(A)) * np.matrix.trace(np.matmul(A,YZ))\n",
    "c[9] = 1/(len(A)) * np.matrix.trace(np.matmul(A,YX))\n",
    "\n",
    "c[10] = 1/(len(A)) * np.matrix.trace(np.matmul(A,IdZ))\n",
    "c[11] = 1/(len(A)) * np.matrix.trace(np.matmul(A,IdX))\n",
    "c[12] = 1/(len(A)) * np.matrix.trace(np.matmul(A,IdY))\n",
    "\n",
    "c[13] = 1/(len(A)) * np.matrix.trace(np.matmul(A,ZId))\n",
    "c[14] = 1/(len(A)) * np.matrix.trace(np.matmul(A,XId))\n",
    "c[15] = 1/(len(A)) * np.matrix.trace(np.matmul(A,YId))\n"
   ]
  },
  {
   "cell_type": "code",
   "execution_count": 183,
   "id": "bb659b8e",
   "metadata": {},
   "outputs": [],
   "source": [
    "A = c[0]*Id4 + c[1]*ZZ + c[2]*XX + c[3]*YY + c[4]*ZX + c[5]*ZY + c[6]*XZ + c[7]*XY + c[8]*YZ + c[9]*YX + c[10]*IdZ + c[11]*IdX + c[12]*IdY + c[13]*ZId + c[14]*XId + c[15]*YId"
   ]
  },
  {
   "cell_type": "code",
   "execution_count": 184,
   "id": "210ebe27",
   "metadata": {},
   "outputs": [
    {
     "data": {
      "text/plain": [
       "tensor([[1.+0.j, 2.+0.j, 3.+0.j, 4.+0.j],\n",
       "        [4.+0.j, 3.+0.j, 2.+0.j, 1.+0.j],\n",
       "        [3.+0.j, 2.+0.j, 1.+0.j, 4.+0.j],\n",
       "        [2.+0.j, 1.+0.j, 3.+0.j, 4.+0.j]], requires_grad=True)"
      ]
     },
     "execution_count": 184,
     "metadata": {},
     "output_type": "execute_result"
    }
   ],
   "source": [
    "A"
   ]
  },
  {
   "cell_type": "code",
   "execution_count": 185,
   "id": "8f10f080",
   "metadata": {},
   "outputs": [
    {
     "data": {
      "text/plain": [
       "tensor([[ True,  True,  True,  True],\n",
       "        [ True,  True,  True,  True],\n",
       "        [ True,  True,  True,  True],\n",
       "        [ True,  True,  True,  True]], requires_grad=True)"
      ]
     },
     "execution_count": 185,
     "metadata": {},
     "output_type": "execute_result"
    }
   ],
   "source": [
    "A == A_4x4"
   ]
  },
  {
   "cell_type": "markdown",
   "id": "bdcfa9f3",
   "metadata": {},
   "source": [
    "### NxN"
   ]
  },
  {
   "cell_type": "code",
   "execution_count": 261,
   "id": "233a63da",
   "metadata": {},
   "outputs": [
    {
     "name": "stdout",
     "output_type": "stream",
     "text": [
      "[[2 9 1 8 0 9 7 4]\n",
      " [1 2 4 3 5 6 1 6]\n",
      " [4 4 3 4 4 1 4 7]\n",
      " [4 4 4 0 9 0 6 5]\n",
      " [8 4 7 1 1 0 3 5]\n",
      " [2 2 9 9 3 5 9 7]\n",
      " [1 5 8 0 3 7 1 7]\n",
      " [1 1 6 9 0 8 1 7]]\n"
     ]
    }
   ],
   "source": [
    "N = 8\n",
    "\n",
    "# 1st argument --> numbers ranging from 0 to 9, \n",
    "# 2nd argument, row = 2, col = 3\n",
    "array = np.random.randint(10, size=(N, N))\n",
    "print(array)"
   ]
  },
  {
   "cell_type": "code",
   "execution_count": 262,
   "id": "f1ba74bc",
   "metadata": {},
   "outputs": [],
   "source": [
    "gate_array = [Id,X,Y,Z]"
   ]
  },
  {
   "cell_type": "code",
   "execution_count": 263,
   "id": "e40a5cfb",
   "metadata": {},
   "outputs": [
    {
     "data": {
      "text/plain": [
       "tensor([[ 1,  0],\n",
       "        [ 0, -1]], requires_grad=True)"
      ]
     },
     "execution_count": 263,
     "metadata": {},
     "output_type": "execute_result"
    }
   ],
   "source": [
    "gate_array[3]"
   ]
  },
  {
   "cell_type": "code",
   "execution_count": 264,
   "id": "096358ca",
   "metadata": {},
   "outputs": [
    {
     "data": {
      "text/plain": [
       "8"
      ]
     },
     "execution_count": 264,
     "metadata": {},
     "output_type": "execute_result"
    }
   ],
   "source": [
    "len(array)"
   ]
  },
  {
   "cell_type": "code",
   "execution_count": 265,
   "id": "624bba5c",
   "metadata": {},
   "outputs": [],
   "source": [
    "counter = 0\n",
    "i = 0\n",
    "\n",
    "combination = gate_array\n",
    "temp_array = gate_array\n",
    "\n",
    "while counter < np.log2(len(array)) - 1:\n",
    "\n",
    "    combination = np.kron(combination, gate_array)\n",
    "    \n",
    "    counter += 1"
   ]
  },
  {
   "cell_type": "code",
   "execution_count": 270,
   "id": "69890b7f",
   "metadata": {},
   "outputs": [],
   "source": [
    "final_array = np.zeros((len(array),len(array)), dtype=complex)\n",
    "\n",
    "for i in range(len(combination)):\n",
    "    c =  1/(len(array)) * np.matrix.trace(np.matmul(array,combination[i]))\n",
    "    final_array +=  c * combination[i]"
   ]
  },
  {
   "cell_type": "code",
   "execution_count": 271,
   "id": "a753274d",
   "metadata": {},
   "outputs": [
    {
     "data": {
      "text/plain": [
       "tensor([[2.+0.j, 9.+0.j, 1.+0.j, 8.+0.j, 0.+0.j, 9.+0.j, 7.+0.j, 4.+0.j],\n",
       "        [1.+0.j, 2.+0.j, 4.+0.j, 3.+0.j, 5.+0.j, 6.+0.j, 1.+0.j, 6.+0.j],\n",
       "        [4.+0.j, 4.+0.j, 3.+0.j, 4.+0.j, 4.+0.j, 1.+0.j, 4.+0.j, 7.+0.j],\n",
       "        [4.+0.j, 4.+0.j, 4.+0.j, 0.+0.j, 9.+0.j, 0.+0.j, 6.+0.j, 5.+0.j],\n",
       "        [8.+0.j, 4.+0.j, 7.+0.j, 1.+0.j, 1.+0.j, 0.+0.j, 3.+0.j, 5.+0.j],\n",
       "        [2.+0.j, 2.+0.j, 9.+0.j, 9.+0.j, 3.+0.j, 5.+0.j, 9.+0.j, 7.+0.j],\n",
       "        [1.+0.j, 5.+0.j, 8.+0.j, 0.+0.j, 3.+0.j, 7.+0.j, 1.+0.j, 7.+0.j],\n",
       "        [1.+0.j, 1.+0.j, 6.+0.j, 9.+0.j, 0.+0.j, 8.+0.j, 1.+0.j, 7.+0.j]], requires_grad=True)"
      ]
     },
     "execution_count": 271,
     "metadata": {},
     "output_type": "execute_result"
    }
   ],
   "source": [
    "final_array"
   ]
  },
  {
   "cell_type": "code",
   "execution_count": 272,
   "id": "1a1bfcdb",
   "metadata": {},
   "outputs": [
    {
     "data": {
      "text/plain": [
       "tensor([[2, 9, 1, 8, 0, 9, 7, 4],\n",
       "        [1, 2, 4, 3, 5, 6, 1, 6],\n",
       "        [4, 4, 3, 4, 4, 1, 4, 7],\n",
       "        [4, 4, 4, 0, 9, 0, 6, 5],\n",
       "        [8, 4, 7, 1, 1, 0, 3, 5],\n",
       "        [2, 2, 9, 9, 3, 5, 9, 7],\n",
       "        [1, 5, 8, 0, 3, 7, 1, 7],\n",
       "        [1, 1, 6, 9, 0, 8, 1, 7]], requires_grad=True)"
      ]
     },
     "execution_count": 272,
     "metadata": {},
     "output_type": "execute_result"
    }
   ],
   "source": [
    "array"
   ]
  },
  {
   "cell_type": "code",
   "execution_count": null,
   "id": "4771c90a",
   "metadata": {},
   "outputs": [],
   "source": []
  }
 ],
 "metadata": {
  "kernelspec": {
   "display_name": "Python 3 (ipykernel)",
   "language": "python",
   "name": "python3"
  },
  "language_info": {
   "codemirror_mode": {
    "name": "ipython",
    "version": 3
   },
   "file_extension": ".py",
   "mimetype": "text/x-python",
   "name": "python",
   "nbconvert_exporter": "python",
   "pygments_lexer": "ipython3",
   "version": "3.9.12"
  }
 },
 "nbformat": 4,
 "nbformat_minor": 5
}
