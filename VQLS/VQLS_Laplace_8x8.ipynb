{
 "cells": [
  {
   "cell_type": "code",
   "execution_count": 1,
   "id": "7f57366b",
   "metadata": {},
   "outputs": [],
   "source": [
    "import pennylane as qml\n",
    "from pennylane import numpy as np\n",
    "import matplotlib.pyplot as plt"
   ]
  },
  {
   "cell_type": "code",
   "execution_count": 2,
   "id": "5328a7a3",
   "metadata": {},
   "outputs": [],
   "source": [
    "import sys\n",
    "import numpy\n",
    "numpy.set_printoptions(threshold=sys.maxsize)"
   ]
  },
  {
   "cell_type": "code",
   "execution_count": 3,
   "id": "7d2fa450",
   "metadata": {},
   "outputs": [],
   "source": [
    "\"Setting up main Hyper-Parameters of the model\"\n",
    "\n",
    "n_qubits = 3  # Number of system qubits.\n",
    "n_shots = 10 ** 6  # Number of quantum measurements.\n",
    "tot_qubits = n_qubits + 1  # Addition of an ancillary qubit.\n",
    "ancilla_idx = n_qubits  # Index of the ancillary qubit (last position).\n",
    "steps = 40  # Number of optimization steps\n",
    "eta = 0.8  # Learning rate\n",
    "q_delta = 0.001  # Initial spread of random quantum weights\n",
    "rng_seed = 0  # Seed for random number generator\n"
   ]
  },
  {
   "cell_type": "code",
   "execution_count": 4,
   "id": "3c0e3064",
   "metadata": {},
   "outputs": [],
   "source": [
    "#Fundemental Quantum Pauli Matrices \n",
    "Id = np.identity(2) #identity matrix of 2 rows\n",
    "Z = np.array([[1, 0], [0, -1]]) \n",
    "X = np.array([[0, 1], [1, 0]])\n",
    "Y = np.array([[0,complex(0,1)],[-complex(0,1),0]])"
   ]
  },
  {
   "cell_type": "code",
   "execution_count": 5,
   "id": "a5763ac4",
   "metadata": {},
   "outputs": [],
   "source": [
    "gate_array = [Id,X,Y,Z]\n",
    "gate_array_names = [\"Id\",\"X\",\"Y\",\"Z\"]"
   ]
  },
  {
   "cell_type": "markdown",
   "id": "17d5b274",
   "metadata": {},
   "source": [
    "### Linear System $Ax = b$"
   ]
  },
  {
   "cell_type": "code",
   "execution_count": 6,
   "id": "60effe7b",
   "metadata": {},
   "outputs": [],
   "source": [
    "A_0 = np.identity(32)\n",
    "A_1 = np.kron(np.kron(np.kron(np.kron(X, Z), Id),Id),Id)\n",
    "A_2 = np.kron(np.kron(np.kron(np.kron(X, Id),Id),Id),Id)\n",
    "A_3 = np.kron(np.kron(np.kron(np.kron(Z, Z), Id),Id),Id)\n",
    "\n",
    "#Ax = b\n",
    "A = 1 * A_0 + 0.2 * A_1 + 0.2 * A_2 \n",
    "b = np.ones(32) / np.sqrt(32)"
   ]
  },
  {
   "cell_type": "code",
   "execution_count": 7,
   "id": "00d4d6e4",
   "metadata": {},
   "outputs": [],
   "source": [
    "#print(A)\n"
   ]
  },
  {
   "cell_type": "markdown",
   "id": "285cec34",
   "metadata": {},
   "source": [
    "#### Get Coefficients of Linear Combination of Puali Matrices"
   ]
  },
  {
   "cell_type": "code",
   "execution_count": 8,
   "id": "e5e69aa4",
   "metadata": {},
   "outputs": [],
   "source": [
    "counter = 0\n",
    "i = 0\n",
    "\n",
    "combination = gate_array\n",
    "\n",
    "while counter < np.log2(len(A)) - 1:\n",
    "\n",
    "    combination = np.kron(combination, gate_array)\n",
    "    \n",
    "    counter += 1"
   ]
  },
  {
   "cell_type": "code",
   "execution_count": 9,
   "id": "33c4d3e6",
   "metadata": {},
   "outputs": [],
   "source": [
    "counter = 0\n",
    "i = 0\n",
    "\n",
    "combination_names = gate_array_names\n",
    "temp_array_names = gate_array_names\n",
    "\n",
    "for i in range(len(gate_array_names)):\n",
    "    None"
   ]
  },
  {
   "cell_type": "code",
   "execution_count": 10,
   "id": "54616381",
   "metadata": {},
   "outputs": [
    {
     "data": {
      "text/plain": [
       "5.0"
      ]
     },
     "execution_count": 10,
     "metadata": {},
     "output_type": "execute_result"
    }
   ],
   "source": [
    "np.log2(len(A))"
   ]
  },
  {
   "cell_type": "code",
   "execution_count": 11,
   "id": "f8f4665b",
   "metadata": {},
   "outputs": [],
   "source": [
    "final_array = np.zeros((len(A),len(A)), dtype=complex)\n",
    "c = [2, -0.25, 0.25, -0.25, -0.25, -0.5, -0.5, -1]\n",
    "\n",
    "for i in range(len(combination)):\n",
    "    c_temp =  1/(len(A)) * np.matrix.trace(np.matmul(A,combination[i]))\n",
    "    c.append(c_temp)\n",
    "    final_array +=  c_temp * combination[i]"
   ]
  },
  {
   "cell_type": "code",
   "execution_count": 12,
   "id": "3b46d685",
   "metadata": {},
   "outputs": [],
   "source": [
    "#print(final_array.real)"
   ]
  },
  {
   "cell_type": "code",
   "execution_count": 13,
   "id": "9e216cce",
   "metadata": {},
   "outputs": [],
   "source": [
    "c = np.array(c)"
   ]
  },
  {
   "cell_type": "code",
   "execution_count": 14,
   "id": "ed260096",
   "metadata": {},
   "outputs": [],
   "source": [
    "c = c[c != 0]"
   ]
  },
  {
   "cell_type": "code",
   "execution_count": 15,
   "id": "c0e938c7",
   "metadata": {},
   "outputs": [
    {
     "data": {
      "text/plain": [
       "tensor([ 2.  +0.j, -0.25+0.j,  0.25+0.j, -0.25+0.j, -0.25+0.j, -0.5 +0.j,\n",
       "        -0.5 +0.j, -1.  +0.j,  1.  +0.j,  0.2 +0.j,  0.2 +0.j], requires_grad=True)"
      ]
     },
     "execution_count": 15,
     "metadata": {},
     "output_type": "execute_result"
    }
   ],
   "source": [
    "c"
   ]
  },
  {
   "cell_type": "code",
   "execution_count": 16,
   "id": "104814fa",
   "metadata": {},
   "outputs": [
    {
     "data": {
      "text/plain": [
       "tensor([0.1767767, 0.1767767, 0.1767767, 0.1767767, 0.1767767, 0.1767767,\n",
       "        0.1767767, 0.1767767, 0.1767767, 0.1767767, 0.1767767, 0.1767767,\n",
       "        0.1767767, 0.1767767, 0.1767767, 0.1767767, 0.1767767, 0.1767767,\n",
       "        0.1767767, 0.1767767, 0.1767767, 0.1767767, 0.1767767, 0.1767767,\n",
       "        0.1767767, 0.1767767, 0.1767767, 0.1767767, 0.1767767, 0.1767767,\n",
       "        0.1767767, 0.1767767], requires_grad=True)"
      ]
     },
     "execution_count": 16,
     "metadata": {},
     "output_type": "execute_result"
    }
   ],
   "source": [
    "b"
   ]
  },
  {
   "cell_type": "code",
   "execution_count": null,
   "id": "55594d48",
   "metadata": {},
   "outputs": [],
   "source": []
  },
  {
   "cell_type": "code",
   "execution_count": null,
   "id": "4f1c9003",
   "metadata": {},
   "outputs": [],
   "source": []
  },
  {
   "cell_type": "code",
   "execution_count": 17,
   "id": "897d439e",
   "metadata": {},
   "outputs": [],
   "source": [
    "#controlled_gate_array = [1,CNOT,CY,CZ]\n",
    "#Have to think of a clever way of combining the array to work out nicely - something that would reduce the zeros first"
   ]
  },
  {
   "cell_type": "code",
   "execution_count": 18,
   "id": "8c19b68a",
   "metadata": {},
   "outputs": [],
   "source": [
    "def U_b():\n",
    "    \"\"\"Unitary matrix rotating the ground state to the problem vector |b> = U_b |0>.\"\"\"\n",
    "    for idx in range(n_qubits):\n",
    "        qml.X(wires=idx)\n",
    "\n",
    "def CA(idx):\n",
    "    \"\"\"Controlled versions of the unitary components A_l of the problem matrix A.\"\"\"\n",
    "    if idx == 0:\n",
    "        # Identity operation\n",
    "        None\n",
    "\n",
    "    elif idx == 1:\n",
    "        qml.CNOT(wires=[ancilla_idx, 0])\n",
    "        qml.CNOT(wires=[ancilla_idx, 1])\n",
    "        qml.CNOT(wires=[ancilla_idx, 2])\n",
    "    elif idx == 2:\n",
    "        qml.CNOT(wires=[ancilla_idx, 0])\n",
    "        qml.CY(wires=[ancilla_idx, 1])\n",
    "        qml.CY(wires=[ancilla_idx, 2])\n",
    "    elif idx == 3:\n",
    "        qml.CY(wires=[ancilla_idx, 0])\n",
    "        qml.CNOT(wires=[ancilla_idx, 1])\n",
    "        qml.CY(wires=[ancilla_idx, 2])\n",
    "    elif idx == 4:\n",
    "        qml.CY(wires=[ancilla_idx, 0])\n",
    "        qml.CY(wires=[ancilla_idx, 1])\n",
    "        qml.CNOT(wires=[ancilla_idx, 2])\n",
    "    elif idx == 5:\n",
    "        qml.CNOT(wires=[ancilla_idx, 1])\n",
    "        qml.CNOT(wires=[ancilla_idx, 2])\n",
    "    elif idx == 6:\n",
    "        qml.CY(wires=[ancilla_idx, 1])\n",
    "        qml.CY(wires=[ancilla_idx, 2])  \n",
    "    elif idx == 7:\n",
    "        qml.CNOT(wires=[ancilla_idx, 2])   "
   ]
  },
  {
   "cell_type": "code",
   "execution_count": 19,
   "id": "d52e757d",
   "metadata": {},
   "outputs": [],
   "source": [
    "def variational_block(weights):\n",
    "    \"\"\"Variational circuit mapping the ground state |0> to the ansatz state |x>.\"\"\"\n",
    "    \n",
    "    # We first prepare an equal superposition of all the states of the computational basis.\n",
    "    for idx in range(n_qubits):\n",
    "        qml.Hadamard(wires=idx)\n",
    "\n",
    "    # A very minimal variational circuit.\n",
    "    # just a single layer of qubit rotations around y\n",
    "    # can make more complex \n",
    "    for idx, element in enumerate(weights):\n",
    "        qml.RY(element, wires=idx)\n",
    "        \n",
    "        \n",
    "    #return qml.expval(qml.PauliZ(0)) \n",
    "    ## don't actually want to return anything, just there to visualize for now\n",
    "      \n",
    "weights = np.random.random(size=3)\n",
    "drawer = qml.draw(variational_block)"
   ]
  },
  {
   "cell_type": "code",
   "execution_count": 20,
   "id": "e4e717bb",
   "metadata": {},
   "outputs": [
    {
     "name": "stdout",
     "output_type": "stream",
     "text": [
      "0: ──H──Rot(0.21,0.47,0.20)─╭●───────╭X──Rot(0.71,0.83,0.84)─╭●────╭X────┤  <Z>\n",
      "1: ──H──Rot(0.85,0.11,0.69)─╰X─╭●────│───Rot(0.20,0.54,0.86)─│──╭●─│──╭X─┤     \n",
      "2: ──H──Rot(0.50,0.91,0.93)────╰X─╭●─│───Rot(0.50,0.91,0.89)─╰X─│──╰●─│──┤     \n",
      "3: ──H──Rot(0.30,0.36,0.19)───────╰X─╰●──Rot(0.60,0.05,0.54)────╰X────╰●─┤     \n"
     ]
    }
   ],
   "source": [
    "\"Example of more complicated circuit using Pennylane StronglyEntaglingLayers, this is for later\"\n",
    "\"Let's first get the RY circuit working\"\n",
    "\n",
    "dev = qml.device('default.qubit', wires=4)\n",
    "\n",
    "@qml.qnode(dev)\n",
    "def circuit(parameters):\n",
    "    for idx in range(4):\n",
    "        qml.Hadamard(wires=idx)\n",
    "    \n",
    "    qml.StronglyEntanglingLayers(weights=parameters, wires=range(4))\n",
    "    return qml.expval(qml.PauliZ(0))\n",
    "\n",
    "shape = qml.StronglyEntanglingLayers.shape(n_layers=2, n_wires=4)\n",
    "weights = np.random.random(size=shape)\n",
    "\n",
    "print(qml.draw(circuit, expansion_strategy=\"device\")(weights))"
   ]
  },
  {
   "cell_type": "code",
   "execution_count": 21,
   "id": "1beabc90",
   "metadata": {},
   "outputs": [],
   "source": [
    "dev_mu = qml.device(\"default.qubit\", wires=tot_qubits)\n",
    "\n",
    "@qml.qnode(dev_mu)\n",
    "def local_hadamard_test(weights, l=None, lp=None, j=None, part=None):\n",
    "\n",
    "    # First Hadamard gate applied to the ancillary qubit.\n",
    "    qml.Hadamard(wires=ancilla_idx)\n",
    "\n",
    "    # For estimating the imaginary part of the coefficient \"mu\", we must add a \"-i\"\n",
    "    # phase gate.\n",
    "    if part == \"Im\" or part == \"im\":\n",
    "        qml.PhaseShift(-np.pi / 2, wires=ancilla_idx)\n",
    "\n",
    "    # Variational circuit generating a guess for the solution vector |x>\n",
    "    variational_block(weights)\n",
    "\n",
    "    # Controlled application of the unitary component A_l of the problem matrix A.\n",
    "    CA(l)\n",
    "\n",
    "    # Adjoint of the unitary U_b associated to the problem vector |b>.\n",
    "    # In this specific example Adjoint(U_b) = U_b.\n",
    "    U_b()\n",
    "\n",
    "    # Controlled Z operator at position j. If j = -1, apply the identity.\n",
    "    if j != -1:\n",
    "        qml.CZ(wires=[ancilla_idx, j])\n",
    "\n",
    "    # Unitary U_b associated to the problem vector |b>.\n",
    "    U_b()\n",
    "\n",
    "    # Controlled application of Adjoint(A_lp).\n",
    "    # In this specific example Adjoint(A_lp) = A_lp.\n",
    "    CA(lp)\n",
    "\n",
    "    # Second Hadamard gate applied to the ancillary qubit.\n",
    "    qml.Hadamard(wires=ancilla_idx)\n",
    "\n",
    "    # Expectation value of Z for the ancillary qubit.\n",
    "    return qml.expval(qml.PauliZ(wires=ancilla_idx))"
   ]
  },
  {
   "cell_type": "code",
   "execution_count": 22,
   "id": "ee867299",
   "metadata": {},
   "outputs": [
    {
     "name": "stdout",
     "output_type": "stream",
     "text": [
      "   0: ──H──RY(1.20)────┤     \n",
      "   1: ──H──RY(3.20)────┤     \n",
      "   2: ──H──RY(0.70)────┤     \n",
      "   3: ──H─╭●─────────H─┤  <Z>\n",
      "None: ────╰Z───────────┤     \n"
     ]
    }
   ],
   "source": [
    "print(qml.draw(local_hadamard_test)(weights=[1.2, 3.2, 0.7]))"
   ]
  },
  {
   "cell_type": "code",
   "execution_count": 23,
   "id": "f907b9d6",
   "metadata": {},
   "outputs": [],
   "source": [
    "def mu(weights, l=None, lp=None, j=None):\n",
    "    \"\"\"Generates the coefficients to compute the \"local\" cost function C_L.\"\"\"\n",
    "\n",
    "    mu_real = local_hadamard_test(weights, l=l, lp=lp, j=j, part=\"Re\")\n",
    "    mu_imag = local_hadamard_test(weights, l=l, lp=lp, j=j, part=\"Im\")\n",
    "\n",
    "    return mu_real + 1.0j * mu_imag"
   ]
  },
  {
   "cell_type": "markdown",
   "id": "36beaf2e",
   "metadata": {},
   "source": [
    "#### Local Cost Function\n",
    "Need a function to estimate $<x|A^\\dagger A|x>$"
   ]
  },
  {
   "cell_type": "code",
   "execution_count": 24,
   "id": "0f3ede38",
   "metadata": {},
   "outputs": [],
   "source": [
    "def psi_norm(weights):\n",
    "    \"\"\"Returns the normalization constant <psi|psi>, where |psi> = A |x>.\"\"\"\n",
    "    norm = 0.0\n",
    "\n",
    "    for l in range(0, len(c)):\n",
    "        for lp in range(0, len(c)):\n",
    "            norm = norm + c[l] * np.conj(c[lp]) * mu(weights, l, lp, -1)\n",
    "\n",
    "    return abs(norm)"
   ]
  },
  {
   "cell_type": "code",
   "execution_count": 25,
   "id": "3414b8c2",
   "metadata": {},
   "outputs": [],
   "source": [
    "def cost_loc(weights):\n",
    "    \"\"\"Local version of the cost function. Tends to zero when A|x> is proportional to |b>.\"\"\"\n",
    "    mu_sum = 0.0\n",
    "\n",
    "    for l in range(0, len(c)):\n",
    "        for lp in range(0, len(c)):\n",
    "            for j in range(0, n_qubits):\n",
    "                mu_sum = mu_sum + c[l] * np.conj(c[lp]) * mu(weights, l, lp, j)\n",
    "\n",
    "    mu_sum = abs(mu_sum)\n",
    "\n",
    "    # Cost function C_L\n",
    "    return 0.5 - 0.5 * mu_sum / (n_qubits * psi_norm(weights))"
   ]
  },
  {
   "cell_type": "markdown",
   "id": "ccf7de15",
   "metadata": {},
   "source": [
    "#### Variational Optimization"
   ]
  },
  {
   "cell_type": "code",
   "execution_count": 26,
   "id": "cd37fa1f",
   "metadata": {},
   "outputs": [],
   "source": [
    "#Intialize the weights with a fix seed\n",
    "\n",
    "np.random.seed(rng_seed)\n",
    "w = q_delta * np.random.randn(n_qubits, requires_grad=True)"
   ]
  },
  {
   "cell_type": "code",
   "execution_count": 27,
   "id": "fd9f5d0a",
   "metadata": {},
   "outputs": [
    {
     "data": {
      "text/plain": [
       "tensor([0.00176405, 0.00040016, 0.00097874], requires_grad=True)"
      ]
     },
     "execution_count": 27,
     "metadata": {},
     "output_type": "execute_result"
    }
   ],
   "source": [
    "w"
   ]
  },
  {
   "cell_type": "code",
   "execution_count": 28,
   "id": "66c031a5",
   "metadata": {},
   "outputs": [],
   "source": [
    "#classical optimizer to minimize the cost function\n",
    "opt = qml.AdagradOptimizer(eta)\n",
    "#opt = qml.GradientDescentOptimizer(eta)\n",
    "#opt = qml.jacobian(eta)\n",
    "#opt - qml.elementwise_grad(eta)\n",
    "#opt = qml.holomorphic_grad(eta)"
   ]
  },
  {
   "cell_type": "code",
   "execution_count": 29,
   "id": "e7fd36fc",
   "metadata": {},
   "outputs": [
    {
     "name": "stdout",
     "output_type": "stream",
     "text": [
      "Step   0       Cost_L = 0.4989086\n",
      "Step   1       Cost_L = 0.0644202\n",
      "Step   2       Cost_L = 0.0173523\n",
      "Step   3       Cost_L = 0.0087231\n",
      "Step   4       Cost_L = 0.0051946\n",
      "Step   5       Cost_L = 0.0032522\n",
      "Step   6       Cost_L = 0.0020855\n",
      "Step   7       Cost_L = 0.0013578\n",
      "Step   8       Cost_L = 0.0008936\n",
      "Step   9       Cost_L = 0.0005929\n",
      "Step  10       Cost_L = 0.0003959\n",
      "Step  11       Cost_L = 0.0002656\n",
      "Step  12       Cost_L = 0.0001789\n",
      "Step  13       Cost_L = 0.0001209\n",
      "Step  14       Cost_L = 0.0000819\n",
      "Step  15       Cost_L = 0.0000556\n",
      "Step  16       Cost_L = 0.0000378\n",
      "Step  17       Cost_L = 0.0000258\n",
      "Step  18       Cost_L = 0.0000176\n",
      "Step  19       Cost_L = 0.0000120\n",
      "Step  20       Cost_L = 0.0000082\n",
      "Step  21       Cost_L = 0.0000056\n",
      "Step  22       Cost_L = 0.0000038\n",
      "Step  23       Cost_L = 0.0000026\n",
      "Step  24       Cost_L = 0.0000018\n",
      "Step  25       Cost_L = 0.0000012\n",
      "Step  26       Cost_L = 0.0000008\n",
      "Step  27       Cost_L = 0.0000006\n",
      "Step  28       Cost_L = 0.0000004\n",
      "Step  29       Cost_L = 0.0000003\n",
      "Step  30       Cost_L = 0.0000002\n",
      "Step  31       Cost_L = 0.0000001\n",
      "Step  32       Cost_L = 0.0000001\n",
      "Step  33       Cost_L = 0.0000001\n",
      "Step  34       Cost_L = 0.0000000\n",
      "Step  35       Cost_L = 0.0000000\n",
      "Step  36       Cost_L = 0.0000000\n",
      "Step  37       Cost_L = 0.0000000\n",
      "Step  38       Cost_L = 0.0000000\n",
      "Step  39       Cost_L = 0.0000000\n"
     ]
    }
   ],
   "source": [
    "cost_history = []\n",
    "for it in range(steps):\n",
    "    w, cost = opt.step_and_cost(cost_loc, w)\n",
    "    print(\"Step {:3d}       Cost_L = {:9.7f}\".format(it, cost))\n",
    "    cost_history.append(cost)"
   ]
  },
  {
   "cell_type": "code",
   "execution_count": 30,
   "id": "57b96848",
   "metadata": {},
   "outputs": [
    {
     "data": {
      "text/plain": [
       "[tensor(0.49890856, requires_grad=True),\n",
       " tensor(0.06442023, requires_grad=True),\n",
       " tensor(0.01735233, requires_grad=True),\n",
       " tensor(0.00872308, requires_grad=True),\n",
       " tensor(0.00519461, requires_grad=True),\n",
       " tensor(0.00325222, requires_grad=True),\n",
       " tensor(0.00208552, requires_grad=True),\n",
       " tensor(0.00135778, requires_grad=True),\n",
       " tensor(0.0008936, requires_grad=True),\n",
       " tensor(0.0005929, requires_grad=True),\n",
       " tensor(0.00039588, requires_grad=True),\n",
       " tensor(0.00026564, requires_grad=True),\n",
       " tensor(0.00017895, requires_grad=True),\n",
       " tensor(0.00012093, requires_grad=True),\n",
       " tensor(8.19323861e-05, requires_grad=True),\n",
       " tensor(5.56257239e-05, requires_grad=True),\n",
       " tensor(3.78294025e-05, requires_grad=True),\n",
       " tensor(2.57622493e-05, requires_grad=True),\n",
       " tensor(1.75643273e-05, requires_grad=True),\n",
       " tensor(1.19863432e-05, requires_grad=True),\n",
       " tensor(8.18616575e-06, requires_grad=True),\n",
       " tensor(5.59446548e-06, requires_grad=True),\n",
       " tensor(3.82541858e-06, requires_grad=True),\n",
       " tensor(2.61704388e-06, requires_grad=True),\n",
       " tensor(1.79116279e-06, requires_grad=True),\n",
       " tensor(1.2264305e-06, requires_grad=True),\n",
       " tensor(8.40116542e-07, requires_grad=True),\n",
       " tensor(5.75765654e-07, requires_grad=True),\n",
       " tensor(3.94823832e-07, requires_grad=True),\n",
       " tensor(2.70945738e-07, requires_grad=True),\n",
       " tensor(1.8611943e-07, requires_grad=True),\n",
       " tensor(1.28025177e-07, requires_grad=True),\n",
       " tensor(8.82336283e-08, requires_grad=True),\n",
       " tensor(6.09756254e-08, requires_grad=True),\n",
       " tensor(4.23017301e-08, requires_grad=True),\n",
       " tensor(2.95077111e-08, requires_grad=True),\n",
       " tensor(2.07416434e-08, requires_grad=True),\n",
       " tensor(1.47351086e-08, requires_grad=True),\n",
       " tensor(1.0619245e-08, requires_grad=True),\n",
       " tensor(7.79883486e-09, requires_grad=True)]"
      ]
     },
     "execution_count": 30,
     "metadata": {},
     "output_type": "execute_result"
    }
   ],
   "source": [
    "cost_history"
   ]
  },
  {
   "cell_type": "code",
   "execution_count": 31,
   "id": "6f98c594",
   "metadata": {},
   "outputs": [
    {
     "name": "stderr",
     "output_type": "stream",
     "text": [
      "C:\\Users\\moore\\AppData\\Local\\Temp\\ipykernel_27068\\1714839985.py:1: MatplotlibDeprecationWarning: The seaborn styles shipped by Matplotlib are deprecated since 3.6, as they no longer correspond to the styles shipped by seaborn. However, they will remain available as 'seaborn-v0_8-<style>'. Alternatively, directly use the seaborn API instead.\n",
      "  plt.style.use(\"seaborn\")\n"
     ]
    },
    {
     "data": {
      "image/png": "[encoded data removed]",
      "text/plain": [
       "<Figure size 800x550 with 1 Axes>"
      ]
     },
     "metadata": {},
     "output_type": "display_data"
    }
   ],
   "source": [
    "plt.style.use(\"seaborn\")\n",
    "plt.plot(cost_history, \"g\")\n",
    "plt.ylabel(\"Cost function\")\n",
    "plt.xlabel(\"Optimization steps\")\n",
    "plt.show()"
   ]
  },
  {
   "cell_type": "markdown",
   "id": "769856b6",
   "metadata": {},
   "source": [
    "#### Preparation of Quantum Solution"
   ]
  },
  {
   "cell_type": "code",
   "execution_count": 32,
   "id": "341c0087",
   "metadata": {},
   "outputs": [],
   "source": [
    "dev_x = qml.device(\"default.qubit\", wires=n_qubits, shots=n_shots)\n",
    "\n",
    "@qml.qnode(dev_x)\n",
    "def prepare_and_sample(weights):\n",
    "\n",
    "    # Variational circuit generating a guess for the solution vector |x>\n",
    "    variational_block(weights)\n",
    "\n",
    "    # We assume that the system is measured in the computational basis.\n",
    "    # then sampling the device will give us a value of 0 or 1 for each qubit (n_qubits)\n",
    "    # this will be repeated for the total number of shots provided (n_shots)\n",
    "    return qml.sample()"
   ]
  },
  {
   "cell_type": "code",
   "execution_count": 33,
   "id": "958dfdc8",
   "metadata": {},
   "outputs": [],
   "source": [
    "raw_samples = prepare_and_sample(w)\n",
    "\n",
    "# convert the raw samples (bit strings) into integers and count them\n",
    "samples = []\n",
    "for sam in raw_samples:\n",
    "    samples.append(int(\"\".join(str(bs) for bs in sam), base=2))\n",
    "\n",
    "q_probs = np.bincount(samples) / n_shots\n"
   ]
  },
  {
   "cell_type": "code",
   "execution_count": 34,
   "id": "adb4dd97",
   "metadata": {},
   "outputs": [
    {
     "name": "stdout",
     "output_type": "stream",
     "text": [
      "|<x|n>|^2=\n",
      " [0.00000e+00 2.00000e-06 8.00000e-06 1.07000e-04 1.03300e-03 1.00040e-02\n",
      " 9.46670e-02 8.94179e-01]\n"
     ]
    }
   ],
   "source": [
    "print(\"|<x|n>|^2=\\n\", q_probs)"
   ]
  },
  {
   "cell_type": "code",
   "execution_count": 35,
   "id": "f81832d6",
   "metadata": {},
   "outputs": [],
   "source": [
    "A_inv = np.linalg.inv(A)\n",
    "x = np.dot(A_inv, b)"
   ]
  },
  {
   "cell_type": "code",
   "execution_count": 36,
   "id": "11e46f9a",
   "metadata": {},
   "outputs": [
    {
     "name": "stdout",
     "output_type": "stream",
     "text": [
      "x_n^2 =\n",
      " [0.02111486 0.02111486 0.02111486 0.02111486 0.02111486 0.02111486\n",
      " 0.02111486 0.02111486 0.04138514 0.04138514 0.04138514 0.04138514\n",
      " 0.04138514 0.04138514 0.04138514 0.04138514 0.02111486 0.02111486\n",
      " 0.02111486 0.02111486 0.02111486 0.02111486 0.02111486 0.02111486\n",
      " 0.04138514 0.04138514 0.04138514 0.04138514 0.04138514 0.04138514\n",
      " 0.04138514 0.04138514]\n"
     ]
    }
   ],
   "source": [
    "c_probs = (x / np.linalg.norm(x)) ** 2\n",
    "print(\"x_n^2 =\\n\", c_probs)"
   ]
  },
  {
   "cell_type": "code",
   "execution_count": 37,
   "id": "bc2d9eab",
   "metadata": {},
   "outputs": [
    {
     "data": {
      "image/png": "[encoded data removed]",
      "text/plain": [
       "<Figure size 700x400 with 2 Axes>"
      ]
     },
     "metadata": {},
     "output_type": "display_data"
    }
   ],
   "source": [
    "fig, (ax1, ax2) = plt.subplots(1, 2, figsize=(7, 4))\n",
    "\n",
    "# ax1.bar(np.arange(0, 2 ** n_qubits), c_probs, color=\"blue\")\n",
    "# ax1.set_xlim(-0.5, 2 ** n_qubits - 0.5)\n",
    "# ax1.set_xlabel(\"Vector space basis\")\n",
    "# ax1.set_title(\"Classical probabilities\")\n",
    "\n",
    "ax2.bar(np.arange(0, 2 ** n_qubits), q_probs, color=\"green\")\n",
    "ax2.set_xlim(-0.5, 2 ** n_qubits - 0.5)\n",
    "ax2.set_xlabel(\"Hilbert space basis\")\n",
    "ax2.set_title(\"Quantum probabilities\")\n",
    "\n",
    "plt.show()"
   ]
  },
  {
   "cell_type": "code",
   "execution_count": null,
   "id": "e7abe5f7",
   "metadata": {},
   "outputs": [],
   "source": []
  }
 ],
 "metadata": {
  "kernelspec": {
   "display_name": "Python 3 (ipykernel)",
   "language": "python",
   "name": "python3"
  },
  "language_info": {
   "codemirror_mode": {
    "name": "ipython",
    "version": 3
   },
   "file_extension": ".py",
   "mimetype": "text/x-python",
   "name": "python",
   "nbconvert_exporter": "python",
   "pygments_lexer": "ipython3",
   "version": "3.9.12"
  }
 },
 "nbformat": 4,
 "nbformat_minor": 5
}
