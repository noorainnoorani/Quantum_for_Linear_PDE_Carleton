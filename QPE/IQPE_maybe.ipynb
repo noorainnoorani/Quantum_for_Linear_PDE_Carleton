{
 "cells": [
  {
   "cell_type": "code",
   "execution_count": 1,
   "id": "af533538",
   "metadata": {},
   "outputs": [],
   "source": [
    "import pennylane as qml\n",
    "from pennylane import numpy as np\n",
    "import matplotlib.pyplot as plt\n",
    "import cmath"
   ]
  },
  {
   "cell_type": "code",
   "execution_count": null,
   "id": "32117b78",
   "metadata": {},
   "outputs": [],
   "source": [
    "from qiskit import QuantumCircuit"
   ]
  },
  {
   "cell_type": "code",
   "execution_count": 4,
   "id": "dbb03057",
   "metadata": {},
   "outputs": [],
   "source": [
    "# Pauli Matries\n",
    "\n",
    "Id = np.identity(2)\n",
    "Z = np.array([[1, 0], [0, -1]])\n",
    "X = np.array([[0, 1], [1, 0]])\n",
    "Y = np.array([[0,complex(0,1)],[-complex(0,1),0]])\n",
    "\n",
    "gate_array = [Id,X,Y,Z]"
   ]
  },
  {
   "cell_type": "code",
   "execution_count": 40,
   "id": "60d7fd94",
   "metadata": {},
   "outputs": [
    {
     "name": "stdout",
     "output_type": "stream",
     "text": [
      "[[9 0 7 8]\n",
      " [8 1 1 0]\n",
      " [3 0 5 4]\n",
      " [2 0 5 8]]\n"
     ]
    }
   ],
   "source": [
    "N = 4\n",
    "\n",
    "# 1st argument --> numbers ranging from 0 to 9, \n",
    "# 2nd argument, row = 2, col = 3\n",
    "array = np.random.randint(10, size=(N, N))\n",
    "print(array)"
   ]
  },
  {
   "cell_type": "code",
   "execution_count": 49,
   "id": "6bd26491",
   "metadata": {},
   "outputs": [],
   "source": [
    "counter = 0\n",
    "i = 0\n",
    "\n",
    "combination = gate_array\n",
    "temp_array = gate_array\n",
    "\n",
    "while counter < np.log2(len(array)) - 1:\n",
    "\n",
    "    combination = np.kron(combination, gate_array)\n",
    "    \n",
    "    counter += 1"
   ]
  },
  {
   "cell_type": "code",
   "execution_count": 50,
   "id": "6b7ab1d4",
   "metadata": {},
   "outputs": [],
   "source": [
    "#combination"
   ]
  },
  {
   "cell_type": "code",
   "execution_count": 52,
   "id": "5568de7b",
   "metadata": {},
   "outputs": [],
   "source": [
    "final_array = np.zeros((len(array),len(array)), dtype=complex)\n",
    "coeff = np.zeros((len(array)**2), dtype=complex)\n",
    "\n",
    "for i in range(len(combination)):\n",
    "    coeff[i] =  1/(len(array)) * np.matrix.trace(np.matmul(array,combination[i]))\n",
    "    final_array +=  coeff[i] * combination[i]"
   ]
  },
  {
   "cell_type": "code",
   "execution_count": 53,
   "id": "4e4493fa",
   "metadata": {},
   "outputs": [
    {
     "data": {
      "text/plain": [
       "tensor([ 5.75+0.j  ,  4.25+0.j  ,  0.  +2.25j,  1.25+0.j  ,  2.5 +0.j  ,\n",
       "         2.75+0.j  ,  0.  -1.25j,  2.5 +0.j  ,  0.  -1.j  ,  0.  -1.75j,\n",
       "        -2.25+0.j  ,  0.  -1.j  , -0.75+0.j  , -0.25+0.j  ,  0.  +1.75j,\n",
       "         2.75+0.j  ], requires_grad=True)"
      ]
     },
     "execution_count": 53,
     "metadata": {},
     "output_type": "execute_result"
    }
   ],
   "source": [
    "coeff"
   ]
  },
  {
   "cell_type": "code",
   "execution_count": 54,
   "id": "5c928bdd",
   "metadata": {},
   "outputs": [
    {
     "data": {
      "text/plain": [
       "tensor([[ True,  True,  True,  True],\n",
       "        [ True,  True,  True,  True],\n",
       "        [ True,  True,  True,  True],\n",
       "        [ True,  True,  True,  True]], requires_grad=True)"
      ]
     },
     "execution_count": 54,
     "metadata": {},
     "output_type": "execute_result"
    }
   ],
   "source": [
    "final_array == array"
   ]
  },
  {
   "cell_type": "markdown",
   "id": "6c140b5e",
   "metadata": {},
   "source": [
    "$$A_1 = \\sum^{A_{1_j}}$$\n",
    "\n",
    "\\begin{align*}\n",
    "        A |\\Psi\\rangle    &= \\lambda |\\Psi\\rangle\\\\\n",
    "        (\\hat{c}_1 A_1 + \\hat{c}_2 A_2 + ... + \\hat{c}_n A_n) |\\Psi\\rangle    &= (\\lambda_1 + \\lambda_2 + \\lambda_n) |\\Psi\\rangle\\\\\n",
    "        \\hat{c}_1 A_1 (d_1 V_1 + d_2 V_2 + ... + d_n V_n)   &= (\\lambda_1 + \\lambda_2 + ... + \\lambda_n) |\\Psi\\rangle\\\\\n",
    "        \\sum c_1 A_1 |\\Psi\\rangle_n &= \\sum \\lambda_n |\\Psi\\rangle_n \\\\\n",
    "\\end{align*}"
   ]
  },
  {
   "cell_type": "markdown",
   "id": "50983241",
   "metadata": {},
   "source": [
    "$$A |\\Psi\\rangle = \\lambda |\\Psi\\rangle$$\n",
    "$$(A - I \\lambda)|\\Psi\\rangle = 0$$\n",
    "\n",
    "Find "
   ]
  },
  {
   "cell_type": "code",
   "execution_count": 64,
   "id": "6e4577ae",
   "metadata": {},
   "outputs": [],
   "source": [
    "from qiskit import QuantumCircuit, QuantumRegister, ClassicalRegister\n",
    "from math import pi\n",
    "\n",
    "import matplotlib.pyplot as plt\n",
    "\n",
    "from qiskit.tools.visualization import plot_histogram\n",
    "from qiskit_aer.primitives import Sampler"
   ]
  },
  {
   "cell_type": "markdown",
   "id": "ace94368",
   "metadata": {},
   "source": [
    "Want to solve for $c_1$ with $A_1$:"
   ]
  },
  {
   "cell_type": "code",
   "execution_count": 65,
   "id": "6548b6aa",
   "metadata": {},
   "outputs": [
    {
     "name": "stdout",
     "output_type": "stream",
     "text": [
      "(5.75+0j) \n",
      "\n",
      "[[1.+0.j 0.+0.j 0.+0.j 0.+0.j]\n",
      " [0.+0.j 1.+0.j 0.+0.j 0.+0.j]\n",
      " [0.+0.j 0.+0.j 1.+0.j 0.+0.j]\n",
      " [0.+0.j 0.+0.j 0.+0.j 1.+0.j]]\n"
     ]
    }
   ],
   "source": [
    "# First Coefficient and Unitary matrix\n",
    "\n",
    "coeff_1 = coeff[0]\n",
    "A_1 = combination[0]\n",
    "\n",
    "print(coeff_1, \"\\n\")\n",
    "print(A_1)"
   ]
  },
  {
   "cell_type": "code",
   "execution_count": 67,
   "id": "b2280da9",
   "metadata": {},
   "outputs": [
    {
     "data": {
      "text/plain": [
       "tensor([[ True,  True,  True,  True],\n",
       "        [ True,  True,  True,  True],\n",
       "        [ True,  True,  True,  True],\n",
       "        [ True,  True,  True,  True]], requires_grad=True)"
      ]
     },
     "execution_count": 67,
     "metadata": {},
     "output_type": "execute_result"
    }
   ],
   "source": [
    "# Unitary Test\n",
    "\n",
    "A_1_daggar = A_1.dot(A_1.conj().T)\n",
    "\n",
    "A_1 == A_1_daggar"
   ]
  },
  {
   "cell_type": "code",
   "execution_count": 47,
   "id": "891c5e6f",
   "metadata": {},
   "outputs": [],
   "source": [
    "nq = 3    # number of qubits\n",
    "m = 3    # number of classical bits\n",
    "q = QuantumRegister(nq,'q')\n",
    "c = ClassicalRegister(m,'c')\n",
    "\n",
    "qc = QuantumCircuit(q,c)"
   ]
  },
  {
   "cell_type": "code",
   "execution_count": null,
   "id": "13ffb1e3",
   "metadata": {},
   "outputs": [],
   "source": []
  }
 ],
 "metadata": {
  "kernelspec": {
   "display_name": "Python 3 (ipykernel)",
   "language": "python",
   "name": "python3"
  },
  "language_info": {
   "codemirror_mode": {
    "name": "ipython",
    "version": 3
   },
   "file_extension": ".py",
   "mimetype": "text/x-python",
   "name": "python",
   "nbconvert_exporter": "python",
   "pygments_lexer": "ipython3",
   "version": "3.9.12"
  }
 },
 "nbformat": 4,
 "nbformat_minor": 5
}
