{
 "cells": [
  {
   "cell_type": "markdown",
   "metadata": {
    "colab_type": "text",
    "id": "xIK-CmwU6pQY"
   },
   "source": [
    "**Ramin Fakhimi** \\\\\n",
    "PhD student at ISE department of Lehigh University\n"
   ]
  },
  {
   "cell_type": "code",
   "execution_count": 22,
   "metadata": {
    "colab": {},
    "colab_type": "code",
    "id": "IPvetvuIRYKP"
   },
   "outputs": [],
   "source": [
    "# Install qiskit package\n",
    "!pip install qiskit\n",
    "\n",
    "from IPython.display import clear_output\n",
    "clear_output()"
   ]
  },
  {
   "cell_type": "markdown",
   "metadata": {
    "colab_type": "text",
    "id": "ZrZsCRJM7Euw"
   },
   "source": [
    "This is an implementation of HHL algorithm for solving 4 by 4 linear systems. \n",
    "\n",
    "\n",
    "The quantum circuit is proposed by Cao et. al. \\\\\n",
    "https://arxiv.org/pdf/1110.2232v2.pdf"
   ]
  },
  {
   "cell_type": "code",
   "execution_count": 1,
   "metadata": {
    "colab": {
     "base_uri": "https://localhost:8080/",
     "height": 119
    },
    "colab_type": "code",
    "id": "bmoZ68C5Rp2I",
    "outputId": "b8773a54-4475-48eb-ad2e-091aababa08b"
   },
   "outputs": [],
   "source": [
    "# Import libraries\n",
    "from qiskit import *\n",
    "from qiskit.quantum_info.operators import Operator\n",
    "from qiskit.extensions import *\n",
    "from qiskit.visualization import plot_histogram\n",
    "from qiskit.circuit.library import SwapGate, RYGate, QFT\n",
    "\n",
    "import numpy as np\n",
    "from numpy import linalg as LA\n",
    "\n",
    "from copy import deepcopy\n",
    "\n",
    "# %matplotlib inline\n",
    "# qiskit.__qiskit_version__"
   ]
  },
  {
   "cell_type": "code",
   "execution_count": 2,
   "metadata": {
    "colab": {
     "base_uri": "https://localhost:8080/",
     "height": 34
    },
    "colab_type": "code",
    "id": "Yfu-xDwgp5Ht",
    "outputId": "331616d7-7e74-413a-b978-8b2ebe9c9fe7"
   },
   "outputs": [
    {
     "name": "stdout",
     "output_type": "stream",
     "text": [
      "Please define the problem.\n"
     ]
    }
   ],
   "source": [
    "# Check the hermitian matrix\n",
    "def check_hermitian(mat):\n",
    "  if np.allclose(mat, mat.T.conjugate(), rtol=1e-05, atol=1e-08):\n",
    "    print(\"Please set the parameters!\")\n",
    "  else:\n",
    "    print(\"Sorry! The input matrix should be Hermitian.\")\n",
    "\n",
    "print(\"Please define the problem.\")"
   ]
  },
  {
   "cell_type": "code",
   "execution_count": 3,
   "metadata": {
    "colab": {
     "base_uri": "https://localhost:8080/",
     "height": 34
    },
    "colab_type": "code",
    "id": "LHvo8FF8pmtW",
    "outputId": "e49bf3d0-f0b5-4885-9452-3f66363d0fc9"
   },
   "outputs": [
    {
     "name": "stdout",
     "output_type": "stream",
     "text": [
      "Please set the parameters!\n"
     ]
    }
   ],
   "source": [
    "# Define linear system\n",
    "# A = 0.25*np.array([[15.,9,5,-3],[9,15,3,-5],[5.,3,15,-9],[-3.,-5,-9,15]])\n",
    "# b = 0.5*np.array([1,1,1,1]).T\n",
    "\n",
    "A = np.array([[1, 4], [4, 1]])\n",
    "b = np.array([2, 3])\n",
    "\n",
    "# Normalize vector b\n",
    "norm_b = LA.norm(b)\n",
    "A = A / norm_b\n",
    "b = b / norm_b\n",
    "\n",
    "# Exact solution \n",
    "csol = LA.solve(A,b)\n",
    "check_hermitian(A) "
   ]
  },
  {
   "cell_type": "code",
   "execution_count": 4,
   "metadata": {
    "colab": {
     "base_uri": "https://localhost:8080/",
     "height": 34
    },
    "colab_type": "code",
    "id": "BM4XtDSUXYGa",
    "outputId": "7ac34134-a54b-4087-d406-c4ecead8f791"
   },
   "outputs": [
    {
     "data": {
      "text/plain": [
       "array([ 1.38675049, -0.83205029])"
      ]
     },
     "execution_count": 4,
     "metadata": {},
     "output_type": "execute_result"
    }
   ],
   "source": [
    "LA.cond(A)\n",
    "LA.eigvals(A)"
   ]
  },
  {
   "cell_type": "code",
   "execution_count": 5,
   "metadata": {
    "colab": {
     "base_uri": "https://localhost:8080/",
     "height": 34
    },
    "colab_type": "code",
    "id": "G_JJlQRzTlbK",
    "outputId": "e1b1922d-c543-4fe6-fb34-192d2c9f8766"
   },
   "outputs": [
    {
     "name": "stdout",
     "output_type": "stream",
     "text": [
      "Please run the quantum circuit function.\n"
     ]
    }
   ],
   "source": [
    "# Parameters\n",
    "c_num = 4\n",
    "b_num = int(np.log2(len(b)))\n",
    "\n",
    "t = 2*np.pi               # hamiltonain param\n",
    "r = 5                     # rotation param better to set to 5\n",
    "\n",
    "shots = 100000             # total number of running the circuit\n",
    "print(\"Please run the quantum circuit function.\")"
   ]
  },
  {
   "cell_type": "code",
   "execution_count": 6,
   "metadata": {
    "colab": {
     "base_uri": "https://localhost:8080/",
     "height": 34
    },
    "colab_type": "code",
    "id": "fWlE2DynsgRD",
    "outputId": "71cb7747-e111-488c-c596-c19ead3b1ff5"
   },
   "outputs": [
    {
     "name": "stdout",
     "output_type": "stream",
     "text": [
      "Please define the quantum solution extraction function.\n"
     ]
    }
   ],
   "source": [
    "#================== Quantum circuit ==================\n",
    "\n",
    "def run_quantum_circuit(r,t):\n",
    "  # Qubits\n",
    "  ancilla_qbit = QuantumRegister(1,'ancilla')\n",
    "  c_qreg = QuantumRegister(c_num,name='regC')\n",
    "  b_qreg = QuantumRegister(b_num,name='regb')\n",
    "\n",
    "  # Classical bits\n",
    "  ancilla_cbit = ClassicalRegister(1,name='ancilla\\_c')\n",
    "  b_creg = ClassicalRegister(b_num,name='regb\\_c')\n",
    "\n",
    "  # Create an empty circuit\n",
    "  circ = QuantumCircuit(ancilla_qbit, c_qreg, b_qreg, ancilla_cbit, b_creg)\n",
    "\n",
    "\n",
    "  # Intitialize state b\n",
    "  init = Initialize(list(b))\n",
    "  circ.append(init,b_qreg)\n",
    "  circ.draw()\n",
    "\n",
    "  # Apply Hadamard on register C\n",
    "  circ.h(c_qreg)\n",
    "\n",
    "  # Apply controlled-Hamiltonian operators on register b\n",
    "  for i in range(c_num):\n",
    "    time = t/(2**(c_num-i))\n",
    "    U = HamiltonianGate(A, time)\n",
    "    G = U.control(1)\n",
    "    qubit = [i+1]+[c_num+j+1 for j in range(b_num)]\n",
    "    circ.append(G,qubit)\n",
    "\n",
    "  # Apply inverse quantum Fourier Transform\n",
    "  iqft = QFT(c_num,approximation_degree=0, do_swaps=True, inverse=True,name='IQFT')\n",
    "  circ.append(iqft,c_qreg)\n",
    "\n",
    "  # Swap the qubits in register C\n",
    "  G = SwapGate()\n",
    "  circ.append(G,[c_qreg[1],c_qreg[c_num-1]])\n",
    "\n",
    "  # Apply y rotations on Ancilla qubit\n",
    "  for i in range(c_num):\n",
    "    theta = (2**(c_num - r - i)) *np.pi\n",
    "    U = RYGate(theta).control(1)\n",
    "    circ.append(U,[i+1,0])\n",
    "\n",
    "  # ================ Uncompute the circuit ================\n",
    "\n",
    "  # Swap the qubits in register C\n",
    "  G = SwapGate()\n",
    "  circ.append(G,[c_qreg[1],c_qreg[c_num-1]])\n",
    "\n",
    "  # Apply quantum Fourier Transform\n",
    "  qft = QFT(c_num,approximation_degree=0, do_swaps=True, inverse=False, name='QFT')\n",
    "  circ.append(qft,c_qreg)\n",
    "\n",
    "\n",
    "  # Apply inverse controlled-Hamiltonian operators on register b\n",
    "  for i in range(c_num-1,-1,-1):\n",
    "    time = t/(2**(c_num-i))\n",
    "    U = HamiltonianGate(-A, time)\n",
    "    G = U.control(1)\n",
    "    qubit = [i+1]+[c_num+j+1 for j in range(b_num)]\n",
    "    circ.append(G,qubit)\n",
    "\n",
    "\n",
    "  # Apply Hadamard on register C\n",
    "  circ.h(c_qreg)\n",
    "\n",
    "  # Measure the qubits\n",
    "  circ.measure(ancilla_qbit,ancilla_cbit)\n",
    "  circ.measure(b_qreg,b_creg)\n",
    "\n",
    "  # Run on local simulator\n",
    "  backend = Aer.get_backend(\"qasm_simulator\")\n",
    "\n",
    "  simulate = execute(circ, backend=backend, shots=shots)\n",
    "  results = simulate.result()\n",
    "\n",
    "  return (results.get_counts(), circ)\n",
    "  \n",
    "print(\"Please define the quantum solution extraction function.\")"
   ]
  },
  {
   "cell_type": "code",
   "execution_count": 7,
   "metadata": {
    "colab": {
     "base_uri": "https://localhost:8080/",
     "height": 34
    },
    "colab_type": "code",
    "id": "NN4ceauepATT",
    "outputId": "c4060114-fd20-4663-e15f-2abd3974a005"
   },
   "outputs": [
    {
     "name": "stdout",
     "output_type": "stream",
     "text": [
      "Please run the quantum solver.\n"
     ]
    }
   ],
   "source": [
    "# Extract approximate solution of the quantum linear solver\n",
    "def approximate_quantum_sol(sol,b_num):\n",
    "  num = 0\n",
    "  app_sol = np.zeros(2**(b_num))\n",
    "\n",
    "  for key, value in sol.items(): \n",
    "    if key[-1] == '1':\n",
    "      num += value \n",
    "      cord = int(key[:b_num],base=2)\n",
    "      app_sol[cord] = value\n",
    "  \n",
    "  app_sol = 1/num *app_sol\n",
    "  return app_sol\n",
    "\n",
    "print(\"Please run the quantum solver.\")\n"
   ]
  },
  {
   "cell_type": "code",
   "execution_count": 8,
   "metadata": {
    "colab": {
     "base_uri": "https://localhost:8080/",
     "height": 500
    },
    "colab_type": "code",
    "id": "meTXKnrec1g_",
    "outputId": "fa70a72d-28b0-4f7f-8dfc-ef397309c268"
   },
   "outputs": [
    {
     "name": "stdout",
     "output_type": "stream",
     "text": [
      "============================== Final results ==============================\n",
      "\n",
      "Exact solution =  [0.66666667 0.33333333]\n",
      "Quantum solver solution =  [0.30305581 0.69694419]\n",
      "Norm of difference =  0.5142234009942074 \n",
      "\n"
     ]
    },
    {
     "data": {
      "image/png": "[encoded data removed]",
      "text/plain": [
       "<Figure size 576x432 with 1 Axes>"
      ]
     },
     "execution_count": 8,
     "metadata": {},
     "output_type": "execute_result"
    }
   ],
   "source": [
    "# Do the experiment\n",
    "result, circ = run_quantum_circuit(r = 6, t = 3*np.pi)\n",
    "qsol = approximate_quantum_sol(result,b_num)\n",
    "\n",
    "print(\"============================== Final results ==============================\\n\")\n",
    "print ('Exact solution = ', csol)\n",
    "print('Quantum solver solution = ', qsol)\n",
    "print('Norm of difference = ', LA.norm(qsol- csol),'\\n')\n",
    "\n",
    "plot_histogram(result,figsize = (8,6),bar_labels = True)"
   ]
  },
  {
   "cell_type": "code",
   "execution_count": 9,
   "metadata": {
    "colab": {
     "base_uri": "https://localhost:8080/",
     "height": 1000
    },
    "colab_type": "code",
    "id": "X44zXs0JvBy5",
    "outputId": "8c58dea0-025a-49e7-a0c3-ad7f957ea888"
   },
   "outputs": [
    {
     "name": "stdout",
     "output_type": "stream",
     "text": [
      "============================== Circuit structure ============================== \n",
      "\n"
     ]
    },
    {
     "data": {
      "text/html": [
       "<pre style=\"word-wrap: normal;white-space: pre;background: #fff0;line-height: 1.1;font-family: &quot;Courier New&quot;,Courier,monospace\">                                                                          »\n",
       "     ancilla: ────────────────────────────────────────────────────────────»\n",
       "                          ┌───┐                                           »\n",
       "      regC_0: ────────────┤ H ├────────────────────■──────────────────────»\n",
       "                          ├───┤                    │                      »\n",
       "      regC_1: ────────────┤ H ├────────────────────┼──────────────■───────»\n",
       "                          ├───┤                    │              │       »\n",
       "      regC_2: ────────────┤ H ├────────────────────┼──────────────┼───────»\n",
       "                          ├───┤                    │              │       »\n",
       "      regC_3: ────────────┤ H ├────────────────────┼──────────────┼───────»\n",
       "              ┌───────────┴───┴────────────┐┌──────┴──────┐┌──────┴──────┐»\n",
       "        regb: ┤ Initialize(0.5547,0.83205) ├┤ Hamiltonian ├┤ Hamiltonian ├»\n",
       "              └────────────────────────────┘└─────────────┘└─────────────┘»\n",
       "ancilla\\_c: 1/════════════════════════════════════════════════════════════»\n",
       "                                                                          »\n",
       "   regb\\_c: 1/════════════════════════════════════════════════════════════»\n",
       "                                                                          »\n",
       "«                                                     ┌─────────┐┌─────────┐»\n",
       "«     ancilla: ───────────────────────────────────────┤ Ry(π/4) ├┤ Ry(π/8) ├»\n",
       "«                                            ┌───────┐└────┬────┘└────┬────┘»\n",
       "«      regC_0: ──────────────────────────────┤0      ├─────■──────────┼─────»\n",
       "«                                            │       │                │     »\n",
       "«      regC_1: ──────────────────────────────┤1      ├─────X──────────■─────»\n",
       "«                                            │  IQFT │     │                »\n",
       "«      regC_2: ───────■──────────────────────┤2      ├─────┼────────────────»\n",
       "«                     │                      │       │     │                »\n",
       "«      regC_3: ───────┼──────────────■───────┤3      ├─────X────────────────»\n",
       "«              ┌──────┴──────┐┌──────┴──────┐└───────┘                      »\n",
       "«        regb: ┤ Hamiltonian ├┤ Hamiltonian ├───────────────────────────────»\n",
       "«              └─────────────┘└─────────────┘                               »\n",
       "«ancilla\\_c: 1/═════════════════════════════════════════════════════════════»\n",
       "«                                                                           »\n",
       "«   regb\\_c: 1/═════════════════════════════════════════════════════════════»\n",
       "«                                                                           »\n",
       "«              ┌──────────┐┌──────────┐   ┌─┐                       »\n",
       "«     ancilla: ┤ Ry(π/16) ├┤ Ry(π/32) ├───┤M├───────────────────────»\n",
       "«              └────┬─────┘└────┬─────┘   └╥┘┌──────┐               »\n",
       "«      regC_0: ─────┼───────────┼──────────╫─┤0     ├───────────────»\n",
       "«                   │           │          ║ │      │               »\n",
       "«      regC_1: ─────┼───────────┼───────X──╫─┤1     ├───────────────»\n",
       "«                   │           │       │  ║ │  QFT │               »\n",
       "«      regC_2: ─────■───────────┼───────┼──╫─┤2     ├───────────────»\n",
       "«                               │       │  ║ │      │               »\n",
       "«      regC_3: ─────────────────■───────X──╫─┤3     ├───────■───────»\n",
       "«                                          ║ └──────┘┌──────┴──────┐»\n",
       "«        regb: ────────────────────────────╫─────────┤ Hamiltonian ├»\n",
       "«                                          ║         └─────────────┘»\n",
       "«ancilla\\_c: 1/════════════════════════════╩════════════════════════»\n",
       "«                                          0                        »\n",
       "«   regb\\_c: 1/═════════════════════════════════════════════════════»\n",
       "«                                                                   »\n",
       "«                                                                     \n",
       "«     ancilla: ───────────────────────────────────────────────────────\n",
       "«                                                                ┌───┐\n",
       "«      regC_0: ──────────────────────────────────────────■───────┤ H ├\n",
       "«                                                        │       ├───┤\n",
       "«      regC_1: ───────────────────────────■──────────────┼───────┤ H ├\n",
       "«                             ┌───┐       │              │       └───┘\n",
       "«      regC_2: ───────■───────┤ H ├───────┼──────────────┼────────────\n",
       "«                     │       ├───┤       │              │            \n",
       "«      regC_3: ───────┼───────┤ H ├───────┼──────────────┼────────────\n",
       "«              ┌──────┴──────┐└───┘┌──────┴──────┐┌──────┴──────┐ ┌─┐ \n",
       "«        regb: ┤ Hamiltonian ├─────┤ Hamiltonian ├┤ Hamiltonian ├─┤M├─\n",
       "«              └─────────────┘     └─────────────┘└─────────────┘ └╥┘ \n",
       "«ancilla\\_c: 1/════════════════════════════════════════════════════╬══\n",
       "«                                                                  ║  \n",
       "«   regb\\_c: 1/════════════════════════════════════════════════════╩══\n",
       "«                                                                  0  </pre>"
      ],
      "text/plain": [
       "                                                                          »\n",
       "     ancilla: ────────────────────────────────────────────────────────────»\n",
       "                          ┌───┐                                           »\n",
       "      regC_0: ────────────┤ H ├────────────────────■──────────────────────»\n",
       "                          ├───┤                    │                      »\n",
       "      regC_1: ────────────┤ H ├────────────────────┼──────────────■───────»\n",
       "                          ├───┤                    │              │       »\n",
       "      regC_2: ────────────┤ H ├────────────────────┼──────────────┼───────»\n",
       "                          ├───┤                    │              │       »\n",
       "      regC_3: ────────────┤ H ├────────────────────┼──────────────┼───────»\n",
       "              ┌───────────┴───┴────────────┐┌──────┴──────┐┌──────┴──────┐»\n",
       "        regb: ┤ Initialize(0.5547,0.83205) ├┤ Hamiltonian ├┤ Hamiltonian ├»\n",
       "              └────────────────────────────┘└─────────────┘└─────────────┘»\n",
       "ancilla\\_c: 1/════════════════════════════════════════════════════════════»\n",
       "                                                                          »\n",
       "   regb\\_c: 1/════════════════════════════════════════════════════════════»\n",
       "                                                                          »\n",
       "«                                                     ┌─────────┐┌─────────┐»\n",
       "«     ancilla: ───────────────────────────────────────┤ Ry(π/4) ├┤ Ry(π/8) ├»\n",
       "«                                            ┌───────┐└────┬────┘└────┬────┘»\n",
       "«      regC_0: ──────────────────────────────┤0      ├─────■──────────┼─────»\n",
       "«                                            │       │                │     »\n",
       "«      regC_1: ──────────────────────────────┤1      ├─────X──────────■─────»\n",
       "«                                            │  IQFT │     │                »\n",
       "«      regC_2: ───────■──────────────────────┤2      ├─────┼────────────────»\n",
       "«                     │                      │       │     │                »\n",
       "«      regC_3: ───────┼──────────────■───────┤3      ├─────X────────────────»\n",
       "«              ┌──────┴──────┐┌──────┴──────┐└───────┘                      »\n",
       "«        regb: ┤ Hamiltonian ├┤ Hamiltonian ├───────────────────────────────»\n",
       "«              └─────────────┘└─────────────┘                               »\n",
       "«ancilla\\_c: 1/═════════════════════════════════════════════════════════════»\n",
       "«                                                                           »\n",
       "«   regb\\_c: 1/═════════════════════════════════════════════════════════════»\n",
       "«                                                                           »\n",
       "«              ┌──────────┐┌──────────┐   ┌─┐                       »\n",
       "«     ancilla: ┤ Ry(π/16) ├┤ Ry(π/32) ├───┤M├───────────────────────»\n",
       "«              └────┬─────┘└────┬─────┘   └╥┘┌──────┐               »\n",
       "«      regC_0: ─────┼───────────┼──────────╫─┤0     ├───────────────»\n",
       "«                   │           │          ║ │      │               »\n",
       "«      regC_1: ─────┼───────────┼───────X──╫─┤1     ├───────────────»\n",
       "«                   │           │       │  ║ │  QFT │               »\n",
       "«      regC_2: ─────■───────────┼───────┼──╫─┤2     ├───────────────»\n",
       "«                               │       │  ║ │      │               »\n",
       "«      regC_3: ─────────────────■───────X──╫─┤3     ├───────■───────»\n",
       "«                                          ║ └──────┘┌──────┴──────┐»\n",
       "«        regb: ────────────────────────────╫─────────┤ Hamiltonian ├»\n",
       "«                                          ║         └─────────────┘»\n",
       "«ancilla\\_c: 1/════════════════════════════╩════════════════════════»\n",
       "«                                          0                        »\n",
       "«   regb\\_c: 1/═════════════════════════════════════════════════════»\n",
       "«                                                                   »\n",
       "«                                                                     \n",
       "«     ancilla: ───────────────────────────────────────────────────────\n",
       "«                                                                ┌───┐\n",
       "«      regC_0: ──────────────────────────────────────────■───────┤ H ├\n",
       "«                                                        │       ├───┤\n",
       "«      regC_1: ───────────────────────────■──────────────┼───────┤ H ├\n",
       "«                             ┌───┐       │              │       └───┘\n",
       "«      regC_2: ───────■───────┤ H ├───────┼──────────────┼────────────\n",
       "«                     │       ├───┤       │              │            \n",
       "«      regC_3: ───────┼───────┤ H ├───────┼──────────────┼────────────\n",
       "«              ┌──────┴──────┐└───┘┌──────┴──────┐┌──────┴──────┐ ┌─┐ \n",
       "«        regb: ┤ Hamiltonian ├─────┤ Hamiltonian ├┤ Hamiltonian ├─┤M├─\n",
       "«              └─────────────┘     └─────────────┘└─────────────┘ └╥┘ \n",
       "«ancilla\\_c: 1/════════════════════════════════════════════════════╬══\n",
       "«                                                                  ║  \n",
       "«   regb\\_c: 1/════════════════════════════════════════════════════╩══\n",
       "«                                                                  0  "
      ]
     },
     "execution_count": 9,
     "metadata": {},
     "output_type": "execute_result"
    }
   ],
   "source": [
    "# Draw the quantum circuit\n",
    "print(\"============================== Circuit structure ============================== \\n\")\n",
    "circ.draw()"
   ]
  }
 ],
 "metadata": {
  "colab": {
   "collapsed_sections": [],
   "name": "quantum_linear_solver.ipynb",
   "provenance": []
  },
  "kernelspec": {
   "display_name": "Python 3 (ipykernel)",
   "language": "python",
   "name": "python3"
  },
  "language_info": {
   "codemirror_mode": {
    "name": "ipython",
    "version": 3
   },
   "file_extension": ".py",
   "mimetype": "text/x-python",
   "name": "python",
   "nbconvert_exporter": "python",
   "pygments_lexer": "ipython3",
   "version": "3.9.12"
  }
 },
 "nbformat": 4,
 "nbformat_minor": 1
}
