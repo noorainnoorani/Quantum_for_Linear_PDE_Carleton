{
 "cells": [
  {
   "cell_type": "markdown",
   "metadata": {},
   "source": [
    "Paper Source\n",
    "\n",
    "\"Step-by-Step HHL Algorithm Walkthrough to Enhance the Understanding of Critical Quantum Computing Concepts\"\n",
    "\n",
    "https://arxiv.org/abs/2108.09004\n",
    "\n",
    "<b>To cite</b>\n",
    "\n",
    "Hector Morrell and Hiu Yung Wong, \"Step-by-Step HHL Algorithm Walkthrough to Enhance the Understanding of Critical Quantum Computing Concepts\", arXiv preprint arXiv:2108.09004\n"
   ]
  },
  {
   "cell_type": "code",
   "execution_count": 1,
   "metadata": {
    "colab": {
     "base_uri": "https://localhost:8080/"
    },
    "id": "TM2UtFxQ2SOb",
    "outputId": "87fbe2e0-11aa-48b1-a98f-50a31b934529"
   },
   "outputs": [
    {
     "name": "stdout",
     "output_type": "stream",
     "text": [
      "Requirement already satisfied: qiskit[visualization] in c:\\users\\zndre\\anaconda3\\lib\\site-packages (0.38.0)\n",
      "Requirement already satisfied: qiskit-terra==0.21.2 in c:\\users\\zndre\\anaconda3\\lib\\site-packages (from qiskit[visualization]) (0.21.2)\n",
      "Requirement already satisfied: qiskit-ibmq-provider==0.19.2 in c:\\users\\zndre\\anaconda3\\lib\\site-packages (from qiskit[visualization]) (0.19.2)\n",
      "Requirement already satisfied: qiskit-aer==0.11.0 in c:\\users\\zndre\\anaconda3\\lib\\site-packages (from qiskit[visualization]) (0.11.0)\n",
      "Requirement already satisfied: pygments>=2.4 in c:\\users\\zndre\\anaconda3\\lib\\site-packages (from qiskit[visualization]) (2.11.2)\n",
      "Requirement already satisfied: pillow>=4.2.1 in c:\\users\\zndre\\anaconda3\\lib\\site-packages (from qiskit[visualization]) (9.0.1)\n",
      "Requirement already satisfied: pylatexenc>=1.4 in c:\\users\\zndre\\anaconda3\\lib\\site-packages (from qiskit[visualization]) (2.10)\n",
      "Requirement already satisfied: matplotlib>=2.1 in c:\\users\\zndre\\anaconda3\\lib\\site-packages (from qiskit[visualization]) (3.5.1)\n",
      "Requirement already satisfied: ipywidgets>=7.3.0 in c:\\users\\zndre\\anaconda3\\lib\\site-packages (from qiskit[visualization]) (7.6.5)\n",
      "Requirement already satisfied: seaborn>=0.9.0 in c:\\users\\zndre\\anaconda3\\lib\\site-packages (from qiskit[visualization]) (0.11.2)\n",
      "Requirement already satisfied: pydot in c:\\users\\zndre\\anaconda3\\lib\\site-packages (from qiskit[visualization]) (1.4.2)\n",
      "Requirement already satisfied: numpy>=1.16.3 in c:\\users\\zndre\\anaconda3\\lib\\site-packages (from qiskit-aer==0.11.0->qiskit[visualization]) (1.21.5)\n",
      "Requirement already satisfied: scipy>=1.0 in c:\\users\\zndre\\anaconda3\\lib\\site-packages (from qiskit-aer==0.11.0->qiskit[visualization]) (1.7.3)\n",
      "Requirement already satisfied: requests>=2.19 in c:\\users\\zndre\\anaconda3\\lib\\site-packages (from qiskit-ibmq-provider==0.19.2->qiskit[visualization]) (2.27.1)\n",
      "Requirement already satisfied: python-dateutil>=2.8.0 in c:\\users\\zndre\\anaconda3\\lib\\site-packages (from qiskit-ibmq-provider==0.19.2->qiskit[visualization]) (2.8.2)\n",
      "Requirement already satisfied: websocket-client>=1.0.1 in c:\\users\\zndre\\anaconda3\\lib\\site-packages (from qiskit-ibmq-provider==0.19.2->qiskit[visualization]) (1.4.1)\n",
      "Requirement already satisfied: websockets>=10.0 in c:\\users\\zndre\\anaconda3\\lib\\site-packages (from qiskit-ibmq-provider==0.19.2->qiskit[visualization]) (10.3)\n",
      "Requirement already satisfied: urllib3>=1.21.1 in c:\\users\\zndre\\anaconda3\\lib\\site-packages (from qiskit-ibmq-provider==0.19.2->qiskit[visualization]) (1.26.9)\n",
      "Requirement already satisfied: requests-ntlm>=1.1.0 in c:\\users\\zndre\\anaconda3\\lib\\site-packages (from qiskit-ibmq-provider==0.19.2->qiskit[visualization]) (1.1.0)\n",
      "Requirement already satisfied: retworkx>=0.11.0 in c:\\users\\zndre\\anaconda3\\lib\\site-packages (from qiskit-terra==0.21.2->qiskit[visualization]) (0.11.0)\n",
      "Requirement already satisfied: dill>=0.3 in c:\\users\\zndre\\anaconda3\\lib\\site-packages (from qiskit-terra==0.21.2->qiskit[visualization]) (0.3.5.1)\n",
      "Requirement already satisfied: sympy>=1.3 in c:\\users\\zndre\\anaconda3\\lib\\site-packages (from qiskit-terra==0.21.2->qiskit[visualization]) (1.10.1)\n",
      "Requirement already satisfied: ply>=3.10 in c:\\users\\zndre\\anaconda3\\lib\\site-packages (from qiskit-terra==0.21.2->qiskit[visualization]) (3.11)\n",
      "Requirement already satisfied: stevedore>=3.0.0 in c:\\users\\zndre\\anaconda3\\lib\\site-packages (from qiskit-terra==0.21.2->qiskit[visualization]) (4.0.0)\n",
      "Requirement already satisfied: tweedledum<2.0,>=1.1 in c:\\users\\zndre\\anaconda3\\lib\\site-packages (from qiskit-terra==0.21.2->qiskit[visualization]) (1.1.1)\n",
      "Requirement already satisfied: psutil>=5 in c:\\users\\zndre\\anaconda3\\lib\\site-packages (from qiskit-terra==0.21.2->qiskit[visualization]) (5.8.0)\n",
      "Requirement already satisfied: ipython-genutils~=0.2.0 in c:\\users\\zndre\\anaconda3\\lib\\site-packages (from ipywidgets>=7.3.0->qiskit[visualization]) (0.2.0)\n",
      "Requirement already satisfied: widgetsnbextension~=3.5.0 in c:\\users\\zndre\\anaconda3\\lib\\site-packages (from ipywidgets>=7.3.0->qiskit[visualization]) (3.5.2)\n",
      "Requirement already satisfied: jupyterlab-widgets>=1.0.0 in c:\\users\\zndre\\anaconda3\\lib\\site-packages (from ipywidgets>=7.3.0->qiskit[visualization]) (1.0.0)\n",
      "Requirement already satisfied: nbformat>=4.2.0 in c:\\users\\zndre\\anaconda3\\lib\\site-packages (from ipywidgets>=7.3.0->qiskit[visualization]) (5.3.0)\n",
      "Requirement already satisfied: traitlets>=4.3.1 in c:\\users\\zndre\\anaconda3\\lib\\site-packages (from ipywidgets>=7.3.0->qiskit[visualization]) (5.1.1)\n",
      "Requirement already satisfied: ipykernel>=4.5.1 in c:\\users\\zndre\\anaconda3\\lib\\site-packages (from ipywidgets>=7.3.0->qiskit[visualization]) (6.9.1)\n",
      "Requirement already satisfied: ipython>=4.0.0 in c:\\users\\zndre\\anaconda3\\lib\\site-packages (from ipywidgets>=7.3.0->qiskit[visualization]) (8.2.0)\n",
      "Requirement already satisfied: debugpy<2.0,>=1.0.0 in c:\\users\\zndre\\anaconda3\\lib\\site-packages (from ipykernel>=4.5.1->ipywidgets>=7.3.0->qiskit[visualization]) (1.5.1)\n",
      "Requirement already satisfied: jupyter-client<8.0 in c:\\users\\zndre\\anaconda3\\lib\\site-packages (from ipykernel>=4.5.1->ipywidgets>=7.3.0->qiskit[visualization]) (6.1.12)\n",
      "Requirement already satisfied: tornado<7.0,>=4.2 in c:\\users\\zndre\\anaconda3\\lib\\site-packages (from ipykernel>=4.5.1->ipywidgets>=7.3.0->qiskit[visualization]) (6.1)\n",
      "Requirement already satisfied: matplotlib-inline<0.2.0,>=0.1.0 in c:\\users\\zndre\\anaconda3\\lib\\site-packages (from ipykernel>=4.5.1->ipywidgets>=7.3.0->qiskit[visualization]) (0.1.2)\n",
      "Requirement already satisfied: nest-asyncio in c:\\users\\zndre\\anaconda3\\lib\\site-packages (from ipykernel>=4.5.1->ipywidgets>=7.3.0->qiskit[visualization]) (1.5.5)\n",
      "Requirement already satisfied: setuptools>=18.5 in c:\\users\\zndre\\anaconda3\\lib\\site-packages (from ipython>=4.0.0->ipywidgets>=7.3.0->qiskit[visualization]) (61.2.0)\n",
      "Requirement already satisfied: pickleshare in c:\\users\\zndre\\anaconda3\\lib\\site-packages (from ipython>=4.0.0->ipywidgets>=7.3.0->qiskit[visualization]) (0.7.5)\n",
      "Requirement already satisfied: jedi>=0.16 in c:\\users\\zndre\\anaconda3\\lib\\site-packages (from ipython>=4.0.0->ipywidgets>=7.3.0->qiskit[visualization]) (0.18.1)\n",
      "Requirement already satisfied: stack-data in c:\\users\\zndre\\anaconda3\\lib\\site-packages (from ipython>=4.0.0->ipywidgets>=7.3.0->qiskit[visualization]) (0.2.0)\n",
      "Requirement already satisfied: colorama in c:\\users\\zndre\\anaconda3\\lib\\site-packages (from ipython>=4.0.0->ipywidgets>=7.3.0->qiskit[visualization]) (0.4.4)\n",
      "Requirement already satisfied: backcall in c:\\users\\zndre\\anaconda3\\lib\\site-packages (from ipython>=4.0.0->ipywidgets>=7.3.0->qiskit[visualization]) (0.2.0)\n",
      "Requirement already satisfied: decorator in c:\\users\\zndre\\anaconda3\\lib\\site-packages (from ipython>=4.0.0->ipywidgets>=7.3.0->qiskit[visualization]) (5.1.1)\n",
      "Requirement already satisfied: prompt-toolkit!=3.0.0,!=3.0.1,<3.1.0,>=2.0.0 in c:\\users\\zndre\\anaconda3\\lib\\site-packages (from ipython>=4.0.0->ipywidgets>=7.3.0->qiskit[visualization]) (3.0.20)\n",
      "Requirement already satisfied: parso<0.9.0,>=0.8.0 in c:\\users\\zndre\\anaconda3\\lib\\site-packages (from jedi>=0.16->ipython>=4.0.0->ipywidgets>=7.3.0->qiskit[visualization]) (0.8.3)\n",
      "Requirement already satisfied: pyzmq>=13 in c:\\users\\zndre\\anaconda3\\lib\\site-packages (from jupyter-client<8.0->ipykernel>=4.5.1->ipywidgets>=7.3.0->qiskit[visualization]) (22.3.0)\n",
      "Requirement already satisfied: jupyter-core>=4.6.0 in c:\\users\\zndre\\anaconda3\\lib\\site-packages (from jupyter-client<8.0->ipykernel>=4.5.1->ipywidgets>=7.3.0->qiskit[visualization]) (4.9.2)\n",
      "Requirement already satisfied: pywin32>=1.0 in c:\\users\\zndre\\anaconda3\\lib\\site-packages (from jupyter-core>=4.6.0->jupyter-client<8.0->ipykernel>=4.5.1->ipywidgets>=7.3.0->qiskit[visualization]) (302)\n",
      "Requirement already satisfied: fonttools>=4.22.0 in c:\\users\\zndre\\anaconda3\\lib\\site-packages (from matplotlib>=2.1->qiskit[visualization]) (4.25.0)\n",
      "Requirement already satisfied: kiwisolver>=1.0.1 in c:\\users\\zndre\\anaconda3\\lib\\site-packages (from matplotlib>=2.1->qiskit[visualization]) (1.3.2)\n",
      "Requirement already satisfied: packaging>=20.0 in c:\\users\\zndre\\anaconda3\\lib\\site-packages (from matplotlib>=2.1->qiskit[visualization]) (21.3)\n",
      "Requirement already satisfied: pyparsing>=2.2.1 in c:\\users\\zndre\\anaconda3\\lib\\site-packages (from matplotlib>=2.1->qiskit[visualization]) (3.0.4)\n",
      "Requirement already satisfied: cycler>=0.10 in c:\\users\\zndre\\anaconda3\\lib\\site-packages (from matplotlib>=2.1->qiskit[visualization]) (0.11.0)\n",
      "Requirement already satisfied: fastjsonschema in c:\\users\\zndre\\anaconda3\\lib\\site-packages (from nbformat>=4.2.0->ipywidgets>=7.3.0->qiskit[visualization]) (2.15.1)\n",
      "Requirement already satisfied: jsonschema>=2.6 in c:\\users\\zndre\\anaconda3\\lib\\site-packages (from nbformat>=4.2.0->ipywidgets>=7.3.0->qiskit[visualization]) (4.4.0)\n",
      "Requirement already satisfied: pyrsistent!=0.17.0,!=0.17.1,!=0.17.2,>=0.14.0 in c:\\users\\zndre\\anaconda3\\lib\\site-packages (from jsonschema>=2.6->nbformat>=4.2.0->ipywidgets>=7.3.0->qiskit[visualization]) (0.18.0)\n",
      "Requirement already satisfied: attrs>=17.4.0 in c:\\users\\zndre\\anaconda3\\lib\\site-packages (from jsonschema>=2.6->nbformat>=4.2.0->ipywidgets>=7.3.0->qiskit[visualization]) (21.4.0)\n",
      "Requirement already satisfied: wcwidth in c:\\users\\zndre\\anaconda3\\lib\\site-packages (from prompt-toolkit!=3.0.0,!=3.0.1,<3.1.0,>=2.0.0->ipython>=4.0.0->ipywidgets>=7.3.0->qiskit[visualization]) (0.2.5)\n",
      "Requirement already satisfied: six>=1.5 in c:\\users\\zndre\\anaconda3\\lib\\site-packages (from python-dateutil>=2.8.0->qiskit-ibmq-provider==0.19.2->qiskit[visualization]) (1.16.0)\n",
      "Requirement already satisfied: charset-normalizer~=2.0.0 in c:\\users\\zndre\\anaconda3\\lib\\site-packages (from requests>=2.19->qiskit-ibmq-provider==0.19.2->qiskit[visualization]) (2.0.4)\n",
      "Requirement already satisfied: certifi>=2017.4.17 in c:\\users\\zndre\\anaconda3\\lib\\site-packages (from requests>=2.19->qiskit-ibmq-provider==0.19.2->qiskit[visualization]) (2021.10.8)\n",
      "Requirement already satisfied: idna<4,>=2.5 in c:\\users\\zndre\\anaconda3\\lib\\site-packages (from requests>=2.19->qiskit-ibmq-provider==0.19.2->qiskit[visualization]) (3.3)\n",
      "Requirement already satisfied: cryptography>=1.3 in c:\\users\\zndre\\anaconda3\\lib\\site-packages (from requests-ntlm>=1.1.0->qiskit-ibmq-provider==0.19.2->qiskit[visualization]) (3.4.8)\n",
      "Requirement already satisfied: ntlm-auth>=1.0.2 in c:\\users\\zndre\\anaconda3\\lib\\site-packages (from requests-ntlm>=1.1.0->qiskit-ibmq-provider==0.19.2->qiskit[visualization]) (1.5.0)\n",
      "Requirement already satisfied: cffi>=1.12 in c:\\users\\zndre\\anaconda3\\lib\\site-packages (from cryptography>=1.3->requests-ntlm>=1.1.0->qiskit-ibmq-provider==0.19.2->qiskit[visualization]) (1.15.0)\n",
      "Requirement already satisfied: pycparser in c:\\users\\zndre\\anaconda3\\lib\\site-packages (from cffi>=1.12->cryptography>=1.3->requests-ntlm>=1.1.0->qiskit-ibmq-provider==0.19.2->qiskit[visualization]) (2.21)\n",
      "Requirement already satisfied: pandas>=0.23 in c:\\users\\zndre\\anaconda3\\lib\\site-packages (from seaborn>=0.9.0->qiskit[visualization]) (1.4.2)\n",
      "Requirement already satisfied: pytz>=2020.1 in c:\\users\\zndre\\anaconda3\\lib\\site-packages (from pandas>=0.23->seaborn>=0.9.0->qiskit[visualization]) (2021.3)\n",
      "Requirement already satisfied: pbr!=2.1.0,>=2.0.0 in c:\\users\\zndre\\anaconda3\\lib\\site-packages (from stevedore>=3.0.0->qiskit-terra==0.21.2->qiskit[visualization]) (5.10.0)\n",
      "Requirement already satisfied: mpmath>=0.19 in c:\\users\\zndre\\anaconda3\\lib\\site-packages (from sympy>=1.3->qiskit-terra==0.21.2->qiskit[visualization]) (1.2.1)\n",
      "Requirement already satisfied: notebook>=4.4.1 in c:\\users\\zndre\\anaconda3\\lib\\site-packages (from widgetsnbextension~=3.5.0->ipywidgets>=7.3.0->qiskit[visualization]) (6.4.8)\n",
      "Requirement already satisfied: terminado>=0.8.3 in c:\\users\\zndre\\anaconda3\\lib\\site-packages (from notebook>=4.4.1->widgetsnbextension~=3.5.0->ipywidgets>=7.3.0->qiskit[visualization]) (0.13.1)\n",
      "Requirement already satisfied: jinja2 in c:\\users\\zndre\\anaconda3\\lib\\site-packages (from notebook>=4.4.1->widgetsnbextension~=3.5.0->ipywidgets>=7.3.0->qiskit[visualization]) (2.11.3)\n",
      "Requirement already satisfied: nbconvert in c:\\users\\zndre\\anaconda3\\lib\\site-packages (from notebook>=4.4.1->widgetsnbextension~=3.5.0->ipywidgets>=7.3.0->qiskit[visualization]) (6.4.4)\n",
      "Requirement already satisfied: Send2Trash>=1.8.0 in c:\\users\\zndre\\anaconda3\\lib\\site-packages (from notebook>=4.4.1->widgetsnbextension~=3.5.0->ipywidgets>=7.3.0->qiskit[visualization]) (1.8.0)\n",
      "Requirement already satisfied: prometheus-client in c:\\users\\zndre\\anaconda3\\lib\\site-packages (from notebook>=4.4.1->widgetsnbextension~=3.5.0->ipywidgets>=7.3.0->qiskit[visualization]) (0.13.1)\n",
      "Requirement already satisfied: argon2-cffi in c:\\users\\zndre\\anaconda3\\lib\\site-packages (from notebook>=4.4.1->widgetsnbextension~=3.5.0->ipywidgets>=7.3.0->qiskit[visualization]) (21.3.0)\n",
      "Requirement already satisfied: pywinpty>=1.1.0 in c:\\users\\zndre\\anaconda3\\lib\\site-packages (from terminado>=0.8.3->notebook>=4.4.1->widgetsnbextension~=3.5.0->ipywidgets>=7.3.0->qiskit[visualization]) (2.0.2)\n",
      "Requirement already satisfied: argon2-cffi-bindings in c:\\users\\zndre\\anaconda3\\lib\\site-packages (from argon2-cffi->notebook>=4.4.1->widgetsnbextension~=3.5.0->ipywidgets>=7.3.0->qiskit[visualization]) (21.2.0)\n",
      "Requirement already satisfied: MarkupSafe>=0.23 in c:\\users\\zndre\\anaconda3\\lib\\site-packages (from jinja2->notebook>=4.4.1->widgetsnbextension~=3.5.0->ipywidgets>=7.3.0->qiskit[visualization]) (2.0.1)\n",
      "Requirement already satisfied: entrypoints>=0.2.2 in c:\\users\\zndre\\anaconda3\\lib\\site-packages (from nbconvert->notebook>=4.4.1->widgetsnbextension~=3.5.0->ipywidgets>=7.3.0->qiskit[visualization]) (0.4)\n",
      "Requirement already satisfied: testpath in c:\\users\\zndre\\anaconda3\\lib\\site-packages (from nbconvert->notebook>=4.4.1->widgetsnbextension~=3.5.0->ipywidgets>=7.3.0->qiskit[visualization]) (0.5.0)\n",
      "Requirement already satisfied: defusedxml in c:\\users\\zndre\\anaconda3\\lib\\site-packages (from nbconvert->notebook>=4.4.1->widgetsnbextension~=3.5.0->ipywidgets>=7.3.0->qiskit[visualization]) (0.7.1)\n",
      "Requirement already satisfied: bleach in c:\\users\\zndre\\anaconda3\\lib\\site-packages (from nbconvert->notebook>=4.4.1->widgetsnbextension~=3.5.0->ipywidgets>=7.3.0->qiskit[visualization]) (4.1.0)\n",
      "Requirement already satisfied: jupyterlab-pygments in c:\\users\\zndre\\anaconda3\\lib\\site-packages (from nbconvert->notebook>=4.4.1->widgetsnbextension~=3.5.0->ipywidgets>=7.3.0->qiskit[visualization]) (0.1.2)\n",
      "Requirement already satisfied: pandocfilters>=1.4.1 in c:\\users\\zndre\\anaconda3\\lib\\site-packages (from nbconvert->notebook>=4.4.1->widgetsnbextension~=3.5.0->ipywidgets>=7.3.0->qiskit[visualization]) (1.5.0)\n",
      "Requirement already satisfied: mistune<2,>=0.8.1 in c:\\users\\zndre\\anaconda3\\lib\\site-packages (from nbconvert->notebook>=4.4.1->widgetsnbextension~=3.5.0->ipywidgets>=7.3.0->qiskit[visualization]) (0.8.4)\n",
      "Requirement already satisfied: nbclient<0.6.0,>=0.5.0 in c:\\users\\zndre\\anaconda3\\lib\\site-packages (from nbconvert->notebook>=4.4.1->widgetsnbextension~=3.5.0->ipywidgets>=7.3.0->qiskit[visualization]) (0.5.13)\n",
      "Requirement already satisfied: beautifulsoup4 in c:\\users\\zndre\\anaconda3\\lib\\site-packages (from nbconvert->notebook>=4.4.1->widgetsnbextension~=3.5.0->ipywidgets>=7.3.0->qiskit[visualization]) (4.11.1)\n",
      "Requirement already satisfied: soupsieve>1.2 in c:\\users\\zndre\\anaconda3\\lib\\site-packages (from beautifulsoup4->nbconvert->notebook>=4.4.1->widgetsnbextension~=3.5.0->ipywidgets>=7.3.0->qiskit[visualization]) (2.3.1)\n",
      "Requirement already satisfied: webencodings in c:\\users\\zndre\\anaconda3\\lib\\site-packages (from bleach->nbconvert->notebook>=4.4.1->widgetsnbextension~=3.5.0->ipywidgets>=7.3.0->qiskit[visualization]) (0.5.1)\n",
      "Requirement already satisfied: asttokens in c:\\users\\zndre\\anaconda3\\lib\\site-packages (from stack-data->ipython>=4.0.0->ipywidgets>=7.3.0->qiskit[visualization]) (2.0.5)\n",
      "Requirement already satisfied: pure-eval in c:\\users\\zndre\\anaconda3\\lib\\site-packages (from stack-data->ipython>=4.0.0->ipywidgets>=7.3.0->qiskit[visualization]) (0.2.2)\n",
      "Requirement already satisfied: executing in c:\\users\\zndre\\anaconda3\\lib\\site-packages (from stack-data->ipython>=4.0.0->ipywidgets>=7.3.0->qiskit[visualization]) (0.8.3)\n"
     ]
    },
    {
     "name": "stderr",
     "output_type": "stream",
     "text": [
      "configrc.store_credentials:WARNING:2022-11-11 13:22:47,670: Credentials already present. Set overwrite=True to overwrite.\n"
     ]
    },
    {
     "data": {
      "text/plain": [
       "<AccountProvider for IBMQ(hub='ibm-q', group='open', project='main')>"
      ]
     },
     "execution_count": 1,
     "metadata": {},
     "output_type": "execute_result"
    }
   ],
   "source": [
    "!pip install qiskit[visualization]\n",
    "\n",
    "import qiskit\n",
    "\n",
    "# Imports for Qiskit\n",
    "from qiskit import QuantumCircuit, execute, Aer, IBMQ\n",
    "from qiskit.compiler import transpile, assemble\n",
    "from qiskit.tools.jupyter import *\n",
    "from qiskit.visualization import *\n",
    "from qiskit import *\n",
    "from qiskit import IBMQ, Aer\n",
    "from qiskit import QuantumCircuit, ClassicalRegister, QuantumRegister\n",
    "from qiskit.visualization import plot_histogram\n",
    "import numpy as np\n",
    "\n",
    "# Various imports \n",
    "import numpy as np\n",
    "\n",
    "from copy import deepcopy\n",
    "from matplotlib import pyplot as plt\n",
    "\n",
    "IBMQ.save_account('0ebcac3129a8b7dc6265271c55b4ce56ca4aa5e3a9fb2c35973e855d7297f80acf9a55d9c44f83501f04e14b100bbc2ab4c467042666418f51f1540c40f45769')\n",
    "provider = IBMQ.load_account()\n",
    "IBMQ.get_provider(hub='ibm-q', group='open', project = 'main')"
   ]
  },
  {
   "cell_type": "code",
   "execution_count": 2,
   "metadata": {
    "colab": {
     "base_uri": "https://localhost:8080/",
     "height": 276
    },
    "id": "Wwtja16C2eXL",
    "outputId": "fabc162c-19b8-4c2a-aa9f-fbbab024bf8d"
   },
   "outputs": [
    {
     "data": {
      "image/png": "[encoded data removed]",
      "text/plain": [
       "<Figure size 188.328x325.08 with 1 Axes>"
      ]
     },
     "execution_count": 2,
     "metadata": {},
     "output_type": "execute_result"
    }
   ],
   "source": [
    "# Create the various registers needed\n",
    "clock = QuantumRegister(2, name='clock')\n",
    "input = QuantumRegister(1, name='b')\n",
    "ancilla = QuantumRegister(1, name='ancilla')\n",
    "measurement = ClassicalRegister(2, name='c')\n",
    "\n",
    "# Create an empty circuit with the specified registers\n",
    "circuit = QuantumCircuit(ancilla, clock, input, measurement)\n",
    "\n",
    "circuit.barrier()\n",
    "circuit.draw(output='mpl')"
   ]
  },
  {
   "cell_type": "code",
   "execution_count": 3,
   "metadata": {
    "id": "qc_OheZk2kKM"
   },
   "outputs": [],
   "source": [
    "def qft_dagger(circ, q, n):      \n",
    "    circ.h(clock[1]);\n",
    "    for j in reversed(range(n)):\n",
    "        for k in reversed(range(j+1,n)):\n",
    "            circ.cp(-np.pi/float(2**(k-j)), q[k], q[j]);\n",
    "    circ.h(clock[0]);\n",
    "    circ.swap(clock[0], clock[1]);\n",
    "\n",
    "def qft(circ, q, n):\n",
    "    circ.swap(clock[0], clock[1]);\n",
    "    circ.h(clock[0]);\n",
    "    for j in reversed(range(n)):\n",
    "        for k in reversed(range(j+1,n)):\n",
    "            circ.cp(np.pi/float(2**(k-j)), q[k], q[j]);\n",
    "    circ.h(clock[1]);"
   ]
  },
  {
   "cell_type": "code",
   "execution_count": 4,
   "metadata": {
    "id": "OtdDOqI_3EBa"
   },
   "outputs": [],
   "source": [
    "def qpe(circ, clock, target):\n",
    "    circuit.barrier()\n",
    "\n",
    "    # e^{i*A*t}\n",
    "    circuit.cu(np.pi/2, -np.pi/2, np.pi/2, 3*np.pi/4, clock[0], input, label='U');\n",
    "    \n",
    "    # e^{i*A*t*2}\n",
    "    circuit.cu(np.pi, np.pi, 0, 0, clock[1], input, label='U2');\n",
    "\n",
    "    circuit.barrier();\n",
    "    \n",
    "    # Perform an inverse QFT on the register holding the eigenvalues\n",
    "    qft_dagger(circuit, clock, 2)\n",
    "    \n",
    "def inv_qpe(circ, clock, target):\n",
    "    \n",
    "    # Perform a QFT on the register holding the eigenvalues\n",
    "    qft(circuit, clock, 2)\n",
    "\n",
    "    circuit.barrier()\n",
    "\n",
    "    # e^{i*A*t*2}\n",
    "    circuit.cu(np.pi, np.pi, 0, 0, clock[1], input, label='U2');\n",
    "\n",
    "    #circuit.barrier();\n",
    "\n",
    "    # e^{i*A*t}\n",
    "    circuit.cu(np.pi/2, np.pi/2, -np.pi/2, -3*np.pi/4, clock[0], input, label='U');\n",
    "\n",
    "    circuit.barrier()"
   ]
  },
  {
   "cell_type": "code",
   "execution_count": null,
   "metadata": {},
   "outputs": [],
   "source": []
  },
  {
   "cell_type": "code",
   "execution_count": 5,
   "metadata": {
    "id": "v9vzO1Ut33On"
   },
   "outputs": [],
   "source": [
    "def hhl(circ, ancilla, clock, input, measurement):\n",
    "    \n",
    "    qpe(circ, clock, input)\n",
    "\n",
    "    circuit.barrier()\n",
    "    \n",
    "    # This section is to test and implement C = 1\n",
    "    circuit.cry(np.pi, clock[0], ancilla)\n",
    "    circuit.cry(np.pi/3, clock[1], ancilla)\n",
    "\n",
    "    circuit.barrier()\n",
    "    \n",
    "    circuit.measure(ancilla, measurement[0])\n",
    "    circuit.barrier()\n",
    "    inv_qpe(circ, clock, input)"
   ]
  },
  {
   "cell_type": "code",
   "execution_count": 6,
   "metadata": {
    "colab": {
     "base_uri": "https://localhost:8080/"
    },
    "id": "0rJxGgI338hJ",
    "outputId": "36cbb8f4-575d-4127-f70f-1e7a84c78e77"
   },
   "outputs": [
    {
     "data": {
      "text/plain": [
       "<qiskit.circuit.instructionset.InstructionSet at 0x206738c6c10>"
      ]
     },
     "execution_count": 6,
     "metadata": {},
     "output_type": "execute_result"
    }
   ],
   "source": [
    "# State preparation. \n",
    "intial_state = [0,1]\n",
    "circuit.initialize(intial_state, 3)\n",
    "\n",
    "circuit.barrier()\n",
    "\n",
    "# Perform a Hadamard Transform\n",
    "circuit.h(clock)\n",
    "\n",
    "hhl(circuit, ancilla, clock, input, measurement)\n",
    "\n",
    "# Perform a Hadamard Transform\n",
    "circuit.h(clock)\n",
    "\n",
    "circuit.barrier()\n",
    "\n",
    "\n",
    "circuit.measure(input, measurement[1])"
   ]
  },
  {
   "cell_type": "code",
   "execution_count": 7,
   "metadata": {
    "colab": {
     "base_uri": "https://localhost:8080/",
     "height": 549
    },
    "id": "-iXPk0fL4Djt",
    "outputId": "2d9eafa3-0591-465a-a032-81ac8fb2e6d9"
   },
   "outputs": [
    {
     "data": {
      "image/png": "[encoded data removed]",
      "text/plain": [
       "<Figure size 1633.13x686.28 with 1 Axes>"
      ]
     },
     "execution_count": 7,
     "metadata": {},
     "output_type": "execute_result"
    }
   ],
   "source": [
    "circuit.draw('mpl',scale=1)"
   ]
  },
  {
   "cell_type": "code",
   "execution_count": 8,
   "metadata": {},
   "outputs": [
    {
     "data": {
      "image/png": "[encoded data removed]",
      "text/plain": [
       "<Figure size 504x360 with 1 Axes>"
      ]
     },
     "execution_count": 8,
     "metadata": {},
     "output_type": "execute_result"
    }
   ],
   "source": [
    "# Execute the circuit using the simulator\n",
    "simulator = qiskit.BasicAer.get_backend('qasm_simulator')\n",
    "job = execute(circuit, backend=simulator, shots=65536)\n",
    "\n",
    "#Get the result of the execution\n",
    "result = job.result()\n",
    "\n",
    "# Get the counts, the frequency of each answer\n",
    "counts = result.get_counts(circuit)\n",
    "\n",
    "# Display the results\n",
    "plot_histogram(counts)"
   ]
  },
  {
   "cell_type": "code",
   "execution_count": 9,
   "metadata": {
    "colab": {
     "base_uri": "https://localhost:8080/"
    },
    "id": "6qis0UM-Zk5F",
    "outputId": "98c9b02d-3e3e-4fd0-8fbb-64b1d1abfe36"
   },
   "outputs": [
    {
     "name": "stdout",
     "output_type": "stream",
     "text": [
      "Statevector([ 0.+0.j,  0.+0.j,  0.+0.j, -0.+0.j,  0.+0.j,  0.+0.j,  0.+0.j,\n",
      "              0.+0.j,  0.+0.j,  1.-0.j,  0.+0.j, -0.+0.j,  0.+0.j, -0.+0.j,\n",
      "              0.+0.j, -0.-0.j],\n",
      "            dims=(2, 2, 2, 2))\n"
     ]
    }
   ],
   "source": [
    "bcknd = Aer.get_backend('statevector_simulator')\n",
    "\n",
    "job_sim = execute(circuit, bcknd)\n",
    "result = job_sim.result()\n",
    "\n",
    "o_state_result = result.get_statevector(circuit, decimals=3)\n",
    "print(o_state_result)"
   ]
  },
  {
   "cell_type": "code",
   "execution_count": 13,
   "metadata": {
    "colab": {
     "base_uri": "https://localhost:8080/"
    },
    "id": "jWJ3BfVNhz6G",
    "outputId": "0c46e67b-af47-441d-da98-39fc22c04dc3"
   },
   "outputs": [
    {
     "name": "stderr",
     "output_type": "stream",
     "text": [
      "ibmqfactory.load_account:WARNING:2022-11-11 13:26:33,067: Credentials are already in use. The existing account in the session will be replaced.\n"
     ]
    },
    {
     "ename": "AttributeError",
     "evalue": "'IBMQBackendService' object has no attribute 'ibmq_vigo'",
     "output_type": "error",
     "traceback": [
      "\u001b[1;31m---------------------------------------------------------------------------\u001b[0m",
      "\u001b[1;31mAttributeError\u001b[0m                            Traceback (most recent call last)",
      "Input \u001b[1;32mIn [13]\u001b[0m, in \u001b[0;36m<cell line: 10>\u001b[1;34m()\u001b[0m\n\u001b[0;32m      4\u001b[0m provider \u001b[38;5;241m=\u001b[39m IBMQ\u001b[38;5;241m.\u001b[39mload_account()\n\u001b[0;32m      6\u001b[0m \u001b[38;5;66;03m#provider.backends()\u001b[39;00m\n\u001b[0;32m      7\u001b[0m \n\u001b[0;32m      8\u001b[0m \u001b[38;5;66;03m# Choose the backend on which to run the circuit\u001b[39;00m\n\u001b[0;32m      9\u001b[0m \u001b[38;5;66;03m#backend = provider.get_backend('ibmq_santiago')\u001b[39;00m\n\u001b[1;32m---> 10\u001b[0m backend \u001b[38;5;241m=\u001b[39m \u001b[43mprovider\u001b[49m\u001b[38;5;241;43m.\u001b[39;49m\u001b[43mbackend\u001b[49m\u001b[38;5;241;43m.\u001b[39;49m\u001b[43mibmq_vigo\u001b[49m\n\u001b[0;32m     12\u001b[0m \u001b[38;5;28;01mfrom\u001b[39;00m \u001b[38;5;21;01mqiskit\u001b[39;00m\u001b[38;5;21;01m.\u001b[39;00m\u001b[38;5;21;01mtools\u001b[39;00m\u001b[38;5;21;01m.\u001b[39;00m\u001b[38;5;21;01mmonitor\u001b[39;00m \u001b[38;5;28;01mimport\u001b[39;00m job_monitor\n\u001b[0;32m     14\u001b[0m \u001b[38;5;66;03m# Execute the job\u001b[39;00m\n",
      "\u001b[1;31mAttributeError\u001b[0m: 'IBMQBackendService' object has no attribute 'ibmq_vigo'"
     ]
    }
   ],
   "source": [
    "from qiskit import IBMQ, assemble, transpile\n",
    "from qiskit.circuit.random import random_circuit\n",
    "\n",
    "provider = IBMQ.load_account()\n",
    "\n",
    "#provider.backends()\n",
    "\n",
    "# Choose the backend on which to run the circuit\n",
    "#backend = provider.get_backend('ibmq_santiago')\n",
    "backend = provider.backend.ibmq_vigo\n",
    "\n",
    "from qiskit.tools.monitor import job_monitor\n",
    "\n",
    "# Execute the job\n",
    "job_exp = execute(circuit, backend=backend, shots=8192)\n",
    "\n",
    "# Monitor the job to know where we are in the queue\n",
    "job_monitor(job_exp, interval = 2)"
   ]
  },
  {
   "cell_type": "code",
   "execution_count": null,
   "metadata": {
    "colab": {
     "base_uri": "https://localhost:8080/",
     "height": 332
    },
    "id": "s-VdjWGfh6KP",
    "outputId": "c08df400-14c0-4adf-9c4e-f8ca0b11475f"
   },
   "outputs": [],
   "source": [
    "# Get the results from the computation\n",
    "results = job_exp.result()\n",
    "\n",
    "# Get the statistics\n",
    "answer = results.get_counts(circuit)\n",
    "\n",
    "# Plot the results\n",
    "plot_histogram(answer)"
   ]
  },
  {
   "cell_type": "code",
   "execution_count": 25,
   "metadata": {},
   "outputs": [
    {
     "data": {
      "text/plain": [
       "'0.21.2'"
      ]
     },
     "execution_count": 25,
     "metadata": {},
     "output_type": "execute_result"
    }
   ],
   "source": [
    "qiskit.__version__"
   ]
  },
  {
   "cell_type": "code",
   "execution_count": 24,
   "metadata": {},
   "outputs": [
    {
     "name": "stdout",
     "output_type": "stream",
     "text": [
      "Requirement already satisfied: qiskit in c:\\users\\zndre\\anaconda3\\lib\\site-packages (0.38.0)\n",
      "Collecting qiskit\n",
      "  Using cached qiskit-0.39.2-py3-none-any.whl\n",
      "Requirement already satisfied: qiskit-terra==0.22.2 in c:\\users\\zndre\\anaconda3\\lib\\site-packages (from qiskit) (0.22.2)\n",
      "Collecting qiskit-aer==0.11.1\n",
      "  Using cached qiskit_aer-0.11.1-cp39-cp39-win_amd64.whl (24.3 MB)\n",
      "Requirement already satisfied: qiskit-ibmq-provider==0.19.2 in c:\\users\\zndre\\anaconda3\\lib\\site-packages (from qiskit) (0.19.2)\n",
      "Requirement already satisfied: scipy>=1.0 in c:\\users\\zndre\\anaconda3\\lib\\site-packages (from qiskit-aer==0.11.1->qiskit) (1.7.3)\n",
      "Requirement already satisfied: numpy>=1.16.3 in c:\\users\\zndre\\anaconda3\\lib\\site-packages (from qiskit-aer==0.11.1->qiskit) (1.21.5)\n",
      "Requirement already satisfied: requests>=2.19 in c:\\users\\zndre\\anaconda3\\lib\\site-packages (from qiskit-ibmq-provider==0.19.2->qiskit) (2.27.1)\n",
      "Requirement already satisfied: requests-ntlm>=1.1.0 in c:\\users\\zndre\\anaconda3\\lib\\site-packages (from qiskit-ibmq-provider==0.19.2->qiskit) (1.1.0)\n",
      "Requirement already satisfied: python-dateutil>=2.8.0 in c:\\users\\zndre\\anaconda3\\lib\\site-packages (from qiskit-ibmq-provider==0.19.2->qiskit) (2.8.2)\n",
      "Requirement already satisfied: websockets>=10.0 in c:\\users\\zndre\\anaconda3\\lib\\site-packages (from qiskit-ibmq-provider==0.19.2->qiskit) (10.3)\n",
      "Requirement already satisfied: urllib3>=1.21.1 in c:\\users\\zndre\\anaconda3\\lib\\site-packages (from qiskit-ibmq-provider==0.19.2->qiskit) (1.26.9)\n",
      "Requirement already satisfied: websocket-client>=1.0.1 in c:\\users\\zndre\\anaconda3\\lib\\site-packages (from qiskit-ibmq-provider==0.19.2->qiskit) (1.4.1)\n",
      "Requirement already satisfied: retworkx>=0.11.0 in c:\\users\\zndre\\anaconda3\\lib\\site-packages (from qiskit-terra==0.22.2->qiskit) (0.11.0)\n",
      "Requirement already satisfied: psutil>=5 in c:\\users\\zndre\\anaconda3\\lib\\site-packages (from qiskit-terra==0.22.2->qiskit) (5.8.0)\n",
      "Requirement already satisfied: stevedore>=3.0.0 in c:\\users\\zndre\\anaconda3\\lib\\site-packages (from qiskit-terra==0.22.2->qiskit) (4.0.0)\n",
      "Requirement already satisfied: dill>=0.3 in c:\\users\\zndre\\anaconda3\\lib\\site-packages (from qiskit-terra==0.22.2->qiskit) (0.3.5.1)\n",
      "Requirement already satisfied: tweedledum<2.0,>=1.1 in c:\\users\\zndre\\anaconda3\\lib\\site-packages (from qiskit-terra==0.22.2->qiskit) (1.1.1)\n",
      "Requirement already satisfied: sympy>=1.3 in c:\\users\\zndre\\anaconda3\\lib\\site-packages (from qiskit-terra==0.22.2->qiskit) (1.10.1)\n",
      "Requirement already satisfied: ply>=3.10 in c:\\users\\zndre\\anaconda3\\lib\\site-packages (from qiskit-terra==0.22.2->qiskit) (3.11)\n",
      "Requirement already satisfied: six>=1.5 in c:\\users\\zndre\\anaconda3\\lib\\site-packages (from python-dateutil>=2.8.0->qiskit-ibmq-provider==0.19.2->qiskit) (1.16.0)\n",
      "Requirement already satisfied: charset-normalizer~=2.0.0 in c:\\users\\zndre\\anaconda3\\lib\\site-packages (from requests>=2.19->qiskit-ibmq-provider==0.19.2->qiskit) (2.0.4)\n",
      "Requirement already satisfied: certifi>=2017.4.17 in c:\\users\\zndre\\anaconda3\\lib\\site-packages (from requests>=2.19->qiskit-ibmq-provider==0.19.2->qiskit) (2021.10.8)\n",
      "Requirement already satisfied: idna<4,>=2.5 in c:\\users\\zndre\\anaconda3\\lib\\site-packages (from requests>=2.19->qiskit-ibmq-provider==0.19.2->qiskit) (3.3)\n",
      "Requirement already satisfied: cryptography>=1.3 in c:\\users\\zndre\\anaconda3\\lib\\site-packages (from requests-ntlm>=1.1.0->qiskit-ibmq-provider==0.19.2->qiskit) (3.4.8)\n",
      "Requirement already satisfied: ntlm-auth>=1.0.2 in c:\\users\\zndre\\anaconda3\\lib\\site-packages (from requests-ntlm>=1.1.0->qiskit-ibmq-provider==0.19.2->qiskit) (1.5.0)\n",
      "Requirement already satisfied: cffi>=1.12 in c:\\users\\zndre\\anaconda3\\lib\\site-packages (from cryptography>=1.3->requests-ntlm>=1.1.0->qiskit-ibmq-provider==0.19.2->qiskit) (1.15.0)\n",
      "Requirement already satisfied: pycparser in c:\\users\\zndre\\anaconda3\\lib\\site-packages (from cffi>=1.12->cryptography>=1.3->requests-ntlm>=1.1.0->qiskit-ibmq-provider==0.19.2->qiskit) (2.21)\n",
      "Requirement already satisfied: pbr!=2.1.0,>=2.0.0 in c:\\users\\zndre\\anaconda3\\lib\\site-packages (from stevedore>=3.0.0->qiskit-terra==0.22.2->qiskit) (5.10.0)\n",
      "Requirement already satisfied: mpmath>=0.19 in c:\\users\\zndre\\anaconda3\\lib\\site-packages (from sympy>=1.3->qiskit-terra==0.22.2->qiskit) (1.2.1)\n",
      "Installing collected packages: qiskit-aer, qiskit\n",
      "Successfully installed qiskit-0.39.2 qiskit-aer-0.11.1\n"
     ]
    },
    {
     "name": "stderr",
     "output_type": "stream",
     "text": [
      "WARNING: Ignoring invalid distribution -iskit-terra (c:\\users\\zndre\\anaconda3\\lib\\site-packages)\n",
      "WARNING: Ignoring invalid distribution -iskit-terra (c:\\users\\zndre\\anaconda3\\lib\\site-packages)\n",
      "WARNING: Ignoring invalid distribution -iskit-terra (c:\\users\\zndre\\anaconda3\\lib\\site-packages)\n",
      "WARNING: Ignoring invalid distribution -iskit-terra (c:\\users\\zndre\\anaconda3\\lib\\site-packages)\n",
      "WARNING: Ignoring invalid distribution -iskit-terra (c:\\users\\zndre\\anaconda3\\lib\\site-packages)\n",
      "WARNING: Ignoring invalid distribution -iskit-terra (c:\\users\\zndre\\anaconda3\\lib\\site-packages)\n"
     ]
    }
   ],
   "source": [
    "#conda activate base\n",
    "!pip install qiskit --user --upgrade"
   ]
  },
  {
   "cell_type": "code",
   "execution_count": null,
   "metadata": {},
   "outputs": [],
   "source": []
  }
 ],
 "metadata": {
  "colab": {
   "collapsed_sections": [],
   "name": "Final_HHL_2x2_Conferecnce_Wong_Morrell.ipynb",
   "provenance": []
  },
  "kernelspec": {
   "display_name": "Python 3 (ipykernel)",
   "language": "python",
   "name": "python3"
  },
  "language_info": {
   "codemirror_mode": {
    "name": "ipython",
    "version": 3
   },
   "file_extension": ".py",
   "mimetype": "text/x-python",
   "name": "python",
   "nbconvert_exporter": "python",
   "pygments_lexer": "ipython3",
   "version": "3.9.12"
  }
 },
 "nbformat": 4,
 "nbformat_minor": 1
}
