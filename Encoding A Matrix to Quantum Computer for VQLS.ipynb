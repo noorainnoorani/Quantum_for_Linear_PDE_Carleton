{
 "cells": [
  {
   "cell_type": "code",
   "execution_count": 1,
   "id": "bbebb6ff",
   "metadata": {},
   "outputs": [],
   "source": [
    "import pennylane as qml\n",
    "from pennylane import numpy as np\n",
    "import matplotlib.pyplot as plt\n",
    "import cmath"
   ]
  },
  {
   "cell_type": "code",
   "execution_count": 2,
   "id": "a815e966",
   "metadata": {},
   "outputs": [],
   "source": [
    "Id = np.identity(2)\n",
    "Z = np.array([[1, 0], [0, -1]])\n",
    "X = np.array([[0, 1], [1, 0]])\n",
    "Y = np.array([[0,complex(0,1)],[-complex(0,1),0]])"
   ]
  },
  {
   "cell_type": "code",
   "execution_count": 3,
   "id": "d10fa2f2",
   "metadata": {},
   "outputs": [],
   "source": [
    "A_0 = np.identity(8)\n",
    "A_1 = np.kron(np.kron(X, Z), Id)\n",
    "A_2 = np.kron(np.kron(X, Id), Id)\n",
    "\n",
    "c = np.array([1.0, 0.2, 0.3])\n",
    "A = c[0] * A_0 + c[1] * A_1 + c[2] * A_2\n",
    "\n",
    "len_A = int(np.log2(len(A)))"
   ]
  },
  {
   "cell_type": "code",
   "execution_count": 4,
   "id": "4c73daab",
   "metadata": {},
   "outputs": [
    {
     "data": {
      "text/plain": [
       "3"
      ]
     },
     "execution_count": 4,
     "metadata": {},
     "output_type": "execute_result"
    }
   ],
   "source": [
    "len_A"
   ]
  },
  {
   "cell_type": "code",
   "execution_count": 5,
   "id": "52fae92f",
   "metadata": {},
   "outputs": [
    {
     "data": {
      "text/plain": [
       "tensor([[1. , 0. , 0. , 0. , 0.5, 0. , 0. , 0. ],\n",
       "        [0. , 1. , 0. , 0. , 0. , 0.5, 0. , 0. ],\n",
       "        [0. , 0. , 1. , 0. , 0. , 0. , 0.1, 0. ],\n",
       "        [0. , 0. , 0. , 1. , 0. , 0. , 0. , 0.1],\n",
       "        [0.5, 0. , 0. , 0. , 1. , 0. , 0. , 0. ],\n",
       "        [0. , 0.5, 0. , 0. , 0. , 1. , 0. , 0. ],\n",
       "        [0. , 0. , 0.1, 0. , 0. , 0. , 1. , 0. ],\n",
       "        [0. , 0. , 0. , 0.1, 0. , 0. , 0. , 1. ]], requires_grad=True)"
      ]
     },
     "execution_count": 5,
     "metadata": {},
     "output_type": "execute_result"
    }
   ],
   "source": [
    "A"
   ]
  },
  {
   "cell_type": "code",
   "execution_count": 6,
   "id": "83759462",
   "metadata": {},
   "outputs": [],
   "source": [
    "gate_arrays = {\"Id\":Id,  \"X\":X, \"Y\": Y, \"Z\": Z}\n",
    "gate_array_names = [\"Id\",\"X\",\"Y\",\"Z\"]"
   ]
  },
  {
   "cell_type": "code",
   "execution_count": 7,
   "id": "f48a3e0e",
   "metadata": {},
   "outputs": [
    {
     "data": {
      "text/plain": [
       "{'Id': tensor([[1., 0.],\n",
       "         [0., 1.]], requires_grad=True),\n",
       " 'X': tensor([[0, 1],\n",
       "         [1, 0]], requires_grad=True),\n",
       " 'Y': tensor([[ 0.+0.j,  0.+1.j],\n",
       "         [-0.-1.j,  0.+0.j]], requires_grad=True),\n",
       " 'Z': tensor([[ 1,  0],\n",
       "         [ 0, -1]], requires_grad=True)}"
      ]
     },
     "execution_count": 7,
     "metadata": {},
     "output_type": "execute_result"
    }
   ],
   "source": [
    "gate_arrays"
   ]
  },
  {
   "cell_type": "code",
   "execution_count": 8,
   "id": "662ab079",
   "metadata": {},
   "outputs": [],
   "source": [
    "combination_names = []\n",
    "temp_array = []\n",
    "\n",
    "for i in range(len_A):\n",
    "    for j in range(len(gate_array_names)):\n",
    "        None"
   ]
  },
  {
   "cell_type": "code",
   "execution_count": 9,
   "id": "f4064881",
   "metadata": {},
   "outputs": [],
   "source": [
    "gate_array_names_1 = gate_array_names\n",
    "gate_array_names_2 = gate_array_names\n",
    "gate_array_names_3 = gate_array_names"
   ]
  },
  {
   "cell_type": "code",
   "execution_count": 10,
   "id": "29b215ab",
   "metadata": {},
   "outputs": [
    {
     "name": "stdout",
     "output_type": "stream",
     "text": [
      "['Id', 'X', 'Y', 'Z']\n",
      "['Id', 'X', 'Y', 'Z']\n",
      "['Id', 'X', 'Y', 'Z']\n"
     ]
    }
   ],
   "source": [
    "counter = 0\n",
    "\n",
    "while counter < len_A:\n",
    "    print(gate_array_names)\n",
    "    counter += 1"
   ]
  },
  {
   "cell_type": "code",
   "execution_count": 11,
   "id": "88269b97",
   "metadata": {},
   "outputs": [],
   "source": [
    "#For 4x4 matrix\n",
    "combined_4x4 = []\n",
    "\n",
    "for i in range(len(gate_array_names)):\n",
    "    for j in range(len(gate_array_names)):\n",
    "        temp_array = [gate_array_names[i], gate_array_names[j]]\n",
    "        combined_4x4.append(temp_array)\n",
    "    "
   ]
  },
  {
   "cell_type": "code",
   "execution_count": 12,
   "id": "09b38bf9",
   "metadata": {},
   "outputs": [
    {
     "data": {
      "text/plain": [
       "[['Id', 'Id'],\n",
       " ['Id', 'X'],\n",
       " ['Id', 'Y'],\n",
       " ['Id', 'Z'],\n",
       " ['X', 'Id'],\n",
       " ['X', 'X'],\n",
       " ['X', 'Y'],\n",
       " ['X', 'Z'],\n",
       " ['Y', 'Id'],\n",
       " ['Y', 'X'],\n",
       " ['Y', 'Y'],\n",
       " ['Y', 'Z'],\n",
       " ['Z', 'Id'],\n",
       " ['Z', 'X'],\n",
       " ['Z', 'Y'],\n",
       " ['Z', 'Z']]"
      ]
     },
     "execution_count": 12,
     "metadata": {},
     "output_type": "execute_result"
    }
   ],
   "source": [
    "combined_4x4"
   ]
  },
  {
   "cell_type": "code",
   "execution_count": 13,
   "id": "6b5ad966",
   "metadata": {},
   "outputs": [],
   "source": [
    "#For 4x4 matrix\n",
    "combined_8x8 = []\n",
    "\n",
    "for i in range(len(gate_array_names)):\n",
    "    for j in range(len(gate_array_names)):\n",
    "        for k in range(len(gate_array_names)):\n",
    "            temp_array = [gate_array_names[i], gate_array_names[j], gate_array_names[k]]\n",
    "            combined_8x8.append(temp_array)"
   ]
  },
  {
   "cell_type": "code",
   "execution_count": 14,
   "id": "3084aabf",
   "metadata": {},
   "outputs": [],
   "source": [
    "import itertools"
   ]
  },
  {
   "cell_type": "code",
   "execution_count": 15,
   "id": "95b4f2ab",
   "metadata": {},
   "outputs": [
    {
     "data": {
      "text/plain": [
       "[['Id', 'Id', 'Id'],\n",
       " ['Id', 'Id', 'X'],\n",
       " ['Id', 'Id', 'Y'],\n",
       " ['Id', 'Id', 'Z'],\n",
       " ['Id', 'X', 'Id'],\n",
       " ['Id', 'X', 'X'],\n",
       " ['Id', 'X', 'Y'],\n",
       " ['Id', 'X', 'Z'],\n",
       " ['Id', 'Y', 'Id'],\n",
       " ['Id', 'Y', 'X'],\n",
       " ['Id', 'Y', 'Y'],\n",
       " ['Id', 'Y', 'Z'],\n",
       " ['Id', 'Z', 'Id'],\n",
       " ['Id', 'Z', 'X'],\n",
       " ['Id', 'Z', 'Y'],\n",
       " ['Id', 'Z', 'Z'],\n",
       " ['X', 'Id', 'Id'],\n",
       " ['X', 'Id', 'X'],\n",
       " ['X', 'Id', 'Y'],\n",
       " ['X', 'Id', 'Z'],\n",
       " ['X', 'X', 'Id'],\n",
       " ['X', 'X', 'X'],\n",
       " ['X', 'X', 'Y'],\n",
       " ['X', 'X', 'Z'],\n",
       " ['X', 'Y', 'Id'],\n",
       " ['X', 'Y', 'X'],\n",
       " ['X', 'Y', 'Y'],\n",
       " ['X', 'Y', 'Z'],\n",
       " ['X', 'Z', 'Id'],\n",
       " ['X', 'Z', 'X'],\n",
       " ['X', 'Z', 'Y'],\n",
       " ['X', 'Z', 'Z'],\n",
       " ['Y', 'Id', 'Id'],\n",
       " ['Y', 'Id', 'X'],\n",
       " ['Y', 'Id', 'Y'],\n",
       " ['Y', 'Id', 'Z'],\n",
       " ['Y', 'X', 'Id'],\n",
       " ['Y', 'X', 'X'],\n",
       " ['Y', 'X', 'Y'],\n",
       " ['Y', 'X', 'Z'],\n",
       " ['Y', 'Y', 'Id'],\n",
       " ['Y', 'Y', 'X'],\n",
       " ['Y', 'Y', 'Y'],\n",
       " ['Y', 'Y', 'Z'],\n",
       " ['Y', 'Z', 'Id'],\n",
       " ['Y', 'Z', 'X'],\n",
       " ['Y', 'Z', 'Y'],\n",
       " ['Y', 'Z', 'Z'],\n",
       " ['Z', 'Id', 'Id'],\n",
       " ['Z', 'Id', 'X'],\n",
       " ['Z', 'Id', 'Y'],\n",
       " ['Z', 'Id', 'Z'],\n",
       " ['Z', 'X', 'Id'],\n",
       " ['Z', 'X', 'X'],\n",
       " ['Z', 'X', 'Y'],\n",
       " ['Z', 'X', 'Z'],\n",
       " ['Z', 'Y', 'Id'],\n",
       " ['Z', 'Y', 'X'],\n",
       " ['Z', 'Y', 'Y'],\n",
       " ['Z', 'Y', 'Z'],\n",
       " ['Z', 'Z', 'Id'],\n",
       " ['Z', 'Z', 'X'],\n",
       " ['Z', 'Z', 'Y'],\n",
       " ['Z', 'Z', 'Z']]"
      ]
     },
     "execution_count": 15,
     "metadata": {},
     "output_type": "execute_result"
    }
   ],
   "source": [
    "combined_8x8"
   ]
  },
  {
   "cell_type": "code",
   "execution_count": 16,
   "id": "15d57d57",
   "metadata": {},
   "outputs": [],
   "source": [
    "Id = np.identity(2)\n",
    "Z = np.array([[1, 0], [0, -1]])\n",
    "X = np.array([[0, 1], [1, 0]])\n",
    "Y = np.array([[0,complex(0,1)],[-complex(0,1),0]])"
   ]
  },
  {
   "cell_type": "code",
   "execution_count": 17,
   "id": "2a187394",
   "metadata": {},
   "outputs": [],
   "source": [
    "gate_array = [Id,X,Y,Z]"
   ]
  },
  {
   "cell_type": "code",
   "execution_count": 18,
   "id": "5485bc18",
   "metadata": {},
   "outputs": [],
   "source": [
    "counter = 0\n",
    "i = 0\n",
    "\n",
    "combination = gate_array\n",
    "temp_array = gate_array\n",
    "\n",
    "while counter < len_A - 1:\n",
    "\n",
    "    combination = np.kron(combination, gate_array)\n",
    "    \n",
    "    counter += 1"
   ]
  },
  {
   "cell_type": "code",
   "execution_count": 19,
   "id": "990ac577",
   "metadata": {},
   "outputs": [
    {
     "name": "stdout",
     "output_type": "stream",
     "text": [
      "[(1+0j), 0j, 0j, 0j, 0j, 0j, 0j, 0j, 0j, 0j, 0j, 0j, 0j, 0j, 0j, 0j, (0.3+0j), 0j, 0j, 0j, 0j, 0j, 0j, 0j, 0j, 0j, 0j, 0j, (0.2+0j), 0j, 0j, 0j, 0j, 0j, 0j, 0j, 0j, 0j, 0j, 0j, 0j, 0j, 0j, 0j, 0j, 0j, 0j, 0j, 0j, 0j, 0j, 0j, 0j, 0j, 0j, 0j, 0j, 0j, 0j, 0j, 0j, 0j, 0j, 0j]\n"
     ]
    }
   ],
   "source": [
    "final_array = np.zeros((len(A),len(A)), dtype=complex)\n",
    "c = []\n",
    "\n",
    "for i in range(len(combination)):\n",
    "    c_temp =  1/(len(A)) * np.matrix.trace(np.matmul(A,combination[i]))\n",
    "    final_array +=  c_temp * combination[i]\n",
    "    c.append(c_temp)\n",
    "\n",
    "print(c)"
   ]
  },
  {
   "cell_type": "code",
   "execution_count": 20,
   "id": "56f7cf54",
   "metadata": {},
   "outputs": [
    {
     "data": {
      "text/plain": [
       "[(1+0j),\n",
       " 0j,\n",
       " 0j,\n",
       " 0j,\n",
       " 0j,\n",
       " 0j,\n",
       " 0j,\n",
       " 0j,\n",
       " 0j,\n",
       " 0j,\n",
       " 0j,\n",
       " 0j,\n",
       " 0j,\n",
       " 0j,\n",
       " 0j,\n",
       " 0j,\n",
       " (0.3+0j),\n",
       " 0j,\n",
       " 0j,\n",
       " 0j,\n",
       " 0j,\n",
       " 0j,\n",
       " 0j,\n",
       " 0j,\n",
       " 0j,\n",
       " 0j,\n",
       " 0j,\n",
       " 0j,\n",
       " (0.2+0j),\n",
       " 0j,\n",
       " 0j,\n",
       " 0j,\n",
       " 0j,\n",
       " 0j,\n",
       " 0j,\n",
       " 0j,\n",
       " 0j,\n",
       " 0j,\n",
       " 0j,\n",
       " 0j,\n",
       " 0j,\n",
       " 0j,\n",
       " 0j,\n",
       " 0j,\n",
       " 0j,\n",
       " 0j,\n",
       " 0j,\n",
       " 0j,\n",
       " 0j,\n",
       " 0j,\n",
       " 0j,\n",
       " 0j,\n",
       " 0j,\n",
       " 0j,\n",
       " 0j,\n",
       " 0j,\n",
       " 0j,\n",
       " 0j,\n",
       " 0j,\n",
       " 0j,\n",
       " 0j,\n",
       " 0j,\n",
       " 0j,\n",
       " 0j]"
      ]
     },
     "execution_count": 20,
     "metadata": {},
     "output_type": "execute_result"
    }
   ],
   "source": [
    "c"
   ]
  },
  {
   "cell_type": "code",
   "execution_count": 21,
   "id": "7a93ee11",
   "metadata": {},
   "outputs": [],
   "source": [
    "c_final = [i for i in c if i != 0]"
   ]
  },
  {
   "cell_type": "code",
   "execution_count": 22,
   "id": "2bf31d66",
   "metadata": {},
   "outputs": [
    {
     "data": {
      "text/plain": [
       "[(1+0j), (0.3+0j), (0.2+0j)]"
      ]
     },
     "execution_count": 22,
     "metadata": {},
     "output_type": "execute_result"
    }
   ],
   "source": [
    "c_final"
   ]
  },
  {
   "cell_type": "code",
   "execution_count": 23,
   "id": "01ec50c8",
   "metadata": {},
   "outputs": [],
   "source": [
    "combined_8x8_final = [combined_8x8[i] for i in range(len(c)) if c[i] != 0]"
   ]
  },
  {
   "cell_type": "code",
   "execution_count": 24,
   "id": "d30b8749",
   "metadata": {},
   "outputs": [
    {
     "data": {
      "text/plain": [
       "[['Id', 'Id', 'Id'], ['X', 'Id', 'Id'], ['X', 'Z', 'Id']]"
      ]
     },
     "execution_count": 24,
     "metadata": {},
     "output_type": "execute_result"
    }
   ],
   "source": [
    "combined_8x8_final"
   ]
  },
  {
   "cell_type": "code",
   "execution_count": 25,
   "id": "b2da7d38",
   "metadata": {},
   "outputs": [],
   "source": [
    "c = c[c != 0]"
   ]
  },
  {
   "cell_type": "code",
   "execution_count": 26,
   "id": "e06af853",
   "metadata": {},
   "outputs": [
    {
     "data": {
      "text/plain": [
       "0j"
      ]
     },
     "execution_count": 26,
     "metadata": {},
     "output_type": "execute_result"
    }
   ],
   "source": [
    "c"
   ]
  },
  {
   "cell_type": "code",
   "execution_count": 27,
   "id": "de3ed8e1",
   "metadata": {},
   "outputs": [
    {
     "data": {
      "text/plain": [
       "[['Id', 'Id', 'Id'],\n",
       " ['Id', 'Id', 'X'],\n",
       " ['Id', 'Id', 'Y'],\n",
       " ['Id', 'Id', 'Z'],\n",
       " ['Id', 'X', 'Id'],\n",
       " ['Id', 'X', 'X'],\n",
       " ['Id', 'X', 'Y'],\n",
       " ['Id', 'X', 'Z'],\n",
       " ['Id', 'Y', 'Id'],\n",
       " ['Id', 'Y', 'X'],\n",
       " ['Id', 'Y', 'Y'],\n",
       " ['Id', 'Y', 'Z'],\n",
       " ['Id', 'Z', 'Id'],\n",
       " ['Id', 'Z', 'X'],\n",
       " ['Id', 'Z', 'Y'],\n",
       " ['Id', 'Z', 'Z'],\n",
       " ['X', 'Id', 'Id'],\n",
       " ['X', 'Id', 'X'],\n",
       " ['X', 'Id', 'Y'],\n",
       " ['X', 'Id', 'Z'],\n",
       " ['X', 'X', 'Id'],\n",
       " ['X', 'X', 'X'],\n",
       " ['X', 'X', 'Y'],\n",
       " ['X', 'X', 'Z'],\n",
       " ['X', 'Y', 'Id'],\n",
       " ['X', 'Y', 'X'],\n",
       " ['X', 'Y', 'Y'],\n",
       " ['X', 'Y', 'Z'],\n",
       " ['X', 'Z', 'Id'],\n",
       " ['X', 'Z', 'X'],\n",
       " ['X', 'Z', 'Y'],\n",
       " ['X', 'Z', 'Z'],\n",
       " ['Y', 'Id', 'Id'],\n",
       " ['Y', 'Id', 'X'],\n",
       " ['Y', 'Id', 'Y'],\n",
       " ['Y', 'Id', 'Z'],\n",
       " ['Y', 'X', 'Id'],\n",
       " ['Y', 'X', 'X'],\n",
       " ['Y', 'X', 'Y'],\n",
       " ['Y', 'X', 'Z'],\n",
       " ['Y', 'Y', 'Id'],\n",
       " ['Y', 'Y', 'X'],\n",
       " ['Y', 'Y', 'Y'],\n",
       " ['Y', 'Y', 'Z'],\n",
       " ['Y', 'Z', 'Id'],\n",
       " ['Y', 'Z', 'X'],\n",
       " ['Y', 'Z', 'Y'],\n",
       " ['Y', 'Z', 'Z'],\n",
       " ['Z', 'Id', 'Id'],\n",
       " ['Z', 'Id', 'X'],\n",
       " ['Z', 'Id', 'Y'],\n",
       " ['Z', 'Id', 'Z'],\n",
       " ['Z', 'X', 'Id'],\n",
       " ['Z', 'X', 'X'],\n",
       " ['Z', 'X', 'Y'],\n",
       " ['Z', 'X', 'Z'],\n",
       " ['Z', 'Y', 'Id'],\n",
       " ['Z', 'Y', 'X'],\n",
       " ['Z', 'Y', 'Y'],\n",
       " ['Z', 'Y', 'Z'],\n",
       " ['Z', 'Z', 'Id'],\n",
       " ['Z', 'Z', 'X'],\n",
       " ['Z', 'Z', 'Y'],\n",
       " ['Z', 'Z', 'Z']]"
      ]
     },
     "execution_count": 27,
     "metadata": {},
     "output_type": "execute_result"
    }
   ],
   "source": [
    "combined_8x8"
   ]
  },
  {
   "cell_type": "code",
   "execution_count": 28,
   "id": "b80bef55",
   "metadata": {},
   "outputs": [
    {
     "data": {
      "text/plain": [
       "64"
      ]
     },
     "execution_count": 28,
     "metadata": {},
     "output_type": "execute_result"
    }
   ],
   "source": [
    "len(combination)"
   ]
  },
  {
   "cell_type": "code",
   "execution_count": 29,
   "id": "0771b9d2",
   "metadata": {},
   "outputs": [
    {
     "data": {
      "text/plain": [
       "64"
      ]
     },
     "execution_count": 29,
     "metadata": {},
     "output_type": "execute_result"
    }
   ],
   "source": [
    "len(combined_8x8)"
   ]
  },
  {
   "cell_type": "code",
   "execution_count": null,
   "id": "41d4b64e",
   "metadata": {},
   "outputs": [],
   "source": []
  },
  {
   "cell_type": "code",
   "execution_count": 30,
   "id": "8a69d703",
   "metadata": {},
   "outputs": [],
   "source": [
    "import itertools\n",
    "from itertools import product"
   ]
  },
  {
   "cell_type": "code",
   "execution_count": 57,
   "id": "2b6c974a",
   "metadata": {},
   "outputs": [],
   "source": [
    "combinations = list(product('IXYZ', repeat = 5))"
   ]
  },
  {
   "cell_type": "code",
   "execution_count": 61,
   "id": "771b671e",
   "metadata": {},
   "outputs": [
    {
     "name": "stdout",
     "output_type": "stream",
     "text": [
      "[('I', 'I', 'I', 'I', 'I'), ('I', 'I', 'I', 'I', 'X'), ('I', 'I', 'I', 'I', 'Y'), ('I', 'I', 'I', 'I', 'Z'), ('I', 'I', 'I', 'X', 'I'), ('I', 'I', 'I', 'X', 'X'), ('I', 'I', 'I', 'X', 'Y'), ('I', 'I', 'I', 'X', 'Z'), ('I', 'I', 'I', 'Y', 'I'), ('I', 'I', 'I', 'Y', 'X'), ('I', 'I', 'I', 'Y', 'Y'), ('I', 'I', 'I', 'Y', 'Z'), ('I', 'I', 'I', 'Z', 'I'), ('I', 'I', 'I', 'Z', 'X'), ('I', 'I', 'I', 'Z', 'Y'), ('I', 'I', 'I', 'Z', 'Z'), ('I', 'I', 'X', 'I', 'I'), ('I', 'I', 'X', 'I', 'X'), ('I', 'I', 'X', 'I', 'Y'), ('I', 'I', 'X', 'I', 'Z'), ('I', 'I', 'X', 'X', 'I'), ('I', 'I', 'X', 'X', 'X'), ('I', 'I', 'X', 'X', 'Y'), ('I', 'I', 'X', 'X', 'Z'), ('I', 'I', 'X', 'Y', 'I'), ('I', 'I', 'X', 'Y', 'X'), ('I', 'I', 'X', 'Y', 'Y'), ('I', 'I', 'X', 'Y', 'Z'), ('I', 'I', 'X', 'Z', 'I'), ('I', 'I', 'X', 'Z', 'X'), ('I', 'I', 'X', 'Z', 'Y'), ('I', 'I', 'X', 'Z', 'Z'), ('I', 'I', 'Y', 'I', 'I'), ('I', 'I', 'Y', 'I', 'X'), ('I', 'I', 'Y', 'I', 'Y'), ('I', 'I', 'Y', 'I', 'Z'), ('I', 'I', 'Y', 'X', 'I'), ('I', 'I', 'Y', 'X', 'X'), ('I', 'I', 'Y', 'X', 'Y'), ('I', 'I', 'Y', 'X', 'Z'), ('I', 'I', 'Y', 'Y', 'I'), ('I', 'I', 'Y', 'Y', 'X'), ('I', 'I', 'Y', 'Y', 'Y'), ('I', 'I', 'Y', 'Y', 'Z'), ('I', 'I', 'Y', 'Z', 'I'), ('I', 'I', 'Y', 'Z', 'X'), ('I', 'I', 'Y', 'Z', 'Y'), ('I', 'I', 'Y', 'Z', 'Z'), ('I', 'I', 'Z', 'I', 'I'), ('I', 'I', 'Z', 'I', 'X'), ('I', 'I', 'Z', 'I', 'Y'), ('I', 'I', 'Z', 'I', 'Z'), ('I', 'I', 'Z', 'X', 'I'), ('I', 'I', 'Z', 'X', 'X'), ('I', 'I', 'Z', 'X', 'Y'), ('I', 'I', 'Z', 'X', 'Z'), ('I', 'I', 'Z', 'Y', 'I'), ('I', 'I', 'Z', 'Y', 'X'), ('I', 'I', 'Z', 'Y', 'Y'), ('I', 'I', 'Z', 'Y', 'Z'), ('I', 'I', 'Z', 'Z', 'I'), ('I', 'I', 'Z', 'Z', 'X'), ('I', 'I', 'Z', 'Z', 'Y'), ('I', 'I', 'Z', 'Z', 'Z'), ('I', 'X', 'I', 'I', 'I'), ('I', 'X', 'I', 'I', 'X'), ('I', 'X', 'I', 'I', 'Y'), ('I', 'X', 'I', 'I', 'Z'), ('I', 'X', 'I', 'X', 'I'), ('I', 'X', 'I', 'X', 'X'), ('I', 'X', 'I', 'X', 'Y'), ('I', 'X', 'I', 'X', 'Z'), ('I', 'X', 'I', 'Y', 'I'), ('I', 'X', 'I', 'Y', 'X'), ('I', 'X', 'I', 'Y', 'Y'), ('I', 'X', 'I', 'Y', 'Z'), ('I', 'X', 'I', 'Z', 'I'), ('I', 'X', 'I', 'Z', 'X'), ('I', 'X', 'I', 'Z', 'Y'), ('I', 'X', 'I', 'Z', 'Z'), ('I', 'X', 'X', 'I', 'I'), ('I', 'X', 'X', 'I', 'X'), ('I', 'X', 'X', 'I', 'Y'), ('I', 'X', 'X', 'I', 'Z'), ('I', 'X', 'X', 'X', 'I'), ('I', 'X', 'X', 'X', 'X'), ('I', 'X', 'X', 'X', 'Y'), ('I', 'X', 'X', 'X', 'Z'), ('I', 'X', 'X', 'Y', 'I'), ('I', 'X', 'X', 'Y', 'X'), ('I', 'X', 'X', 'Y', 'Y'), ('I', 'X', 'X', 'Y', 'Z'), ('I', 'X', 'X', 'Z', 'I'), ('I', 'X', 'X', 'Z', 'X'), ('I', 'X', 'X', 'Z', 'Y'), ('I', 'X', 'X', 'Z', 'Z'), ('I', 'X', 'Y', 'I', 'I'), ('I', 'X', 'Y', 'I', 'X'), ('I', 'X', 'Y', 'I', 'Y'), ('I', 'X', 'Y', 'I', 'Z'), ('I', 'X', 'Y', 'X', 'I'), ('I', 'X', 'Y', 'X', 'X'), ('I', 'X', 'Y', 'X', 'Y'), ('I', 'X', 'Y', 'X', 'Z'), ('I', 'X', 'Y', 'Y', 'I'), ('I', 'X', 'Y', 'Y', 'X'), ('I', 'X', 'Y', 'Y', 'Y'), ('I', 'X', 'Y', 'Y', 'Z'), ('I', 'X', 'Y', 'Z', 'I'), ('I', 'X', 'Y', 'Z', 'X'), ('I', 'X', 'Y', 'Z', 'Y'), ('I', 'X', 'Y', 'Z', 'Z'), ('I', 'X', 'Z', 'I', 'I'), ('I', 'X', 'Z', 'I', 'X'), ('I', 'X', 'Z', 'I', 'Y'), ('I', 'X', 'Z', 'I', 'Z'), ('I', 'X', 'Z', 'X', 'I'), ('I', 'X', 'Z', 'X', 'X'), ('I', 'X', 'Z', 'X', 'Y'), ('I', 'X', 'Z', 'X', 'Z'), ('I', 'X', 'Z', 'Y', 'I'), ('I', 'X', 'Z', 'Y', 'X'), ('I', 'X', 'Z', 'Y', 'Y'), ('I', 'X', 'Z', 'Y', 'Z'), ('I', 'X', 'Z', 'Z', 'I'), ('I', 'X', 'Z', 'Z', 'X'), ('I', 'X', 'Z', 'Z', 'Y'), ('I', 'X', 'Z', 'Z', 'Z'), ('I', 'Y', 'I', 'I', 'I'), ('I', 'Y', 'I', 'I', 'X'), ('I', 'Y', 'I', 'I', 'Y'), ('I', 'Y', 'I', 'I', 'Z'), ('I', 'Y', 'I', 'X', 'I'), ('I', 'Y', 'I', 'X', 'X'), ('I', 'Y', 'I', 'X', 'Y'), ('I', 'Y', 'I', 'X', 'Z'), ('I', 'Y', 'I', 'Y', 'I'), ('I', 'Y', 'I', 'Y', 'X'), ('I', 'Y', 'I', 'Y', 'Y'), ('I', 'Y', 'I', 'Y', 'Z'), ('I', 'Y', 'I', 'Z', 'I'), ('I', 'Y', 'I', 'Z', 'X'), ('I', 'Y', 'I', 'Z', 'Y'), ('I', 'Y', 'I', 'Z', 'Z'), ('I', 'Y', 'X', 'I', 'I'), ('I', 'Y', 'X', 'I', 'X'), ('I', 'Y', 'X', 'I', 'Y'), ('I', 'Y', 'X', 'I', 'Z'), ('I', 'Y', 'X', 'X', 'I'), ('I', 'Y', 'X', 'X', 'X'), ('I', 'Y', 'X', 'X', 'Y'), ('I', 'Y', 'X', 'X', 'Z'), ('I', 'Y', 'X', 'Y', 'I'), ('I', 'Y', 'X', 'Y', 'X'), ('I', 'Y', 'X', 'Y', 'Y'), ('I', 'Y', 'X', 'Y', 'Z'), ('I', 'Y', 'X', 'Z', 'I'), ('I', 'Y', 'X', 'Z', 'X'), ('I', 'Y', 'X', 'Z', 'Y'), ('I', 'Y', 'X', 'Z', 'Z'), ('I', 'Y', 'Y', 'I', 'I'), ('I', 'Y', 'Y', 'I', 'X'), ('I', 'Y', 'Y', 'I', 'Y'), ('I', 'Y', 'Y', 'I', 'Z'), ('I', 'Y', 'Y', 'X', 'I'), ('I', 'Y', 'Y', 'X', 'X'), ('I', 'Y', 'Y', 'X', 'Y'), ('I', 'Y', 'Y', 'X', 'Z'), ('I', 'Y', 'Y', 'Y', 'I'), ('I', 'Y', 'Y', 'Y', 'X'), ('I', 'Y', 'Y', 'Y', 'Y'), ('I', 'Y', 'Y', 'Y', 'Z'), ('I', 'Y', 'Y', 'Z', 'I'), ('I', 'Y', 'Y', 'Z', 'X'), ('I', 'Y', 'Y', 'Z', 'Y'), ('I', 'Y', 'Y', 'Z', 'Z'), ('I', 'Y', 'Z', 'I', 'I'), ('I', 'Y', 'Z', 'I', 'X'), ('I', 'Y', 'Z', 'I', 'Y'), ('I', 'Y', 'Z', 'I', 'Z'), ('I', 'Y', 'Z', 'X', 'I'), ('I', 'Y', 'Z', 'X', 'X'), ('I', 'Y', 'Z', 'X', 'Y'), ('I', 'Y', 'Z', 'X', 'Z'), ('I', 'Y', 'Z', 'Y', 'I'), ('I', 'Y', 'Z', 'Y', 'X'), ('I', 'Y', 'Z', 'Y', 'Y'), ('I', 'Y', 'Z', 'Y', 'Z'), ('I', 'Y', 'Z', 'Z', 'I'), ('I', 'Y', 'Z', 'Z', 'X'), ('I', 'Y', 'Z', 'Z', 'Y'), ('I', 'Y', 'Z', 'Z', 'Z'), ('I', 'Z', 'I', 'I', 'I'), ('I', 'Z', 'I', 'I', 'X'), ('I', 'Z', 'I', 'I', 'Y'), ('I', 'Z', 'I', 'I', 'Z'), ('I', 'Z', 'I', 'X', 'I'), ('I', 'Z', 'I', 'X', 'X'), ('I', 'Z', 'I', 'X', 'Y'), ('I', 'Z', 'I', 'X', 'Z'), ('I', 'Z', 'I', 'Y', 'I'), ('I', 'Z', 'I', 'Y', 'X'), ('I', 'Z', 'I', 'Y', 'Y'), ('I', 'Z', 'I', 'Y', 'Z'), ('I', 'Z', 'I', 'Z', 'I'), ('I', 'Z', 'I', 'Z', 'X'), ('I', 'Z', 'I', 'Z', 'Y'), ('I', 'Z', 'I', 'Z', 'Z'), ('I', 'Z', 'X', 'I', 'I'), ('I', 'Z', 'X', 'I', 'X'), ('I', 'Z', 'X', 'I', 'Y'), ('I', 'Z', 'X', 'I', 'Z'), ('I', 'Z', 'X', 'X', 'I'), ('I', 'Z', 'X', 'X', 'X'), ('I', 'Z', 'X', 'X', 'Y'), ('I', 'Z', 'X', 'X', 'Z'), ('I', 'Z', 'X', 'Y', 'I'), ('I', 'Z', 'X', 'Y', 'X'), ('I', 'Z', 'X', 'Y', 'Y'), ('I', 'Z', 'X', 'Y', 'Z'), ('I', 'Z', 'X', 'Z', 'I'), ('I', 'Z', 'X', 'Z', 'X'), ('I', 'Z', 'X', 'Z', 'Y'), ('I', 'Z', 'X', 'Z', 'Z'), ('I', 'Z', 'Y', 'I', 'I'), ('I', 'Z', 'Y', 'I', 'X'), ('I', 'Z', 'Y', 'I', 'Y'), ('I', 'Z', 'Y', 'I', 'Z'), ('I', 'Z', 'Y', 'X', 'I'), ('I', 'Z', 'Y', 'X', 'X'), ('I', 'Z', 'Y', 'X', 'Y'), ('I', 'Z', 'Y', 'X', 'Z'), ('I', 'Z', 'Y', 'Y', 'I'), ('I', 'Z', 'Y', 'Y', 'X'), ('I', 'Z', 'Y', 'Y', 'Y'), ('I', 'Z', 'Y', 'Y', 'Z'), ('I', 'Z', 'Y', 'Z', 'I'), ('I', 'Z', 'Y', 'Z', 'X'), ('I', 'Z', 'Y', 'Z', 'Y'), ('I', 'Z', 'Y', 'Z', 'Z'), ('I', 'Z', 'Z', 'I', 'I'), ('I', 'Z', 'Z', 'I', 'X'), ('I', 'Z', 'Z', 'I', 'Y'), ('I', 'Z', 'Z', 'I', 'Z'), ('I', 'Z', 'Z', 'X', 'I'), ('I', 'Z', 'Z', 'X', 'X'), ('I', 'Z', 'Z', 'X', 'Y'), ('I', 'Z', 'Z', 'X', 'Z'), ('I', 'Z', 'Z', 'Y', 'I'), ('I', 'Z', 'Z', 'Y', 'X'), ('I', 'Z', 'Z', 'Y', 'Y'), ('I', 'Z', 'Z', 'Y', 'Z'), ('I', 'Z', 'Z', 'Z', 'I'), ('I', 'Z', 'Z', 'Z', 'X'), ('I', 'Z', 'Z', 'Z', 'Y'), ('I', 'Z', 'Z', 'Z', 'Z'), ('X', 'I', 'I', 'I', 'I'), ('X', 'I', 'I', 'I', 'X'), ('X', 'I', 'I', 'I', 'Y'), ('X', 'I', 'I', 'I', 'Z'), ('X', 'I', 'I', 'X', 'I'), ('X', 'I', 'I', 'X', 'X'), ('X', 'I', 'I', 'X', 'Y'), ('X', 'I', 'I', 'X', 'Z'), ('X', 'I', 'I', 'Y', 'I'), ('X', 'I', 'I', 'Y', 'X'), ('X', 'I', 'I', 'Y', 'Y'), ('X', 'I', 'I', 'Y', 'Z'), ('X', 'I', 'I', 'Z', 'I'), ('X', 'I', 'I', 'Z', 'X'), ('X', 'I', 'I', 'Z', 'Y'), ('X', 'I', 'I', 'Z', 'Z'), ('X', 'I', 'X', 'I', 'I'), ('X', 'I', 'X', 'I', 'X'), ('X', 'I', 'X', 'I', 'Y'), ('X', 'I', 'X', 'I', 'Z'), ('X', 'I', 'X', 'X', 'I'), ('X', 'I', 'X', 'X', 'X'), ('X', 'I', 'X', 'X', 'Y'), ('X', 'I', 'X', 'X', 'Z'), ('X', 'I', 'X', 'Y', 'I'), ('X', 'I', 'X', 'Y', 'X'), ('X', 'I', 'X', 'Y', 'Y'), ('X', 'I', 'X', 'Y', 'Z'), ('X', 'I', 'X', 'Z', 'I'), ('X', 'I', 'X', 'Z', 'X'), ('X', 'I', 'X', 'Z', 'Y'), ('X', 'I', 'X', 'Z', 'Z'), ('X', 'I', 'Y', 'I', 'I'), ('X', 'I', 'Y', 'I', 'X'), ('X', 'I', 'Y', 'I', 'Y'), ('X', 'I', 'Y', 'I', 'Z'), ('X', 'I', 'Y', 'X', 'I'), ('X', 'I', 'Y', 'X', 'X'), ('X', 'I', 'Y', 'X', 'Y'), ('X', 'I', 'Y', 'X', 'Z'), ('X', 'I', 'Y', 'Y', 'I'), ('X', 'I', 'Y', 'Y', 'X'), ('X', 'I', 'Y', 'Y', 'Y'), ('X', 'I', 'Y', 'Y', 'Z'), ('X', 'I', 'Y', 'Z', 'I'), ('X', 'I', 'Y', 'Z', 'X'), ('X', 'I', 'Y', 'Z', 'Y'), ('X', 'I', 'Y', 'Z', 'Z'), ('X', 'I', 'Z', 'I', 'I'), ('X', 'I', 'Z', 'I', 'X'), ('X', 'I', 'Z', 'I', 'Y'), ('X', 'I', 'Z', 'I', 'Z'), ('X', 'I', 'Z', 'X', 'I'), ('X', 'I', 'Z', 'X', 'X'), ('X', 'I', 'Z', 'X', 'Y'), ('X', 'I', 'Z', 'X', 'Z'), ('X', 'I', 'Z', 'Y', 'I'), ('X', 'I', 'Z', 'Y', 'X'), ('X', 'I', 'Z', 'Y', 'Y'), ('X', 'I', 'Z', 'Y', 'Z'), ('X', 'I', 'Z', 'Z', 'I'), ('X', 'I', 'Z', 'Z', 'X'), ('X', 'I', 'Z', 'Z', 'Y'), ('X', 'I', 'Z', 'Z', 'Z'), ('X', 'X', 'I', 'I', 'I'), ('X', 'X', 'I', 'I', 'X'), ('X', 'X', 'I', 'I', 'Y'), ('X', 'X', 'I', 'I', 'Z'), ('X', 'X', 'I', 'X', 'I'), ('X', 'X', 'I', 'X', 'X'), ('X', 'X', 'I', 'X', 'Y'), ('X', 'X', 'I', 'X', 'Z'), ('X', 'X', 'I', 'Y', 'I'), ('X', 'X', 'I', 'Y', 'X'), ('X', 'X', 'I', 'Y', 'Y'), ('X', 'X', 'I', 'Y', 'Z'), ('X', 'X', 'I', 'Z', 'I'), ('X', 'X', 'I', 'Z', 'X'), ('X', 'X', 'I', 'Z', 'Y'), ('X', 'X', 'I', 'Z', 'Z'), ('X', 'X', 'X', 'I', 'I'), ('X', 'X', 'X', 'I', 'X'), ('X', 'X', 'X', 'I', 'Y'), ('X', 'X', 'X', 'I', 'Z'), ('X', 'X', 'X', 'X', 'I'), ('X', 'X', 'X', 'X', 'X'), ('X', 'X', 'X', 'X', 'Y'), ('X', 'X', 'X', 'X', 'Z'), ('X', 'X', 'X', 'Y', 'I'), ('X', 'X', 'X', 'Y', 'X'), ('X', 'X', 'X', 'Y', 'Y'), ('X', 'X', 'X', 'Y', 'Z'), ('X', 'X', 'X', 'Z', 'I'), ('X', 'X', 'X', 'Z', 'X'), ('X', 'X', 'X', 'Z', 'Y'), ('X', 'X', 'X', 'Z', 'Z'), ('X', 'X', 'Y', 'I', 'I'), ('X', 'X', 'Y', 'I', 'X'), ('X', 'X', 'Y', 'I', 'Y'), ('X', 'X', 'Y', 'I', 'Z'), ('X', 'X', 'Y', 'X', 'I'), ('X', 'X', 'Y', 'X', 'X'), ('X', 'X', 'Y', 'X', 'Y'), ('X', 'X', 'Y', 'X', 'Z'), ('X', 'X', 'Y', 'Y', 'I'), ('X', 'X', 'Y', 'Y', 'X'), ('X', 'X', 'Y', 'Y', 'Y'), ('X', 'X', 'Y', 'Y', 'Z'), ('X', 'X', 'Y', 'Z', 'I'), ('X', 'X', 'Y', 'Z', 'X'), ('X', 'X', 'Y', 'Z', 'Y'), ('X', 'X', 'Y', 'Z', 'Z'), ('X', 'X', 'Z', 'I', 'I'), ('X', 'X', 'Z', 'I', 'X'), ('X', 'X', 'Z', 'I', 'Y'), ('X', 'X', 'Z', 'I', 'Z'), ('X', 'X', 'Z', 'X', 'I'), ('X', 'X', 'Z', 'X', 'X'), ('X', 'X', 'Z', 'X', 'Y'), ('X', 'X', 'Z', 'X', 'Z'), ('X', 'X', 'Z', 'Y', 'I'), ('X', 'X', 'Z', 'Y', 'X'), ('X', 'X', 'Z', 'Y', 'Y'), ('X', 'X', 'Z', 'Y', 'Z'), ('X', 'X', 'Z', 'Z', 'I'), ('X', 'X', 'Z', 'Z', 'X'), ('X', 'X', 'Z', 'Z', 'Y'), ('X', 'X', 'Z', 'Z', 'Z'), ('X', 'Y', 'I', 'I', 'I'), ('X', 'Y', 'I', 'I', 'X'), ('X', 'Y', 'I', 'I', 'Y'), ('X', 'Y', 'I', 'I', 'Z'), ('X', 'Y', 'I', 'X', 'I'), ('X', 'Y', 'I', 'X', 'X'), ('X', 'Y', 'I', 'X', 'Y'), ('X', 'Y', 'I', 'X', 'Z'), ('X', 'Y', 'I', 'Y', 'I'), ('X', 'Y', 'I', 'Y', 'X'), ('X', 'Y', 'I', 'Y', 'Y'), ('X', 'Y', 'I', 'Y', 'Z'), ('X', 'Y', 'I', 'Z', 'I'), ('X', 'Y', 'I', 'Z', 'X'), ('X', 'Y', 'I', 'Z', 'Y'), ('X', 'Y', 'I', 'Z', 'Z'), ('X', 'Y', 'X', 'I', 'I'), ('X', 'Y', 'X', 'I', 'X'), ('X', 'Y', 'X', 'I', 'Y'), ('X', 'Y', 'X', 'I', 'Z'), ('X', 'Y', 'X', 'X', 'I'), ('X', 'Y', 'X', 'X', 'X'), ('X', 'Y', 'X', 'X', 'Y'), ('X', 'Y', 'X', 'X', 'Z'), ('X', 'Y', 'X', 'Y', 'I'), ('X', 'Y', 'X', 'Y', 'X'), ('X', 'Y', 'X', 'Y', 'Y'), ('X', 'Y', 'X', 'Y', 'Z'), ('X', 'Y', 'X', 'Z', 'I'), ('X', 'Y', 'X', 'Z', 'X'), ('X', 'Y', 'X', 'Z', 'Y'), ('X', 'Y', 'X', 'Z', 'Z'), ('X', 'Y', 'Y', 'I', 'I'), ('X', 'Y', 'Y', 'I', 'X'), ('X', 'Y', 'Y', 'I', 'Y'), ('X', 'Y', 'Y', 'I', 'Z'), ('X', 'Y', 'Y', 'X', 'I'), ('X', 'Y', 'Y', 'X', 'X'), ('X', 'Y', 'Y', 'X', 'Y'), ('X', 'Y', 'Y', 'X', 'Z'), ('X', 'Y', 'Y', 'Y', 'I'), ('X', 'Y', 'Y', 'Y', 'X'), ('X', 'Y', 'Y', 'Y', 'Y'), ('X', 'Y', 'Y', 'Y', 'Z'), ('X', 'Y', 'Y', 'Z', 'I'), ('X', 'Y', 'Y', 'Z', 'X'), ('X', 'Y', 'Y', 'Z', 'Y'), ('X', 'Y', 'Y', 'Z', 'Z'), ('X', 'Y', 'Z', 'I', 'I'), ('X', 'Y', 'Z', 'I', 'X'), ('X', 'Y', 'Z', 'I', 'Y'), ('X', 'Y', 'Z', 'I', 'Z'), ('X', 'Y', 'Z', 'X', 'I'), ('X', 'Y', 'Z', 'X', 'X'), ('X', 'Y', 'Z', 'X', 'Y'), ('X', 'Y', 'Z', 'X', 'Z'), ('X', 'Y', 'Z', 'Y', 'I'), ('X', 'Y', 'Z', 'Y', 'X'), ('X', 'Y', 'Z', 'Y', 'Y'), ('X', 'Y', 'Z', 'Y', 'Z'), ('X', 'Y', 'Z', 'Z', 'I'), ('X', 'Y', 'Z', 'Z', 'X'), ('X', 'Y', 'Z', 'Z', 'Y'), ('X', 'Y', 'Z', 'Z', 'Z'), ('X', 'Z', 'I', 'I', 'I'), ('X', 'Z', 'I', 'I', 'X'), ('X', 'Z', 'I', 'I', 'Y'), ('X', 'Z', 'I', 'I', 'Z'), ('X', 'Z', 'I', 'X', 'I'), ('X', 'Z', 'I', 'X', 'X'), ('X', 'Z', 'I', 'X', 'Y'), ('X', 'Z', 'I', 'X', 'Z'), ('X', 'Z', 'I', 'Y', 'I'), ('X', 'Z', 'I', 'Y', 'X'), ('X', 'Z', 'I', 'Y', 'Y'), ('X', 'Z', 'I', 'Y', 'Z'), ('X', 'Z', 'I', 'Z', 'I'), ('X', 'Z', 'I', 'Z', 'X'), ('X', 'Z', 'I', 'Z', 'Y'), ('X', 'Z', 'I', 'Z', 'Z'), ('X', 'Z', 'X', 'I', 'I'), ('X', 'Z', 'X', 'I', 'X'), ('X', 'Z', 'X', 'I', 'Y'), ('X', 'Z', 'X', 'I', 'Z'), ('X', 'Z', 'X', 'X', 'I'), ('X', 'Z', 'X', 'X', 'X'), ('X', 'Z', 'X', 'X', 'Y'), ('X', 'Z', 'X', 'X', 'Z'), ('X', 'Z', 'X', 'Y', 'I'), ('X', 'Z', 'X', 'Y', 'X'), ('X', 'Z', 'X', 'Y', 'Y'), ('X', 'Z', 'X', 'Y', 'Z'), ('X', 'Z', 'X', 'Z', 'I'), ('X', 'Z', 'X', 'Z', 'X'), ('X', 'Z', 'X', 'Z', 'Y'), ('X', 'Z', 'X', 'Z', 'Z'), ('X', 'Z', 'Y', 'I', 'I'), ('X', 'Z', 'Y', 'I', 'X'), ('X', 'Z', 'Y', 'I', 'Y'), ('X', 'Z', 'Y', 'I', 'Z'), ('X', 'Z', 'Y', 'X', 'I'), ('X', 'Z', 'Y', 'X', 'X'), ('X', 'Z', 'Y', 'X', 'Y'), ('X', 'Z', 'Y', 'X', 'Z'), ('X', 'Z', 'Y', 'Y', 'I'), ('X', 'Z', 'Y', 'Y', 'X'), ('X', 'Z', 'Y', 'Y', 'Y'), ('X', 'Z', 'Y', 'Y', 'Z'), ('X', 'Z', 'Y', 'Z', 'I'), ('X', 'Z', 'Y', 'Z', 'X'), ('X', 'Z', 'Y', 'Z', 'Y'), ('X', 'Z', 'Y', 'Z', 'Z'), ('X', 'Z', 'Z', 'I', 'I'), ('X', 'Z', 'Z', 'I', 'X'), ('X', 'Z', 'Z', 'I', 'Y'), ('X', 'Z', 'Z', 'I', 'Z'), ('X', 'Z', 'Z', 'X', 'I'), ('X', 'Z', 'Z', 'X', 'X'), ('X', 'Z', 'Z', 'X', 'Y'), ('X', 'Z', 'Z', 'X', 'Z'), ('X', 'Z', 'Z', 'Y', 'I'), ('X', 'Z', 'Z', 'Y', 'X'), ('X', 'Z', 'Z', 'Y', 'Y'), ('X', 'Z', 'Z', 'Y', 'Z'), ('X', 'Z', 'Z', 'Z', 'I'), ('X', 'Z', 'Z', 'Z', 'X'), ('X', 'Z', 'Z', 'Z', 'Y'), ('X', 'Z', 'Z', 'Z', 'Z'), ('Y', 'I', 'I', 'I', 'I'), ('Y', 'I', 'I', 'I', 'X'), ('Y', 'I', 'I', 'I', 'Y'), ('Y', 'I', 'I', 'I', 'Z'), ('Y', 'I', 'I', 'X', 'I'), ('Y', 'I', 'I', 'X', 'X'), ('Y', 'I', 'I', 'X', 'Y'), ('Y', 'I', 'I', 'X', 'Z'), ('Y', 'I', 'I', 'Y', 'I'), ('Y', 'I', 'I', 'Y', 'X'), ('Y', 'I', 'I', 'Y', 'Y'), ('Y', 'I', 'I', 'Y', 'Z'), ('Y', 'I', 'I', 'Z', 'I'), ('Y', 'I', 'I', 'Z', 'X'), ('Y', 'I', 'I', 'Z', 'Y'), ('Y', 'I', 'I', 'Z', 'Z'), ('Y', 'I', 'X', 'I', 'I'), ('Y', 'I', 'X', 'I', 'X'), ('Y', 'I', 'X', 'I', 'Y'), ('Y', 'I', 'X', 'I', 'Z'), ('Y', 'I', 'X', 'X', 'I'), ('Y', 'I', 'X', 'X', 'X'), ('Y', 'I', 'X', 'X', 'Y'), ('Y', 'I', 'X', 'X', 'Z'), ('Y', 'I', 'X', 'Y', 'I'), ('Y', 'I', 'X', 'Y', 'X'), ('Y', 'I', 'X', 'Y', 'Y'), ('Y', 'I', 'X', 'Y', 'Z'), ('Y', 'I', 'X', 'Z', 'I'), ('Y', 'I', 'X', 'Z', 'X'), ('Y', 'I', 'X', 'Z', 'Y'), ('Y', 'I', 'X', 'Z', 'Z'), ('Y', 'I', 'Y', 'I', 'I'), ('Y', 'I', 'Y', 'I', 'X'), ('Y', 'I', 'Y', 'I', 'Y'), ('Y', 'I', 'Y', 'I', 'Z'), ('Y', 'I', 'Y', 'X', 'I'), ('Y', 'I', 'Y', 'X', 'X'), ('Y', 'I', 'Y', 'X', 'Y'), ('Y', 'I', 'Y', 'X', 'Z'), ('Y', 'I', 'Y', 'Y', 'I'), ('Y', 'I', 'Y', 'Y', 'X'), ('Y', 'I', 'Y', 'Y', 'Y'), ('Y', 'I', 'Y', 'Y', 'Z'), ('Y', 'I', 'Y', 'Z', 'I'), ('Y', 'I', 'Y', 'Z', 'X'), ('Y', 'I', 'Y', 'Z', 'Y'), ('Y', 'I', 'Y', 'Z', 'Z'), ('Y', 'I', 'Z', 'I', 'I'), ('Y', 'I', 'Z', 'I', 'X'), ('Y', 'I', 'Z', 'I', 'Y'), ('Y', 'I', 'Z', 'I', 'Z'), ('Y', 'I', 'Z', 'X', 'I'), ('Y', 'I', 'Z', 'X', 'X'), ('Y', 'I', 'Z', 'X', 'Y'), ('Y', 'I', 'Z', 'X', 'Z'), ('Y', 'I', 'Z', 'Y', 'I'), ('Y', 'I', 'Z', 'Y', 'X'), ('Y', 'I', 'Z', 'Y', 'Y'), ('Y', 'I', 'Z', 'Y', 'Z'), ('Y', 'I', 'Z', 'Z', 'I'), ('Y', 'I', 'Z', 'Z', 'X'), ('Y', 'I', 'Z', 'Z', 'Y'), ('Y', 'I', 'Z', 'Z', 'Z'), ('Y', 'X', 'I', 'I', 'I'), ('Y', 'X', 'I', 'I', 'X'), ('Y', 'X', 'I', 'I', 'Y'), ('Y', 'X', 'I', 'I', 'Z'), ('Y', 'X', 'I', 'X', 'I'), ('Y', 'X', 'I', 'X', 'X'), ('Y', 'X', 'I', 'X', 'Y'), ('Y', 'X', 'I', 'X', 'Z'), ('Y', 'X', 'I', 'Y', 'I'), ('Y', 'X', 'I', 'Y', 'X'), ('Y', 'X', 'I', 'Y', 'Y'), ('Y', 'X', 'I', 'Y', 'Z'), ('Y', 'X', 'I', 'Z', 'I'), ('Y', 'X', 'I', 'Z', 'X'), ('Y', 'X', 'I', 'Z', 'Y'), ('Y', 'X', 'I', 'Z', 'Z'), ('Y', 'X', 'X', 'I', 'I'), ('Y', 'X', 'X', 'I', 'X'), ('Y', 'X', 'X', 'I', 'Y'), ('Y', 'X', 'X', 'I', 'Z'), ('Y', 'X', 'X', 'X', 'I'), ('Y', 'X', 'X', 'X', 'X'), ('Y', 'X', 'X', 'X', 'Y'), ('Y', 'X', 'X', 'X', 'Z'), ('Y', 'X', 'X', 'Y', 'I'), ('Y', 'X', 'X', 'Y', 'X'), ('Y', 'X', 'X', 'Y', 'Y'), ('Y', 'X', 'X', 'Y', 'Z'), ('Y', 'X', 'X', 'Z', 'I'), ('Y', 'X', 'X', 'Z', 'X'), ('Y', 'X', 'X', 'Z', 'Y'), ('Y', 'X', 'X', 'Z', 'Z'), ('Y', 'X', 'Y', 'I', 'I'), ('Y', 'X', 'Y', 'I', 'X'), ('Y', 'X', 'Y', 'I', 'Y'), ('Y', 'X', 'Y', 'I', 'Z'), ('Y', 'X', 'Y', 'X', 'I'), ('Y', 'X', 'Y', 'X', 'X'), ('Y', 'X', 'Y', 'X', 'Y'), ('Y', 'X', 'Y', 'X', 'Z'), ('Y', 'X', 'Y', 'Y', 'I'), ('Y', 'X', 'Y', 'Y', 'X'), ('Y', 'X', 'Y', 'Y', 'Y'), ('Y', 'X', 'Y', 'Y', 'Z'), ('Y', 'X', 'Y', 'Z', 'I'), ('Y', 'X', 'Y', 'Z', 'X'), ('Y', 'X', 'Y', 'Z', 'Y'), ('Y', 'X', 'Y', 'Z', 'Z'), ('Y', 'X', 'Z', 'I', 'I'), ('Y', 'X', 'Z', 'I', 'X'), ('Y', 'X', 'Z', 'I', 'Y'), ('Y', 'X', 'Z', 'I', 'Z'), ('Y', 'X', 'Z', 'X', 'I'), ('Y', 'X', 'Z', 'X', 'X'), ('Y', 'X', 'Z', 'X', 'Y'), ('Y', 'X', 'Z', 'X', 'Z'), ('Y', 'X', 'Z', 'Y', 'I'), ('Y', 'X', 'Z', 'Y', 'X'), ('Y', 'X', 'Z', 'Y', 'Y'), ('Y', 'X', 'Z', 'Y', 'Z'), ('Y', 'X', 'Z', 'Z', 'I'), ('Y', 'X', 'Z', 'Z', 'X'), ('Y', 'X', 'Z', 'Z', 'Y'), ('Y', 'X', 'Z', 'Z', 'Z'), ('Y', 'Y', 'I', 'I', 'I'), ('Y', 'Y', 'I', 'I', 'X'), ('Y', 'Y', 'I', 'I', 'Y'), ('Y', 'Y', 'I', 'I', 'Z'), ('Y', 'Y', 'I', 'X', 'I'), ('Y', 'Y', 'I', 'X', 'X'), ('Y', 'Y', 'I', 'X', 'Y'), ('Y', 'Y', 'I', 'X', 'Z'), ('Y', 'Y', 'I', 'Y', 'I'), ('Y', 'Y', 'I', 'Y', 'X'), ('Y', 'Y', 'I', 'Y', 'Y'), ('Y', 'Y', 'I', 'Y', 'Z'), ('Y', 'Y', 'I', 'Z', 'I'), ('Y', 'Y', 'I', 'Z', 'X'), ('Y', 'Y', 'I', 'Z', 'Y'), ('Y', 'Y', 'I', 'Z', 'Z'), ('Y', 'Y', 'X', 'I', 'I'), ('Y', 'Y', 'X', 'I', 'X'), ('Y', 'Y', 'X', 'I', 'Y'), ('Y', 'Y', 'X', 'I', 'Z'), ('Y', 'Y', 'X', 'X', 'I'), ('Y', 'Y', 'X', 'X', 'X'), ('Y', 'Y', 'X', 'X', 'Y'), ('Y', 'Y', 'X', 'X', 'Z'), ('Y', 'Y', 'X', 'Y', 'I'), ('Y', 'Y', 'X', 'Y', 'X'), ('Y', 'Y', 'X', 'Y', 'Y'), ('Y', 'Y', 'X', 'Y', 'Z'), ('Y', 'Y', 'X', 'Z', 'I'), ('Y', 'Y', 'X', 'Z', 'X'), ('Y', 'Y', 'X', 'Z', 'Y'), ('Y', 'Y', 'X', 'Z', 'Z'), ('Y', 'Y', 'Y', 'I', 'I'), ('Y', 'Y', 'Y', 'I', 'X'), ('Y', 'Y', 'Y', 'I', 'Y'), ('Y', 'Y', 'Y', 'I', 'Z'), ('Y', 'Y', 'Y', 'X', 'I'), ('Y', 'Y', 'Y', 'X', 'X'), ('Y', 'Y', 'Y', 'X', 'Y'), ('Y', 'Y', 'Y', 'X', 'Z'), ('Y', 'Y', 'Y', 'Y', 'I'), ('Y', 'Y', 'Y', 'Y', 'X'), ('Y', 'Y', 'Y', 'Y', 'Y'), ('Y', 'Y', 'Y', 'Y', 'Z'), ('Y', 'Y', 'Y', 'Z', 'I'), ('Y', 'Y', 'Y', 'Z', 'X'), ('Y', 'Y', 'Y', 'Z', 'Y'), ('Y', 'Y', 'Y', 'Z', 'Z'), ('Y', 'Y', 'Z', 'I', 'I'), ('Y', 'Y', 'Z', 'I', 'X'), ('Y', 'Y', 'Z', 'I', 'Y'), ('Y', 'Y', 'Z', 'I', 'Z'), ('Y', 'Y', 'Z', 'X', 'I'), ('Y', 'Y', 'Z', 'X', 'X'), ('Y', 'Y', 'Z', 'X', 'Y'), ('Y', 'Y', 'Z', 'X', 'Z'), ('Y', 'Y', 'Z', 'Y', 'I'), ('Y', 'Y', 'Z', 'Y', 'X'), ('Y', 'Y', 'Z', 'Y', 'Y'), ('Y', 'Y', 'Z', 'Y', 'Z'), ('Y', 'Y', 'Z', 'Z', 'I'), ('Y', 'Y', 'Z', 'Z', 'X'), ('Y', 'Y', 'Z', 'Z', 'Y'), ('Y', 'Y', 'Z', 'Z', 'Z'), ('Y', 'Z', 'I', 'I', 'I'), ('Y', 'Z', 'I', 'I', 'X'), ('Y', 'Z', 'I', 'I', 'Y'), ('Y', 'Z', 'I', 'I', 'Z'), ('Y', 'Z', 'I', 'X', 'I'), ('Y', 'Z', 'I', 'X', 'X'), ('Y', 'Z', 'I', 'X', 'Y'), ('Y', 'Z', 'I', 'X', 'Z'), ('Y', 'Z', 'I', 'Y', 'I'), ('Y', 'Z', 'I', 'Y', 'X'), ('Y', 'Z', 'I', 'Y', 'Y'), ('Y', 'Z', 'I', 'Y', 'Z'), ('Y', 'Z', 'I', 'Z', 'I'), ('Y', 'Z', 'I', 'Z', 'X'), ('Y', 'Z', 'I', 'Z', 'Y'), ('Y', 'Z', 'I', 'Z', 'Z'), ('Y', 'Z', 'X', 'I', 'I'), ('Y', 'Z', 'X', 'I', 'X'), ('Y', 'Z', 'X', 'I', 'Y'), ('Y', 'Z', 'X', 'I', 'Z'), ('Y', 'Z', 'X', 'X', 'I'), ('Y', 'Z', 'X', 'X', 'X'), ('Y', 'Z', 'X', 'X', 'Y'), ('Y', 'Z', 'X', 'X', 'Z'), ('Y', 'Z', 'X', 'Y', 'I'), ('Y', 'Z', 'X', 'Y', 'X'), ('Y', 'Z', 'X', 'Y', 'Y'), ('Y', 'Z', 'X', 'Y', 'Z'), ('Y', 'Z', 'X', 'Z', 'I'), ('Y', 'Z', 'X', 'Z', 'X'), ('Y', 'Z', 'X', 'Z', 'Y'), ('Y', 'Z', 'X', 'Z', 'Z'), ('Y', 'Z', 'Y', 'I', 'I'), ('Y', 'Z', 'Y', 'I', 'X'), ('Y', 'Z', 'Y', 'I', 'Y'), ('Y', 'Z', 'Y', 'I', 'Z'), ('Y', 'Z', 'Y', 'X', 'I'), ('Y', 'Z', 'Y', 'X', 'X'), ('Y', 'Z', 'Y', 'X', 'Y'), ('Y', 'Z', 'Y', 'X', 'Z'), ('Y', 'Z', 'Y', 'Y', 'I'), ('Y', 'Z', 'Y', 'Y', 'X'), ('Y', 'Z', 'Y', 'Y', 'Y'), ('Y', 'Z', 'Y', 'Y', 'Z'), ('Y', 'Z', 'Y', 'Z', 'I'), ('Y', 'Z', 'Y', 'Z', 'X'), ('Y', 'Z', 'Y', 'Z', 'Y'), ('Y', 'Z', 'Y', 'Z', 'Z'), ('Y', 'Z', 'Z', 'I', 'I'), ('Y', 'Z', 'Z', 'I', 'X'), ('Y', 'Z', 'Z', 'I', 'Y'), ('Y', 'Z', 'Z', 'I', 'Z'), ('Y', 'Z', 'Z', 'X', 'I'), ('Y', 'Z', 'Z', 'X', 'X'), ('Y', 'Z', 'Z', 'X', 'Y'), ('Y', 'Z', 'Z', 'X', 'Z'), ('Y', 'Z', 'Z', 'Y', 'I'), ('Y', 'Z', 'Z', 'Y', 'X'), ('Y', 'Z', 'Z', 'Y', 'Y'), ('Y', 'Z', 'Z', 'Y', 'Z'), ('Y', 'Z', 'Z', 'Z', 'I'), ('Y', 'Z', 'Z', 'Z', 'X'), ('Y', 'Z', 'Z', 'Z', 'Y'), ('Y', 'Z', 'Z', 'Z', 'Z'), ('Z', 'I', 'I', 'I', 'I'), ('Z', 'I', 'I', 'I', 'X'), ('Z', 'I', 'I', 'I', 'Y'), ('Z', 'I', 'I', 'I', 'Z'), ('Z', 'I', 'I', 'X', 'I'), ('Z', 'I', 'I', 'X', 'X'), ('Z', 'I', 'I', 'X', 'Y'), ('Z', 'I', 'I', 'X', 'Z'), ('Z', 'I', 'I', 'Y', 'I'), ('Z', 'I', 'I', 'Y', 'X'), ('Z', 'I', 'I', 'Y', 'Y'), ('Z', 'I', 'I', 'Y', 'Z'), ('Z', 'I', 'I', 'Z', 'I'), ('Z', 'I', 'I', 'Z', 'X'), ('Z', 'I', 'I', 'Z', 'Y'), ('Z', 'I', 'I', 'Z', 'Z'), ('Z', 'I', 'X', 'I', 'I'), ('Z', 'I', 'X', 'I', 'X'), ('Z', 'I', 'X', 'I', 'Y'), ('Z', 'I', 'X', 'I', 'Z'), ('Z', 'I', 'X', 'X', 'I'), ('Z', 'I', 'X', 'X', 'X'), ('Z', 'I', 'X', 'X', 'Y'), ('Z', 'I', 'X', 'X', 'Z'), ('Z', 'I', 'X', 'Y', 'I'), ('Z', 'I', 'X', 'Y', 'X'), ('Z', 'I', 'X', 'Y', 'Y'), ('Z', 'I', 'X', 'Y', 'Z'), ('Z', 'I', 'X', 'Z', 'I'), ('Z', 'I', 'X', 'Z', 'X'), ('Z', 'I', 'X', 'Z', 'Y'), ('Z', 'I', 'X', 'Z', 'Z'), ('Z', 'I', 'Y', 'I', 'I'), ('Z', 'I', 'Y', 'I', 'X'), ('Z', 'I', 'Y', 'I', 'Y'), ('Z', 'I', 'Y', 'I', 'Z'), ('Z', 'I', 'Y', 'X', 'I'), ('Z', 'I', 'Y', 'X', 'X'), ('Z', 'I', 'Y', 'X', 'Y'), ('Z', 'I', 'Y', 'X', 'Z'), ('Z', 'I', 'Y', 'Y', 'I'), ('Z', 'I', 'Y', 'Y', 'X'), ('Z', 'I', 'Y', 'Y', 'Y'), ('Z', 'I', 'Y', 'Y', 'Z'), ('Z', 'I', 'Y', 'Z', 'I'), ('Z', 'I', 'Y', 'Z', 'X'), ('Z', 'I', 'Y', 'Z', 'Y'), ('Z', 'I', 'Y', 'Z', 'Z'), ('Z', 'I', 'Z', 'I', 'I'), ('Z', 'I', 'Z', 'I', 'X'), ('Z', 'I', 'Z', 'I', 'Y'), ('Z', 'I', 'Z', 'I', 'Z'), ('Z', 'I', 'Z', 'X', 'I'), ('Z', 'I', 'Z', 'X', 'X'), ('Z', 'I', 'Z', 'X', 'Y'), ('Z', 'I', 'Z', 'X', 'Z'), ('Z', 'I', 'Z', 'Y', 'I'), ('Z', 'I', 'Z', 'Y', 'X'), ('Z', 'I', 'Z', 'Y', 'Y'), ('Z', 'I', 'Z', 'Y', 'Z'), ('Z', 'I', 'Z', 'Z', 'I'), ('Z', 'I', 'Z', 'Z', 'X'), ('Z', 'I', 'Z', 'Z', 'Y'), ('Z', 'I', 'Z', 'Z', 'Z'), ('Z', 'X', 'I', 'I', 'I'), ('Z', 'X', 'I', 'I', 'X'), ('Z', 'X', 'I', 'I', 'Y'), ('Z', 'X', 'I', 'I', 'Z'), ('Z', 'X', 'I', 'X', 'I'), ('Z', 'X', 'I', 'X', 'X'), ('Z', 'X', 'I', 'X', 'Y'), ('Z', 'X', 'I', 'X', 'Z'), ('Z', 'X', 'I', 'Y', 'I'), ('Z', 'X', 'I', 'Y', 'X'), ('Z', 'X', 'I', 'Y', 'Y'), ('Z', 'X', 'I', 'Y', 'Z'), ('Z', 'X', 'I', 'Z', 'I'), ('Z', 'X', 'I', 'Z', 'X'), ('Z', 'X', 'I', 'Z', 'Y'), ('Z', 'X', 'I', 'Z', 'Z'), ('Z', 'X', 'X', 'I', 'I'), ('Z', 'X', 'X', 'I', 'X'), ('Z', 'X', 'X', 'I', 'Y'), ('Z', 'X', 'X', 'I', 'Z'), ('Z', 'X', 'X', 'X', 'I'), ('Z', 'X', 'X', 'X', 'X'), ('Z', 'X', 'X', 'X', 'Y'), ('Z', 'X', 'X', 'X', 'Z'), ('Z', 'X', 'X', 'Y', 'I'), ('Z', 'X', 'X', 'Y', 'X'), ('Z', 'X', 'X', 'Y', 'Y'), ('Z', 'X', 'X', 'Y', 'Z'), ('Z', 'X', 'X', 'Z', 'I'), ('Z', 'X', 'X', 'Z', 'X'), ('Z', 'X', 'X', 'Z', 'Y'), ('Z', 'X', 'X', 'Z', 'Z'), ('Z', 'X', 'Y', 'I', 'I'), ('Z', 'X', 'Y', 'I', 'X'), ('Z', 'X', 'Y', 'I', 'Y'), ('Z', 'X', 'Y', 'I', 'Z'), ('Z', 'X', 'Y', 'X', 'I'), ('Z', 'X', 'Y', 'X', 'X'), ('Z', 'X', 'Y', 'X', 'Y'), ('Z', 'X', 'Y', 'X', 'Z'), ('Z', 'X', 'Y', 'Y', 'I'), ('Z', 'X', 'Y', 'Y', 'X'), ('Z', 'X', 'Y', 'Y', 'Y'), ('Z', 'X', 'Y', 'Y', 'Z'), ('Z', 'X', 'Y', 'Z', 'I'), ('Z', 'X', 'Y', 'Z', 'X'), ('Z', 'X', 'Y', 'Z', 'Y'), ('Z', 'X', 'Y', 'Z', 'Z'), ('Z', 'X', 'Z', 'I', 'I'), ('Z', 'X', 'Z', 'I', 'X'), ('Z', 'X', 'Z', 'I', 'Y'), ('Z', 'X', 'Z', 'I', 'Z'), ('Z', 'X', 'Z', 'X', 'I'), ('Z', 'X', 'Z', 'X', 'X'), ('Z', 'X', 'Z', 'X', 'Y'), ('Z', 'X', 'Z', 'X', 'Z'), ('Z', 'X', 'Z', 'Y', 'I'), ('Z', 'X', 'Z', 'Y', 'X'), ('Z', 'X', 'Z', 'Y', 'Y'), ('Z', 'X', 'Z', 'Y', 'Z'), ('Z', 'X', 'Z', 'Z', 'I'), ('Z', 'X', 'Z', 'Z', 'X'), ('Z', 'X', 'Z', 'Z', 'Y'), ('Z', 'X', 'Z', 'Z', 'Z'), ('Z', 'Y', 'I', 'I', 'I'), ('Z', 'Y', 'I', 'I', 'X'), ('Z', 'Y', 'I', 'I', 'Y'), ('Z', 'Y', 'I', 'I', 'Z'), ('Z', 'Y', 'I', 'X', 'I'), ('Z', 'Y', 'I', 'X', 'X'), ('Z', 'Y', 'I', 'X', 'Y'), ('Z', 'Y', 'I', 'X', 'Z'), ('Z', 'Y', 'I', 'Y', 'I'), ('Z', 'Y', 'I', 'Y', 'X'), ('Z', 'Y', 'I', 'Y', 'Y'), ('Z', 'Y', 'I', 'Y', 'Z'), ('Z', 'Y', 'I', 'Z', 'I'), ('Z', 'Y', 'I', 'Z', 'X'), ('Z', 'Y', 'I', 'Z', 'Y'), ('Z', 'Y', 'I', 'Z', 'Z'), ('Z', 'Y', 'X', 'I', 'I'), ('Z', 'Y', 'X', 'I', 'X'), ('Z', 'Y', 'X', 'I', 'Y'), ('Z', 'Y', 'X', 'I', 'Z'), ('Z', 'Y', 'X', 'X', 'I'), ('Z', 'Y', 'X', 'X', 'X'), ('Z', 'Y', 'X', 'X', 'Y'), ('Z', 'Y', 'X', 'X', 'Z'), ('Z', 'Y', 'X', 'Y', 'I'), ('Z', 'Y', 'X', 'Y', 'X'), ('Z', 'Y', 'X', 'Y', 'Y'), ('Z', 'Y', 'X', 'Y', 'Z'), ('Z', 'Y', 'X', 'Z', 'I'), ('Z', 'Y', 'X', 'Z', 'X'), ('Z', 'Y', 'X', 'Z', 'Y'), ('Z', 'Y', 'X', 'Z', 'Z'), ('Z', 'Y', 'Y', 'I', 'I'), ('Z', 'Y', 'Y', 'I', 'X'), ('Z', 'Y', 'Y', 'I', 'Y'), ('Z', 'Y', 'Y', 'I', 'Z'), ('Z', 'Y', 'Y', 'X', 'I'), ('Z', 'Y', 'Y', 'X', 'X'), ('Z', 'Y', 'Y', 'X', 'Y'), ('Z', 'Y', 'Y', 'X', 'Z'), ('Z', 'Y', 'Y', 'Y', 'I'), ('Z', 'Y', 'Y', 'Y', 'X'), ('Z', 'Y', 'Y', 'Y', 'Y'), ('Z', 'Y', 'Y', 'Y', 'Z'), ('Z', 'Y', 'Y', 'Z', 'I'), ('Z', 'Y', 'Y', 'Z', 'X'), ('Z', 'Y', 'Y', 'Z', 'Y'), ('Z', 'Y', 'Y', 'Z', 'Z'), ('Z', 'Y', 'Z', 'I', 'I'), ('Z', 'Y', 'Z', 'I', 'X'), ('Z', 'Y', 'Z', 'I', 'Y'), ('Z', 'Y', 'Z', 'I', 'Z'), ('Z', 'Y', 'Z', 'X', 'I'), ('Z', 'Y', 'Z', 'X', 'X'), ('Z', 'Y', 'Z', 'X', 'Y'), ('Z', 'Y', 'Z', 'X', 'Z'), ('Z', 'Y', 'Z', 'Y', 'I'), ('Z', 'Y', 'Z', 'Y', 'X'), ('Z', 'Y', 'Z', 'Y', 'Y'), ('Z', 'Y', 'Z', 'Y', 'Z'), ('Z', 'Y', 'Z', 'Z', 'I'), ('Z', 'Y', 'Z', 'Z', 'X'), ('Z', 'Y', 'Z', 'Z', 'Y'), ('Z', 'Y', 'Z', 'Z', 'Z'), ('Z', 'Z', 'I', 'I', 'I'), ('Z', 'Z', 'I', 'I', 'X'), ('Z', 'Z', 'I', 'I', 'Y'), ('Z', 'Z', 'I', 'I', 'Z'), ('Z', 'Z', 'I', 'X', 'I'), ('Z', 'Z', 'I', 'X', 'X'), ('Z', 'Z', 'I', 'X', 'Y'), ('Z', 'Z', 'I', 'X', 'Z'), ('Z', 'Z', 'I', 'Y', 'I'), ('Z', 'Z', 'I', 'Y', 'X'), ('Z', 'Z', 'I', 'Y', 'Y'), ('Z', 'Z', 'I', 'Y', 'Z'), ('Z', 'Z', 'I', 'Z', 'I'), ('Z', 'Z', 'I', 'Z', 'X'), ('Z', 'Z', 'I', 'Z', 'Y'), ('Z', 'Z', 'I', 'Z', 'Z'), ('Z', 'Z', 'X', 'I', 'I'), ('Z', 'Z', 'X', 'I', 'X'), ('Z', 'Z', 'X', 'I', 'Y'), ('Z', 'Z', 'X', 'I', 'Z'), ('Z', 'Z', 'X', 'X', 'I'), ('Z', 'Z', 'X', 'X', 'X'), ('Z', 'Z', 'X', 'X', 'Y'), ('Z', 'Z', 'X', 'X', 'Z'), ('Z', 'Z', 'X', 'Y', 'I'), ('Z', 'Z', 'X', 'Y', 'X'), ('Z', 'Z', 'X', 'Y', 'Y'), ('Z', 'Z', 'X', 'Y', 'Z'), ('Z', 'Z', 'X', 'Z', 'I'), ('Z', 'Z', 'X', 'Z', 'X'), ('Z', 'Z', 'X', 'Z', 'Y'), ('Z', 'Z', 'X', 'Z', 'Z'), ('Z', 'Z', 'Y', 'I', 'I'), ('Z', 'Z', 'Y', 'I', 'X'), ('Z', 'Z', 'Y', 'I', 'Y'), ('Z', 'Z', 'Y', 'I', 'Z'), ('Z', 'Z', 'Y', 'X', 'I'), ('Z', 'Z', 'Y', 'X', 'X'), ('Z', 'Z', 'Y', 'X', 'Y'), ('Z', 'Z', 'Y', 'X', 'Z'), ('Z', 'Z', 'Y', 'Y', 'I'), ('Z', 'Z', 'Y', 'Y', 'X'), ('Z', 'Z', 'Y', 'Y', 'Y'), ('Z', 'Z', 'Y', 'Y', 'Z'), ('Z', 'Z', 'Y', 'Z', 'I'), ('Z', 'Z', 'Y', 'Z', 'X'), ('Z', 'Z', 'Y', 'Z', 'Y'), ('Z', 'Z', 'Y', 'Z', 'Z'), ('Z', 'Z', 'Z', 'I', 'I'), ('Z', 'Z', 'Z', 'I', 'X'), ('Z', 'Z', 'Z', 'I', 'Y'), ('Z', 'Z', 'Z', 'I', 'Z'), ('Z', 'Z', 'Z', 'X', 'I'), ('Z', 'Z', 'Z', 'X', 'X'), ('Z', 'Z', 'Z', 'X', 'Y'), ('Z', 'Z', 'Z', 'X', 'Z'), ('Z', 'Z', 'Z', 'Y', 'I'), ('Z', 'Z', 'Z', 'Y', 'X'), ('Z', 'Z', 'Z', 'Y', 'Y'), ('Z', 'Z', 'Z', 'Y', 'Z'), ('Z', 'Z', 'Z', 'Z', 'I'), ('Z', 'Z', 'Z', 'Z', 'X'), ('Z', 'Z', 'Z', 'Z', 'Y'), ('Z', 'Z', 'Z', 'Z', 'Z')]\n"
     ]
    }
   ],
   "source": [
    "print(combinations)"
   ]
  },
  {
   "cell_type": "code",
   "execution_count": 41,
   "id": "80de70aa",
   "metadata": {},
   "outputs": [
    {
     "data": {
      "text/plain": [
       "itertools.product"
      ]
     },
     "execution_count": 41,
     "metadata": {},
     "output_type": "execute_result"
    }
   ],
   "source": [
    "type(combinations)"
   ]
  },
  {
   "cell_type": "code",
   "execution_count": 53,
   "id": "6c7eb6a1",
   "metadata": {},
   "outputs": [],
   "source": [
    "A = 'XYZ'\n",
    "B = 'XYZ'"
   ]
  },
  {
   "cell_type": "code",
   "execution_count": 54,
   "id": "bd79f350",
   "metadata": {},
   "outputs": [
    {
     "data": {
      "text/plain": [
       "[('X', 'C'),\n",
       " ('X', 'Y'),\n",
       " ('X', 'Z'),\n",
       " ('Y', 'C'),\n",
       " ('Y', 'Y'),\n",
       " ('Y', 'Z'),\n",
       " ('Z', 'C'),\n",
       " ('Z', 'Y'),\n",
       " ('Z', 'Z')]"
      ]
     },
     "execution_count": 54,
     "metadata": {},
     "output_type": "execute_result"
    }
   ],
   "source": [
    "list((x,y) for x in A for y in B)"
   ]
  },
  {
   "cell_type": "code",
   "execution_count": null,
   "id": "46d9f096",
   "metadata": {},
   "outputs": [],
   "source": []
  }
 ],
 "metadata": {
  "kernelspec": {
   "display_name": "Python 3 (ipykernel)",
   "language": "python",
   "name": "python3"
  },
  "language_info": {
   "codemirror_mode": {
    "name": "ipython",
    "version": 3
   },
   "file_extension": ".py",
   "mimetype": "text/x-python",
   "name": "python",
   "nbconvert_exporter": "python",
   "pygments_lexer": "ipython3",
   "version": "3.9.12"
  }
 },
 "nbformat": 4,
 "nbformat_minor": 5
}
