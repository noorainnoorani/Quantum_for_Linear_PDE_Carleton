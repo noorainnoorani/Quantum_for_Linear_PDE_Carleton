{
 "cells": [
  {
   "cell_type": "code",
   "execution_count": 55,
   "id": "ed230136",
   "metadata": {},
   "outputs": [],
   "source": [
    "from sympy import Matrix, symbols, cos, sin\n",
    "from sympy.physics.quantum import TensorProduct\n",
    "import numpy as np\n",
    "from sympy import *"
   ]
  },
  {
   "cell_type": "code",
   "execution_count": 2,
   "id": "24312a65",
   "metadata": {},
   "outputs": [],
   "source": [
    "theta = symbols('theta')"
   ]
  },
  {
   "cell_type": "code",
   "execution_count": 3,
   "id": "14e61d76",
   "metadata": {},
   "outputs": [],
   "source": [
    "ry_gate = Matrix([[cos(theta/2), -sin(theta/2)],\n",
    "                  [sin(theta/2), cos(theta/2)]])"
   ]
  },
  {
   "cell_type": "code",
   "execution_count": 4,
   "id": "b167dabd",
   "metadata": {},
   "outputs": [
    {
     "data": {
      "text/latex": [
       "$\\displaystyle \\left[\\begin{matrix}\\cos{\\left(\\frac{\\theta}{2} \\right)} & - \\sin{\\left(\\frac{\\theta}{2} \\right)}\\\\\\sin{\\left(\\frac{\\theta}{2} \\right)} & \\cos{\\left(\\frac{\\theta}{2} \\right)}\\end{matrix}\\right]$"
      ],
      "text/plain": [
       "Matrix([\n",
       "[cos(theta/2), -sin(theta/2)],\n",
       "[sin(theta/2),  cos(theta/2)]])"
      ]
     },
     "execution_count": 4,
     "metadata": {},
     "output_type": "execute_result"
    }
   ],
   "source": [
    "ry_gate"
   ]
  },
  {
   "cell_type": "code",
   "execution_count": 5,
   "id": "4caf40ff",
   "metadata": {},
   "outputs": [],
   "source": [
    "def Ry_gate(theta):\n",
    "    ry_gate = Matrix([[cos(theta/2), -sin(theta/2)],\n",
    "                  [sin(theta/2), cos(theta/2)]])\n",
    "    return ry_gate"
   ]
  },
  {
   "cell_type": "code",
   "execution_count": 17,
   "id": "30b62d44",
   "metadata": {},
   "outputs": [],
   "source": [
    "w0 = symbols('w0')\n",
    "w1 = symbols('w1')\n",
    "w2 = symbols('w2')\n",
    "w3 = symbols('w3')\n",
    "\n",
    "Ry0 = Ry_gate(w0)\n",
    "Ry1 = Ry_gate(w1)\n",
    "Ry2 = Ry_gate(w2)\n",
    "Ry3 = Ry_gate(w3)"
   ]
  },
  {
   "cell_type": "code",
   "execution_count": 11,
   "id": "34bc14e2",
   "metadata": {},
   "outputs": [
    {
     "data": {
      "text/latex": [
       "$\\displaystyle \\left[\\begin{matrix}\\cos{\\left(\\frac{w_{0}}{2} \\right)} & - \\sin{\\left(\\frac{w_{0}}{2} \\right)}\\\\\\sin{\\left(\\frac{w_{0}}{2} \\right)} & \\cos{\\left(\\frac{w_{0}}{2} \\right)}\\end{matrix}\\right]$"
      ],
      "text/plain": [
       "Matrix([\n",
       "[cos(w0/2), -sin(w0/2)],\n",
       "[sin(w0/2),  cos(w0/2)]])"
      ]
     },
     "execution_count": 11,
     "metadata": {},
     "output_type": "execute_result"
    }
   ],
   "source": [
    "Ry0"
   ]
  },
  {
   "cell_type": "code",
   "execution_count": 61,
   "id": "0eccc5f9",
   "metadata": {},
   "outputs": [
    {
     "data": {
      "text/latex": [
       "$\\displaystyle \\left[\\begin{matrix}\\cos{\\left(\\frac{w_{0}}{2} \\right)} \\cos{\\left(\\frac{w_{1}}{2} \\right)} \\cos{\\left(\\frac{w_{2}}{2} \\right)} & - \\sin{\\left(\\frac{w_{2}}{2} \\right)} \\cos{\\left(\\frac{w_{0}}{2} \\right)} \\cos{\\left(\\frac{w_{1}}{2} \\right)} & - \\sin{\\left(\\frac{w_{1}}{2} \\right)} \\cos{\\left(\\frac{w_{0}}{2} \\right)} \\cos{\\left(\\frac{w_{2}}{2} \\right)} & \\sin{\\left(\\frac{w_{1}}{2} \\right)} \\sin{\\left(\\frac{w_{2}}{2} \\right)} \\cos{\\left(\\frac{w_{0}}{2} \\right)} & - \\sin{\\left(\\frac{w_{0}}{2} \\right)} \\cos{\\left(\\frac{w_{1}}{2} \\right)} \\cos{\\left(\\frac{w_{2}}{2} \\right)} & \\sin{\\left(\\frac{w_{0}}{2} \\right)} \\sin{\\left(\\frac{w_{2}}{2} \\right)} \\cos{\\left(\\frac{w_{1}}{2} \\right)} & \\sin{\\left(\\frac{w_{0}}{2} \\right)} \\sin{\\left(\\frac{w_{1}}{2} \\right)} \\cos{\\left(\\frac{w_{2}}{2} \\right)} & - \\sin{\\left(\\frac{w_{0}}{2} \\right)} \\sin{\\left(\\frac{w_{1}}{2} \\right)} \\sin{\\left(\\frac{w_{2}}{2} \\right)}\\\\\\sin{\\left(\\frac{w_{2}}{2} \\right)} \\cos{\\left(\\frac{w_{0}}{2} \\right)} \\cos{\\left(\\frac{w_{1}}{2} \\right)} & \\cos{\\left(\\frac{w_{0}}{2} \\right)} \\cos{\\left(\\frac{w_{1}}{2} \\right)} \\cos{\\left(\\frac{w_{2}}{2} \\right)} & - \\sin{\\left(\\frac{w_{1}}{2} \\right)} \\sin{\\left(\\frac{w_{2}}{2} \\right)} \\cos{\\left(\\frac{w_{0}}{2} \\right)} & - \\sin{\\left(\\frac{w_{1}}{2} \\right)} \\cos{\\left(\\frac{w_{0}}{2} \\right)} \\cos{\\left(\\frac{w_{2}}{2} \\right)} & - \\sin{\\left(\\frac{w_{0}}{2} \\right)} \\sin{\\left(\\frac{w_{2}}{2} \\right)} \\cos{\\left(\\frac{w_{1}}{2} \\right)} & - \\sin{\\left(\\frac{w_{0}}{2} \\right)} \\cos{\\left(\\frac{w_{1}}{2} \\right)} \\cos{\\left(\\frac{w_{2}}{2} \\right)} & \\sin{\\left(\\frac{w_{0}}{2} \\right)} \\sin{\\left(\\frac{w_{1}}{2} \\right)} \\sin{\\left(\\frac{w_{2}}{2} \\right)} & \\sin{\\left(\\frac{w_{0}}{2} \\right)} \\sin{\\left(\\frac{w_{1}}{2} \\right)} \\cos{\\left(\\frac{w_{2}}{2} \\right)}\\\\\\sin{\\left(\\frac{w_{1}}{2} \\right)} \\cos{\\left(\\frac{w_{0}}{2} \\right)} \\cos{\\left(\\frac{w_{2}}{2} \\right)} & - \\sin{\\left(\\frac{w_{1}}{2} \\right)} \\sin{\\left(\\frac{w_{2}}{2} \\right)} \\cos{\\left(\\frac{w_{0}}{2} \\right)} & \\cos{\\left(\\frac{w_{0}}{2} \\right)} \\cos{\\left(\\frac{w_{1}}{2} \\right)} \\cos{\\left(\\frac{w_{2}}{2} \\right)} & - \\sin{\\left(\\frac{w_{2}}{2} \\right)} \\cos{\\left(\\frac{w_{0}}{2} \\right)} \\cos{\\left(\\frac{w_{1}}{2} \\right)} & - \\sin{\\left(\\frac{w_{0}}{2} \\right)} \\sin{\\left(\\frac{w_{1}}{2} \\right)} \\cos{\\left(\\frac{w_{2}}{2} \\right)} & \\sin{\\left(\\frac{w_{0}}{2} \\right)} \\sin{\\left(\\frac{w_{1}}{2} \\right)} \\sin{\\left(\\frac{w_{2}}{2} \\right)} & - \\sin{\\left(\\frac{w_{0}}{2} \\right)} \\cos{\\left(\\frac{w_{1}}{2} \\right)} \\cos{\\left(\\frac{w_{2}}{2} \\right)} & \\sin{\\left(\\frac{w_{0}}{2} \\right)} \\sin{\\left(\\frac{w_{2}}{2} \\right)} \\cos{\\left(\\frac{w_{1}}{2} \\right)}\\\\\\sin{\\left(\\frac{w_{1}}{2} \\right)} \\sin{\\left(\\frac{w_{2}}{2} \\right)} \\cos{\\left(\\frac{w_{0}}{2} \\right)} & \\sin{\\left(\\frac{w_{1}}{2} \\right)} \\cos{\\left(\\frac{w_{0}}{2} \\right)} \\cos{\\left(\\frac{w_{2}}{2} \\right)} & \\sin{\\left(\\frac{w_{2}}{2} \\right)} \\cos{\\left(\\frac{w_{0}}{2} \\right)} \\cos{\\left(\\frac{w_{1}}{2} \\right)} & \\cos{\\left(\\frac{w_{0}}{2} \\right)} \\cos{\\left(\\frac{w_{1}}{2} \\right)} \\cos{\\left(\\frac{w_{2}}{2} \\right)} & - \\sin{\\left(\\frac{w_{0}}{2} \\right)} \\sin{\\left(\\frac{w_{1}}{2} \\right)} \\sin{\\left(\\frac{w_{2}}{2} \\right)} & - \\sin{\\left(\\frac{w_{0}}{2} \\right)} \\sin{\\left(\\frac{w_{1}}{2} \\right)} \\cos{\\left(\\frac{w_{2}}{2} \\right)} & - \\sin{\\left(\\frac{w_{0}}{2} \\right)} \\sin{\\left(\\frac{w_{2}}{2} \\right)} \\cos{\\left(\\frac{w_{1}}{2} \\right)} & - \\sin{\\left(\\frac{w_{0}}{2} \\right)} \\cos{\\left(\\frac{w_{1}}{2} \\right)} \\cos{\\left(\\frac{w_{2}}{2} \\right)}\\\\\\sin{\\left(\\frac{w_{0}}{2} \\right)} \\cos{\\left(\\frac{w_{1}}{2} \\right)} \\cos{\\left(\\frac{w_{2}}{2} \\right)} & - \\sin{\\left(\\frac{w_{0}}{2} \\right)} \\sin{\\left(\\frac{w_{2}}{2} \\right)} \\cos{\\left(\\frac{w_{1}}{2} \\right)} & - \\sin{\\left(\\frac{w_{0}}{2} \\right)} \\sin{\\left(\\frac{w_{1}}{2} \\right)} \\cos{\\left(\\frac{w_{2}}{2} \\right)} & \\sin{\\left(\\frac{w_{0}}{2} \\right)} \\sin{\\left(\\frac{w_{1}}{2} \\right)} \\sin{\\left(\\frac{w_{2}}{2} \\right)} & \\cos{\\left(\\frac{w_{0}}{2} \\right)} \\cos{\\left(\\frac{w_{1}}{2} \\right)} \\cos{\\left(\\frac{w_{2}}{2} \\right)} & - \\sin{\\left(\\frac{w_{2}}{2} \\right)} \\cos{\\left(\\frac{w_{0}}{2} \\right)} \\cos{\\left(\\frac{w_{1}}{2} \\right)} & - \\sin{\\left(\\frac{w_{1}}{2} \\right)} \\cos{\\left(\\frac{w_{0}}{2} \\right)} \\cos{\\left(\\frac{w_{2}}{2} \\right)} & \\sin{\\left(\\frac{w_{1}}{2} \\right)} \\sin{\\left(\\frac{w_{2}}{2} \\right)} \\cos{\\left(\\frac{w_{0}}{2} \\right)}\\\\\\sin{\\left(\\frac{w_{0}}{2} \\right)} \\sin{\\left(\\frac{w_{2}}{2} \\right)} \\cos{\\left(\\frac{w_{1}}{2} \\right)} & \\sin{\\left(\\frac{w_{0}}{2} \\right)} \\cos{\\left(\\frac{w_{1}}{2} \\right)} \\cos{\\left(\\frac{w_{2}}{2} \\right)} & - \\sin{\\left(\\frac{w_{0}}{2} \\right)} \\sin{\\left(\\frac{w_{1}}{2} \\right)} \\sin{\\left(\\frac{w_{2}}{2} \\right)} & - \\sin{\\left(\\frac{w_{0}}{2} \\right)} \\sin{\\left(\\frac{w_{1}}{2} \\right)} \\cos{\\left(\\frac{w_{2}}{2} \\right)} & \\sin{\\left(\\frac{w_{2}}{2} \\right)} \\cos{\\left(\\frac{w_{0}}{2} \\right)} \\cos{\\left(\\frac{w_{1}}{2} \\right)} & \\cos{\\left(\\frac{w_{0}}{2} \\right)} \\cos{\\left(\\frac{w_{1}}{2} \\right)} \\cos{\\left(\\frac{w_{2}}{2} \\right)} & - \\sin{\\left(\\frac{w_{1}}{2} \\right)} \\sin{\\left(\\frac{w_{2}}{2} \\right)} \\cos{\\left(\\frac{w_{0}}{2} \\right)} & - \\sin{\\left(\\frac{w_{1}}{2} \\right)} \\cos{\\left(\\frac{w_{0}}{2} \\right)} \\cos{\\left(\\frac{w_{2}}{2} \\right)}\\\\\\sin{\\left(\\frac{w_{0}}{2} \\right)} \\sin{\\left(\\frac{w_{1}}{2} \\right)} \\cos{\\left(\\frac{w_{2}}{2} \\right)} & - \\sin{\\left(\\frac{w_{0}}{2} \\right)} \\sin{\\left(\\frac{w_{1}}{2} \\right)} \\sin{\\left(\\frac{w_{2}}{2} \\right)} & \\sin{\\left(\\frac{w_{0}}{2} \\right)} \\cos{\\left(\\frac{w_{1}}{2} \\right)} \\cos{\\left(\\frac{w_{2}}{2} \\right)} & - \\sin{\\left(\\frac{w_{0}}{2} \\right)} \\sin{\\left(\\frac{w_{2}}{2} \\right)} \\cos{\\left(\\frac{w_{1}}{2} \\right)} & \\sin{\\left(\\frac{w_{1}}{2} \\right)} \\cos{\\left(\\frac{w_{0}}{2} \\right)} \\cos{\\left(\\frac{w_{2}}{2} \\right)} & - \\sin{\\left(\\frac{w_{1}}{2} \\right)} \\sin{\\left(\\frac{w_{2}}{2} \\right)} \\cos{\\left(\\frac{w_{0}}{2} \\right)} & \\cos{\\left(\\frac{w_{0}}{2} \\right)} \\cos{\\left(\\frac{w_{1}}{2} \\right)} \\cos{\\left(\\frac{w_{2}}{2} \\right)} & - \\sin{\\left(\\frac{w_{2}}{2} \\right)} \\cos{\\left(\\frac{w_{0}}{2} \\right)} \\cos{\\left(\\frac{w_{1}}{2} \\right)}\\\\\\sin{\\left(\\frac{w_{0}}{2} \\right)} \\sin{\\left(\\frac{w_{1}}{2} \\right)} \\sin{\\left(\\frac{w_{2}}{2} \\right)} & \\sin{\\left(\\frac{w_{0}}{2} \\right)} \\sin{\\left(\\frac{w_{1}}{2} \\right)} \\cos{\\left(\\frac{w_{2}}{2} \\right)} & \\sin{\\left(\\frac{w_{0}}{2} \\right)} \\sin{\\left(\\frac{w_{2}}{2} \\right)} \\cos{\\left(\\frac{w_{1}}{2} \\right)} & \\sin{\\left(\\frac{w_{0}}{2} \\right)} \\cos{\\left(\\frac{w_{1}}{2} \\right)} \\cos{\\left(\\frac{w_{2}}{2} \\right)} & \\sin{\\left(\\frac{w_{1}}{2} \\right)} \\sin{\\left(\\frac{w_{2}}{2} \\right)} \\cos{\\left(\\frac{w_{0}}{2} \\right)} & \\sin{\\left(\\frac{w_{1}}{2} \\right)} \\cos{\\left(\\frac{w_{0}}{2} \\right)} \\cos{\\left(\\frac{w_{2}}{2} \\right)} & \\sin{\\left(\\frac{w_{2}}{2} \\right)} \\cos{\\left(\\frac{w_{0}}{2} \\right)} \\cos{\\left(\\frac{w_{1}}{2} \\right)} & \\cos{\\left(\\frac{w_{0}}{2} \\right)} \\cos{\\left(\\frac{w_{1}}{2} \\right)} \\cos{\\left(\\frac{w_{2}}{2} \\right)}\\end{matrix}\\right]$"
      ],
      "text/plain": [
       "Matrix([\n",
       "[cos(w0/2)*cos(w1/2)*cos(w2/2), -sin(w2/2)*cos(w0/2)*cos(w1/2), -sin(w1/2)*cos(w0/2)*cos(w2/2),  sin(w1/2)*sin(w2/2)*cos(w0/2), -sin(w0/2)*cos(w1/2)*cos(w2/2),  sin(w0/2)*sin(w2/2)*cos(w1/2),  sin(w0/2)*sin(w1/2)*cos(w2/2), -sin(w0/2)*sin(w1/2)*sin(w2/2)],\n",
       "[sin(w2/2)*cos(w0/2)*cos(w1/2),  cos(w0/2)*cos(w1/2)*cos(w2/2), -sin(w1/2)*sin(w2/2)*cos(w0/2), -sin(w1/2)*cos(w0/2)*cos(w2/2), -sin(w0/2)*sin(w2/2)*cos(w1/2), -sin(w0/2)*cos(w1/2)*cos(w2/2),  sin(w0/2)*sin(w1/2)*sin(w2/2),  sin(w0/2)*sin(w1/2)*cos(w2/2)],\n",
       "[sin(w1/2)*cos(w0/2)*cos(w2/2), -sin(w1/2)*sin(w2/2)*cos(w0/2),  cos(w0/2)*cos(w1/2)*cos(w2/2), -sin(w2/2)*cos(w0/2)*cos(w1/2), -sin(w0/2)*sin(w1/2)*cos(w2/2),  sin(w0/2)*sin(w1/2)*sin(w2/2), -sin(w0/2)*cos(w1/2)*cos(w2/2),  sin(w0/2)*sin(w2/2)*cos(w1/2)],\n",
       "[sin(w1/2)*sin(w2/2)*cos(w0/2),  sin(w1/2)*cos(w0/2)*cos(w2/2),  sin(w2/2)*cos(w0/2)*cos(w1/2),  cos(w0/2)*cos(w1/2)*cos(w2/2), -sin(w0/2)*sin(w1/2)*sin(w2/2), -sin(w0/2)*sin(w1/2)*cos(w2/2), -sin(w0/2)*sin(w2/2)*cos(w1/2), -sin(w0/2)*cos(w1/2)*cos(w2/2)],\n",
       "[sin(w0/2)*cos(w1/2)*cos(w2/2), -sin(w0/2)*sin(w2/2)*cos(w1/2), -sin(w0/2)*sin(w1/2)*cos(w2/2),  sin(w0/2)*sin(w1/2)*sin(w2/2),  cos(w0/2)*cos(w1/2)*cos(w2/2), -sin(w2/2)*cos(w0/2)*cos(w1/2), -sin(w1/2)*cos(w0/2)*cos(w2/2),  sin(w1/2)*sin(w2/2)*cos(w0/2)],\n",
       "[sin(w0/2)*sin(w2/2)*cos(w1/2),  sin(w0/2)*cos(w1/2)*cos(w2/2), -sin(w0/2)*sin(w1/2)*sin(w2/2), -sin(w0/2)*sin(w1/2)*cos(w2/2),  sin(w2/2)*cos(w0/2)*cos(w1/2),  cos(w0/2)*cos(w1/2)*cos(w2/2), -sin(w1/2)*sin(w2/2)*cos(w0/2), -sin(w1/2)*cos(w0/2)*cos(w2/2)],\n",
       "[sin(w0/2)*sin(w1/2)*cos(w2/2), -sin(w0/2)*sin(w1/2)*sin(w2/2),  sin(w0/2)*cos(w1/2)*cos(w2/2), -sin(w0/2)*sin(w2/2)*cos(w1/2),  sin(w1/2)*cos(w0/2)*cos(w2/2), -sin(w1/2)*sin(w2/2)*cos(w0/2),  cos(w0/2)*cos(w1/2)*cos(w2/2), -sin(w2/2)*cos(w0/2)*cos(w1/2)],\n",
       "[sin(w0/2)*sin(w1/2)*sin(w2/2),  sin(w0/2)*sin(w1/2)*cos(w2/2),  sin(w0/2)*sin(w2/2)*cos(w1/2),  sin(w0/2)*cos(w1/2)*cos(w2/2),  sin(w1/2)*sin(w2/2)*cos(w0/2),  sin(w1/2)*cos(w0/2)*cos(w2/2),  sin(w2/2)*cos(w0/2)*cos(w1/2),  cos(w0/2)*cos(w1/2)*cos(w2/2)]])"
      ]
     },
     "execution_count": 61,
     "metadata": {},
     "output_type": "execute_result"
    }
   ],
   "source": [
    "test = TensorProduct(Ry0, Ry1, Ry2)\n",
    "test"
   ]
  },
  {
   "cell_type": "code",
   "execution_count": 69,
   "id": "8ee4d61d",
   "metadata": {},
   "outputs": [
    {
     "data": {
      "text/plain": [
       "[cos(w0/2)*cos(w1/2)*cos(w2/2),\n",
       " sin(w2/2)*cos(w0/2)*cos(w1/2),\n",
       " sin(w1/2)*cos(w0/2)*cos(w2/2),\n",
       " sin(w1/2)*sin(w2/2)*cos(w0/2),\n",
       " sin(w0/2)*cos(w1/2)*cos(w2/2),\n",
       " sin(w0/2)*sin(w2/2)*cos(w1/2),\n",
       " sin(w0/2)*sin(w1/2)*cos(w2/2),\n",
       " sin(w0/2)*sin(w1/2)*sin(w2/2)]"
      ]
     },
     "execution_count": 69,
     "metadata": {},
     "output_type": "execute_result"
    }
   ],
   "source": [
    "vec=[]\n",
    "\n",
    "size = int(np.sqrt(len(test)))\n",
    "\n",
    "for i in range(size):\n",
    "    vec.append(test[i*size])\n",
    "    vec[i] = simplify(vec[i])\n",
    "    \n",
    "vec"
   ]
  },
  {
   "cell_type": "code",
   "execution_count": 70,
   "id": "5fe69985",
   "metadata": {},
   "outputs": [
    {
     "data": {
      "text/plain": [
       "[]"
      ]
     },
     "execution_count": 70,
     "metadata": {},
     "output_type": "execute_result"
    }
   ],
   "source": [
    "from sympy import solve\n",
    "\n",
    "solve(vec, [w0, w1, w2], dict = True)"
   ]
  },
  {
   "cell_type": "code",
   "execution_count": null,
   "id": "8ca50287",
   "metadata": {},
   "outputs": [],
   "source": []
  },
  {
   "cell_type": "code",
   "execution_count": 32,
   "id": "f82db1fd",
   "metadata": {},
   "outputs": [
    {
     "name": "stdout",
     "output_type": "stream",
     "text": [
      "Solution:  [-0.51174982 -0.45968665 -0.07682344]\n"
     ]
    }
   ],
   "source": [
    "import numpy as np\n",
    "from scipy.optimize import least_squares\n",
    "\n",
    "# Define the system of equations\n",
    "def equations(vars):\n",
    "    x, y, z = vars\n",
    "    f1 = x**2 + y**2 + z**2 - 1\n",
    "    f2 = x**3 - y**2 + z\n",
    "    f3 = np.sin(x) + np.cos(y) - z\n",
    "    f4 = x*y*z - 1/2\n",
    "    f5 = x**2 - y*z + x*z\n",
    "    f6 = np.exp(x) - np.exp(y) - z\n",
    "    f7 = x + y - z**2\n",
    "    f8 = x*y + x*z + y*z - 3/2\n",
    "    return [f1, f2, f3, f4, f5, f6, f7, f8]\n",
    "\n",
    "# Choose an initial guess\n",
    "x0 = [0,0,0]\n",
    "\n",
    "# Use least_squares to find the solution\n",
    "sol = least_squares(equations, x0)\n",
    "\n",
    "# Print the solution\n",
    "print(\"Solution: \", sol.x)"
   ]
  },
  {
   "cell_type": "code",
   "execution_count": 34,
   "id": "4ac89426",
   "metadata": {},
   "outputs": [],
   "source": [
    "def RY_ansatz(vars):\n",
    "    w0,w1,w2 = vars\n",
    "    f1 = cos(w0/2)*cos(w1/2)*cos(w2/2) - 1/8\n",
    "    f2 = sin(w2/2)*cos(w0/2)*cos(w1/2) - 2/8\n",
    "    f3 = sin(w1/2)*cos(w0/2)*cos(w2/2) - 1/8\n",
    "    f4 = sin(w1/2)*sin(w2/2)*cos(w0/2) - 2/8\n",
    "    f5 = sin(w0/2)*cos(w1/2)*cos(w2/2) - 1/8\n",
    "    f6 = sin(w0/2)*sin(w2/2)*cos(w1/2) - 2/8\n",
    "    f7 = sin(w0/2)*sin(w1/2)*cos(w2/2) - 1/8\n",
    "    f8 = sin(w0/2)*sin(w1/2)*sin(w2/2) - 2/8\n",
    "    return [f1, f2, f3, f4, f5, f6, f7, f8]\n",
    "\n",
    "#intial guess\n",
    "x0 = [1,1,1]\n",
    "\n",
    "solution = least_squares(equations, x0)"
   ]
  },
  {
   "cell_type": "code",
   "execution_count": 35,
   "id": "9645ca4c",
   "metadata": {},
   "outputs": [
    {
     "data": {
      "text/plain": [
       "array([0.50716763, 0.50640919, 0.79460373])"
      ]
     },
     "execution_count": 35,
     "metadata": {},
     "output_type": "execute_result"
    }
   ],
   "source": [
    "solution.x"
   ]
  },
  {
   "cell_type": "code",
   "execution_count": null,
   "id": "81b3ef8b",
   "metadata": {},
   "outputs": [],
   "source": []
  },
  {
   "cell_type": "code",
   "execution_count": null,
   "id": "a536043e",
   "metadata": {},
   "outputs": [],
   "source": []
  }
 ],
 "metadata": {
  "kernelspec": {
   "display_name": "Python 3 (ipykernel)",
   "language": "python",
   "name": "python3"
  },
  "language_info": {
   "codemirror_mode": {
    "name": "ipython",
    "version": 3
   },
   "file_extension": ".py",
   "mimetype": "text/x-python",
   "name": "python",
   "nbconvert_exporter": "python",
   "pygments_lexer": "ipython3",
   "version": "3.9.12"
  }
 },
 "nbformat": 4,
 "nbformat_minor": 5
}
