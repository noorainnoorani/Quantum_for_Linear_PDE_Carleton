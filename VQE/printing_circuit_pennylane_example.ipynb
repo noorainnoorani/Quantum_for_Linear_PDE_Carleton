{
 "cells": [
  {
   "cell_type": "code",
   "execution_count": 1,
   "id": "f3b4dd7c",
   "metadata": {},
   "outputs": [],
   "source": [
    "import pennylane as qml\n",
    "from pennylane import numpy as np\n",
    "\n",
    "import matplotlib.pyplot as plt"
   ]
  },
  {
   "cell_type": "code",
   "execution_count": 4,
   "id": "6f9d883e",
   "metadata": {},
   "outputs": [],
   "source": [
    "n_w = 4 # number of wires in \n",
    "\n",
    "dev = qml.device(\"default.qubit\", wires=n_w)"
   ]
  },
  {
   "cell_type": "code",
   "execution_count": 13,
   "id": "6bd3d6d9",
   "metadata": {},
   "outputs": [],
   "source": [
    "def harmonic_wave(n, pos):\n",
    "\n",
    "    # Set up the parameters\n",
    "    dx = 1.0/n  # grid spacing\n",
    "\n",
    "    # Set up the difference operator\n",
    "    D = np.zeros((n**2, n**2))\n",
    "    for i in range(n):\n",
    "        for j in range(n):\n",
    "            k = i*n + j\n",
    "            if i > 0:\n",
    "                D[k, (i-1)*n + j] += 1\n",
    "            if i < n-1:\n",
    "                D[k, (i+1)*n + j] += 1\n",
    "            if j > 0:\n",
    "                D[k, i*n + j-1] += 1\n",
    "            if j < n-1:\n",
    "                D[k, i*n + j+1] += 1\n",
    "            if pos == 1:\n",
    "                D[k,k] +=4\n",
    "            else:\n",
    "                D[k, k] -= 4\n",
    "\n",
    "    # Return the final solution\n",
    "    return D"
   ]
  },
  {
   "cell_type": "code",
   "execution_count": 20,
   "id": "3bf335e7",
   "metadata": {
    "scrolled": true
   },
   "outputs": [
    {
     "name": "stdout",
     "output_type": "stream",
     "text": [
      "  (-4.0) [I0 I1 I2 I3]\n",
      "+ (0.5) [I0 I1 X2 X3]\n",
      "+ (0.5) [I0 I1 Y2 Y3]\n",
      "+ (0.5) [X0 X1 I2 I3]\n",
      "+ (0.5) [Y0 Y1 I2 I3]\n",
      "+ (1.0) [I0 I1 I2 X3]\n",
      "+ (1.0) [I0 X1 I2 I3]\n"
     ]
    }
   ],
   "source": [
    "D = harmonic_wave(n_w, False)\n",
    "\n",
    "H = qml.pauli_decompose(D)\n",
    "\n",
    "print(H)"
   ]
  },
  {
   "cell_type": "code",
   "execution_count": 27,
   "id": "92d7ac04",
   "metadata": {},
   "outputs": [],
   "source": [
    "def ansatz(parameters, wires = n_w, reps = 2):\n",
    "    n = wires - 1\n",
    "    \n",
    "    for j in range(reps):\n",
    "        for idx, element in enumerate(parameters):\n",
    "            qml.RX(element[0], wires=idx)\n",
    "            qml.RY(element[1], wires=idx)  \n",
    "\n",
    "        \n",
    "        qml.CNOT(wires=[n, 0])\n",
    "\n",
    "        for i in range(n):\n",
    "            qml.CNOT(wires=[i, i+1])"
   ]
  },
  {
   "cell_type": "code",
   "execution_count": 26,
   "id": "d26da2bf",
   "metadata": {},
   "outputs": [],
   "source": [
    "@qml.qnode(dev, interface=\"autograd\")\n",
    "def cost_fn(params):\n",
    "    ansatz(params)\n",
    "    return qml.expval(H)"
   ]
  },
  {
   "cell_type": "code",
   "execution_count": 23,
   "id": "ddb3ba7a",
   "metadata": {
    "scrolled": true
   },
   "outputs": [
    {
     "name": "stdout",
     "output_type": "stream",
     "text": [
      "[[ 1.08245811 -0.07490563]\n",
      " [ 2.0451465  -2.94400917]\n",
      " [ 1.935535    0.41228641]\n",
      " [-1.27157534 -2.84819479]]\n"
     ]
    }
   ],
   "source": [
    "seednum = 99\n",
    "np.random.seed(seednum)\n",
    "\n",
    "\n",
    "randw = np.random.uniform(-np.pi, np.pi, [n_w, 2])\n",
    "print(randw)\n",
    "\n",
    "init_params = np.array(randw, requires_grad=True)"
   ]
  },
  {
   "cell_type": "code",
   "execution_count": 24,
   "id": "5a984e5c",
   "metadata": {},
   "outputs": [
    {
     "name": "stdout",
     "output_type": "stream",
     "text": [
      "0: ──RX(1.08)───RY(-0.07)─╭X─╭●──RX(1.08)──RY(-0.07)───────────────────────╭X─╭●───────┤ ╭<𝓗>\n",
      "1: ──RX(2.05)───RY(-2.94)─│──╰X─╭●─────────RX(2.05)───RY(-2.94)────────────│──╰X─╭●────┤ ├<𝓗>\n",
      "2: ──RX(1.94)───RY(0.41)──│─────╰X────────╭●──────────RX(1.94)───RY(0.41)──│─────╰X─╭●─┤ ├<𝓗>\n",
      "3: ──RX(-1.27)──RY(-2.85)─╰●──────────────╰X──────────RX(-1.27)──RY(-2.85)─╰●───────╰X─┤ ╰<𝓗>\n"
     ]
    }
   ],
   "source": [
    "print(qml.draw(cost_fn, expansion_strategy=\"device\")(init_params))"
   ]
  },
  {
   "cell_type": "code",
   "execution_count": 30,
   "id": "f9a2e724",
   "metadata": {},
   "outputs": [],
   "source": [
    "def qfunc(x, y, wires = 4, reps = 2):\n",
    "    \"\"\" This function is showing how you can use barrier to make the circuits look visually nicer\n",
    "    but for some reason that doesn't work with the function above...\n",
    "    \"\"\"\n",
    "    for r in range(reps):\n",
    "        for i in range(wires):\n",
    "            qml.Hadamard(wires=i)\n",
    "#         qml.Barrier(wires=[x,y], only_visual = True)\n",
    "        for j in range(wires):\n",
    "            qml.PauliX(wires=j)\n",
    "#         qml.Barrier(wires=[x,y], only_visual = True)\n",
    "        for k in range(wires - 1):\n",
    "            qml.CNOT(wires=[k, k+1])\n",
    "        qml.PauliY(wires=1)\n",
    "        qml.Barrier(wires=[x,y], only_visual = True)\n",
    "    return qml.expval(qml.PauliZ(0))"
   ]
  },
  {
   "cell_type": "code",
   "execution_count": 31,
   "id": "b6a2a2d4",
   "metadata": {},
   "outputs": [
    {
     "name": "stdout",
     "output_type": "stream",
     "text": [
      "0: ──H──X─╭●───────╭||──H──X─╭●───────╭||─┤  <Z>\n",
      "1: ──H──X─╰X─╭●──Y─│────H──X─╰X─╭●──Y─│───┤     \n",
      "2: ──H──X────╰X─╭●─│────H──X────╰X─╭●─│───┤     \n",
      "3: ──H──X───────╰X─╰||──H──X───────╰X─╰||─┤     \n"
     ]
    }
   ],
   "source": [
    "dev = qml.device('default.qubit', wires=2)\n",
    "qnode = qml.QNode(qfunc, dev)\n",
    "print(qml.draw(qnode)(0, 3))"
   ]
  },
  {
   "cell_type": "code",
   "execution_count": null,
   "id": "d6c99b51",
   "metadata": {},
   "outputs": [],
   "source": []
  }
 ],
 "metadata": {
  "kernelspec": {
   "display_name": "Python 3 (ipykernel)",
   "language": "python",
   "name": "python3"
  },
  "language_info": {
   "codemirror_mode": {
    "name": "ipython",
    "version": 3
   },
   "file_extension": ".py",
   "mimetype": "text/x-python",
   "name": "python",
   "nbconvert_exporter": "python",
   "pygments_lexer": "ipython3",
   "version": "3.9.12"
  }
 },
 "nbformat": 4,
 "nbformat_minor": 5
}
