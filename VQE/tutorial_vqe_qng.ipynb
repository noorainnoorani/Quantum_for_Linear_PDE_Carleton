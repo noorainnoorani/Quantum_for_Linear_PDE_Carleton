{
 "cells": [
  {
   "cell_type": "code",
   "execution_count": 1,
   "metadata": {},
   "outputs": [],
   "source": [
    "# This cell is added by sphinx-gallery\n",
    "# It can be customized to whatever you like\n",
    "%matplotlib inline"
   ]
  },
  {
   "cell_type": "markdown",
   "metadata": {},
   "source": [
    "Accelerating VQEs with quantum natural gradient\n",
    "===============================================\n",
    "\n",
    "::: {.meta}\n",
    ":property=\\\"og:description\\\": Accelerating variational quantum\n",
    "eigensolvers using quantum natural gradients in PennyLane.\n",
    ":property=\\\"og:image\\\":\n",
    "<https://pennylane.ai/qml/_images/qng_example.png>\n",
    ":::\n",
    "\n",
    "::: {.related}\n",
    "tutorial\\_vqe A brief overview of VQE\n",
    "tutorial\\_quantum\\_natural\\_gradient Quantum natural gradient\n",
    ":::\n",
    "\n",
    "*Authors: Maggie Li, Lana Bozanic, Sukin Sim --- Posted: 06 November\n",
    "2020. Last updated: 08 April 2021.*\n",
    "\n",
    "This tutorial showcases how one can apply quantum natural gradients\n",
    "(QNG) to accelerate the optimization step of the Variational Quantum\n",
    "Eigensolver (VQE) algorithm. We will implement two small examples:\n",
    "estimating the ground state energy of a single-qubit VQE problem, which\n",
    "we can visualize using the Bloch sphere, and the hydrogen molecule.\n",
    "\n",
    "Before going through this tutorial, we recommend that readers refer to\n",
    "the\n",
    "`QNG tutorial </demos/tutorial_quantum_natural_gradient>`{.interpreted-text\n",
    "role=\"doc\"} and `VQE tutorial </demos/tutorial_vqe>`{.interpreted-text\n",
    "role=\"doc\"} for overviews of quantum natural gradient and the\n",
    "variational quantum eigensolver algorithm, respectively. Let\\'s get\n",
    "started!\n",
    "\n",
    "Single-qubit VQE example\n",
    "------------------------\n",
    "\n",
    "The first step is to import the required libraries and packages:\n"
   ]
  },
  {
   "cell_type": "code",
   "execution_count": 166,
   "metadata": {},
   "outputs": [],
   "source": [
    "import matplotlib.pyplot as plt\n",
    "from pennylane import numpy as np\n",
    "import pennylane as qml\n",
    "\n",
    "# import numpy as np\n",
    "from numpy.linalg import eig"
   ]
  },
  {
   "cell_type": "markdown",
   "metadata": {},
   "source": [
    "For this simple example, we consider the following single-qubit\n",
    "Hamiltonian: $\\sigma_x + \\sigma_z$.\n",
    "\n",
    "We define the device:\n"
   ]
  },
  {
   "cell_type": "code",
   "execution_count": 170,
   "metadata": {
    "scrolled": true
   },
   "outputs": [
    {
     "name": "stdout",
     "output_type": "stream",
     "text": [
      "[[-4.  1.  0.  0.  1.  0.  0.  0.  0.  0.  0.  0.  0.  0.  0.  0.]\n",
      " [ 1. -4.  1.  0.  0.  1.  0.  0.  0.  0.  0.  0.  0.  0.  0.  0.]\n",
      " [ 0.  1. -4.  1.  0.  0.  1.  0.  0.  0.  0.  0.  0.  0.  0.  0.]\n",
      " [ 0.  0.  1. -4.  0.  0.  0.  1.  0.  0.  0.  0.  0.  0.  0.  0.]\n",
      " [ 1.  0.  0.  0. -4.  1.  0.  0.  1.  0.  0.  0.  0.  0.  0.  0.]\n",
      " [ 0.  1.  0.  0.  1. -4.  1.  0.  0.  1.  0.  0.  0.  0.  0.  0.]\n",
      " [ 0.  0.  1.  0.  0.  1. -4.  1.  0.  0.  1.  0.  0.  0.  0.  0.]\n",
      " [ 0.  0.  0.  1.  0.  0.  1. -4.  0.  0.  0.  1.  0.  0.  0.  0.]\n",
      " [ 0.  0.  0.  0.  1.  0.  0.  0. -4.  1.  0.  0.  1.  0.  0.  0.]\n",
      " [ 0.  0.  0.  0.  0.  1.  0.  0.  1. -4.  1.  0.  0.  1.  0.  0.]\n",
      " [ 0.  0.  0.  0.  0.  0.  1.  0.  0.  1. -4.  1.  0.  0.  1.  0.]\n",
      " [ 0.  0.  0.  0.  0.  0.  0.  1.  0.  0.  1. -4.  0.  0.  0.  1.]\n",
      " [ 0.  0.  0.  0.  0.  0.  0.  0.  1.  0.  0.  0. -4.  1.  0.  0.]\n",
      " [ 0.  0.  0.  0.  0.  0.  0.  0.  0.  1.  0.  0.  1. -4.  1.  0.]\n",
      " [ 0.  0.  0.  0.  0.  0.  0.  0.  0.  0.  1.  0.  0.  1. -4.  1.]\n",
      " [ 0.  0.  0.  0.  0.  0.  0.  0.  0.  0.  0.  1.  0.  0.  1. -4.]]\n",
      "\n",
      " [-0.76393202 -7.23606798 -2.76393202 -5.23606798 -1.76393202 -6.23606798\n",
      " -6.23606798 -1.76393202 -5.         -5.         -4.         -4.\n",
      " -3.         -3.         -4.         -4.        ]\n"
     ]
    }
   ],
   "source": [
    "# Set up the parameters\n",
    "n = 4  # grid size\n",
    "dx = 1.0/n  # grid spacing\n",
    "\n",
    "# Set up the difference operator\n",
    "D = np.zeros((n**2, n**2))\n",
    "for i in range(n):\n",
    "    for j in range(n):\n",
    "        k = i*n + j\n",
    "        if i > 0:\n",
    "            D[k, (i-1)*n + j] += 1\n",
    "        if i < n-1:\n",
    "            D[k, (i+1)*n + j] += 1\n",
    "        if j > 0:\n",
    "            D[k, i*n + j-1] += 1\n",
    "        if j < n-1:\n",
    "            D[k, i*n + j+1] += 1\n",
    "        D[k, k] -= 4\n",
    "\n",
    "# # Print the final solution\n",
    "print(D)\n",
    "\n",
    "l, v = eig(D)\n",
    "\n",
    "print('\\n', l)\n",
    "\n",
    "# print('\\n', v)"
   ]
  },
  {
   "cell_type": "code",
   "execution_count": 172,
   "metadata": {},
   "outputs": [
    {
     "name": "stdout",
     "output_type": "stream",
     "text": [
      "  (-4.0) [I0 I1 I2 I3]\n",
      "+ (0.5) [I0 I1 X2 X3]\n",
      "+ (0.5) [I0 I1 Y2 Y3]\n",
      "+ (0.5) [X0 X1 I2 I3]\n",
      "+ (0.5) [Y0 Y1 I2 I3]\n",
      "+ (1.0) [I0 I1 I2 X3]\n",
      "+ (1.0) [I0 X1 I2 I3]\n"
     ]
    }
   ],
   "source": [
    "H = qml.pauli_decompose(D)\n",
    "\n",
    "print(H)"
   ]
  },
  {
   "cell_type": "code",
   "execution_count": 173,
   "metadata": {},
   "outputs": [],
   "source": [
    "dev = qml.device(\"default.qubit\", wires=n)"
   ]
  },
  {
   "cell_type": "markdown",
   "metadata": {},
   "source": [
    "For the variational ansatz, we use two single-qubit rotations, which the\n",
    "user may recognize from a previous\n",
    "`tutorial </demos/tutorial_qubit_rotation>`{.interpreted-text\n",
    "role=\"doc\"} on qubit rotations.\n"
   ]
  },
  {
   "cell_type": "code",
   "execution_count": 120,
   "metadata": {},
   "outputs": [],
   "source": [
    "def circuit(params, wires=2):\n",
    "    qml.RX(params[0], wires=0)\n",
    "    qml.RY(params[1], wires=0)\n",
    "    \n",
    "#     qml.RX(params[0], wires=1)\n",
    "#     qml.RY(params[1], wires=1)\n",
    "    \n",
    "    # return qml.expval(qml.PauliZ(0) @ qml.PauliZ(1))"
   ]
  },
  {
   "cell_type": "markdown",
   "metadata": {},
   "source": [
    "We then define our cost function which supports the computation of\n",
    "block-diagonal or diagonal approximations to the Fubini-Study metric\n",
    "tensor. This tensor is a crucial component for optimizing with quantum\n",
    "natural gradients.\n"
   ]
  },
  {
   "cell_type": "code",
   "execution_count": 155,
   "metadata": {
    "scrolled": true
   },
   "outputs": [
    {
     "name": "stdout",
     "output_type": "stream",
     "text": [
      "  (-3.0) [I0 I1]\n",
      "+ (1.0) [I0 X1]\n",
      "+ (1.0) [X0 I1]\n"
     ]
    }
   ],
   "source": [
    "reduced_matrix = np.matrix([[-3,1,1,0],[1,-3,0,1],[1,0,-3,1],[0,1,1,-3]])\n",
    "\n",
    "H = qml.pauli_decompose(reduced_matrix)\n",
    "\n",
    "print(H)"
   ]
  },
  {
   "cell_type": "code",
   "execution_count": 156,
   "metadata": {},
   "outputs": [],
   "source": [
    "from numpy import linalg as LA\n",
    "\n",
    "eigs, eig_v = LA.eig(reduced_matrix)"
   ]
  },
  {
   "cell_type": "code",
   "execution_count": 157,
   "metadata": {},
   "outputs": [
    {
     "data": {
      "text/plain": [
       "array([-1., -5., -3., -3.])"
      ]
     },
     "execution_count": 157,
     "metadata": {},
     "output_type": "execute_result"
    }
   ],
   "source": [
    "eigs"
   ]
  },
  {
   "cell_type": "code",
   "execution_count": 158,
   "metadata": {},
   "outputs": [
    {
     "data": {
      "text/plain": [
       "matrix([[-0.5       , -0.5       ,  0.57735027, -0.57735027],\n",
       "        [-0.5       ,  0.5       , -0.40824829, -0.40824829],\n",
       "        [-0.5       ,  0.5       ,  0.40824829,  0.40824829],\n",
       "        [-0.5       , -0.5       , -0.57735027,  0.57735027]])"
      ]
     },
     "execution_count": 158,
     "metadata": {},
     "output_type": "execute_result"
    }
   ],
   "source": [
    "eig_v"
   ]
  },
  {
   "cell_type": "code",
   "execution_count": 159,
   "metadata": {},
   "outputs": [],
   "source": [
    "# coeffs = [1, 1]\n",
    "# obs = [qml.PauliX(0), qml.PauliZ(0)]\n",
    "\n",
    "# H = qml.Hamiltonian(coeffs, obs)\n",
    "\n",
    "# print(H)"
   ]
  },
  {
   "cell_type": "code",
   "execution_count": 160,
   "metadata": {},
   "outputs": [],
   "source": [
    "@qml.qnode(dev, interface=\"autograd\")\n",
    "def cost_fn(params):\n",
    "    circuit(params)\n",
    "    return qml.expval(H)"
   ]
  },
  {
   "cell_type": "code",
   "execution_count": 161,
   "metadata": {
    "scrolled": true
   },
   "outputs": [
    {
     "ename": "AttributeError",
     "evalue": "'function' object has no attribute 'construct'",
     "output_type": "error",
     "traceback": [
      "\u001b[0;31m---------------------------------------------------------------------------\u001b[0m",
      "\u001b[0;31mAttributeError\u001b[0m                            Traceback (most recent call last)",
      "Input \u001b[0;32mIn [161]\u001b[0m, in \u001b[0;36m<cell line: 1>\u001b[0;34m()\u001b[0m\n\u001b[0;32m----> 1\u001b[0m \u001b[38;5;28mprint\u001b[39m(\u001b[43mqml\u001b[49m\u001b[38;5;241;43m.\u001b[39;49m\u001b[43mdraw\u001b[49m\u001b[43m(\u001b[49m\u001b[43mcircuit\u001b[49m\u001b[43m,\u001b[49m\u001b[43m \u001b[49m\u001b[43mshow_matrices\u001b[49m\u001b[38;5;241;43m=\u001b[39;49m\u001b[38;5;28;43;01mTrue\u001b[39;49;00m\u001b[43m)\u001b[49m\u001b[43m(\u001b[49m\u001b[43m)\u001b[49m)\n",
      "File \u001b[0;32m~/opt/anaconda3/lib/python3.9/site-packages/pennylane/drawer/draw.py:190\u001b[0m, in \u001b[0;36mdraw.<locals>.wrapper\u001b[0;34m(*args, **kwargs)\u001b[0m\n\u001b[1;32m    188\u001b[0m \u001b[38;5;28;01mtry\u001b[39;00m:\n\u001b[1;32m    189\u001b[0m     qnode\u001b[38;5;241m.\u001b[39mexpansion_strategy \u001b[38;5;241m=\u001b[39m expansion_strategy \u001b[38;5;129;01mor\u001b[39;00m original_expansion_strategy\n\u001b[0;32m--> 190\u001b[0m     tapes \u001b[38;5;241m=\u001b[39m \u001b[43mqnode\u001b[49m\u001b[38;5;241;43m.\u001b[39;49m\u001b[43mconstruct\u001b[49m(args, kwargs)\n\u001b[1;32m    191\u001b[0m \u001b[38;5;28;01mfinally\u001b[39;00m:\n\u001b[1;32m    192\u001b[0m     qnode\u001b[38;5;241m.\u001b[39mexpansion_strategy \u001b[38;5;241m=\u001b[39m original_expansion_strategy\n",
      "\u001b[0;31mAttributeError\u001b[0m: 'function' object has no attribute 'construct'"
     ]
    }
   ],
   "source": [
    "print(qml.draw(circuit, show_matrices=True)())"
   ]
  },
  {
   "cell_type": "markdown",
   "metadata": {},
   "source": [
    "To analyze the performance of quantum natural gradient on VQE\n",
    "calculations, we set up and execute optimizations using the\n",
    "`GradientDescentOptimizer` (which does not utilize quantum gradients)\n",
    "and the `QNGOptimizer` that uses the block-diagonal approximation to the\n",
    "metric tensor.\n",
    "\n",
    "To perform a fair comparison, we fix the initial parameters for the two\n",
    "optimizers.\n"
   ]
  },
  {
   "cell_type": "code",
   "execution_count": 162,
   "metadata": {},
   "outputs": [],
   "source": [
    "init_params = np.array([4.97507603, 3.00854038], requires_grad=True)\n",
    "\n",
    "# init_params = np.array([3.97507603, 3.00854038], requires_grad=True)"
   ]
  },
  {
   "cell_type": "markdown",
   "metadata": {},
   "source": [
    "We will carry out each optimization over a maximum of 500 steps. As was\n",
    "done in the VQE tutorial, we aim to reach a convergence tolerance of\n",
    "around $10^{-6}$. We use a step size of 0.01.\n"
   ]
  },
  {
   "cell_type": "code",
   "execution_count": 163,
   "metadata": {},
   "outputs": [],
   "source": [
    "max_iterations = 500\n",
    "conv_tol = 1e-06\n",
    "step_size = 0.01"
   ]
  },
  {
   "cell_type": "markdown",
   "metadata": {},
   "source": [
    "First, we carry out the VQE optimization using the standard gradient\n",
    "descent method.\n"
   ]
  },
  {
   "cell_type": "code",
   "execution_count": 164,
   "metadata": {},
   "outputs": [
    {
     "name": "stdout",
     "output_type": "stream",
     "text": [
      "Iteration = 0,  Energy = -2.96637488 Ha,  Convergence parameter = 0.00082356 Ha\n",
      "Iteration = 20,  Energy = -2.98067580 Ha,  Convergence parameter = 0.00063218 Ha\n",
      "Iteration = 40,  Energy = -2.99210790 Ha,  Convergence parameter = 0.00052983 Ha\n",
      "Iteration = 60,  Energy = -3.00232669 Ha,  Convergence parameter = 0.00050577 Ha\n",
      "Iteration = 80,  Energy = -3.01285395 Ha,  Convergence parameter = 0.00055711 Ha\n",
      "Iteration = 100,  Energy = -3.02523934 Ha,  Convergence parameter = 0.00068908 Ha\n",
      "Iteration = 120,  Energy = -3.04121776 Ha,  Convergence parameter = 0.00091439 Ha\n",
      "Iteration = 140,  Energy = -3.06283832 Ha,  Convergence parameter = 0.00125092 Ha\n",
      "Iteration = 160,  Energy = -3.09251768 Ha,  Convergence parameter = 0.00171626 Ha\n",
      "Iteration = 180,  Energy = -3.13293041 Ha,  Convergence parameter = 0.00231681 Ha\n",
      "Iteration = 200,  Energy = -3.18661346 Ha,  Convergence parameter = 0.00303053 Ha\n",
      "Iteration = 220,  Energy = -3.25519000 Ha,  Convergence parameter = 0.00378768 Ha\n",
      "Iteration = 240,  Energy = -3.33830353 Ha,  Convergence parameter = 0.00446370 Ha\n",
      "Iteration = 260,  Energy = -3.43271693 Ha,  Convergence parameter = 0.00490415 Ha\n",
      "Iteration = 280,  Energy = -3.53231637 Ha,  Convergence parameter = 0.00498633 Ha\n",
      "Iteration = 300,  Energy = -3.62946723 Ha,  Convergence parameter = 0.00468410 Ha\n",
      "Iteration = 320,  Energy = -3.71722176 Ha,  Convergence parameter = 0.00408340 Ha\n",
      "Iteration = 340,  Energy = -3.79113839 Ha,  Convergence parameter = 0.00333408 Ha\n",
      "Iteration = 360,  Energy = -3.84981184 Ha,  Convergence parameter = 0.00257976 Ha\n",
      "Iteration = 380,  Energy = -3.89422529 Ha,  Convergence parameter = 0.00191437 Ha\n",
      "Iteration = 400,  Energy = -3.92664864 Ha,  Convergence parameter = 0.00137703 Ha\n",
      "Iteration = 420,  Energy = -3.94969744 Ha,  Convergence parameter = 0.00096850 Ha\n",
      "Iteration = 440,  Energy = -3.96577376 Ha,  Convergence parameter = 0.00067045 Ha\n",
      "Iteration = 460,  Energy = -3.97683871 Ha,  Convergence parameter = 0.00045905 Ha\n",
      "Iteration = 480,  Energy = -3.98438488 Ha,  Convergence parameter = 0.00031195 Ha\n",
      "\n",
      "Final value of the energy = -3.98928822 Ha\n",
      "Number of iterations =  499\n"
     ]
    }
   ],
   "source": [
    "opt = qml.GradientDescentOptimizer(stepsize=step_size)\n",
    "\n",
    "params = init_params\n",
    "\n",
    "gd_param_history = [params]\n",
    "gd_cost_history = []\n",
    "\n",
    "for n in range(max_iterations):\n",
    "\n",
    "    # Take step\n",
    "    params, prev_energy = opt.step_and_cost(cost_fn, params)\n",
    "    gd_param_history.append(params)\n",
    "    gd_cost_history.append(prev_energy)\n",
    "\n",
    "    energy = cost_fn(params)\n",
    "\n",
    "    # Calculate difference between new and old energies\n",
    "    conv = np.abs(energy - prev_energy)\n",
    "\n",
    "    if n % 20 == 0:\n",
    "        print(\n",
    "            \"Iteration = {:},  Energy = {:.8f} Ha,  Convergence parameter = {\"\n",
    "            \":.8f} Ha\".format(n, energy, conv)\n",
    "        )\n",
    "\n",
    "    if conv <= conv_tol:\n",
    "        break\n",
    "\n",
    "print()\n",
    "print(\"Final value of the energy = {:.8f} Ha\".format(energy))\n",
    "print(\"Number of iterations = \", n)"
   ]
  },
  {
   "cell_type": "markdown",
   "metadata": {},
   "source": [
    "We then repeat the process for the optimizer employing quantum natural\n",
    "gradients:\n"
   ]
  },
  {
   "cell_type": "code",
   "execution_count": 144,
   "metadata": {},
   "outputs": [
    {
     "name": "stdout",
     "output_type": "stream",
     "text": [
      "Iteration = 0,  Energy = -3.00499843 Ha,  Convergence parameter = 0.03944711 Ha\n",
      "Iteration = 20,  Energy = -3.67404994 Ha,  Convergence parameter = 0.02276663 Ha\n",
      "Iteration = 40,  Energy = -3.92636045 Ha,  Convergence parameter = 0.00600607 Ha\n",
      "Iteration = 60,  Energy = -3.98515740 Ha,  Convergence parameter = 0.00125211 Ha\n",
      "Iteration = 80,  Energy = -3.99708217 Ha,  Convergence parameter = 0.00024781 Ha\n",
      "Iteration = 100,  Energy = -3.99942926 Ha,  Convergence parameter = 0.00004854 Ha\n",
      "Iteration = 120,  Energy = -3.99988847 Ha,  Convergence parameter = 0.00000949 Ha\n",
      "Iteration = 140,  Energy = -3.99997821 Ha,  Convergence parameter = 0.00000185 Ha\n",
      "\n",
      "Final value of the energy = -3.99998866 Ha\n",
      "Number of iterations =  148\n"
     ]
    }
   ],
   "source": [
    "opt = qml.QNGOptimizer(stepsize=step_size, approx=\"block-diag\")\n",
    "\n",
    "params = init_params\n",
    "\n",
    "qngd_param_history = [params]\n",
    "qngd_cost_history = []\n",
    "\n",
    "for n in range(max_iterations):\n",
    "\n",
    "    # Take step\n",
    "    params, prev_energy = opt.step_and_cost(cost_fn, params)\n",
    "    qngd_param_history.append(params)\n",
    "    qngd_cost_history.append(prev_energy)\n",
    "\n",
    "    # Compute energy\n",
    "    energy = cost_fn(params)\n",
    "\n",
    "    # Calculate difference between new and old energies\n",
    "    conv = np.abs(energy - prev_energy)\n",
    "\n",
    "    if n % 20 == 0:\n",
    "        print(\n",
    "            \"Iteration = {:},  Energy = {:.8f} Ha,  Convergence parameter = {\"\n",
    "            \":.8f} Ha\".format(n, energy, conv)\n",
    "        )\n",
    "\n",
    "    if conv <= conv_tol:\n",
    "        break\n",
    "\n",
    "print()\n",
    "print(\"Final value of the energy = {:.8f} Ha\".format(energy))\n",
    "print(\"Number of iterations = \", n)"
   ]
  },
  {
   "cell_type": "markdown",
   "metadata": {},
   "source": [
    "Visualizing the results\n",
    "=======================\n",
    "\n",
    "For single-qubit examples, we can visualize the optimization process in\n",
    "several ways.\n",
    "\n",
    "For example, we can track the energy history:\n"
   ]
  },
  {
   "cell_type": "code",
   "execution_count": 32,
   "metadata": {},
   "outputs": [
    {
     "data": {
      "image/png": "[encoded data removed]",
      "text/plain": [
       "<Figure size 576x396 with 1 Axes>"
      ]
     },
     "metadata": {},
     "output_type": "display_data"
    }
   ],
   "source": [
    "plt.style.use(\"seaborn\")\n",
    "plt.plot(gd_cost_history, \"b\", label=\"Gradient descent\")\n",
    "plt.plot(qngd_cost_history, \"g\", label=\"Quantum natural gradient descent\")\n",
    "\n",
    "plt.ylabel(\"Cost function value\")\n",
    "plt.xlabel(\"Optimization steps\")\n",
    "plt.legend()\n",
    "plt.show()"
   ]
  },
  {
   "cell_type": "markdown",
   "metadata": {},
   "source": [
    "Or we can visualize the optimization path in the parameter space using a\n",
    "contour plot. Energies at different grid points have been pre-computed,\n",
    "and they can be downloaded by clicking\n",
    "`here<../demonstrations/vqe_qng/param_landscape.npy>`{.interpreted-text\n",
    "role=\"download\"}.\n"
   ]
  },
  {
   "cell_type": "code",
   "execution_count": 11,
   "metadata": {},
   "outputs": [
    {
     "ename": "FileNotFoundError",
     "evalue": "[Errno 2] No such file or directory: 'vqe_qng/param_landscape.npy'",
     "output_type": "error",
     "traceback": [
      "\u001b[0;31m---------------------------------------------------------------------------\u001b[0m",
      "\u001b[0;31mFileNotFoundError\u001b[0m                         Traceback (most recent call last)",
      "Input \u001b[0;32mIn [11]\u001b[0m, in \u001b[0;36m<cell line: 6>\u001b[0;34m()\u001b[0m\n\u001b[1;32m      3\u001b[0m theta1 \u001b[38;5;241m=\u001b[39m np\u001b[38;5;241m.\u001b[39mlinspace(\u001b[38;5;241m0.0\u001b[39m, \u001b[38;5;241m2.0\u001b[39m \u001b[38;5;241m*\u001b[39m np\u001b[38;5;241m.\u001b[39mpi, \u001b[38;5;241m100\u001b[39m)\n\u001b[1;32m      5\u001b[0m \u001b[38;5;66;03m# Load energy value at each point in parameter space\u001b[39;00m\n\u001b[0;32m----> 6\u001b[0m parameter_landscape \u001b[38;5;241m=\u001b[39m \u001b[43mnp\u001b[49m\u001b[38;5;241;43m.\u001b[39;49m\u001b[43mload\u001b[49m\u001b[43m(\u001b[49m\u001b[38;5;124;43m\"\u001b[39;49m\u001b[38;5;124;43mvqe_qng/param_landscape.npy\u001b[39;49m\u001b[38;5;124;43m\"\u001b[39;49m\u001b[43m)\u001b[49m\n\u001b[1;32m      8\u001b[0m \u001b[38;5;66;03m# Plot energy landscape\u001b[39;00m\n\u001b[1;32m      9\u001b[0m fig, axes \u001b[38;5;241m=\u001b[39m plt\u001b[38;5;241m.\u001b[39msubplots(figsize\u001b[38;5;241m=\u001b[39m(\u001b[38;5;241m6\u001b[39m, \u001b[38;5;241m6\u001b[39m))\n",
      "File \u001b[0;32m~/opt/anaconda3/lib/python3.9/site-packages/pennylane/numpy/wrapper.py:117\u001b[0m, in \u001b[0;36mtensor_wrapper.<locals>._wrapped\u001b[0;34m(*args, **kwargs)\u001b[0m\n\u001b[1;32m    114\u001b[0m         tensor_kwargs[\u001b[38;5;124m\"\u001b[39m\u001b[38;5;124mrequires_grad\u001b[39m\u001b[38;5;124m\"\u001b[39m] \u001b[38;5;241m=\u001b[39m _np\u001b[38;5;241m.\u001b[39many([i\u001b[38;5;241m.\u001b[39mrequires_grad \u001b[38;5;28;01mfor\u001b[39;00m i \u001b[38;5;129;01min\u001b[39;00m tensor_args])\n\u001b[1;32m    116\u001b[0m \u001b[38;5;66;03m# evaluate the original object\u001b[39;00m\n\u001b[0;32m--> 117\u001b[0m res \u001b[38;5;241m=\u001b[39m \u001b[43mobj\u001b[49m\u001b[43m(\u001b[49m\u001b[38;5;241;43m*\u001b[39;49m\u001b[43margs\u001b[49m\u001b[43m,\u001b[49m\u001b[43m \u001b[49m\u001b[38;5;241;43m*\u001b[39;49m\u001b[38;5;241;43m*\u001b[39;49m\u001b[43mkwargs\u001b[49m\u001b[43m)\u001b[49m\n\u001b[1;32m    119\u001b[0m \u001b[38;5;28;01mif\u001b[39;00m \u001b[38;5;28misinstance\u001b[39m(res, _np\u001b[38;5;241m.\u001b[39mndarray):\n\u001b[1;32m    120\u001b[0m     \u001b[38;5;66;03m# only if the output of the object is a ndarray,\u001b[39;00m\n\u001b[1;32m    121\u001b[0m     \u001b[38;5;66;03m# then convert to a PennyLane tensor\u001b[39;00m\n\u001b[1;32m    122\u001b[0m     res \u001b[38;5;241m=\u001b[39m tensor(res, \u001b[38;5;241m*\u001b[39m\u001b[38;5;241m*\u001b[39mtensor_kwargs)\n",
      "File \u001b[0;32m~/opt/anaconda3/lib/python3.9/site-packages/autograd/tracer.py:48\u001b[0m, in \u001b[0;36mprimitive.<locals>.f_wrapped\u001b[0;34m(*args, **kwargs)\u001b[0m\n\u001b[1;32m     46\u001b[0m     \u001b[38;5;28;01mreturn\u001b[39;00m new_box(ans, trace, node)\n\u001b[1;32m     47\u001b[0m \u001b[38;5;28;01melse\u001b[39;00m:\n\u001b[0;32m---> 48\u001b[0m     \u001b[38;5;28;01mreturn\u001b[39;00m \u001b[43mf_raw\u001b[49m\u001b[43m(\u001b[49m\u001b[38;5;241;43m*\u001b[39;49m\u001b[43margs\u001b[49m\u001b[43m,\u001b[49m\u001b[43m \u001b[49m\u001b[38;5;241;43m*\u001b[39;49m\u001b[38;5;241;43m*\u001b[39;49m\u001b[43mkwargs\u001b[49m\u001b[43m)\u001b[49m\n",
      "File \u001b[0;32m~/opt/anaconda3/lib/python3.9/site-packages/numpy/lib/npyio.py:417\u001b[0m, in \u001b[0;36mload\u001b[0;34m(file, mmap_mode, allow_pickle, fix_imports, encoding)\u001b[0m\n\u001b[1;32m    415\u001b[0m     own_fid \u001b[38;5;241m=\u001b[39m \u001b[38;5;28;01mFalse\u001b[39;00m\n\u001b[1;32m    416\u001b[0m \u001b[38;5;28;01melse\u001b[39;00m:\n\u001b[0;32m--> 417\u001b[0m     fid \u001b[38;5;241m=\u001b[39m stack\u001b[38;5;241m.\u001b[39menter_context(\u001b[38;5;28;43mopen\u001b[39;49m\u001b[43m(\u001b[49m\u001b[43mos_fspath\u001b[49m\u001b[43m(\u001b[49m\u001b[43mfile\u001b[49m\u001b[43m)\u001b[49m\u001b[43m,\u001b[49m\u001b[43m \u001b[49m\u001b[38;5;124;43m\"\u001b[39;49m\u001b[38;5;124;43mrb\u001b[39;49m\u001b[38;5;124;43m\"\u001b[39;49m\u001b[43m)\u001b[49m)\n\u001b[1;32m    418\u001b[0m     own_fid \u001b[38;5;241m=\u001b[39m \u001b[38;5;28;01mTrue\u001b[39;00m\n\u001b[1;32m    420\u001b[0m \u001b[38;5;66;03m# Code to distinguish from NumPy binary files and pickles.\u001b[39;00m\n",
      "\u001b[0;31mFileNotFoundError\u001b[0m: [Errno 2] No such file or directory: 'vqe_qng/param_landscape.npy'"
     ]
    }
   ],
   "source": [
    "# Discretize the parameter space\n",
    "theta0 = np.linspace(0.0, 2.0 * np.pi, 100)\n",
    "theta1 = np.linspace(0.0, 2.0 * np.pi, 100)\n",
    "\n",
    "# Load energy value at each point in parameter space\n",
    "parameter_landscape = np.load(\"vqe_qng/param_landscape.npy\")\n",
    "\n",
    "# Plot energy landscape\n",
    "fig, axes = plt.subplots(figsize=(6, 6))\n",
    "cmap = plt.cm.get_cmap(\"coolwarm\")\n",
    "contour_plot = plt.contourf(theta0, theta1, parameter_landscape, cmap=cmap)\n",
    "plt.xlabel(r\"$\\theta_0$\")\n",
    "plt.ylabel(r\"$\\theta_1$\")\n",
    "\n",
    "# Plot optimization path for gradient descent. Plot every 10th point.\n",
    "gd_color = \"g\"\n",
    "plt.plot(\n",
    "    np.array(gd_param_history)[::10, 0],\n",
    "    np.array(gd_param_history)[::10, 1],\n",
    "    \".\",\n",
    "    color=gd_color,\n",
    "    linewidth=1,\n",
    "    label=\"Gradient descent\",\n",
    ")\n",
    "plt.plot(\n",
    "    np.array(gd_param_history)[:, 0],\n",
    "    np.array(gd_param_history)[:, 1],\n",
    "    \"-\",\n",
    "    color=gd_color,\n",
    "    linewidth=1,\n",
    ")\n",
    "\n",
    "# Plot optimization path for quantum natural gradient descent. Plot every 10th point.\n",
    "qngd_color = \"k\"\n",
    "plt.plot(\n",
    "    np.array(qngd_param_history)[::10, 0],\n",
    "    np.array(qngd_param_history)[::10, 1],\n",
    "    \".\",\n",
    "    color=qngd_color,\n",
    "    linewidth=1,\n",
    "    label=\"Quantum natural gradient descent\",\n",
    ")\n",
    "plt.plot(\n",
    "    np.array(qngd_param_history)[:, 0],\n",
    "    np.array(qngd_param_history)[:, 1],\n",
    "    \"-\",\n",
    "    color=qngd_color,\n",
    "    linewidth=1,\n",
    ")\n",
    "\n",
    "plt.legend()\n",
    "plt.show()"
   ]
  },
  {
   "cell_type": "markdown",
   "metadata": {},
   "source": [
    "Here, the blue regions indicate states with lower energies, and the red\n",
    "regions indicate states with higher energies. We can see that the\n",
    "`QNGOptimizer` takes a more direct route to the minimum in larger\n",
    "strides compared to the path taken by the `GradientDescentOptimizer`.\n",
    "\n",
    "Lastly, we can visualize the same optimization paths on the Bloch sphere\n",
    "using routines from [QuTiP](http://qutip.org/). The result should look\n",
    "like the following:\n",
    "\n",
    "![](/demonstrations/vqe_qng/opt_paths_bloch.png){.align-center\n",
    "width=\"50.0%\"}\n",
    "\n",
    "where again the black markers and line indicate the path taken by the\n",
    "`QNGOptimizer`, and the green markers and line indicate the path taken\n",
    "by the `GradientDescentOptimizer`. Using this visualization method, we\n",
    "can clearly see how the path using the `QNGOptimizer` tightly \\\"hugs\\\"\n",
    "the curvature of the Bloch sphere and takes the shorter path.\n",
    "\n",
    "Now, we will move onto a more interesting example: estimating the ground\n",
    "state energy of molecular hydrogen.\n",
    "\n",
    "Hydrogen VQE Example\n",
    "====================\n",
    "\n",
    "To construct our system Hamiltonian, we first read the molecular\n",
    "geometry from the external file\n",
    "`h2.xyz </demonstrations/h2.xyz>`{.interpreted-text role=\"download\"}\n",
    "using the `~.pennylane.qchem.read_structure`{.interpreted-text\n",
    "role=\"func\"} function (see more details in the\n",
    "`tutorial_quantum_chemistry`{.interpreted-text role=\"doc\"} tutorial).\n",
    "The molecular Hamiltonian is then built using the\n",
    "`~.pennylane.qchem.molecular_hamiltonian`{.interpreted-text role=\"func\"}\n",
    "function.\n"
   ]
  },
  {
   "cell_type": "code",
   "execution_count": 12,
   "metadata": {},
   "outputs": [
    {
     "ename": "FileNotFoundError",
     "evalue": "[Errno 2] No such file or directory: 'h2.xyz'",
     "output_type": "error",
     "traceback": [
      "\u001b[0;31m---------------------------------------------------------------------------\u001b[0m",
      "\u001b[0;31mFileNotFoundError\u001b[0m                         Traceback (most recent call last)",
      "Input \u001b[0;32mIn [12]\u001b[0m, in \u001b[0;36m<cell line: 3>\u001b[0;34m()\u001b[0m\n\u001b[1;32m      1\u001b[0m geo_file \u001b[38;5;241m=\u001b[39m \u001b[38;5;124m\"\u001b[39m\u001b[38;5;124mh2.xyz\u001b[39m\u001b[38;5;124m\"\u001b[39m\n\u001b[0;32m----> 3\u001b[0m symbols, coordinates \u001b[38;5;241m=\u001b[39m \u001b[43mqml\u001b[49m\u001b[38;5;241;43m.\u001b[39;49m\u001b[43mqchem\u001b[49m\u001b[38;5;241;43m.\u001b[39;49m\u001b[43mread_structure\u001b[49m\u001b[43m(\u001b[49m\u001b[43mgeo_file\u001b[49m\u001b[43m)\u001b[49m\n\u001b[1;32m      4\u001b[0m hamiltonian, qubits \u001b[38;5;241m=\u001b[39m qml\u001b[38;5;241m.\u001b[39mqchem\u001b[38;5;241m.\u001b[39mmolecular_hamiltonian(symbols, coordinates)\n\u001b[1;32m      6\u001b[0m \u001b[38;5;28mprint\u001b[39m(\u001b[38;5;124m\"\u001b[39m\u001b[38;5;124mNumber of qubits = \u001b[39m\u001b[38;5;124m\"\u001b[39m, qubits)\n",
      "File \u001b[0;32m~/opt/anaconda3/lib/python3.9/site-packages/pennylane/qchem/structure.py:57\u001b[0m, in \u001b[0;36mread_structure\u001b[0;34m(filepath, outpath)\u001b[0m\n\u001b[1;32m     54\u001b[0m file_in \u001b[38;5;241m=\u001b[39m filepath\u001b[38;5;241m.\u001b[39mstrip()\n\u001b[1;32m     55\u001b[0m file_out \u001b[38;5;241m=\u001b[39m os\u001b[38;5;241m.\u001b[39mpath\u001b[38;5;241m.\u001b[39mjoin(outpath, \u001b[38;5;124m\"\u001b[39m\u001b[38;5;124mstructure.xyz\u001b[39m\u001b[38;5;124m\"\u001b[39m)\n\u001b[0;32m---> 57\u001b[0m \u001b[43mcopyfile\u001b[49m\u001b[43m(\u001b[49m\u001b[43mfile_in\u001b[49m\u001b[43m,\u001b[49m\u001b[43m \u001b[49m\u001b[43mfile_out\u001b[49m\u001b[43m)\u001b[49m\n\u001b[1;32m     59\u001b[0m symbols \u001b[38;5;241m=\u001b[39m []\n\u001b[1;32m     60\u001b[0m coordinates \u001b[38;5;241m=\u001b[39m []\n",
      "File \u001b[0;32m~/opt/anaconda3/lib/python3.9/shutil.py:264\u001b[0m, in \u001b[0;36mcopyfile\u001b[0;34m(src, dst, follow_symlinks)\u001b[0m\n\u001b[1;32m    262\u001b[0m     os\u001b[38;5;241m.\u001b[39msymlink(os\u001b[38;5;241m.\u001b[39mreadlink(src), dst)\n\u001b[1;32m    263\u001b[0m \u001b[38;5;28;01melse\u001b[39;00m:\n\u001b[0;32m--> 264\u001b[0m     \u001b[38;5;28;01mwith\u001b[39;00m \u001b[38;5;28;43mopen\u001b[39;49m\u001b[43m(\u001b[49m\u001b[43msrc\u001b[49m\u001b[43m,\u001b[49m\u001b[43m \u001b[49m\u001b[38;5;124;43m'\u001b[39;49m\u001b[38;5;124;43mrb\u001b[39;49m\u001b[38;5;124;43m'\u001b[39;49m\u001b[43m)\u001b[49m \u001b[38;5;28;01mas\u001b[39;00m fsrc:\n\u001b[1;32m    265\u001b[0m         \u001b[38;5;28;01mtry\u001b[39;00m:\n\u001b[1;32m    266\u001b[0m             \u001b[38;5;28;01mwith\u001b[39;00m \u001b[38;5;28mopen\u001b[39m(dst, \u001b[38;5;124m'\u001b[39m\u001b[38;5;124mwb\u001b[39m\u001b[38;5;124m'\u001b[39m) \u001b[38;5;28;01mas\u001b[39;00m fdst:\n\u001b[1;32m    267\u001b[0m                 \u001b[38;5;66;03m# macOS\u001b[39;00m\n",
      "\u001b[0;31mFileNotFoundError\u001b[0m: [Errno 2] No such file or directory: 'h2.xyz'"
     ]
    }
   ],
   "source": [
    "geo_file = \"h2.xyz\"\n",
    "\n",
    "symbols, coordinates = qml.qchem.read_structure(geo_file)\n",
    "hamiltonian, qubits = qml.qchem.molecular_hamiltonian(symbols, coordinates)\n",
    "\n",
    "print(\"Number of qubits = \", qubits)"
   ]
  },
  {
   "cell_type": "markdown",
   "metadata": {},
   "source": [
    "For our ansatz, we use the circuit from the [VQE\n",
    "tutorial](https://pennylane.ai/qml/demos/tutorial_vqe.html) but expand\n",
    "out the arbitrary single-qubit rotations to elementary gates (RZ-RY-RZ).\n"
   ]
  },
  {
   "cell_type": "code",
   "execution_count": null,
   "metadata": {},
   "outputs": [],
   "source": [
    "dev = qml.device(\"default.qubit\", wires=qubits)\n",
    "hf_state = np.array([1, 1, 0, 0], requires_grad=False)\n",
    "\n",
    "def ansatz(params, wires=[0, 1, 2, 3]):\n",
    "    qml.BasisState(hf_state, wires=wires)\n",
    "    for i in wires:\n",
    "        qml.RZ(params[3 * i], wires=i)\n",
    "        qml.RY(params[3 * i + 1], wires=i)\n",
    "        qml.RZ(params[3 * i + 2], wires=i)\n",
    "    qml.CNOT(wires=[2, 3])\n",
    "    qml.CNOT(wires=[2, 0])\n",
    "    qml.CNOT(wires=[3, 1])"
   ]
  },
  {
   "cell_type": "markdown",
   "metadata": {},
   "source": [
    "Note that the qubit register has been initialized to $|1100\\rangle$,\n",
    "which encodes for the Hartree-Fock state of the hydrogen molecule\n",
    "described in the minimal basis. Again, we define the cost function to be\n",
    "the following QNode that measures `expval(H)`:\n"
   ]
  },
  {
   "cell_type": "code",
   "execution_count": null,
   "metadata": {},
   "outputs": [],
   "source": [
    "@qml.qnode(dev, interface=\"autograd\")\n",
    "def cost(params):\n",
    "    ansatz(params)\n",
    "    return qml.expval(hamiltonian)"
   ]
  },
  {
   "cell_type": "markdown",
   "metadata": {},
   "source": [
    "For this problem, we can compute the exact value of the ground state\n",
    "energy via exact diagonalization. We provide the value below.\n"
   ]
  },
  {
   "cell_type": "code",
   "execution_count": null,
   "metadata": {},
   "outputs": [],
   "source": [
    "exact_value = -1.136189454088"
   ]
  },
  {
   "cell_type": "markdown",
   "metadata": {},
   "source": [
    "We now set up our optimizations runs.\n"
   ]
  },
  {
   "cell_type": "code",
   "execution_count": null,
   "metadata": {},
   "outputs": [],
   "source": [
    "np.random.seed(0)\n",
    "init_params = np.random.uniform(low=0, high=2 * np.pi, size=12, requires_grad=True)\n",
    "max_iterations = 500\n",
    "step_size = 0.5\n",
    "conv_tol = 1e-06"
   ]
  },
  {
   "cell_type": "markdown",
   "metadata": {},
   "source": [
    "As was done with our previous VQE example, we run the standard gradient\n",
    "descent optimizer.\n"
   ]
  },
  {
   "cell_type": "code",
   "execution_count": null,
   "metadata": {},
   "outputs": [],
   "source": [
    "opt = qml.GradientDescentOptimizer(step_size)\n",
    "\n",
    "params = init_params\n",
    "\n",
    "gd_cost = []\n",
    "\n",
    "for n in range(max_iterations):\n",
    "    params, prev_energy = opt.step_and_cost(cost, params)\n",
    "    gd_cost.append(prev_energy)\n",
    "\n",
    "    energy = cost(params)\n",
    "    conv = np.abs(energy - prev_energy)\n",
    "\n",
    "    if n % 20 == 0:\n",
    "        print(\n",
    "            \"Iteration = {:},  Energy = {:.8f} Ha\".format(n, energy)\n",
    "        )\n",
    "\n",
    "    if conv <= conv_tol:\n",
    "        break\n",
    "\n",
    "\n",
    "print()\n",
    "print(\"Final convergence parameter = {:.8f} Ha\".format(conv))\n",
    "print(\"Number of iterations = \", n)\n",
    "print(\"Final value of the ground-state energy = {:.8f} Ha\".format(energy))\n",
    "print(\n",
    "    \"Accuracy with respect to the FCI energy: {:.8f} Ha ({:.8f} kcal/mol)\".format(\n",
    "        np.abs(energy - exact_value), np.abs(energy - exact_value) * 627.503\n",
    "    )\n",
    ")\n",
    "print()\n",
    "print(\"Final circuit parameters = \\n\", params)"
   ]
  },
  {
   "cell_type": "markdown",
   "metadata": {},
   "source": [
    "Next, we run the optimizer employing quantum natural gradients. We also\n",
    "need to make the Hamiltonian coefficients non-differentiable by setting\n",
    "`requires_grad=False`.\n"
   ]
  },
  {
   "cell_type": "code",
   "execution_count": null,
   "metadata": {},
   "outputs": [],
   "source": [
    "hamiltonian = qml.Hamiltonian(np.array(hamiltonian.coeffs, requires_grad=False), hamiltonian.ops)\n",
    "\n",
    "opt = qml.QNGOptimizer(step_size, lam=0.001, approx=\"block-diag\")\n",
    "\n",
    "params = init_params\n",
    "prev_energy = cost(params)\n",
    "qngd_cost = []\n",
    "\n",
    "for n in range(max_iterations):\n",
    "    params, prev_energy = opt.step_and_cost(cost, params)\n",
    "    qngd_cost.append(prev_energy)\n",
    "\n",
    "    energy = cost(params)\n",
    "    conv = np.abs(energy - prev_energy)\n",
    "\n",
    "    if n % 4 == 0:\n",
    "        print(\n",
    "            \"Iteration = {:},  Energy = {:.8f} Ha\".format(n, energy)\n",
    "        )\n",
    "\n",
    "    if conv <= conv_tol:\n",
    "        break\n",
    "\n",
    "\n",
    "print(\"\\nFinal convergence parameter = {:.8f} Ha\".format(conv))\n",
    "print(\"Number of iterations = \", n)\n",
    "print(\"Final value of the ground-state energy = {:.8f} Ha\".format(energy))\n",
    "print(\n",
    "    \"Accuracy with respect to the FCI energy: {:.8f} Ha ({:.8f} kcal/mol)\".format(\n",
    "        np.abs(energy - exact_value), np.abs(energy - exact_value) * 627.503\n",
    "    )\n",
    ")\n",
    "print()\n",
    "print(\"Final circuit parameters = \\n\", params)"
   ]
  },
  {
   "cell_type": "markdown",
   "metadata": {},
   "source": [
    "Visualizing the results\n",
    "=======================\n",
    "\n",
    "To evaluate the performance of our two optimizers, we can compare: (a)\n",
    "the number of steps it takes to reach our ground state estimate and (b)\n",
    "the quality of our ground state estimate by comparing the final\n",
    "optimization energy to the exact value.\n"
   ]
  },
  {
   "cell_type": "code",
   "execution_count": null,
   "metadata": {},
   "outputs": [],
   "source": [
    "plt.style.use(\"seaborn\")\n",
    "plt.plot(np.array(gd_cost) - exact_value, \"g\", label=\"Gradient descent\")\n",
    "plt.plot(np.array(qngd_cost) - exact_value, \"k\", label=\"Quantum natural gradient descent\")\n",
    "plt.yscale(\"log\")\n",
    "plt.ylabel(\"Energy difference\")\n",
    "plt.xlabel(\"Step\")\n",
    "plt.legend()\n",
    "plt.show()"
   ]
  },
  {
   "cell_type": "markdown",
   "metadata": {},
   "source": [
    "We see that by employing quantum natural gradients, it takes fewer steps\n",
    "to reach a ground state estimate and the optimized energy achieved by\n",
    "the optimizer is lower than that obtained using vanilla gradient\n",
    "descent.\n"
   ]
  },
  {
   "cell_type": "markdown",
   "metadata": {},
   "source": [
    "Robustness in parameter initialization\n",
    "======================================\n",
    "\n",
    "While results above show a more rapid convergence for quantum natural\n",
    "gradients, what if we were just lucky, i.e., we started at a \\\"good\\\"\n",
    "point in parameter space? How do we know this will be the case with high\n",
    "probability regardless of the parameter initialization?\n",
    "\n",
    "Using the same system Hamiltonian, ansatz, and device, we tested the\n",
    "robustness of the `QNGOptimizer` by running 10 independent trials with\n",
    "random parameter initializations. For this numerical test, our optimizer\n",
    "does not terminate based on energy improvement; we fix the number of\n",
    "iterations to 200. We show the result of this test below (after\n",
    "pre-computing), where we plot the mean and standard deviation of the\n",
    "energies over optimization steps for quantum natural gradient and\n",
    "standard gradient descent.\n",
    "\n",
    "![](../demonstrations/vqe_qng/k_runs_.png){.align-center width=\"60.0%\"}\n",
    "\n",
    "We observe that quantum natural gradient on average converges faster for\n",
    "this system.\n",
    "\n",
    "::: {.note}\n",
    "::: {.title}\n",
    "Note\n",
    ":::\n",
    "\n",
    "While using QNG may help accelerate the VQE algorithm in terms of\n",
    "optimization steps, each QNG step is more costly than its vanilla\n",
    "gradient descent counterpart due to a greater number of calls to the\n",
    "quantum computer that are needed to compute the Fubini-Study metric\n",
    "tensor.\n",
    ":::\n",
    "\n",
    "While further benchmark studies are needed to better understand the\n",
    "advantages of quantum natural gradient, preliminary studies such as this\n",
    "tutorial show the potentials of the method. 🎉\n"
   ]
  },
  {
   "cell_type": "markdown",
   "metadata": {},
   "source": [
    "References\n",
    "==========\n",
    "\n",
    "About the authors\n",
    "=================\n"
   ]
  }
 ],
 "metadata": {
  "kernelspec": {
   "display_name": "Python 3 (ipykernel)",
   "language": "python",
   "name": "python3"
  },
  "language_info": {
   "codemirror_mode": {
    "name": "ipython",
    "version": 3
   },
   "file_extension": ".py",
   "mimetype": "text/x-python",
   "name": "python",
   "nbconvert_exporter": "python",
   "pygments_lexer": "ipython3",
   "version": "3.9.12"
  }
 },
 "nbformat": 4,
 "nbformat_minor": 1
}
