{
 "cells": [
  {
   "cell_type": "code",
   "execution_count": null,
   "metadata": {},
   "outputs": [],
   "source": [
    "# This cell is added by sphinx-gallery\n",
    "# It can be customized to whatever you like\n",
    "%matplotlib inline"
   ]
  },
  {
   "cell_type": "markdown",
   "metadata": {},
   "source": [
    "A brief overview of VQE\n",
    "=======================\n",
    "\n",
    "::: {.meta}\n",
    ":property=\\\"og:description\\\": Find the ground state of a Hamiltonian\n",
    "using the variational quantum eigensolver algorithm.\n",
    ":property=\\\"og:image\\\": <https://pennylane.ai/qml/_images/pes_h2.png>\n",
    ":::\n",
    "\n",
    "::: {.related}\n",
    "tutorial\\_quantum\\_chemistry Building molecular Hamiltonians\n",
    "vqe\\_parallel VQE with parallel QPUs with Rigetti tutorial\\_vqe\\_qng\n",
    "Accelerating VQE with quantum natural gradient\n",
    "tutorial\\_vqe\\_spin\\_sectors VQE in different spin sectors tutorial\\_vqt\n",
    "Variational quantum thermalizer\n",
    ":::\n",
    "\n",
    "*Author: Alain Delgado --- Posted: 08 February 2020. Last updated: 25\n",
    "June 2022.*\n",
    "\n",
    "The Variational Quantum Eigensolver (VQE) is a flagship algorithm for\n",
    "quantum chemistry using near-term quantum computers. It is an\n",
    "application of the [Ritz variational\n",
    "principle](https://en.wikipedia.org/wiki/Ritz_method), where a quantum\n",
    "computer is trained to prepare the ground state of a given molecule.\n",
    "\n",
    "The inputs to the VQE algorithm are a molecular Hamiltonian and a\n",
    "parametrized circuit preparing the quantum state of the molecule. Within\n",
    "VQE, the cost function is defined as the expectation value of the\n",
    "Hamiltonian computed in the trial state. The ground state of the target\n",
    "Hamiltonian is obtained by performing an iterative minimization of the\n",
    "cost function. The optimization is carried out by a classical optimizer\n",
    "which leverages a quantum computer to evaluate the cost function and\n",
    "calculate its gradient at each optimization step.\n",
    "\n",
    "In this tutorial you will learn how to implement the VQE algorithm in a\n",
    "few lines of code. As an illustrative example, we use it to find the\n",
    "ground state of the hydrogen molecule, $\\mathrm{H}_2$. First, we build\n",
    "the molecular Hamiltonian using a minimal basis set approximation. Next,\n",
    "we design the quantum circuit preparing the trial state of the molecule,\n",
    "and the cost function to evaluate the expectation value of the\n",
    "Hamiltonian. Finally, we select a classical optimizer, initialize the\n",
    "circuit parameters, and run the VQE algorithm using a PennyLane\n",
    "simulator.\n",
    "\n",
    "Let\\'s get started!\n",
    "\n",
    "Building the electronic Hamiltonian\n",
    "-----------------------------------\n",
    "\n",
    "The first step is to specify the molecule we want to simulate. This is\n",
    "done by providing a list with the symbols of the constituent atoms and a\n",
    "one-dimensional array with the corresponding nuclear coordinates in\n",
    "[atomic units](https://en.wikipedia.org/wiki/Hartree_atomic_units).\n"
   ]
  },
  {
   "cell_type": "code",
   "execution_count": null,
   "metadata": {},
   "outputs": [],
   "source": [
    "from pennylane import numpy as np\n",
    "\n",
    "symbols = [\"H\", \"H\"]\n",
    "coordinates = np.array([0.0, 0.0, -0.6614, 0.0, 0.0, 0.6614])"
   ]
  },
  {
   "cell_type": "markdown",
   "metadata": {},
   "source": [
    "The molecular structure can also be imported from an external file using\n",
    "the `~.pennylane.qchem.read_structure`{.interpreted-text role=\"func\"}\n",
    "function.\n",
    "\n",
    "Now, we can build the electronic Hamiltonian of the hydrogen molecule\n",
    "using the `~.pennylane.qchem.molecular_hamiltonian`{.interpreted-text\n",
    "role=\"func\"} function.\n"
   ]
  },
  {
   "cell_type": "code",
   "execution_count": null,
   "metadata": {},
   "outputs": [],
   "source": [
    "import pennylane as qml\n",
    "\n",
    "H, qubits = qml.qchem.molecular_hamiltonian(symbols, coordinates)\n",
    "print(\"Number of qubits = \", qubits)\n",
    "print(\"The Hamiltonian is \", H)"
   ]
  },
  {
   "cell_type": "markdown",
   "metadata": {},
   "source": [
    "The outputs of the function are the Hamiltonian, represented as a linear\n",
    "combination of Pauli operators, and the number of qubits required for\n",
    "the quantum simulations. For this example, we use a [minimal basis\n",
    "set](https://en.wikipedia.org/wiki/STO-nG_basis_sets) to represent the\n",
    "[molecular orbitals](https://en.wikipedia.org/wiki/Molecular_orbital).\n",
    "In this approximation, we have four spin orbitals, which defines the\n",
    "number of qubits. Furthermore, we use the Jordan-Wigner transformation\n",
    "to perform the fermionic-to-qubit mapping of the Hamiltonian.\n",
    "\n",
    "For a more comprehensive discussion on how to build the Hamiltonian of\n",
    "more complicated molecules, see the tutorial\n",
    "`tutorial_quantum_chemistry`{.interpreted-text role=\"doc\"}.\n",
    "\n",
    "Implementing the VQE algorithm\n",
    "==============================\n",
    "\n",
    "From here on, we can use PennyLane as usual, employing its entire stack\n",
    "of algorithms and optimizers. We begin by defining the device, in this\n",
    "case PennyLane's standard qubit simulator:\n"
   ]
  },
  {
   "cell_type": "code",
   "execution_count": null,
   "metadata": {},
   "outputs": [],
   "source": [
    "dev = qml.device(\"default.qubit\", wires=qubits)"
   ]
  },
  {
   "cell_type": "markdown",
   "metadata": {},
   "source": [
    "Next, we need to define the quantum circuit that prepares the trial\n",
    "state of the molecule. We want to prepare states of the form,\n",
    "\n",
    "$$\\vert \\Psi(\\theta) \\rangle = \\cos(\\theta/2)~|1100\\rangle -\\sin(\\theta/2)~|0011\\rangle,$$\n",
    "\n",
    "where $\\theta$ is the variational parameter to be optimized in order to\n",
    "find the best approximation to the true ground state. In the\n",
    "Jordan-Wigner encoding, the first term $|1100\\rangle$ represents the\n",
    "[Hartree-Fock (HF)\n",
    "state](https://en.wikipedia.org/wiki/Hartree%E2%80%93Fock_method) where\n",
    "the two electrons in the molecule occupy the lowest-energy orbitals. The\n",
    "second term $|0011\\rangle$ encodes a double excitation of the HF state\n",
    "where the two particles are excited from qubits 0, 1 to 2, 3.\n",
    "\n",
    "The quantum circuit to prepare the trial state\n",
    "$\\vert \\Psi(\\theta) \\rangle$ is schematically illustrated in the figure\n",
    "below.\n",
    "\n",
    "| \n",
    "\n",
    "![](/demonstrations/variational_quantum_eigensolver/sketch_circuit.png){.align-center\n",
    "width=\"50.0%\"}\n",
    "\n",
    "| \n",
    "\n",
    "In this figure, the gate $G^{(2)}$ corresponds to the\n",
    "`~.pennylane.DoubleExcitation`{.interpreted-text role=\"class\"}\n",
    "operation, implemented in PennyLane as a [Givens\n",
    "rotation](https://en.wikipedia.org/wiki/Givens_rotation), which couples\n",
    "the four-qubit states $\\vert 1100 \\rangle$ and $\\vert 0011 \\rangle$. For\n",
    "more details on how to use the excitation operations to build quantum\n",
    "circuits for quantum chemistry applications see the tutorial\n",
    "`tutorial_givens_rotations`{.interpreted-text role=\"doc\"}.\n",
    "\n",
    "Implementing the circuit above using PennyLane is straightforward.\n",
    "First, we use the `hf_state`{.interpreted-text role=\"func\"} function to\n",
    "generate the vector representing the Hartree-Fock state.\n"
   ]
  },
  {
   "cell_type": "code",
   "execution_count": null,
   "metadata": {},
   "outputs": [],
   "source": [
    "electrons = 2\n",
    "hf = qml.qchem.hf_state(electrons, qubits)\n",
    "print(hf)"
   ]
  },
  {
   "cell_type": "markdown",
   "metadata": {},
   "source": [
    "The `hf` array is used by the `~.pennylane.BasisState`{.interpreted-text\n",
    "role=\"class\"} operation to initialize the qubit register. Then, we just\n",
    "act with the `~.pennylane.DoubleExcitation`{.interpreted-text\n",
    "role=\"class\"} operation on the four qubits.\n"
   ]
  },
  {
   "cell_type": "code",
   "execution_count": null,
   "metadata": {},
   "outputs": [],
   "source": [
    "def circuit(param, wires):\n",
    "    qml.BasisState(hf, wires=wires)\n",
    "    qml.DoubleExcitation(param, wires=[0, 1, 2, 3])"
   ]
  },
  {
   "cell_type": "markdown",
   "metadata": {},
   "source": [
    "The next step is to define the cost function to compute the expectation\n",
    "value of the molecular Hamiltonian in the trial state prepared by the\n",
    "circuit. We do this using the `~.expval`{.interpreted-text role=\"func\"}\n",
    "function. The decorator syntax allows us to run the cost function as an\n",
    "executable QNode with the gate parameter $\\theta$:\n"
   ]
  },
  {
   "cell_type": "code",
   "execution_count": null,
   "metadata": {},
   "outputs": [],
   "source": [
    "@qml.qnode(dev, interface=\"autograd\")\n",
    "def cost_fn(param):\n",
    "    circuit(param, wires=range(qubits))\n",
    "    return qml.expval(H)"
   ]
  },
  {
   "cell_type": "markdown",
   "metadata": {},
   "source": [
    "Now we proceed to minimize the cost function to find the ground state of\n",
    "the $\\mathrm{H}_2$ molecule. To start, we need to define the classical\n",
    "optimizer. PennyLane offers many different built-in\n",
    "[optimizers](https://docs.pennylane.ai/en/stable/introduction/interfaces.html?highlight=optimizers#optimizers).\n",
    "Here we use a basic gradient-descent optimizer.\n"
   ]
  },
  {
   "cell_type": "code",
   "execution_count": null,
   "metadata": {},
   "outputs": [],
   "source": [
    "opt = qml.GradientDescentOptimizer(stepsize=0.4)"
   ]
  },
  {
   "cell_type": "markdown",
   "metadata": {},
   "source": [
    "We initialize the circuit parameter $\\theta$ to zero, meaning that we\n",
    "start from the Hartree-Fock state.\n"
   ]
  },
  {
   "cell_type": "code",
   "execution_count": null,
   "metadata": {},
   "outputs": [],
   "source": [
    "theta = np.array(0.0, requires_grad=True)"
   ]
  },
  {
   "cell_type": "markdown",
   "metadata": {},
   "source": [
    "We carry out the optimization over a maximum of 100 steps aiming to\n",
    "reach a convergence tolerance of $10^{-6}$ for the value of the cost\n",
    "function.\n"
   ]
  },
  {
   "cell_type": "code",
   "execution_count": null,
   "metadata": {},
   "outputs": [],
   "source": [
    "# store the values of the cost function\n",
    "energy = [cost_fn(theta)]\n",
    "\n",
    "# store the values of the circuit parameter\n",
    "angle = [theta]\n",
    "\n",
    "max_iterations = 100\n",
    "conv_tol = 1e-06\n",
    "\n",
    "for n in range(max_iterations):\n",
    "    theta, prev_energy = opt.step_and_cost(cost_fn, theta)\n",
    "\n",
    "    energy.append(cost_fn(theta))\n",
    "    angle.append(theta)\n",
    "\n",
    "    conv = np.abs(energy[-1] - prev_energy)\n",
    "\n",
    "    if n % 2 == 0:\n",
    "        print(f\"Step = {n},  Energy = {energy[-1]:.8f} Ha\")\n",
    "\n",
    "    if conv <= conv_tol:\n",
    "        break\n",
    "\n",
    "print(\"\\n\" f\"Final value of the ground-state energy = {energy[-1]:.8f} Ha\")\n",
    "print(\"\\n\" f\"Optimal value of the circuit parameter = {angle[-1]:.4f}\")"
   ]
  },
  {
   "cell_type": "markdown",
   "metadata": {},
   "source": [
    "Let\\'s plot the values of the ground state energy of the molecule and\n",
    "the gate parameter $\\theta$ as a function of the optimization step.\n"
   ]
  },
  {
   "cell_type": "code",
   "execution_count": null,
   "metadata": {},
   "outputs": [],
   "source": [
    "import matplotlib.pyplot as plt\n",
    "\n",
    "fig = plt.figure()\n",
    "fig.set_figheight(5)\n",
    "fig.set_figwidth(12)\n",
    "\n",
    "# Full configuration interaction (FCI) energy computed classically\n",
    "E_fci = -1.136189454088\n",
    "\n",
    "# Add energy plot on column 1\n",
    "ax1 = fig.add_subplot(121)\n",
    "ax1.plot(range(n + 2), energy, \"go\", ls=\"dashed\")\n",
    "ax1.plot(range(n + 2), np.full(n + 2, E_fci), color=\"red\")\n",
    "ax1.set_xlabel(\"Optimization step\", fontsize=13)\n",
    "ax1.set_ylabel(\"Energy (Hartree)\", fontsize=13)\n",
    "ax1.text(0.5, -1.1176, r\"$E_\\mathrm{HF}$\", fontsize=15)\n",
    "ax1.text(0, -1.1357, r\"$E_\\mathrm{FCI}$\", fontsize=15)\n",
    "plt.xticks(fontsize=12)\n",
    "plt.yticks(fontsize=12)\n",
    "\n",
    "# Add angle plot on column 2\n",
    "ax2 = fig.add_subplot(122)\n",
    "ax2.plot(range(n + 2), angle, \"go\", ls=\"dashed\")\n",
    "ax2.set_xlabel(\"Optimization step\", fontsize=13)\n",
    "ax2.set_ylabel(\"Gate parameter $\\\\theta$ (rad)\", fontsize=13)\n",
    "plt.xticks(fontsize=12)\n",
    "plt.yticks(fontsize=12)\n",
    "\n",
    "plt.subplots_adjust(wspace=0.3, bottom=0.2)\n",
    "plt.show()"
   ]
  },
  {
   "cell_type": "markdown",
   "metadata": {},
   "source": [
    "In this case, the VQE algorithm converges after thirteen iterations. The\n",
    "optimal value of the circuit parameter $\\theta^* = 0.208$ defines the\n",
    "state\n",
    "\n",
    "$$\\vert \\Psi(\\theta^*) \\rangle = 0.994~\\vert 1100 \\rangle - 0.104~\\vert 0011 \\rangle,$$\n",
    "\n",
    "which is precisely the ground state of the $\\mathrm{H}_2$ molecule in a\n",
    "minimal basis set approximation.\n",
    "\n",
    "Conclusion\n",
    "==========\n",
    "\n",
    "In this tutorial, we have implemented the VQE algorithm to find the\n",
    "ground state of the hydrogen molecule. We used a simple circuit to\n",
    "prepare quantum states of the molecule beyond the Hartree-Fock\n",
    "approximation. The ground-state energy was obtained by minimizing a cost\n",
    "function defined as the expectation value of the molecular Hamiltonian\n",
    "in the trial state.\n",
    "\n",
    "The VQE algorithm can be used to simulate other chemical phenomena. In\n",
    "the tutorial `tutorial_vqe_bond_dissociation`{.interpreted-text\n",
    "role=\"doc\"}, we use VQE to explore the potential energy surface of\n",
    "molecules to simulate chemical reactions. Another interesting\n",
    "application is to probe the lowest-lying states of molecules in specific\n",
    "sectors of the Hilbert space. For example, see the tutorial\n",
    "`tutorial_vqe_spin_sectors`{.interpreted-text role=\"doc\"}. Furthermore,\n",
    "the algorithm presented here can be generalized to find the equilibrium\n",
    "geometry of a molecule as it is demonstrated in the tutorial\n",
    "`tutorial_mol_geo_opt`{.interpreted-text role=\"doc\"}.\n",
    "\n",
    "References {#vqe_references}\n",
    "==========\n",
    "\n",
    "About the author\n",
    "================\n"
   ]
  }
 ],
 "metadata": {
  "kernelspec": {
   "display_name": "Python 3 (ipykernel)",
   "language": "python",
   "name": "python3"
  },
  "language_info": {
   "codemirror_mode": {
    "name": "ipython",
    "version": 3
   },
   "file_extension": ".py",
   "mimetype": "text/x-python",
   "name": "python",
   "nbconvert_exporter": "python",
   "pygments_lexer": "ipython3",
   "version": "3.9.12"
  }
 },
 "nbformat": 4,
 "nbformat_minor": 1
}
