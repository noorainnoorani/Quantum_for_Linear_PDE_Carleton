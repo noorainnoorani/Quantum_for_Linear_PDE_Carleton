{
 "cells": [
  {
   "cell_type": "code",
   "execution_count": 1,
   "metadata": {},
   "outputs": [],
   "source": [
    "# This cell is added by sphinx-gallery\n",
    "# It can be customized to whatever you like\n",
    "%matplotlib inline"
   ]
  },
  {
   "cell_type": "code",
   "execution_count": 2,
   "metadata": {},
   "outputs": [],
   "source": [
    "# from pennylane import numpy as np\n",
    "import pennylane as qml # import pennylane as qml\n",
    "import cmath\n",
    "from numpy.linalg import eig"
   ]
  },
  {
   "cell_type": "code",
   "execution_count": 3,
   "metadata": {},
   "outputs": [],
   "source": [
    "from functools import reduce\n",
    "from typing import Iterable\n",
    "\n",
    "import numpy as np\n",
    "from scipy import sparse\n",
    "\n",
    "import pennylane as qml\n",
    "from pennylane import math, wires\n",
    "from pennylane.operation import Tensor\n",
    "from pennylane.ops import Hamiltonian, Identity, PauliX, PauliY, PauliZ, prod, s_prod\n",
    "\n",
    "I = \"I\"\n",
    "X = \"X\"\n",
    "Y = \"Y\"\n",
    "Z = \"Z\"\n",
    "\n",
    "op_map = {\n",
    "    I: Identity,\n",
    "    X: PauliX,\n",
    "    Y: PauliY,\n",
    "    Z: PauliZ,\n",
    "}\n",
    "\n",
    "op_to_str_map = {\n",
    "    Identity: I,\n",
    "    PauliX: X,\n",
    "    PauliY: Y,\n",
    "    PauliZ: Z,\n",
    "}\n",
    "\n",
    "matI = np.eye(2)\n",
    "matX = np.array([[0, 1], [1, 0]])\n",
    "matY = np.array([[0, -1j], [1j, 0]])\n",
    "matZ = np.array([[1, 0], [0, -1]])\n",
    "\n",
    "mat_map = {\n",
    "    I: matI,\n",
    "    X: matX,\n",
    "    Y: matY,\n",
    "    Z: matZ,\n",
    "}\n",
    "\n",
    "sparse_matI = sparse.eye(2, format=\"csr\")\n",
    "sparse_matX = sparse.csr_matrix([[0, 1], [1, 0]])\n",
    "sparse_matY = sparse.csr_matrix([[0, -1j], [1j, 0]])\n",
    "sparse_matZ = sparse.csr_matrix([[1, 0], [0, -1]])\n",
    "\n",
    "sparse_mat_map = {\n",
    "    I: sparse_matI,\n",
    "    X: sparse_matX,\n",
    "    Y: sparse_matY,\n",
    "    Z: sparse_matZ,\n",
    "}\n",
    "\n",
    "_map_I = {\n",
    "    I: (1, I),\n",
    "    X: (1, X),\n",
    "    Y: (1, Y),\n",
    "    Z: (1, Z),\n",
    "}\n",
    "_map_X = {\n",
    "    I: (1, X),\n",
    "    X: (1, I),\n",
    "    Y: (1.0j, Z),\n",
    "    Z: (-1.0j, Y),\n",
    "}\n",
    "_map_Y = {\n",
    "    I: (1, Y),\n",
    "    X: (-1.0j, Z),\n",
    "    Y: (1, I),\n",
    "    Z: (1j, X),\n",
    "}\n",
    "_map_Z = {\n",
    "    I: (1, Z),\n",
    "    X: (1j, Y),\n",
    "    Y: (-1.0j, X),\n",
    "    Z: (1, I),\n",
    "}\n",
    "\n",
    "mul_map = {I: _map_I, X: _map_X, Y: _map_Y, Z: _map_Z}"
   ]
  },
  {
   "cell_type": "code",
   "execution_count": 4,
   "metadata": {},
   "outputs": [],
   "source": [
    "# Pauli Matries\n",
    "\n",
    "Id = np.identity(2)\n",
    "Z = np.array([[1, 0], [0, -1]])\n",
    "X = np.array([[0, 1], [1, 0]])\n",
    "Y = np.array([[0,complex(0,1)],[-complex(0,1),0]])\n",
    "\n",
    "gate_array = [Id,X,Y,Z]"
   ]
  },
  {
   "cell_type": "code",
   "execution_count": 35,
   "metadata": {
    "scrolled": true
   },
   "outputs": [
    {
     "name": "stdout",
     "output_type": "stream",
     "text": [
      "[[5 4 1 4]\n",
      " [3 3 3 6]\n",
      " [6 4 5 8]\n",
      " [5 8 9 4]]\n",
      "[19.68632047+0.j         1.26242975+1.2031351j  1.26242975-1.2031351j\n",
      " -5.21117998+0.j       ]\n"
     ]
    }
   ],
   "source": [
    "N = 4\n",
    "qubits = int(np.sqrt(N))\n",
    "\n",
    "array = np.random.randint(10, size=(N, N))\n",
    "print(array)\n",
    "l, v = eig(array)\n",
    "print(l)"
   ]
  },
  {
   "cell_type": "code",
   "execution_count": 36,
   "metadata": {},
   "outputs": [],
   "source": [
    "counter = 0\n",
    "combination = gate_array\n",
    "\n",
    "while counter < np.log2(len(array)) - 1:\n",
    "\n",
    "    combination = np.kron(combination, gate_array)\n",
    "    \n",
    "    counter += 1"
   ]
  },
  {
   "cell_type": "code",
   "execution_count": 37,
   "metadata": {},
   "outputs": [],
   "source": [
    "final_array = np.zeros((len(array),len(array)), dtype=complex)\n",
    "coeff = np.zeros((len(array)**2), dtype=complex)\n",
    "\n",
    "for i in range(len(combination)):\n",
    "    coeff[i] =  1/(len(array)) * np.matrix.trace(np.matmul(array,combination[i]))\n",
    "    final_array +=  coeff[i] * combination[i]"
   ]
  },
  {
   "cell_type": "code",
   "execution_count": 38,
   "metadata": {},
   "outputs": [
    {
     "name": "stdout",
     "output_type": "stream",
     "text": [
      "[[ True  True  True  True]\n",
      " [ True  True  True  True]\n",
      " [ True  True  True  True]\n",
      " [ True  True  True  True]]\n"
     ]
    }
   ],
   "source": [
    "print(final_array == array) # ensures math"
   ]
  },
  {
   "cell_type": "code",
   "execution_count": 39,
   "metadata": {},
   "outputs": [
    {
     "name": "stdout",
     "output_type": "stream",
     "text": [
      "[False False  True False False False  True False False False False False\n",
      " False False False False]\n"
     ]
    }
   ],
   "source": [
    "print(coeff == 0) # visually checks for 0"
   ]
  },
  {
   "cell_type": "code",
   "execution_count": 40,
   "metadata": {},
   "outputs": [],
   "source": [
    "# Removes zero terms\n",
    "import itertools\n",
    "from itertools import product\n",
    "decomp = []\n",
    "\n",
    "gate_names = list(product('IXYZ', repeat = int(np.sqrt(len(array)))))\n",
    "c_final = [i for i in coeff if i != 0]\n",
    "gate_final = [combination[i] for i in range(len(coeff)) if coeff[i] != 0]\n",
    "gate_names_used = [gate_names[i] for i in range(len(coeff)) if coeff[i] != 0]\n",
    "\n",
    "for k in range(len(c_final)):\n",
    "    decomp.append(c_final[k]*gate_final[k])"
   ]
  },
  {
   "cell_type": "code",
   "execution_count": 41,
   "metadata": {
    "scrolled": false
   },
   "outputs": [
    {
     "data": {
      "text/plain": [
       "[('I', 'I'),\n",
       " ('I', 'X'),\n",
       " ('I', 'Z'),\n",
       " ('X', 'I'),\n",
       " ('X', 'X'),\n",
       " ('X', 'Z'),\n",
       " ('Y', 'I'),\n",
       " ('Y', 'X'),\n",
       " ('Y', 'Y'),\n",
       " ('Y', 'Z'),\n",
       " ('Z', 'I'),\n",
       " ('Z', 'X'),\n",
       " ('Z', 'Y'),\n",
       " ('Z', 'Z')]"
      ]
     },
     "execution_count": 41,
     "metadata": {},
     "output_type": "execute_result"
    }
   ],
   "source": [
    "gate_names_used"
   ]
  },
  {
   "cell_type": "code",
   "execution_count": 42,
   "metadata": {
    "scrolled": false
   },
   "outputs": [
    {
     "name": "stdout",
     "output_type": "stream",
     "text": [
      "13\n",
      "  ((-2.5+0j)) [Hermitian0,1]\n",
      "+ ((-1.75+0j)) [Hermitian0,1]\n",
      "+ ((-0.5+0j)) [Hermitian0,1]\n",
      "+ ((-0.25+0j)) [Hermitian0,1]\n",
      "+ (1.75j) [Hermitian0,1]\n",
      "+ (0.5j) [Hermitian0,1]\n",
      "+ (0.75j) [Hermitian0,1]\n",
      "+ (-0.5j) [Hermitian0,1]\n",
      "+ ((0.25+0j)) [Hermitian0,1]\n",
      "+ ((0.75+0j)) [Hermitian0,1]\n",
      "+ ((4+0j)) [Hermitian0,1]\n",
      "+ ((4.25+0j)) [Hermitian0,1]\n",
      "+ ((5.25+0j)) [Hermitian0,1]\n",
      "+ ((6+0j)) [Hermitian0,1]\n"
     ]
    }
   ],
   "source": [
    "obs1 = []\n",
    "\n",
    "for i in range(len(gate_final)):\n",
    "    obs1.append(qml.Hermitian(gate_final[i], wires=[0, 1]))\n",
    "\n",
    "H1 = qml.Hamiltonian((c_final), (obs1))\n",
    "\n",
    "print(i)\n",
    "print(H1)"
   ]
  },
  {
   "cell_type": "code",
   "execution_count": 13,
   "metadata": {},
   "outputs": [],
   "source": [
    "# Something is wrong with the order of the kernals\n",
    "\n",
    "from functools import reduce, singledispatch\n",
    "from itertools import product\n",
    "from operator import matmul\n",
    "from typing import Union\n",
    "\n",
    "import numpy as np\n",
    "\n",
    "from pennylane.operation import Tensor\n",
    "from pennylane.ops import Hamiltonian, Identity, PauliX, PauliY, PauliZ, Prod, SProd, Sum\n",
    "\n",
    "from pennylane.pauli.pauli_arithmetic import I, PauliSentence, PauliWord, X, Y, Z, mat_map, op_map\n",
    "from pennylane.pauli import is_pauli_word\n",
    "# from pennylane.utils import is_pauli_word\n",
    "\n",
    "def pauli_decomp(\n",
    "    H, hide_identity=False, wire_order=None, pauli=False) -> Union[Hamiltonian, PauliSentence]:\n",
    "    r\"\"\"Decomposes a Hermitian matrix into a linear combination of Pauli operators.\n",
    "\n",
    "    Args:\n",
    "        H (array[complex]): a Hermitian matrix of dimension :math:`2^n\\times 2^n`.\n",
    "        hide_identity (bool): does not include the Identity observable within\n",
    "            the tensor products of the decomposition if ``True``.\n",
    "        wire_order (list[Union[int, str]]): the ordered list of wires with respect\n",
    "            to which the operator is represented as a matrix.\n",
    "        pauli (bool): return a PauliSentence instance if ``True``.\n",
    "\n",
    "    Returns:\n",
    "        Union[~.Hamiltonian, ~.PauliSentence]: the matrix decomposed as a linear combination\n",
    "        of Pauli operators, either as a :class:`~.Hamiltonian` or :class:`~.PauliSentence` instance.\n",
    "\n",
    "    **Example:**\n",
    "\n",
    "    We can use this function to compute the Pauli operator decomposition of an arbitrary Hermitian\n",
    "    matrix:\n",
    "\n",
    "    >>> A = np.array(\n",
    "    ... [[-2, -2+1j, -2, -2], [-2-1j,  0,  0, -1], [-2,  0, -2, -1], [-2, -1, -1,  0]])\n",
    "    >>> H = qml.pauli_decompose(A)\n",
    "    >>> print(H)\n",
    "    (-1.5) [I0 X1]\n",
    "    + (-1.5) [X0 I1]\n",
    "    + (-1.0) [I0 I1]\n",
    "    + (-1.0) [I0 Z1]\n",
    "    + (-1.0) [X0 X1]\n",
    "    + (-0.5) [I0 Y1]\n",
    "    + (-0.5) [X0 Z1]\n",
    "    + (-0.5) [Z0 X1]\n",
    "    + (-0.5) [Z0 Y1]\n",
    "    + (1.0) [Y0 Y1]\n",
    "\n",
    "    We can return a :class:`~.PauliSentence` instance by using the keyword argument ``pauli=True``:\n",
    "\n",
    "    >>> ps = qml.pauli_decompose(A, pauli=True)\n",
    "    >>> print(ps)\n",
    "    -1.0 * I\n",
    "    + -1.5 * X(1)\n",
    "    + -0.5 * Y(1)\n",
    "    + -1.0 * Z(1)\n",
    "    + -1.5 * X(0)\n",
    "    + -1.0 * X(0) @ X(1)\n",
    "    + -0.5 * X(0) @ Z(1)\n",
    "    + 1.0 * Y(0) @ Y(1)\n",
    "    + -0.5 * Z(0) @ X(1)\n",
    "    + -0.5 * Z(0) @ Y(1)\n",
    "\n",
    "    We can also set custom wires using the ``wire_order`` argument:\n",
    "\n",
    "    >>> ps = qml.pauli_decompose(A, pauli=True, wire_order=['a', 'b'])\n",
    "    >>> print(ps)\n",
    "    -1.0 * I\n",
    "    + -1.5 * X(b)\n",
    "    + -0.5 * Y(b)\n",
    "    + -1.0 * Z(b)\n",
    "    + -1.5 * X(a)\n",
    "    + -1.0 * X(a) @ X(b)\n",
    "    + -0.5 * X(a) @ Z(b)\n",
    "    + 1.0 * Y(a) @ Y(b)\n",
    "    + -0.5 * Z(a) @ X(b)\n",
    "    + -0.5 * Z(a) @ Y(b)\n",
    "    \"\"\"\n",
    "    n = int(np.log2(len(H)))\n",
    "    N = 2**n\n",
    "\n",
    "    if wire_order is not None and len(wire_order) != n:\n",
    "        raise ValueError(\n",
    "            f\"number of wires {len(wire_order)} is not compatible with number of qubits {n}\"\n",
    "        )\n",
    "\n",
    "    if wire_order is None:\n",
    "        wire_order = range(n)\n",
    "\n",
    "    if H.shape != (N, N):\n",
    "        raise ValueError(\"The matrix should have shape (2**n, 2**n), for any qubit number n>=1\")\n",
    "\n",
    "#     if not np.allclose(H, H.conj().T):\n",
    "#         raise ValueError(\"The matrix is not Hermitian\")\n",
    "\n",
    "    obs_lst = []\n",
    "    coeffs = []\n",
    "\n",
    "    for term in product([I, X, Y, Z], repeat=n):\n",
    "        matrices = [mat_map[i] for i in term]\n",
    "        coeff = np.trace(reduce(np.kron, matrices) @ H) / N\n",
    "        coeff = np.real_if_close(coeff).item()\n",
    "\n",
    "        if not np.allclose(coeff, 0):\n",
    "            obs_term = (\n",
    "                [(o, w) for w, o in zip(wire_order, term) if o != I]\n",
    "                if hide_identity and not all(t == I for t in term)\n",
    "                else [(o, w) for w, o in zip(wire_order, term)]\n",
    "            )\n",
    "\n",
    "            if obs_term:\n",
    "                coeffs.append(coeff)\n",
    "                obs_lst.append(obs_term)\n",
    "\n",
    "    if pauli:\n",
    "        return PauliSentence(\n",
    "            {\n",
    "                PauliWord({w: o for o, w in obs_n_wires}): coeff\n",
    "                for coeff, obs_n_wires in zip(coeffs, obs_lst)\n",
    "            }\n",
    "        )\n",
    "\n",
    "    obs = [reduce(matmul, [op_map[o](w) for o, w in obs_term]) for obs_term in obs_lst]\n",
    "    return Hamiltonian(coeffs, obs)"
   ]
  },
  {
   "cell_type": "code",
   "execution_count": 43,
   "metadata": {},
   "outputs": [
    {
     "name": "stdout",
     "output_type": "stream",
     "text": [
      "  (4.25) [I0 I1]\n"
     ]
    }
   ],
   "source": [
    "pauli_decomp(decomp[0])"
   ]
  },
  {
   "cell_type": "code",
   "execution_count": 44,
   "metadata": {
    "scrolled": true
   },
   "outputs": [
    {
     "name": "stdout",
     "output_type": "stream",
     "text": [
      "13\n",
      "  ((-0.25+0j)) [Z0]\n",
      "+ (-1.75j) [Y0]\n",
      "+ ((0.75+0j)) [Z1]\n",
      "+ ((4.25+0j)) [I0]\n",
      "+ ((5.25+0j)) [X0]\n",
      "+ ((6+0j)) [X1]\n",
      "+ ((-2.5+0j)) [Z0 X1]\n",
      "+ ((-1.75+0j)) [X0 Z1]\n",
      "+ ((-0.5+0j)) [Y0 Y1]\n",
      "+ (-0.5j) [Y0 X1]\n",
      "+ (-0.75j) [Y0 Z1]\n",
      "+ (0.5j) [Z0 Y1]\n",
      "+ ((0.25+0j)) [Z0 Z1]\n",
      "+ ((4+0j)) [X0 X1]\n"
     ]
    }
   ],
   "source": [
    "obs2 = []\n",
    "H2 = 0\n",
    "\n",
    "for i in range(len(decomp)):\n",
    "    H2 = H2+(pauli_decomp(decomp[i]))\n",
    "\n",
    "print(i)\n",
    "print(H2)"
   ]
  },
  {
   "cell_type": "code",
   "execution_count": 45,
   "metadata": {},
   "outputs": [
    {
     "data": {
      "text/plain": [
       "Identity(wires=[0])"
      ]
     },
     "execution_count": 45,
     "metadata": {},
     "output_type": "execute_result"
    }
   ],
   "source": [
    "I_qml = qml.Identity(0)\n",
    "X_qml = qml.PauliX(0)\n",
    "Y_qml = qml.PauliY(0)\n",
    "Z_qml = qml.PauliZ(0)\n",
    "\n",
    "gate_array_qml = [I_qml,X_qml,Y_qml,Z_qml]\n",
    "\n",
    "gate_array_qml[0]"
   ]
  },
  {
   "cell_type": "code",
   "execution_count": 46,
   "metadata": {},
   "outputs": [],
   "source": [
    "counter = 0\n",
    "i = 0\n",
    "\n",
    "combo = gate_array_qml\n",
    "\n",
    "while counter < np.log2(len(array)) - 1:\n",
    "\n",
    "    combo = np.kron([qml.Identity(counter+1), qml.PauliX(counter+1), qml.PauliY(counter+1), qml.PauliZ(counter+1)], gate_array)\n",
    "    \n",
    "    counter += 1"
   ]
  },
  {
   "cell_type": "code",
   "execution_count": 47,
   "metadata": {},
   "outputs": [],
   "source": [
    "# H = qml.Hamiltonian(c_final, gate_final)\n",
    "\n",
    "# print(H)"
   ]
  },
  {
   "cell_type": "code",
   "execution_count": 48,
   "metadata": {},
   "outputs": [],
   "source": [
    "# H = pauli_decompose(array)\n",
    "\n",
    "# print(H)"
   ]
  },
  {
   "cell_type": "code",
   "execution_count": 49,
   "metadata": {},
   "outputs": [
    {
     "name": "stdout",
     "output_type": "stream",
     "text": [
      "[1 0]\n"
     ]
    },
    {
     "data": {
      "text/plain": [
       "tensor([1, 0], requires_grad=True)"
      ]
     },
     "execution_count": 49,
     "metadata": {},
     "output_type": "execute_result"
    }
   ],
   "source": [
    "electrons = 1\n",
    "hf = qml.qchem.hf_state(electrons, qubits)\n",
    "print(hf)\n",
    "hf"
   ]
  },
  {
   "cell_type": "markdown",
   "metadata": {},
   "source": [
    "The `hf` array is used by the `~.pennylane.BasisState`{.interpreted-text\n",
    "role=\"class\"} operation to initialize the qubit register. Then, we just\n",
    "act with the `~.pennylane.DoubleExcitation`{.interpreted-text\n",
    "role=\"class\"} operation on the four qubits.\n"
   ]
  },
  {
   "cell_type": "code",
   "execution_count": 50,
   "metadata": {},
   "outputs": [],
   "source": [
    "def circuit(param, wires):\n",
    "    qml.BasisState(hf, wires=wires)\n",
    "    qml.SingleExcitation(param, wires=[0, 1])\n",
    "    #qml.DoubleExcitation(param, wires=[0, 1])#, 2, 3])"
   ]
  },
  {
   "cell_type": "markdown",
   "metadata": {},
   "source": [
    "The next step is to define the cost function to compute the expectation\n",
    "value of the molecular Hamiltonian in the trial state prepared by the\n",
    "circuit. We do this using the `~.expval`{.interpreted-text role=\"func\"}\n",
    "function. The decorator syntax allows us to run the cost function as an\n",
    "executable QNode with the gate parameter $\\theta$:\n"
   ]
  },
  {
   "cell_type": "code",
   "execution_count": 51,
   "metadata": {},
   "outputs": [],
   "source": [
    "dev = qml.device(\"default.qubit\", wires=qubits)"
   ]
  },
  {
   "cell_type": "code",
   "execution_count": 52,
   "metadata": {},
   "outputs": [],
   "source": [
    "@qml.qnode(dev)\n",
    "def cost_fn(param):\n",
    "    circuit(param, wires=range(qubits))\n",
    "    return qml.expval(H2)"
   ]
  },
  {
   "cell_type": "markdown",
   "metadata": {},
   "source": [
    "Now we proceed to minimize the cost function to find the ground state of\n",
    "the $\\mathrm{H}_2$ molecule. To start, we need to define the classical\n",
    "optimizer. PennyLane offers many different built-in\n",
    "[optimizers](https://docs.pennylane.ai/en/stable/introduction/interfaces.html?highlight=optimizers#optimizers).\n",
    "Here we use a basic gradient-descent optimizer.\n"
   ]
  },
  {
   "cell_type": "code",
   "execution_count": 53,
   "metadata": {},
   "outputs": [],
   "source": [
    "opt = qml.GradientDescentOptimizer(stepsize=0.4)"
   ]
  },
  {
   "cell_type": "markdown",
   "metadata": {},
   "source": [
    "We initialize the circuit parameter $\\theta$ to zero, meaning that we\n",
    "start from the Hartree-Fock state.\n"
   ]
  },
  {
   "cell_type": "code",
   "execution_count": 54,
   "metadata": {},
   "outputs": [],
   "source": [
    "from pennylane import numpy as np\n",
    "\n",
    "theta = np.array(0.0, requires_grad=True)"
   ]
  },
  {
   "cell_type": "code",
   "execution_count": 55,
   "metadata": {},
   "outputs": [
    {
     "data": {
      "text/plain": [
       "range(0, 2)"
      ]
     },
     "execution_count": 55,
     "metadata": {},
     "output_type": "execute_result"
    }
   ],
   "source": [
    "range(2)"
   ]
  },
  {
   "cell_type": "markdown",
   "metadata": {},
   "source": [
    "We carry out the optimization over a maximum of 100 steps aiming to\n",
    "reach a convergence tolerance of $10^{-6}$ for the value of the cost\n",
    "function.\n"
   ]
  },
  {
   "cell_type": "code",
   "execution_count": 56,
   "metadata": {},
   "outputs": [
    {
     "name": "stdout",
     "output_type": "stream",
     "text": [
      "Step = 0,  Energy = 0.72089309 Ha\n",
      "Step = 2,  Energy = 0.37217120 Ha\n",
      "Step = 4,  Energy = 0.36046952 Ha\n",
      "Step = 6,  Energy = 0.35996773 Ha\n",
      "Step = 8,  Energy = 0.35994604 Ha\n",
      "\n",
      "Final value of the ground-state energy = 0.35994526 Ha\n",
      "\n",
      "Optimal value of the circuit parameter = 1.8494\n"
     ]
    }
   ],
   "source": [
    "# store the values of the cost function\n",
    "energy = [cost_fn(theta)]\n",
    "# store the values of the circuit parameter\n",
    "angle = [theta]\n",
    "\n",
    "max_iterations = 100\n",
    "conv_tol = 1e-06\n",
    "\n",
    "for n in range(max_iterations):\n",
    "    theta, prev_energy = opt.step_and_cost(cost_fn, theta)\n",
    "\n",
    "    energy.append(cost_fn(theta))\n",
    "    angle.append(theta)\n",
    "\n",
    "    conv = np.abs(energy[-1] - prev_energy)\n",
    "\n",
    "    if n % 2 == 0:\n",
    "        print(f\"Step = {n},  Energy = {energy[-1]:.8f} Ha\")\n",
    "\n",
    "    if conv <= conv_tol:\n",
    "        break\n",
    "\n",
    "print(\"\\n\" f\"Final value of the ground-state energy = {energy[-1]:.8f} Ha\")\n",
    "print(\"\\n\" f\"Optimal value of the circuit parameter = {angle[-1]:.4f}\")"
   ]
  },
  {
   "cell_type": "markdown",
   "metadata": {},
   "source": [
    "Let\\'s plot the values of the ground state energy of the molecule and\n",
    "the gate parameter $\\theta$ as a function of the optimization step.\n"
   ]
  },
  {
   "cell_type": "code",
   "execution_count": 57,
   "metadata": {
    "scrolled": true
   },
   "outputs": [
    {
     "data": {
      "image/png": "[encoded data removed]",
      "text/plain": [
       "<Figure size 864x360 with 2 Axes>"
      ]
     },
     "metadata": {
      "needs_background": "light"
     },
     "output_type": "display_data"
    }
   ],
   "source": [
    "import matplotlib.pyplot as plt\n",
    "\n",
    "fig = plt.figure()\n",
    "fig.set_figheight(5)\n",
    "fig.set_figwidth(12)\n",
    "\n",
    "# Full configuration interaction (FCI) energy computed classically\n",
    "E_fci = -1.136189454088\n",
    "\n",
    "# Add energy plot on column 1\n",
    "ax1 = fig.add_subplot(121)\n",
    "ax1.plot(range(n + 2), energy, \"go\", ls=\"dashed\")\n",
    "ax1.plot(range(n + 2), np.full(n + 2, E_fci), color=\"red\")\n",
    "ax1.set_xlabel(\"Optimization step\", fontsize=13)\n",
    "ax1.set_ylabel(\"Energy (Hartree)\", fontsize=13)\n",
    "ax1.text(0.5, -1.1176, r\"$E_\\mathrm{HF}$\", fontsize=15)\n",
    "ax1.text(0, -1.1357, r\"$E_\\mathrm{FCI}$\", fontsize=15)\n",
    "plt.xticks(fontsize=12)\n",
    "plt.yticks(fontsize=12)\n",
    "\n",
    "# Add angle plot on column 2\n",
    "ax2 = fig.add_subplot(122)\n",
    "ax2.plot(range(n + 2), angle, \"go\", ls=\"dashed\")\n",
    "ax2.set_xlabel(\"Optimization step\", fontsize=13)\n",
    "ax2.set_ylabel(\"Gate parameter $\\\\theta$ (rad)\", fontsize=13)\n",
    "plt.xticks(fontsize=12)\n",
    "plt.yticks(fontsize=12)\n",
    "\n",
    "plt.subplots_adjust(wspace=0.3, bottom=0.2)\n",
    "plt.show()"
   ]
  },
  {
   "cell_type": "code",
   "execution_count": 58,
   "metadata": {
    "scrolled": true
   },
   "outputs": [
    {
     "data": {
      "text/plain": [
       "tensor(1.84943069, requires_grad=True)"
      ]
     },
     "execution_count": 58,
     "metadata": {},
     "output_type": "execute_result"
    }
   ],
   "source": [
    "angle[-1]"
   ]
  },
  {
   "cell_type": "code",
   "execution_count": 59,
   "metadata": {},
   "outputs": [
    {
     "data": {
      "text/plain": [
       "tensor(0.35994526, requires_grad=True)"
      ]
     },
     "execution_count": 59,
     "metadata": {},
     "output_type": "execute_result"
    }
   ],
   "source": [
    "energy[-1]"
   ]
  },
  {
   "cell_type": "code",
   "execution_count": 60,
   "metadata": {},
   "outputs": [
    {
     "data": {
      "text/plain": [
       "(-5.211179975887232+0j)"
      ]
     },
     "execution_count": 60,
     "metadata": {},
     "output_type": "execute_result"
    }
   ],
   "source": [
    "l[-1]"
   ]
  },
  {
   "cell_type": "code",
   "execution_count": 61,
   "metadata": {},
   "outputs": [
    {
     "data": {
      "text/plain": [
       "tensor(1.88413229, requires_grad=True)"
      ]
     },
     "execution_count": 61,
     "metadata": {},
     "output_type": "execute_result"
    }
   ],
   "source": [
    "np.sqrt(angle[-1]**2 + energy[-1]**2)"
   ]
  },
  {
   "cell_type": "code",
   "execution_count": 63,
   "metadata": {},
   "outputs": [
    {
     "name": "stdout",
     "output_type": "stream",
     "text": [
      "[19.68632047+0.j         1.26242975+1.2031351j  1.26242975-1.2031351j\n",
      " -5.21117998+0.j       ]\n"
     ]
    }
   ],
   "source": [
    "print(l)"
   ]
  },
  {
   "cell_type": "markdown",
   "metadata": {},
   "source": [
    "In this case, the VQE algorithm converges after thirteen iterations. The\n",
    "optimal value of the circuit parameter $\\theta^* = 0.208$ defines the\n",
    "state\n",
    "\n",
    "$$\\vert \\Psi(\\theta^*) \\rangle = 0.994~\\vert 1100 \\rangle - 0.104~\\vert 0011 \\rangle,$$\n",
    "\n",
    "which is precisely the ground state of the $\\mathrm{H}_2$ molecule in a\n",
    "minimal basis set approximation.\n",
    "\n",
    "Conclusion\n",
    "==========\n",
    "\n",
    "In this tutorial, we have implemented the VQE algorithm to find the\n",
    "ground state of the hydrogen molecule. We used a simple circuit to\n",
    "prepare quantum states of the molecule beyond the Hartree-Fock\n",
    "approximation. The ground-state energy was obtained by minimizing a cost\n",
    "function defined as the expectation value of the molecular Hamiltonian\n",
    "in the trial state.\n",
    "\n",
    "The VQE algorithm can be used to simulate other chemical phenomena. In\n",
    "the tutorial `tutorial_vqe_bond_dissociation`{.interpreted-text\n",
    "role=\"doc\"}, we use VQE to explore the potential energy surface of\n",
    "molecules to simulate chemical reactions. Another interesting\n",
    "application is to probe the lowest-lying states of molecules in specific\n",
    "sectors of the Hilbert space. For example, see the tutorial\n",
    "`tutorial_vqe_spin_sectors`{.interpreted-text role=\"doc\"}. Furthermore,\n",
    "the algorithm presented here can be generalized to find the equilibrium\n",
    "geometry of a molecule as it is demonstrated in the tutorial\n",
    "`tutorial_mol_geo_opt`{.interpreted-text role=\"doc\"}.\n",
    "\n",
    "References {#vqe_references}\n",
    "==========\n",
    "\n",
    "About the author\n",
    "================\n"
   ]
  },
  {
   "cell_type": "code",
   "execution_count": null,
   "metadata": {},
   "outputs": [],
   "source": []
  }
 ],
 "metadata": {
  "kernelspec": {
   "display_name": "Python 3 (ipykernel)",
   "language": "python",
   "name": "python3"
  },
  "language_info": {
   "codemirror_mode": {
    "name": "ipython",
    "version": 3
   },
   "file_extension": ".py",
   "mimetype": "text/x-python",
   "name": "python",
   "nbconvert_exporter": "python",
   "pygments_lexer": "ipython3",
   "version": "3.9.12"
  }
 },
 "nbformat": 4,
 "nbformat_minor": 1
}
