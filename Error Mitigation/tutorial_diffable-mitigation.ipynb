{
 "cells": [
  {
   "cell_type": "code",
   "execution_count": 22,
   "metadata": {},
   "outputs": [],
   "source": [
    "# This cell is added by sphinx-gallery\n",
    "# It can be customized to whatever you like\n",
    "%matplotlib inline"
   ]
  },
  {
   "cell_type": "markdown",
   "metadata": {},
   "source": [
    "Differentiating quantum error mitigation transforms\n",
    "===================================================\n",
    "\n",
    "::: {.meta}\n",
    ":property=\\\"og:description\\\": Differentiable error mitigation\n",
    ":property=\\\"og:image\\\":\n",
    "<https://pennylane.ai/qml/_images/diffable_mitigation_thumb.png>\n",
    ":::\n",
    "\n",
    "::: {.related}\n",
    "tutorial\\_error\\_mitigation Error mitigation with Mitiq and PennyLane\n",
    ":::\n",
    "\n",
    "*Author: Korbinian Kottmann --- Posted: 22 August 2022.*\n",
    "\n",
    "Error mitigation is an important strategy for minimizing noise when\n",
    "using noisy-intermediate scale quantum (NISQ) hardware, especially when\n",
    "designing and testing variational algorithms. In this demo, we will show\n",
    "how error mitigation can be combined with variational workflows,\n",
    "allowing you to differentiate [through]{.title-ref} the error\n",
    "mitigation.\n",
    "\n",
    "Differentiating quantum error mitigation transforms\n",
    "---------------------------------------------------\n",
    "\n",
    "Most variational quantum algorithms (VQAs) are concerned with optimizing\n",
    "a [quantum function]{.title-ref},\n",
    "\n",
    "$$f(\\theta) = \\langle 0 | U^\\dagger(\\theta) H U(\\theta) | 0 \\rangle,$$\n",
    "\n",
    "for some Ansatz unitary $U$ with variational parameters $\\theta$ and\n",
    "observable $H$. These algorithms arose due to the constraints of noisy\n",
    "near-term quantum hardware. This means that naturally in that scenario\n",
    "we do not have direct access to $f$, but rather a noisy version $f^{⚡}$\n",
    "where the variational state\n",
    "$|\\psi(\\theta)\\rangle = U^\\dagger(\\theta)|0\\rangle$ is distorted via a\n",
    "noise channel $\\Phi(|\\psi(\\theta)\\rangle \\langle \\psi(\\theta)|)$. Since\n",
    "noisy channels generally yield mixed states (see e.g.\n",
    "`tutorial_noisy_circuits`{.interpreted-text role=\"doc\"}), we can\n",
    "formally write\n",
    "\n",
    "$$f^{⚡}(\\theta) := \\text{tr}\\left[H \\Phi(|\\psi(\\theta)\\rangle \\langle \\psi(\\theta)|) \\right].$$\n",
    "\n",
    "To be able to get the most out of these devices, it is advisable to use\n",
    "quantum error mitigation \\-\\-- a method of altering and/or\n",
    "post-processing the quantum function $f^{⚡}(\\theta)$ to improve the\n",
    "result and be closer to the ideal scenario of an error free execution,\n",
    "$f(\\theta)$.\n",
    "\n",
    "Formally, we can treat error mitigation as yet another transform that\n",
    "maps the noisy quantum function $f^{⚡}$ to a new, mitigated, quantum\n",
    "function $\\tilde{f}$,\n",
    "\n",
    "$$\\text{mitigate}: f^{⚡} \\mapsto \\tilde{f}.$$\n",
    "\n",
    "In order to run our VQA with our mitigated quantum function, we need to\n",
    "ensure that $\\tilde{f}$ is differentiable \\-\\-- both formally and\n",
    "practically in our implementation. PennyLane now provides one such\n",
    "differentiable quantum error mitigation technique with [zero noise\n",
    "extrapolation]{.title-ref} (ZNE), which can be used and differentiated\n",
    "in simulation and on hardware. Thus, we can improve the estimates of\n",
    "observables without breaking the differentiable workflow of our\n",
    "variational algorithm. We will briefly introduce these functionalities\n",
    "and afterwards go more in depth to explore what happens under the hood.\n",
    "\n",
    "We start by initializing a noisy device under the\n",
    "`~.pennylane.DepolarizingChannel`{.interpreted-text role=\"class\"}:\n"
   ]
  },
  {
   "cell_type": "code",
   "execution_count": 23,
   "metadata": {},
   "outputs": [],
   "source": [
    "import pennylane as qml\n",
    "import pennylane.numpy as np\n",
    "from pennylane.transforms import mitigate_with_zne\n",
    "\n",
    "from matplotlib import pyplot as plt\n",
    "\n",
    "n_wires = 4\n",
    "np.random.seed(1234)\n",
    "\n",
    "# Describe noise\n",
    "noise_gate = qml.DepolarizingChannel\n",
    "noise_strength = 0.05\n",
    "\n",
    "# Load devices\n",
    "dev_ideal = qml.device(\"default.mixed\", wires=n_wires)\n",
    "dev_noisy = qml.transforms.insert(noise_gate, noise_strength, position=\"all\")(dev_ideal)"
   ]
  },
  {
   "cell_type": "markdown",
   "metadata": {},
   "source": [
    "We are going to use the transverse field Ising model Hamiltonian\n",
    "$H = - \\sum_i X_i X_{i+1} + 0.5 \\sum_i Z_i$ as our observable:\n"
   ]
  },
  {
   "cell_type": "code",
   "execution_count": 24,
   "metadata": {},
   "outputs": [],
   "source": [
    "coeffs = [1.0] * (n_wires - 1) + [0.5] * n_wires\n",
    "observables = [qml.PauliX(i) @ qml.PauliX(i + 1) for i in range(n_wires - 1)]\n",
    "observables += [qml.PauliZ(i) for i in range(n_wires)]\n",
    "\n",
    "H = qml.Hamiltonian(coeffs, observables)"
   ]
  },
  {
   "cell_type": "markdown",
   "metadata": {},
   "source": [
    "The quantum function, the expectation value of $H$, can then be executed\n",
    "on the noisy or ideal device by creating respective QNodes for both. As\n",
    "our ansatz, we\\'ll use a\n",
    "`~.pennylane.SimplifiedTwoDesign`{.interpreted-text role=\"class\"} with\n",
    "all-constant parameters set to `1`:\n"
   ]
  },
  {
   "cell_type": "code",
   "execution_count": 25,
   "metadata": {},
   "outputs": [],
   "source": [
    "n_layers = 2\n",
    "\n",
    "w1 = np.ones((n_wires), requires_grad=True)\n",
    "w2 = np.ones((n_layers, n_wires - 1, 2), requires_grad=True)\n",
    "\n",
    "def qfunc(w1, w2):\n",
    "    qml.SimplifiedTwoDesign(w1, w2, wires=range(n_wires))\n",
    "    return qml.expval(H)\n",
    "\n",
    "qnode_noisy = qml.QNode(qfunc, dev_noisy)\n",
    "qnode_ideal = qml.QNode(qfunc, dev_ideal)"
   ]
  },
  {
   "cell_type": "markdown",
   "metadata": {},
   "source": [
    "We can then simply transform the noisy QNode $f^{⚡}$ with\n",
    "`~.pennylane.transforms.mitigate_with_zne`{.interpreted-text\n",
    "role=\"func\"} to generate $\\tilde{f}$. If everything goes as planned,\n",
    "executing the mitigated QNode is then closer to the ideal result:\n"
   ]
  },
  {
   "cell_type": "code",
   "execution_count": 49,
   "metadata": {},
   "outputs": [
    {
     "name": "stdout",
     "output_type": "stream",
     "text": [
      "Ideal QNode:  0.7786752842284947\n",
      "Mitigated QNode:  0.6774632462395456\n",
      "Noisy QNode:  0.30459632191309644\n"
     ]
    }
   ],
   "source": [
    "scale_factors = [1, 2, 3, 4]\n",
    "\n",
    "\n",
    "qnode_mitigated = mitigate_with_zne(\n",
    "    scale_factors=scale_factors,\n",
    "    folding=qml.transforms.fold_global,\n",
    "    extrapolate=qml.transforms.richardson_extrapolate,\n",
    ")(qnode_noisy)\n",
    "\n",
    "print(\"Ideal QNode: \", qnode_ideal(w1, w2))\n",
    "print(\"Mitigated QNode: \", qnode_mitigated(w1, w2))\n",
    "print(\"Noisy QNode: \", qnode_noisy(w1, w2))"
   ]
  },
  {
   "cell_type": "code",
   "execution_count": 47,
   "metadata": {},
   "outputs": [
    {
     "name": "stdout",
     "output_type": "stream",
     "text": [
      "4\n",
      "2\n"
     ]
    }
   ],
   "source": [
    "print (len(w1))\n",
    "print (len(w2))"
   ]
  },
  {
   "cell_type": "markdown",
   "metadata": {},
   "source": [
    "The transforms provided for the `folding` and `extrapolate` arguments\n",
    "can be treated as default black boxes for the moment. We will explain\n",
    "them in more detail in the following section.\n",
    "\n",
    "The cool thing about this new mitigated QNode is that it is still\n",
    "differentiable! That is, we can compute its gradient as usual:\n"
   ]
  },
  {
   "cell_type": "code",
   "execution_count": 28,
   "metadata": {},
   "outputs": [
    {
     "name": "stdout",
     "output_type": "stream",
     "text": [
      "[-0.33653982  0.3013485   0.3013485  -0.33653982]\n",
      "[[[ 0.26542579  0.60293771]\n",
      "  [ 0.60293771  0.26542579]\n",
      "  [ 0.04071575  0.04071575]]\n",
      "\n",
      " [[-0.45149957  0.28565882]\n",
      "  [ 0.28565882 -0.45149957]\n",
      "  [-0.00354822 -0.00354822]]]\n"
     ]
    }
   ],
   "source": [
    "grad = qml.grad(qnode_mitigated)(w1, w2)\n",
    "print(grad[0])\n",
    "print(grad[1])"
   ]
  },
  {
   "cell_type": "markdown",
   "metadata": {},
   "source": [
    "Under the hood of Zero Noise Extrapolation\n",
    "==========================================\n",
    "\n",
    "What is happening here under the hood? The basic idea of ZNE is to\n",
    "artificially increase the noise in a circuit, controlled by a parameter\n",
    "$\\lambda$ that is called the `scale_factor`, to then be able to\n",
    "extrapolate back to zero noise.\n",
    "\n",
    "Consider two circuits: $U$ and $U U^\\dagger U$. They are logically\n",
    "equivalent, but we can expect the latter to have more noise due its\n",
    "larger gate count. This is the underlying concept of unitary folding,\n",
    "which is used to artificially increase the noise of a quantum function.\n",
    "Given a unitary circuit $U = L_d .. L_1$, where $L_i$ can be either a\n",
    "gate or layer, we use\n",
    "`~.pennylane.transforms.fold_global`{.interpreted-text role=\"func\"} to\n",
    "construct\n",
    "\n",
    "$$\\texttt{fold_global}(U) = U (U^\\dagger U)^n (L^\\dagger_d L^\\dagger_{d-1} .. L^\\dagger_s) (L_s .. L_d),$$\n",
    "\n",
    "where $n = \\lfloor (\\lambda - 1)/2 \\rfloor$ and\n",
    "$s = \\lfloor \\left((\\lambda -1) \\mod 2 \\right) (d/2) \\rfloor$ are\n",
    "determined via the `scale_factor` $\\lambda$.\n",
    "\n",
    "The version of ZNE that we are showcasing is simply executing the noisy\n",
    "quantum function $f^{⚡}$ for different scale factors, and then\n",
    "extrapolate to $\\lambda \\rightarrow 0$ (zero noise). This is done with a\n",
    "polynomial fit in $f^{⚡}$ as a function of $\\lambda$. Note that\n",
    "`scale_factor = 1` corresponds to the original circuit, i.e. the noisy\n",
    "execution.\n"
   ]
  },
  {
   "cell_type": "code",
   "execution_count": 50,
   "metadata": {},
   "outputs": [
    {
     "data": {
      "image/png": "[encoded data removed]",
      "text/plain": [
       "<Figure size 576x360 with 1 Axes>"
      ]
     },
     "metadata": {
      "needs_background": "light"
     },
     "output_type": "display_data"
    }
   ],
   "source": [
    "scale_factors = [1, 2, 3, 4]\n",
    "folded_res = [\n",
    "    qml.transforms.fold_global(qnode_noisy, lambda_)(w1, w2) for lambda_ in scale_factors\n",
    "]\n",
    "\n",
    "ideal_res = qnode_ideal(w1, w2)\n",
    "\n",
    "# coefficients are ordered like\n",
    "# coeffs[0] * x**2 + coeffs[1] * x + coeffs[0]\n",
    "# i.e. fitted_func(0)=coeff[-1]\n",
    "coeffs = np.polyfit(scale_factors, folded_res, 2)\n",
    "zne_res = coeffs[-1]\n",
    "\n",
    "x_fit = np.linspace(0, scale_factors[-1], 20)\n",
    "y_fit = np.polyd(coeffs)(x_fit)\n",
    "\n",
    "plt.figure(figsize=(8, 5))\n",
    "plt.plot(scale_factors, folded_res, \"x--\", label=\"folded result\")\n",
    "plt.plot(0, ideal_res, \"X\", label=\"ideal result\")\n",
    "plt.plot(0, zne_res, \"X\", label=\"ZNE result\", color=\"tab:red\")\n",
    "plt.plot(x_fit, y_fit, label=\"fit\", color=\"tab:red\", alpha=0.5)\n",
    "plt.xlabel(\"$\\\\lambda$\")\n",
    "plt.ylabel(\"f⚡\")\n",
    "plt.legend()\n",
    "plt.show()"
   ]
  },
  {
   "cell_type": "markdown",
   "metadata": {},
   "source": [
    "We see that the mitigated result comes close to the ideal result,\n",
    "whereas the noisy result is further off (see value at `scale_factor=1`).\n",
    "\n",
    "Note that this folding scheme is relatively simple and only really is\n",
    "sensible for integer values of `scale_factor`. At the same time,\n",
    "`scale_factor` is limited from above by the noise as the noisy quantum\n",
    "function quickly decoheres under this folding. I.e., for $\\lambda\\geq 4$\n",
    "the results are typically already decohered. Therefore, one typically\n",
    "only uses `scale_factors = [1, 2, 3]`. In principle, one can think of\n",
    "more fine grained folding schemes and test them by providing custom\n",
    "folding operations. How this can be done in PennyLane with the given API\n",
    "is described in\n",
    "`~.pennylane.transforms.mitigate_with_zne`{.interpreted-text\n",
    "role=\"func\"}.\n",
    "\n",
    "Note that Richardson extrapolation, which we used to define the\n",
    "`mitigated_qnode`, is just a fancy way to describe a polynomial fit of\n",
    "`order = len(x) - 1`. Alternatively, you can use\n",
    "`~.pennylane.transforms.poly_extrapolate`{.interpreted-text role=\"func\"}\n",
    "and manually pass the order via a keyword argument\n",
    "`extrapolate_kwargs={'order': 2}`.\n",
    "\n",
    "Differentiable mitigation in a variational quantum algorithm\n",
    "============================================================\n",
    "\n",
    "We will now use mitigation while we optimize the parameters of our\n",
    "variational circuit to obtain the ground state of the Hamiltonian \\-\\--\n",
    "this is the variational quantum eigensolving (VQE), see\n",
    "`tutorial_vqe`{.interpreted-text role=\"doc\"}. Then, we will compare VQE\n",
    "optimization runs for the ideal, noisy, and mitigated QNodes and see\n",
    "that the mitigated one comes close to the ideal (zero noise) results,\n",
    "whereas the noisy execution is further off.\n"
   ]
  },
  {
   "cell_type": "code",
   "execution_count": 51,
   "metadata": {},
   "outputs": [
    {
     "data": {
      "image/png": "[encoded data removed]",
      "text/plain": [
       "<Figure size 576x360 with 1 Axes>"
      ]
     },
     "metadata": {
      "needs_background": "light"
     },
     "output_type": "display_data"
    }
   ],
   "source": [
    "def VQE_run(cost_fn, max_iter, stepsize=0.1):\n",
    "    \"\"\"VQE Optimization loop\"\"\"\n",
    "    opt = qml.AdamOptimizer(stepsize=stepsize)\n",
    "\n",
    "    # fixed initial guess\n",
    "    w1 = np.ones((n_wires), requires_grad=True)\n",
    "    w2 = np.ones((n_layers, n_wires - 1, 2), requires_grad=True)\n",
    "\n",
    "    energy = []\n",
    "\n",
    "    # Optimization loop\n",
    "    for _ in range(max_iter):\n",
    "        (w1, w2), prev_energy = opt.step_and_cost(cost_fn, w1, w2)\n",
    "\n",
    "        energy.append(prev_energy)\n",
    "\n",
    "        \n",
    "    energy.append(cost_fn(w1, w2))\n",
    "\n",
    "    return energy\n",
    "\n",
    "\n",
    "max_iter = 70\n",
    "\n",
    "energy_ideal = VQE_run(qnode_ideal, max_iter)\n",
    "energy_noisy = VQE_run(qnode_noisy, max_iter)\n",
    "energy_mitigated = VQE_run(qnode_mitigated, max_iter)\n",
    "\n",
    "energy_exact = np.min(np.linalg.eigvalsh(qml.matrix(H)))\n",
    "\n",
    "plt.figure(figsize=(8, 5))\n",
    "plt.plot(energy_noisy, \".--\", label=\"VQE E_noisy\")\n",
    "plt.plot(energy_mitigated, \".--\", label=\"VQE E_mitigated\")\n",
    "plt.plot(energy_ideal, \".--\", label=\"VQE E_ideal\")\n",
    "plt.plot([1, max_iter + 1], [energy_exact] * 2, \"--\", label=\"E_exact\")\n",
    "plt.legend(fontsize=14)\n",
    "plt.xlabel(\"Iteration\", fontsize=18)\n",
    "plt.ylabel(\"Energy\", fontsize=18)\n",
    "plt.show()"
   ]
  },
  {
   "cell_type": "markdown",
   "metadata": {},
   "source": [
    "We see that during the optimization we are for the most part\n",
    "significantly closer to the ideal simulation and end up with a better\n",
    "energy compared to executing the noisy device without ZNE.\n",
    "\n",
    "So far we have been using PennyLane gradient methods that use `autograd`\n",
    "for simulation and `parameter-shift` rules for real device executions.\n",
    "We can also use the other interfaces that are supported by PennyLane,\n",
    "`jax`, `torch` and `tensorflow`, in the usual way as described in the\n",
    "interfaces section of the documentation\n",
    "`introduction/interfaces`{.interpreted-text role=\"doc\"}.\n",
    "\n",
    "Differentiating the mitigation transform itself\n",
    "===============================================\n",
    "\n",
    "In the previous sections, we have been concerned with differentiating\n",
    "[through]{.title-ref} the mitigation transform. An interesting direction\n",
    "for future work is differentiating the transform itself[^1]. In\n",
    "particular, the authors in[^2] make the interesting observation that for\n",
    "some error mitigation schemes, the cost function is smooth in some of\n",
    "the mitigation parameters. Here, we show one of their examples, which is\n",
    "a time-sensitive dynamical decoupling scheme:\n",
    "\n",
    "![Time-sensitive dynamical decoupling\n",
    "scheme.](/demonstrations/diffable-mitigation/Mitigate_real_vs_sim3.png){.align-center\n",
    "width=\"50.0%\"}\n",
    "\n",
    "In this mitigation technique, the single qubit state is put into an\n",
    "equal superposition: $|+\\rangle = (|0\\rangle + |1\\rangle)/\\sqrt{2}$.\n",
    "During the first idle time $t_1$, the state is altered due to noise.\n",
    "Applying $X$ reverses the roles of each computational basis state. The\n",
    "idea is that the noise in the second idle time $T-t_1$ is cancelling out\n",
    "the effect of the first time window. We see that the output fidelity is\n",
    "a smooth function of $t_1$. This was executed on `ibm_perth`, and we\n",
    "note that simple noise models, like the simulated IBM device, do not\n",
    "suffice to reproduce the behavior of the real device.\n",
    "\n",
    "Obtaining the gradient with respect to this parameter is difficult.\n",
    "Formally, writing down the derivative of this transform with respect to\n",
    "the idle time in order to derive its parameter-shift rules would require\n",
    "access to the noise model. This is very difficult for a realistic\n",
    "scenario. Further, most mitigation parameters are integers and would\n",
    "have to be smoothed in a differentiable way. A simple but effective\n",
    "strategy is using finite differences for the gradient with respect to\n",
    "mitigation parameters.\n",
    "\n",
    "Overall, this is a nice example of a mitigation scheme where varying the\n",
    "mitigation parameter has direct impact to the simulation result. It is\n",
    "therefore desirable to be able to optimize this parameter at the same\n",
    "time as we perform a variational quantum algorithm.\n",
    "\n",
    "Conclusion\n",
    "==========\n",
    "\n",
    "We demonstrated how zero-noise extrapolation can be seamlessly\n",
    "incorporated in a differentiable workflow in PennyLane to achieve better\n",
    "results. Further, the possibility of differentiating error mitigation\n",
    "transforms themselves has been discussed and we have seen that some\n",
    "mitigation schemes require execution on real devices or more advanced\n",
    "noise simulations.\n",
    "\n",
    "References\n",
    "==========\n",
    "\n",
    "About the author\n",
    "================\n",
    "\n",
    "[^1]: Olivia Di Matteo, Josh Izaac, Tom Bromley, Anthony Hayes,\n",
    "    Christina Lee, Maria Schuld, Antal Száva, Chase Roberts, Nathan\n",
    "    Killoran. \\\"Quantum computing with differentiable quantum\n",
    "    transforms.\\\" [arXiv:2202.13414](https://arxiv.org/abs/2202.13414),\n",
    "    2021.\n",
    "\n",
    "[^2]: Gokul Subramanian Ravi, Kaitlin N. Smith, Pranav Gokhale, Andrea\n",
    "    Mari, Nathan Earnest, Ali Javadi-Abhari, Frederic T. Chong. \\\"VAQEM:\n",
    "    A Variational Approach to Quantum Error Mitigation.\\\"\n",
    "    [arXiv:2112.05821](https://arxiv.org/abs/2112.05821), 2021.\n"
   ]
  },
  {
   "cell_type": "code",
   "execution_count": null,
   "metadata": {},
   "outputs": [],
   "source": []
  }
 ],
 "metadata": {
  "kernelspec": {
   "display_name": "Python 3 (ipykernel)",
   "language": "python",
   "name": "python3"
  },
  "language_info": {
   "codemirror_mode": {
    "name": "ipython",
    "version": 3
   },
   "file_extension": ".py",
   "mimetype": "text/x-python",
   "name": "python",
   "nbconvert_exporter": "python",
   "pygments_lexer": "ipython3",
   "version": "3.9.12"
  }
 },
 "nbformat": 4,
 "nbformat_minor": 1
}
