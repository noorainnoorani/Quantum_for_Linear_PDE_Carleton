{
 "cells": [
  {
   "cell_type": "code",
   "execution_count": 3,
   "id": "a83108ee",
   "metadata": {},
   "outputs": [],
   "source": [
    "# To insert this noise model into pennylane, please copy/paste this into your code, and use dev_noisy as the device\n",
    "# I'll provide a version that can be called via a function soon"
   ]
  },
  {
   "cell_type": "code",
   "execution_count": 4,
   "id": "51390b90",
   "metadata": {},
   "outputs": [],
   "source": [
    "import pennylane as qml\n",
    "import pennylane.numpy as np\n",
    "from pennylane.transforms import mitigate_with_zne\n",
    "\n",
    "from matplotlib import pyplot as plt"
   ]
  },
  {
   "cell_type": "code",
   "execution_count": 5,
   "id": "555a8a1c",
   "metadata": {},
   "outputs": [],
   "source": [
    "# Select noise type\n",
    "depolarizing_noise_gate = qml.DepolarizingChannel\n",
    " # other types exist in pennylane, but this is the one that seemed to effect performance the most in testing\n",
    "\n",
    "# Select probability of noise affecting system by setting noise strength:\n",
    "\n",
    "# For Superconducting Qubits: 0.005\n",
    "# For Trapped Ion Qubits: 0.001\n",
    "# For Quantum Dots: 0.02\n",
    "# For Colour Center Qubits: 0.008\n",
    "\n",
    "depolarizing_noise_strength = 0.05 \n",
    "\n",
    "# Define a device as dev_ideal (no noise added yet), \n",
    "dev_ideal = qml.device(\"default.mixed\", wires=n_wires) # where n_wires is the number of wires (qubits) to be used\n",
    "                                                       # make sure to define the number of qubits prior to this line.\n",
    "\n",
    "# Use qml.transforms.insert to insert the channels to effect the circuit at each gate\n",
    "dev_noisy = qml.transforms.insert(depolarizing_noise_gate, depolarizing_noise_strength, position=\"all\")(dev_ideal)\n",
    "\n",
    "# use dev_noisy as the device to run quantum circuits on"
   ]
  },
  {
   "cell_type": "code",
   "execution_count": null,
   "id": "06ffafe7",
   "metadata": {},
   "outputs": [],
   "source": []
  }
 ],
 "metadata": {
  "kernelspec": {
   "display_name": "Python 3 (ipykernel)",
   "language": "python",
   "name": "python3"
  },
  "language_info": {
   "codemirror_mode": {
    "name": "ipython",
    "version": 3
   },
   "file_extension": ".py",
   "mimetype": "text/x-python",
   "name": "python",
   "nbconvert_exporter": "python",
   "pygments_lexer": "ipython3",
   "version": "3.9.12"
  }
 },
 "nbformat": 4,
 "nbformat_minor": 5
}
