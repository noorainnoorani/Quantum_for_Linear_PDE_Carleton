{
 "cells": [
  {
   "cell_type": "markdown",
   "id": "5453b5d2",
   "metadata": {},
   "source": [
    "## Discretizing 2D Laplace's Equation with Finite Difference"
   ]
  },
  {
   "cell_type": "markdown",
   "id": "c8056f33",
   "metadata": {},
   "source": [
    "$$ \\left(\\frac{\\partial^2 u}{\\partial x^2}\n",
    "      + \\frac{\\partial^2 u}{\\partial y^2}\\right)= 0$$ \n",
    "Using the finite differences method to discretize the 2D Laplace's Equation using the five-point stencil method."
   ]
  },
  {
   "cell_type": "code",
   "execution_count": 1,
   "id": "b82a99b5",
   "metadata": {},
   "outputs": [],
   "source": [
    "import pennylane as qml\n",
    "from pennylane import numpy as np\n",
    "import matplotlib.pyplot as plt"
   ]
  },
  {
   "cell_type": "code",
   "execution_count": 2,
   "id": "176ef5a9",
   "metadata": {},
   "outputs": [],
   "source": [
    "np.set_printoptions(threshold=np.inf)"
   ]
  },
  {
   "cell_type": "markdown",
   "id": "2048579d",
   "metadata": {},
   "source": [
    "From the **finite differences method**\n",
    "$$\\frac{\\partial^2 u}{\\partial x^2}\n",
    "      + \\frac{\\partial^2 u}{\\partial y^2} \\approx \\frac{u_{(i+1),j}-2u_{i,j} +u_{(i-1),j}}{\\Delta x^2} + \\frac{u_{i,(j+1)}-2u_{i,j} +u_{i,(j-1)}}{\\Delta y^2}.$$\n",
    "Therefore\n",
    "$$ \\left(\\frac{u_{(i+1),j}-2u_{i,j} +u_{(i-1),j}}{\\Delta x^2} + \\frac{u_{i,(j+1)}-2u_{i,j} +u_{i,(j-1)}}{\\Delta y^2}\\right) =0.$$ \n",
    "\n",
    "Assuming a uniform spatial discretization , $\\Delta x^2 = \\Delta y^2$. Thus\n",
    "$$ \\frac{1}{\\Delta x^2} \\left(u_{(i+1),j}+u_{(i-1),j}-4u_{i,j} +u_{i,(j+1)} +u_{i,(j-1)}\\right) =f_{i,j}.$$ \n",
    "<br>\n",
    "As a result, the following linear system is produced\n",
    "$$Au = f.$$"
   ]
  },
  {
   "cell_type": "markdown",
   "id": "7b4cb872",
   "metadata": {},
   "source": [
    "The **five-point stencil method** involves the division of a 2-dimensional region into a series of smaller regions. These smaller regions are comprised of increments $\\Delta x$ and $\\Delta y$. Each point has a corresponding $i$ and $j$ value which denotes their increments in the $x$ and $y$ direction, respectively."
   ]
  },
  {
   "attachments": {
    "image-2.png": {
     "image/png": "[encoded data removed]"
    }
   },
   "cell_type": "markdown",
   "id": "23a89392",
   "metadata": {},
   "source": [
    "![image-2.png](attachment:image-2.png)\n",
    "Figure 1: 5-point stencil method for discretizing Laplace's Equation"
   ]
  },
  {
   "cell_type": "markdown",
   "id": "6f453229",
   "metadata": {},
   "source": [
    "**Consider** a rectangular surface $(0\\le x \\le 1, 0\\le y \\le 1)$  with uniform temperature boundary conditions (top surface holds at $25^\\circ$C with all other surfaces maintaining $0^\\circ$C). Figure 2 is a visualization of this surface.\n"
   ]
  },
  {
   "attachments": {
    "image.png": {
     "image/png": "[encoded data removed]"
    }
   },
   "cell_type": "markdown",
   "id": "16dd5cf3",
   "metadata": {},
   "source": [
    "![image.png](attachment:image.png)\n",
    "Figure 2: Rectangular Surface with Temperature Boundary Conditions"
   ]
  },
  {
   "cell_type": "markdown",
   "id": "575b8941",
   "metadata": {},
   "source": [
    "To solve for the temperatures at the nine interior points of the grid, we create a system of linear equations where each equation represents a single instance of the 5-point stencil method. "
   ]
  },
  {
   "cell_type": "markdown",
   "id": "208dd5b0",
   "metadata": {},
   "source": [
    "$$\n",
    "    T_{2,1}+ 0 - 4T_{1,1} + 25 + T_{1,2} = 0\n",
    "$$\n",
    "$$\n",
    "    T_{3,1}+ T_{1,1} - 4T_{2,1} + 25 + T_{2,2} = 0\n",
    "$$\n",
    "$$\n",
    "    0 + T_{2,1} - 4T_{3,1} + 25 + T_{3,2} = 0\n",
    "$$\n",
    "$$\n",
    "    T_{2,2}+ 0 - 4T_{1,2} + T_{1,1} + T_{1,3} = 0\n",
    "$$\n",
    "$$\n",
    "    T_{3,2}+ T_{1,2} - 4T_{2,2} + T_{2,1} + T_{2,3} = 0\n",
    "$$\n",
    "$$\n",
    "    0 + T_{2,2} - 4T_{3,2} + T_{3,1} + T_{3,3} = 0\n",
    "$$\n",
    "$$\n",
    "    T_{2,3}+ 0 - 4T_{1,3} + T_{1,2} + 0 = 0\n",
    "$$\n",
    "$$\n",
    "    T_{3,3}+ T_{1,3} - 4T_{2,3} + T_{2,2} + 0 = 0\n",
    "$$\n",
    "$$\n",
    "    0 + T_{2,3} - 4T_{3,3} + T_{3,2} + 0 = 0\n",
    "$$"
   ]
  },
  {
   "cell_type": "markdown",
   "id": "8248c12b",
   "metadata": {},
   "source": [
    "Rearranging the equations into the form $Au = f$:\n",
    "$$\n",
    "\\begin{bmatrix}\n",
    "-4 & 1 & 0 & 1 & 0 & 0 & 0 & 0 & 0\\\\\n",
    "1 & -4 & 1 & 0 & 1 & 0 & 0 & 0 & 0\\\\\n",
    "0 & 1 & -4 & 0 & 0 & 1 & 0 & 0 & 0\\\\\n",
    "1 & 0 & 0 & -4 & 1 & 0 & 1 & 0 & 0\\\\\n",
    "0 & 1 & 0 & 1 & -4 & 1 & 0 & 1 & 0\\\\\n",
    "0 & 0 & 1 & 0 & 1 & -4 & 0 & 0 & 1\\\\\n",
    "0 & 0 & 0 & 1 & 0 & 0 & -4 & 1 & 0\\\\\n",
    "0 & 0 & 0 & 0 & 1 & 0 & 1 & -4 & 1\\\\\n",
    "0 & 0 & 0 & 0 & 0 & 1 & 0 & 1 & -4\n",
    "\\end{bmatrix}\n",
    "\\begin{bmatrix}\n",
    "T_{1,1}\\\\\n",
    "T_{2,1}\\\\\n",
    "T_{3,1}\\\\\n",
    "T_{1,2}\\\\\n",
    "T_{2,2}\\\\\n",
    "T_{3,2}\\\\\n",
    "T_{1,3}\\\\\n",
    "T_{2,3}\\\\\n",
    "T_{3,3}\n",
    "\\end{bmatrix} =\n",
    "\\begin{bmatrix}\n",
    "-25\\\\\n",
    "-25\\\\\n",
    "-25\\\\\n",
    "0\\\\\n",
    "0\\\\\n",
    "0\\\\\n",
    "0\\\\\n",
    "0\\\\\n",
    "0\n",
    "\\end{bmatrix}\n",
    "$$"
   ]
  },
  {
   "cell_type": "code",
   "execution_count": 3,
   "id": "294f69cf",
   "metadata": {},
   "outputs": [],
   "source": [
    "# N = M - 2\n",
    "# where N is the number of points in interior of the grid \n",
    "# (also equates to the number of linear equations in the system), \n",
    "# and M is the dimension of the boundary points in the grid\n",
    "\n",
    "N = 1024\n",
    "matrix = np.zeros((N,N), dtype=float, order='C') "
   ]
  },
  {
   "cell_type": "code",
   "execution_count": 4,
   "id": "aac2f201",
   "metadata": {},
   "outputs": [],
   "source": [
    "#Top Surface Temperatrue\n",
    "T = 25\n"
   ]
  },
  {
   "cell_type": "code",
   "execution_count": 5,
   "id": "882f6d23",
   "metadata": {},
   "outputs": [],
   "source": [
    "b = np.zeros((N,1), dtype=float, order='C')\n",
    "for i in range(int(np.sqrt(N))):\n",
    "    b[i] = -T"
   ]
  },
  {
   "cell_type": "code",
   "execution_count": 6,
   "id": "186b112c",
   "metadata": {},
   "outputs": [],
   "source": [
    "#Boundary Conditions\n",
    "for i in range(len(matrix)): \n",
    "    matrix[i,i] = -4\n",
    "    \n",
    "for i in range(1, len(matrix)):\n",
    "    matrix[i,i-1] = 1\n",
    "\n",
    "for i in range(int(np.sqrt(N)), len(matrix)):\n",
    "    matrix[i,i-int(np.sqrt(N))] = 1\n",
    "    \n",
    "for i in range(len(matrix)-1):\n",
    "    matrix[i,i+1] = 1    \n",
    "\n",
    "for i in range(len(matrix)-int(np.sqrt(N))):\n",
    "    matrix[i,i+int(np.sqrt(N))] = 1\n"
   ]
  },
  {
   "cell_type": "code",
   "execution_count": 7,
   "id": "64d2d0ef",
   "metadata": {},
   "outputs": [],
   "source": [
    "for i in range(1, int(np.sqrt(N))):\n",
    "    matrix[i*int(np.sqrt(N))-1, i*int(np.sqrt(N))] = 0\n",
    "    matrix[i*int(np.sqrt(N)), i*int(np.sqrt(N))-1] = 0"
   ]
  },
  {
   "cell_type": "code",
   "execution_count": 8,
   "id": "9cdbe745",
   "metadata": {},
   "outputs": [],
   "source": [
    "sol = np.linalg.solve(matrix, b)\n"
   ]
  },
  {
   "cell_type": "code",
   "execution_count": 9,
   "id": "547b786f",
   "metadata": {},
   "outputs": [],
   "source": [
    "a = np.zeros((int(np.sqrt(N)),int(np.sqrt(N))), dtype=float, order='C') \n"
   ]
  },
  {
   "cell_type": "code",
   "execution_count": 10,
   "id": "323f7fc2",
   "metadata": {},
   "outputs": [],
   "source": [
    "n = int(np.sqrt(N))\n",
    "\n",
    "for i in range(n):\n",
    "    for j in range(n):\n",
    "        a[i,j] = sol[j+n*i]"
   ]
  },
  {
   "cell_type": "code",
   "execution_count": 11,
   "id": "ec443fd7",
   "metadata": {},
   "outputs": [
    {
     "data": {
      "image/png": "[encoded data removed]",
      "text/plain": [
       "<Figure size 640x480 with 2 Axes>"
      ]
     },
     "metadata": {},
     "output_type": "display_data"
    }
   ],
   "source": [
    "plt.imshow(a, cmap='hot', interpolation='nearest')\n",
    "plt.colorbar()\n",
    "plt.show()"
   ]
  },
  {
   "cell_type": "code",
   "execution_count": null,
   "id": "99d9fae2",
   "metadata": {},
   "outputs": [],
   "source": []
  }
 ],
 "metadata": {
  "kernelspec": {
   "display_name": "Python 3 (ipykernel)",
   "language": "python",
   "name": "python3"
  },
  "language_info": {
   "codemirror_mode": {
    "name": "ipython",
    "version": 3
   },
   "file_extension": ".py",
   "mimetype": "text/x-python",
   "name": "python",
   "nbconvert_exporter": "python",
   "pygments_lexer": "ipython3",
   "version": "3.9.12"
  }
 },
 "nbformat": 4,
 "nbformat_minor": 5
}
