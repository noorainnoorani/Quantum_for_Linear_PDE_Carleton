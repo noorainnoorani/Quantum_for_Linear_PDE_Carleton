{
 "cells": [
  {
   "cell_type": "markdown",
   "id": "5453b5d2",
   "metadata": {},
   "source": [
    "## Constant Coefficient "
   ]
  },
  {
   "cell_type": "markdown",
   "id": "c8056f33",
   "metadata": {},
   "source": [
    "$$ ay'' + by' + cy = 0$$ where a, b, and c are constants."
   ]
  },
  {
   "cell_type": "code",
   "execution_count": 1,
   "id": "b82a99b5",
   "metadata": {},
   "outputs": [],
   "source": [
    "import pennylane as qml\n",
    "from pennylane import numpy as np\n",
    "import matplotlib.pyplot as plt"
   ]
  },
  {
   "cell_type": "code",
   "execution_count": 2,
   "id": "176ef5a9",
   "metadata": {},
   "outputs": [],
   "source": [
    "np.set_printoptions(threshold=np.inf)"
   ]
  },
  {
   "cell_type": "code",
   "execution_count": 3,
   "id": "294f69cf",
   "metadata": {},
   "outputs": [],
   "source": [
    "N = 128 #input system size\n",
    "matrix = np.zeros((N, N), dtype=float, order='C')\n",
    "b = np.zeros(N)\n"
   ]
  },
  {
   "cell_type": "markdown",
   "id": "2048579d",
   "metadata": {},
   "source": [
    "With constant coefficients, solutions take the form of $y = e^{rx}$. Therefore\n",
    "$$y=e^{rx} \\: \\Rightarrow \\: y' = re^{rx} \\: \\Rightarrow \\: y' = r^2e^{rx},$$\n",
    "<br>\n",
    "Where $y_i = e^{rx}$ is a solution only in the case where \n",
    "$$ar^2 + br + c = 0.$$\n",
    "<br>\n",
    "By utilizing the quadratic formula, two distinct, real roots, $r_1$ and $r_2$,  form the general solution\n",
    "$$ y = c_1e^{r_1x} + c_2e^{r_2x}.$$\n",
    "<br>\n",
    "By Finite Difference methods\n",
    "$$y' = \\frac{y_{i+1} -y_{i}}{\\Delta y},$$\n",
    "<br>\n",
    "$$y'' = \\frac{y_{i+1}-2y_i +y_{i-1}}{\\Delta y^2}.$$\n",
    "\n"
   ]
  },
  {
   "cell_type": "markdown",
   "id": "4a76b61e",
   "metadata": {},
   "source": [
    "Consider the equation $ y'' - y' - 2y = 0.$ \n",
    "<br>\n",
    "By setting $y = e^{rx}$, the equation becomes $r^2 - r - 2 = 0.$\n",
    "<br>\n",
    "The roots of the quadratic are real and distinct, $r_1 = -1$ and $r_2 = 2$, so the general solution becomes\n",
    "$$ y = c_1e^{-x} + c_2e^{2x}.$$"
   ]
  },
  {
   "cell_type": "markdown",
   "id": "feec84d5",
   "metadata": {},
   "source": [
    "The discretized form\n",
    "$$\\frac{y_{i+1}-2y_i +y_{i-1}}{\\Delta y^2} - \\frac{y_{i+1} -y_{i}}{\\Delta y} -2y_i = 0$$\n",
    "which becomes\n",
    "$$\\left( \\frac{1}{\\Delta y^2}-\\frac{1}{\\Delta y} \\right)y_{i+1}+\\left( -\\frac{2}{\\Delta y^2}+\\frac{1}{\\Delta y}-2 \\right)y_i + \\left( \\frac{1}{\\Delta y^2} \\right)y_{i-1} = 0$$"
   ]
  },
  {
   "cell_type": "code",
   "execution_count": 4,
   "id": "aac2f201",
   "metadata": {},
   "outputs": [],
   "source": [
    "delta_y = 10/len(matrix-1)"
   ]
  },
  {
   "cell_type": "code",
   "execution_count": 5,
   "id": "69807057",
   "metadata": {},
   "outputs": [],
   "source": [
    "for i in range(len(matrix)): \n",
    "    matrix[i,i] = (-2/delta_y**2 + 1/delta_y -2)\n",
    "    matrix[i,i-1] = 1/delta_y**2\n",
    "\n",
    "for i in range(len(matrix)-1):\n",
    "     matrix[i,i+1] = 1/delta_y**2 - 1/delta_y\n",
    "\n",
    "# Boundary Conditions\n",
    "matrix[0,:] = 0\n",
    "matrix[0,0] = 1\n",
    "\n",
    "matrix[-1,:] = 0\n",
    "matrix[-1,-1] = 1\n",
    "\n",
    "b[0] = 1\n",
    "b[-1] = 10"
   ]
  },
  {
   "cell_type": "code",
   "execution_count": 7,
   "id": "94711fd3",
   "metadata": {},
   "outputs": [],
   "source": [
    "# Ax = b\n",
    "x = np.linalg.solve(matrix, b)"
   ]
  },
  {
   "cell_type": "code",
   "execution_count": 8,
   "id": "ac739c94",
   "metadata": {},
   "outputs": [],
   "source": [
    "linspace_x = np.linspace(0,10, len(matrix))\n",
    "c2= (10-np.exp(-10))/(np.exp(20)-np.exp(-10))\n",
    "c1 = 1-c2\n"
   ]
  },
  {
   "cell_type": "code",
   "execution_count": 9,
   "id": "8e7a7b65",
   "metadata": {},
   "outputs": [
    {
     "data": {
      "text/plain": [
       "0.9999999793885573"
      ]
     },
     "execution_count": 9,
     "metadata": {},
     "output_type": "execute_result"
    }
   ],
   "source": [
    "c1"
   ]
  },
  {
   "cell_type": "code",
   "execution_count": 10,
   "id": "5c4f5f6e",
   "metadata": {},
   "outputs": [
    {
     "data": {
      "text/plain": [
       "2.061144264815782e-08"
      ]
     },
     "execution_count": 10,
     "metadata": {},
     "output_type": "execute_result"
    }
   ],
   "source": [
    "c2"
   ]
  },
  {
   "cell_type": "code",
   "execution_count": 11,
   "id": "0df225f2",
   "metadata": {},
   "outputs": [],
   "source": [
    "y = c1*np.exp(-1*linspace_x) + c2*np.exp(2*linspace_x)\n"
   ]
  },
  {
   "cell_type": "code",
   "execution_count": 16,
   "id": "9cdbe745",
   "metadata": {},
   "outputs": [
    {
     "data": {
      "image/png": "[encoded data removed]",
      "text/plain": [
       "<Figure size 640x480 with 1 Axes>"
      ]
     },
     "metadata": {},
     "output_type": "display_data"
    }
   ],
   "source": [
    "plt.plot(linspace_x, x,color = 'blue') #matrix sol\n",
    "plt.plot(linspace_x, y, color = 'red')  #hand sol\n",
    "plt.margins(0)\n",
    "plt.legend(['numerical', 'analytical'])\n",
    "plt.show()"
   ]
  },
  {
   "cell_type": "code",
   "execution_count": null,
   "id": "547b786f",
   "metadata": {},
   "outputs": [],
   "source": []
  },
  {
   "cell_type": "code",
   "execution_count": null,
   "id": "f59b964d",
   "metadata": {},
   "outputs": [],
   "source": []
  },
  {
   "cell_type": "code",
   "execution_count": null,
   "id": "bfb6f74f",
   "metadata": {},
   "outputs": [],
   "source": []
  },
  {
   "cell_type": "code",
   "execution_count": null,
   "id": "d138f9ef",
   "metadata": {},
   "outputs": [],
   "source": []
  }
 ],
 "metadata": {
  "kernelspec": {
   "display_name": "Python 3 (ipykernel)",
   "language": "python",
   "name": "python3"
  },
  "language_info": {
   "codemirror_mode": {
    "name": "ipython",
    "version": 3
   },
   "file_extension": ".py",
   "mimetype": "text/x-python",
   "name": "python",
   "nbconvert_exporter": "python",
   "pygments_lexer": "ipython3",
   "version": "3.9.12"
  }
 },
 "nbformat": 4,
 "nbformat_minor": 5
}
