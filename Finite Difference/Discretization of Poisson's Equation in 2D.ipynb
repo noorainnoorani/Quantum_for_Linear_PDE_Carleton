{
 "cells": [
  {
   "cell_type": "markdown",
   "id": "5453b5d2",
   "metadata": {},
   "source": [
    "## Discretizing 2D Poisson's Equation with Finite Difference"
   ]
  },
  {
   "cell_type": "markdown",
   "id": "c8056f33",
   "metadata": {},
   "source": [
    "$$ -\\left(\\frac{\\partial^2 u}{\\partial x^2}\n",
    "      + \\frac{\\partial^2 u}{\\partial y^2}\\right)= f(x,y)$$ \n",
    "Using the finite differences method to discretize the 2D Poisson's Equation on an $mxn$ grid."
   ]
  },
  {
   "cell_type": "code",
   "execution_count": 1,
   "id": "b82a99b5",
   "metadata": {},
   "outputs": [],
   "source": [
    "import pennylane as qml\n",
    "from pennylane import numpy as np\n",
    "import matplotlib.pyplot as plt"
   ]
  },
  {
   "cell_type": "code",
   "execution_count": 2,
   "id": "176ef5a9",
   "metadata": {},
   "outputs": [],
   "source": [
    "np.set_printoptions(threshold=np.inf)"
   ]
  },
  {
   "cell_type": "markdown",
   "id": "2048579d",
   "metadata": {},
   "source": [
    "From the finite differences method\n",
    "$$\\frac{\\partial^2 u}{\\partial x^2}\n",
    "      + \\frac{\\partial^2 u}{\\partial y^2} \\approx \\frac{u_{(i+1),j}-2u_{i,j} +u_{(i-1),j}}{\\Delta x^2} + \\frac{u_{i,(j+1)}-2u_{i,j} +u_{i,(j-1)}}{\\Delta y^2}.$$\n",
    "Therefore\n",
    "$$ -\\left(\\frac{u_{(i+1),j}-2u_{i,j} +u_{(i-1),j}}{\\Delta x^2} + \\frac{u_{i,(j+1)}-2u_{i,j} +u_{i,(j-1)}}{\\Delta y^2}\\right) =f(x,y).$$ \n",
    "\n",
    "Assuming a uniform spatial discretization , $\\Delta x^2 = \\Delta y^2$. Thus\n",
    "$$ -\\frac{1}{\\Delta x^2} \\left(u_{(i+1),j}+u_{(i-1),j}-4u_{i,j} +u_{i,(j+1)} +u_{i,(j-1)}\\right) =f_{i,j}.$$ \n",
    "<br>\n",
    "As a result, the following linear system is produced\n",
    "$$Au = f.$$"
   ]
  },
  {
   "cell_type": "code",
   "execution_count": 3,
   "id": "8a998d9d",
   "metadata": {},
   "outputs": [],
   "source": [
    "# N = 3\n",
    "# M = 3"
   ]
  },
  {
   "cell_type": "code",
   "execution_count": 4,
   "id": "294f69cf",
   "metadata": {},
   "outputs": [],
   "source": [
    "matrix = np.zeros((16,16), dtype=float, order='C') "
   ]
  },
  {
   "cell_type": "code",
   "execution_count": 5,
   "id": "aac2f201",
   "metadata": {},
   "outputs": [],
   "source": [
    "delta_y = 1\n",
    "delta_x = 1\n",
    "f = 1"
   ]
  },
  {
   "cell_type": "code",
   "execution_count": 6,
   "id": "b59f8a26",
   "metadata": {},
   "outputs": [
    {
     "data": {
      "text/plain": [
       "tensor([[0., 0., 0., 0., 0., 0., 0., 0., 0., 0., 0., 0., 0., 0., 0., 0.],\n",
       "        [0., 0., 0., 0., 0., 0., 0., 0., 0., 0., 0., 0., 0., 0., 0., 0.],\n",
       "        [0., 0., 0., 0., 0., 0., 0., 0., 0., 0., 0., 0., 0., 0., 0., 0.],\n",
       "        [0., 0., 0., 0., 0., 0., 0., 0., 0., 0., 0., 0., 0., 0., 0., 0.],\n",
       "        [0., 0., 0., 0., 0., 0., 0., 0., 0., 0., 0., 0., 0., 0., 0., 0.],\n",
       "        [0., 0., 0., 0., 0., 0., 0., 0., 0., 0., 0., 0., 0., 0., 0., 0.],\n",
       "        [0., 0., 0., 0., 0., 0., 0., 0., 0., 0., 0., 0., 0., 0., 0., 0.],\n",
       "        [0., 0., 0., 0., 0., 0., 0., 0., 0., 0., 0., 0., 0., 0., 0., 0.],\n",
       "        [0., 0., 0., 0., 0., 0., 0., 0., 0., 0., 0., 0., 0., 0., 0., 0.],\n",
       "        [0., 0., 0., 0., 0., 0., 0., 0., 0., 0., 0., 0., 0., 0., 0., 0.],\n",
       "        [0., 0., 0., 0., 0., 0., 0., 0., 0., 0., 0., 0., 0., 0., 0., 0.],\n",
       "        [0., 0., 0., 0., 0., 0., 0., 0., 0., 0., 0., 0., 0., 0., 0., 0.],\n",
       "        [0., 0., 0., 0., 0., 0., 0., 0., 0., 0., 0., 0., 0., 0., 0., 0.],\n",
       "        [0., 0., 0., 0., 0., 0., 0., 0., 0., 0., 0., 0., 0., 0., 0., 0.],\n",
       "        [0., 0., 0., 0., 0., 0., 0., 0., 0., 0., 0., 0., 0., 0., 0., 0.],\n",
       "        [0., 0., 0., 0., 0., 0., 0., 0., 0., 0., 0., 0., 0., 0., 0., 0.]], requires_grad=True)"
      ]
     },
     "execution_count": 6,
     "metadata": {},
     "output_type": "execute_result"
    }
   ],
   "source": [
    "matrix"
   ]
  },
  {
   "cell_type": "code",
   "execution_count": 7,
   "id": "882f6d23",
   "metadata": {},
   "outputs": [],
   "source": [
    "b = np.ones(16)*f"
   ]
  },
  {
   "cell_type": "code",
   "execution_count": 8,
   "id": "186b112c",
   "metadata": {},
   "outputs": [],
   "source": [
    "#Boundary Conditions\n",
    "\n",
    "# Top edge\n",
    "for i in range(4):\n",
    "    matrix[i,i] = 1\n",
    "    b[i] = 0\n",
    "    \n",
    "# Bottom edge\n",
    "for i in range(12,16):\n",
    "    matrix[i,i] = 1\n",
    "    b[i] = 0\n",
    "    \n",
    "#left side edge\n",
    "matrix[4,4] = 1\n",
    "matrix[8,8] = 1\n",
    "\n",
    "# right side edge\n",
    "matrix[7,7] = 1\n",
    "matrix[11,11] = 1"
   ]
  },
  {
   "cell_type": "code",
   "execution_count": 9,
   "id": "3916d8e6",
   "metadata": {},
   "outputs": [],
   "source": [
    "# non boundary conditions\n",
    "matrix[5,1] = -1\n",
    "matrix[5,4] = -1\n",
    "matrix[5,5] = 4\n",
    "matrix[5,6] = -1\n",
    "matrix[5,9] = -1\n",
    "\n",
    "matrix[6,2] = -1\n",
    "matrix[6,5] = -1\n",
    "matrix[6,6] = 4\n",
    "matrix[6,7] = -1\n",
    "matrix[6,10] = -1\n",
    "\n",
    "matrix[9,5] = -1\n",
    "matrix[9,8] = -1\n",
    "matrix[9,9] = 4\n",
    "matrix[9,10] = -1\n",
    "matrix[9,13] = -1\n",
    "\n",
    "matrix[10,6] = -1\n",
    "matrix[10,9] = -1\n",
    "matrix[10,10] = 4\n",
    "matrix[10,11] = -1\n",
    "matrix[10,14] = -1"
   ]
  },
  {
   "cell_type": "code",
   "execution_count": 10,
   "id": "df644e59",
   "metadata": {},
   "outputs": [
    {
     "data": {
      "text/plain": [
       "tensor([[ 1.,  0.,  0.,  0.,  0.,  0.,  0.,  0.,  0.,  0.,  0.,  0.,  0.,\n",
       "          0.,  0.,  0.],\n",
       "        [ 0.,  1.,  0.,  0.,  0.,  0.,  0.,  0.,  0.,  0.,  0.,  0.,  0.,\n",
       "          0.,  0.,  0.],\n",
       "        [ 0.,  0.,  1.,  0.,  0.,  0.,  0.,  0.,  0.,  0.,  0.,  0.,  0.,\n",
       "          0.,  0.,  0.],\n",
       "        [ 0.,  0.,  0.,  1.,  0.,  0.,  0.,  0.,  0.,  0.,  0.,  0.,  0.,\n",
       "          0.,  0.,  0.],\n",
       "        [ 0.,  0.,  0.,  0.,  1.,  0.,  0.,  0.,  0.,  0.,  0.,  0.,  0.,\n",
       "          0.,  0.,  0.],\n",
       "        [ 0., -1.,  0.,  0., -1.,  4., -1.,  0.,  0., -1.,  0.,  0.,  0.,\n",
       "          0.,  0.,  0.],\n",
       "        [ 0.,  0., -1.,  0.,  0., -1.,  4., -1.,  0.,  0., -1.,  0.,  0.,\n",
       "          0.,  0.,  0.],\n",
       "        [ 0.,  0.,  0.,  0.,  0.,  0.,  0.,  1.,  0.,  0.,  0.,  0.,  0.,\n",
       "          0.,  0.,  0.],\n",
       "        [ 0.,  0.,  0.,  0.,  0.,  0.,  0.,  0.,  1.,  0.,  0.,  0.,  0.,\n",
       "          0.,  0.,  0.],\n",
       "        [ 0.,  0.,  0.,  0.,  0., -1.,  0.,  0., -1.,  4., -1.,  0.,  0.,\n",
       "         -1.,  0.,  0.],\n",
       "        [ 0.,  0.,  0.,  0.,  0.,  0., -1.,  0.,  0., -1.,  4., -1.,  0.,\n",
       "          0., -1.,  0.],\n",
       "        [ 0.,  0.,  0.,  0.,  0.,  0.,  0.,  0.,  0.,  0.,  0.,  1.,  0.,\n",
       "          0.,  0.,  0.],\n",
       "        [ 0.,  0.,  0.,  0.,  0.,  0.,  0.,  0.,  0.,  0.,  0.,  0.,  1.,\n",
       "          0.,  0.,  0.],\n",
       "        [ 0.,  0.,  0.,  0.,  0.,  0.,  0.,  0.,  0.,  0.,  0.,  0.,  0.,\n",
       "          1.,  0.,  0.],\n",
       "        [ 0.,  0.,  0.,  0.,  0.,  0.,  0.,  0.,  0.,  0.,  0.,  0.,  0.,\n",
       "          0.,  1.,  0.],\n",
       "        [ 0.,  0.,  0.,  0.,  0.,  0.,  0.,  0.,  0.,  0.,  0.,  0.,  0.,\n",
       "          0.,  0.,  1.]], requires_grad=True)"
      ]
     },
     "execution_count": 10,
     "metadata": {},
     "output_type": "execute_result"
    }
   ],
   "source": [
    "matrix"
   ]
  },
  {
   "cell_type": "code",
   "execution_count": 11,
   "id": "94711fd3",
   "metadata": {},
   "outputs": [
    {
     "data": {
      "text/plain": [
       "[<matplotlib.lines.Line2D at 0x16961b7ee50>]"
      ]
     },
     "execution_count": 11,
     "metadata": {},
     "output_type": "execute_result"
    },
    {
     "data": {
      "image/png": "[encoded data removed]",
      "text/plain": [
       "<Figure size 432x288 with 1 Axes>"
      ]
     },
     "metadata": {
      "needs_background": "light"
     },
     "output_type": "display_data"
    }
   ],
   "source": [
    "plt.plot(np.linalg.solve(matrix, b))"
   ]
  },
  {
   "cell_type": "code",
   "execution_count": null,
   "id": "9cdbe745",
   "metadata": {},
   "outputs": [],
   "source": []
  },
  {
   "cell_type": "code",
   "execution_count": null,
   "id": "547b786f",
   "metadata": {},
   "outputs": [],
   "source": []
  }
 ],
 "metadata": {
  "kernelspec": {
   "display_name": "Python 3 (ipykernel)",
   "language": "python",
   "name": "python3"
  },
  "language_info": {
   "codemirror_mode": {
    "name": "ipython",
    "version": 3
   },
   "file_extension": ".py",
   "mimetype": "text/x-python",
   "name": "python",
   "nbconvert_exporter": "python",
   "pygments_lexer": "ipython3",
   "version": "3.9.12"
  }
 },
 "nbformat": 4,
 "nbformat_minor": 5
}
